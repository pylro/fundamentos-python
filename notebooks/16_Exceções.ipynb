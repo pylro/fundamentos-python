{
 "cells": [
  {
   "cell_type": "markdown",
   "id": "483cfba7-931b-45f4-9c07-bfc40870961a",
   "metadata": {},
   "source": [
    "# Capítulo 16 — Tratamento de Exceções ⚠️\n",
    "\n",
    "> **Adriano Pylro - Engenheiro Mecânico - Dr. Eng,** \n",
    "\n",
    "## 16.1 — O que são exceções em Python ❓\n",
    "\n",
    "Em Python (e em várias linguagens), **exceções** são erros que ocorrem durante a execução do programa.  \n",
    "Quando uma exceção acontece, a execução normal é interrompida e o Python tenta encontrar um **tratador de exceção** apropriado.\n",
    "\n",
    "📌 **Diferença importante:**\n",
    "- **Erro de sintaxe** → detectado antes da execução (ex.: esquecer `:` no final de um `if`).  \n",
    "- **Exceção em tempo de execução** → ocorre durante a execução do código (ex.: divisão por zero, arquivo inexistente).  \n",
    "\n",
    "### Exemplos de exceções comuns:\n",
    "- `ZeroDivisionError` → divisão por zero.  \n",
    "- `ValueError` → tipo de valor inválido (ex.: converter `\"abc\"` em inteiro).  \n",
    "- `FileNotFoundError` → arquivo inexistente.  \n",
    "- `TypeError` → operação com tipos incompatíveis.  \n",
    "- `IndexError` → acessar índice inexistente em listas ou tuplas.  \n"
   ]
  },
  {
   "cell_type": "code",
   "execution_count": 2,
   "id": "e4cf152e-2075-4b4a-8fc7-b095910baf23",
   "metadata": {},
   "outputs": [],
   "source": [
    "# Exemplo 1: ZeroDivisionError\n",
    "x = 10\n",
    "y = 0\n",
    "# print(x / y)  # gera ZeroDivisionError\n",
    "\n",
    "# Exemplo 2: ValueError\n",
    "# numero = int(\"abc\")  # gera ValueError\n",
    "\n",
    "# Exemplo 3: FileNotFoundError\n",
    "# with open(\"arquivo_inexistente.txt\", \"r\") as f:\n",
    "#     conteudo = f.read()"
   ]
  },
  {
   "cell_type": "markdown",
   "id": "3720163f-2bac-4e73-a887-b8eba9612a07",
   "metadata": {},
   "source": [
    "📌 Sem tratamento, qualquer uma dessas exceções **interrompe o programa**.  \n",
    "Nos próximos tópicos veremos como **capturar e tratar** esses erros usando `try-except`.  \n",
    "\n",
    "➡️ Na próxima seção (16.2), estudaremos o **bloco try-except** para lidar com exceções de forma segura.  "
   ]
  },
  {
   "cell_type": "markdown",
   "id": "dc40e0da-4fec-45c3-9e7b-027a2a4b5b8c",
   "metadata": {},
   "source": [
    "# Capítulo 16 — Tratamento de Exceções ⚠️\n",
    "\n",
    "## 16.2 — Bloco `try-except` 🛡️\n",
    "\n",
    "O bloco **`try-except`** é a forma básica de **tratar exceções em Python**.  \n",
    "Ele permite que o programa continue executando mesmo após um erro, em vez de encerrar abruptamente.  \n",
    "\n",
    "📌 **Sintaxe:**\n",
    "```python\n",
    "try:\n",
    "    # código que pode gerar exceção\n",
    "except TipoDeErro:\n",
    "    # código que trata o erro"
   ]
  },
  {
   "cell_type": "markdown",
   "id": "b787c1cc-45b4-403a-b85b-6356a0137267",
   "metadata": {},
   "source": [
    "- O código dentro de **`try`** é executado normalmente.  \n",
    "- Se ocorrer uma exceção, a execução **pula para o bloco `except`**.  \n",
    "- Se não ocorrer erro, o bloco **`except` é ignorado**.  "
   ]
  },
  {
   "cell_type": "code",
   "execution_count": 3,
   "id": "3d989e9a-1710-4870-bbb2-33c891c8cd78",
   "metadata": {},
   "outputs": [
    {
     "name": "stdout",
     "output_type": "stream",
     "text": [
      "Erro: divisão por zero não é permitida!\n"
     ]
    }
   ],
   "source": [
    "# Exemplo 1: Tratando divisão por zero\n",
    "try:\n",
    "    x = 10\n",
    "    y = 0\n",
    "    resultado = x / y\n",
    "except ZeroDivisionError:\n",
    "    print(\"Erro: divisão por zero não é permitida!\")"
   ]
  },
  {
   "cell_type": "code",
   "execution_count": 4,
   "id": "1129f952-f0f6-4126-81cb-5ab24f68f5a9",
   "metadata": {},
   "outputs": [
    {
     "name": "stdout",
     "output_type": "stream",
     "text": [
      "Erro: não é possível converter para inteiro.\n"
     ]
    }
   ],
   "source": [
    "# Exemplo 2: Tratando erro de conversão\n",
    "try:\n",
    "    valor = int(\"abc\")\n",
    "except ValueError:\n",
    "    print(\"Erro: não é possível converter para inteiro.\")"
   ]
  },
  {
   "cell_type": "code",
   "execution_count": 5,
   "id": "e6ee0c5a-1038-4592-aa58-4bd102015ee6",
   "metadata": {},
   "outputs": [
    {
     "name": "stdout",
     "output_type": "stream",
     "text": [
      "Erro: índice fora do intervalo da lista.\n"
     ]
    }
   ],
   "source": [
    "# Exemplo 3: Capturando múltiplos tipos de erro\n",
    "try:\n",
    "    lista = [1, 2, 3]\n",
    "    print(lista[5])       # IndexError\n",
    "    numero = int(\"xyz\")   # ValueError (não será executado)\n",
    "except IndexError:\n",
    "    print(\"Erro: índice fora do intervalo da lista.\")\n",
    "except ValueError:\n",
    "    print(\"Erro: conversão inválida para inteiro.\")"
   ]
  },
  {
   "cell_type": "markdown",
   "id": "63945aba-6bd6-4f0d-b924-3abfbac089f9",
   "metadata": {},
   "source": [
    "### Captura genérica\n",
    "Se não soubermos qual exceção pode ocorrer, podemos usar um `except` sem tipo — mas isso não é considerado boa prática:  \n",
    "\n",
    "```python\n",
    "try:\n",
    "    # código arriscado\n",
    "except:\n",
    "    print(\"Ocorreu algum erro.\")\n",
    "```"
   ]
  },
  {
   "cell_type": "markdown",
   "id": "a049e496-5ed7-41af-b95c-1cbc69c0cd5e",
   "metadata": {},
   "source": [
    "✅ **Resumo da Seção 16.2:**  \n",
    "\n",
    "- `try-except` permite **capturar exceções** e evitar que o programa pare.  \n",
    "- Podemos capturar exceções específicas (`ValueError`, `IndexError`) ou de forma genérica.  \n",
    "- É recomendável capturar **apenas os erros esperados** para manter a clareza do código.  "
   ]
  },
  {
   "cell_type": "markdown",
   "id": "4d90b9c8-344b-49b7-9020-0b7ba841bfff",
   "metadata": {},
   "source": [
    "## 16.3 — Cláusulas `else` e `finally` 🔄\n",
    "\n",
    "Além do `try-except`, Python oferece duas cláusulas opcionais para tornar o tratamento de erros mais flexível:  \n",
    "\n",
    "- **`else`** → é executado apenas se **nenhuma exceção** ocorrer no bloco `try`.  \n",
    "- **`finally`** → é sempre executado, **independentemente** de ter ocorrido exceção ou não.  "
   ]
  },
  {
   "cell_type": "code",
   "execution_count": 6,
   "id": "e6b0567b-fa54-4243-9622-0f2dce936afa",
   "metadata": {},
   "outputs": [
    {
     "name": "stdout",
     "output_type": "stream",
     "text": [
      "Conversão bem-sucedida, número = 42\n"
     ]
    }
   ],
   "source": [
    "# Exemplo 1: Usando else\n",
    "try:\n",
    "    numero = int(\"42\")\n",
    "except ValueError:\n",
    "    print(\"Erro: conversão inválida.\")\n",
    "else:\n",
    "    print(\"Conversão bem-sucedida, número =\", numero)"
   ]
  },
  {
   "cell_type": "code",
   "execution_count": 7,
   "id": "89508acc-919f-42b5-b6dc-6eda124a0fd2",
   "metadata": {},
   "outputs": [
    {
     "name": "stdout",
     "output_type": "stream",
     "text": [
      "Arquivo lido com sucesso!\n",
      "Encerrando operação (arquivo será fechado, se aberto).\n"
     ]
    }
   ],
   "source": [
    "# Exemplo 2: Usando finally\n",
    "try:\n",
    "    arquivo = open(\"dados.txt\", \"r\")\n",
    "    conteudo = arquivo.read()\n",
    "    print(\"Arquivo lido com sucesso!\")\n",
    "except FileNotFoundError:\n",
    "    print(\"Erro: arquivo não encontrado.\")\n",
    "finally:\n",
    "    print(\"Encerrando operação (arquivo será fechado, se aberto).\")\n",
    "    try:\n",
    "        arquivo.close()\n",
    "    except:\n",
    "        pass  # evita erro se o arquivo não foi aberto"
   ]
  },
  {
   "cell_type": "code",
   "execution_count": 8,
   "id": "1fd52d87-bfd1-4899-8e76-12d262028104",
   "metadata": {},
   "outputs": [
    {
     "name": "stdout",
     "output_type": "stream",
     "text": [
      "Resultado: 5.0\n",
      "Execução finalizada (com ou sem erro).\n"
     ]
    }
   ],
   "source": [
    "# Exemplo 3: Combinando try, except, else e finally\n",
    "try:\n",
    "    x = 10\n",
    "    y = 2\n",
    "    resultado = x / y\n",
    "except ZeroDivisionError:\n",
    "    print(\"Erro: divisão por zero!\")\n",
    "else:\n",
    "    print(\"Resultado:\", resultado)\n",
    "finally:\n",
    "    print(\"Execução finalizada (com ou sem erro).\")"
   ]
  },
  {
   "cell_type": "markdown",
   "id": "c02beace-a1d2-48de-b5ee-d642e0234c96",
   "metadata": {},
   "source": [
    "✅ **Resumo da Seção 16.3:**  \n",
    "- `else` → executado apenas se **não ocorrer exceção**.  \n",
    "- `finally` → executado **sempre**, útil para liberar recursos (ex.: fechar arquivos, encerrar conexões).  \n",
    "- Juntos, `try-except-else-finally` permitem controle total do fluxo em situações de erro.  "
   ]
  },
  {
   "cell_type": "markdown",
   "id": "0f841984-bdf2-44cb-9247-01eae8405e8e",
   "metadata": {},
   "source": [
    "## 16.4 — Levantando exceções com `raise` 🚨\n",
    "\n",
    "Além de tratar exceções, também podemos **forçar** que uma exceção ocorra em determinadas situações.  \n",
    "Isso é feito com a instrução **`raise`**.  \n",
    "\n",
    "📌 **Usos comuns do `raise`:**\n",
    "- Validar dados de entrada.  \n",
    "- Garantir que certas condições sejam atendidas.  \n",
    "- Interromper a execução quando um erro lógico é detectado.  \n",
    "\n",
    "### Sintaxe:\n",
    "```python\n",
    "raise TipoDeExcecao(\"mensagem de erro\")"
   ]
  },
  {
   "cell_type": "code",
   "execution_count": 9,
   "id": "aa38f7a4-b2c7-4ab2-89b4-2d2e2b9594b8",
   "metadata": {},
   "outputs": [
    {
     "name": "stdout",
     "output_type": "stream",
     "text": [
      "Erro capturado: Divisão por zero não é permitida.\n"
     ]
    }
   ],
   "source": [
    "# Exemplo 1: Forçando uma exceção\n",
    "def dividir(a, b):\n",
    "    if b == 0:\n",
    "        raise ZeroDivisionError(\"Divisão por zero não é permitida.\")\n",
    "    return a / b\n",
    "\n",
    "try:\n",
    "    print(dividir(10, 0))\n",
    "except ZeroDivisionError as e:\n",
    "    print(\"Erro capturado:\", e)"
   ]
  },
  {
   "cell_type": "code",
   "execution_count": 10,
   "id": "ab46f56c-fe7d-4aaf-9faf-1183387ef7f2",
   "metadata": {},
   "outputs": [
    {
     "name": "stdout",
     "output_type": "stream",
     "text": [
      "Erro: Idade não pode ser negativa.\n"
     ]
    }
   ],
   "source": [
    "# Exemplo 2: Validação de entrada\n",
    "def set_idade(idade):\n",
    "    if idade < 0:\n",
    "        raise ValueError(\"Idade não pode ser negativa.\")\n",
    "    print(f\"Idade registrada: {idade} anos.\")\n",
    "\n",
    "try:\n",
    "    set_idade(-5)\n",
    "except ValueError as e:\n",
    "    print(\"Erro:\", e)"
   ]
  },
  {
   "cell_type": "code",
   "execution_count": 11,
   "id": "bc1945cd-96c6-4322-ba45-c6cc35223557",
   "metadata": {},
   "outputs": [
    {
     "name": "stdout",
     "output_type": "stream",
     "text": [
      "Erro de conversão: invalid literal for int() with base 10: 'abc'\n"
     ]
    },
    {
     "ename": "ValueError",
     "evalue": "invalid literal for int() with base 10: 'abc'",
     "output_type": "error",
     "traceback": [
      "\u001b[31m---------------------------------------------------------------------------\u001b[39m",
      "\u001b[31mValueError\u001b[39m                                Traceback (most recent call last)",
      "\u001b[36mCell\u001b[39m\u001b[36m \u001b[39m\u001b[32mIn[11]\u001b[39m\u001b[32m, line 3\u001b[39m\n\u001b[32m      1\u001b[39m \u001b[38;5;66;03m# Exemplo 3: Re-lançando exceções\u001b[39;00m\n\u001b[32m      2\u001b[39m \u001b[38;5;28;01mtry\u001b[39;00m:\n\u001b[32m----> \u001b[39m\u001b[32m3\u001b[39m     x = \u001b[38;5;28;43mint\u001b[39;49m\u001b[43m(\u001b[49m\u001b[33;43m\"\u001b[39;49m\u001b[33;43mabc\u001b[39;49m\u001b[33;43m\"\u001b[39;49m\u001b[43m)\u001b[49m\n\u001b[32m      4\u001b[39m \u001b[38;5;28;01mexcept\u001b[39;00m \u001b[38;5;167;01mValueError\u001b[39;00m \u001b[38;5;28;01mas\u001b[39;00m e:\n\u001b[32m      5\u001b[39m     \u001b[38;5;28mprint\u001b[39m(\u001b[33m\"\u001b[39m\u001b[33mErro de conversão:\u001b[39m\u001b[33m\"\u001b[39m, e)\n",
      "\u001b[31mValueError\u001b[39m: invalid literal for int() with base 10: 'abc'"
     ]
    }
   ],
   "source": [
    "# Exemplo 3: Re-lançando exceções\n",
    "try:\n",
    "    x = int(\"abc\")\n",
    "except ValueError as e:\n",
    "    print(\"Erro de conversão:\", e)\n",
    "    raise  # re-lança a exceção para ser tratada em nível superior"
   ]
  },
  {
   "cell_type": "markdown",
   "id": "a1f8739e-6422-425b-923e-1fdea88e4639",
   "metadata": {},
   "source": [
    "✅ **Resumo da Seção 16.4:**  \n",
    "- `raise` é usado para **levantar exceções manualmente**.  \n",
    "- Útil para validar condições e impor regras no código.  \n",
    "- Pode ser usado dentro de `except` para **re-lançar exceções**.  "
   ]
  },
  {
   "cell_type": "markdown",
   "id": "6f45bb84-d9dd-4c37-ad17-08231fa87eef",
   "metadata": {},
   "source": [
    "## 16.5 — Criando exceções personalizadas 🛠️\n",
    "\n",
    "Além de usar as exceções já existentes no Python (`ValueError`, `TypeError`, etc.),  \n",
    "podemos **criar nossas próprias classes de exceções** para representar erros específicos da aplicação.\n",
    "\n",
    "📌 **Por que criar exceções personalizadas?**\n",
    "- Torna o código mais legível e autoexplicativo.  \n",
    "- Facilita o tratamento de erros específicos em sistemas maiores.  \n",
    "- Ajuda a diferenciar erros de regras de negócio dos erros genéricos do Python.  \n",
    "\n",
    "### Como criar exceções personalizadas\n",
    "- Criamos uma **classe** que herda de `Exception`.  \n",
    "- Opcionalmente, podemos sobrescrever o método `__init__` para personalizar mensagens.  "
   ]
  },
  {
   "cell_type": "code",
   "execution_count": 12,
   "id": "92908785-be77-4677-9e74-2e2928451e79",
   "metadata": {},
   "outputs": [
    {
     "name": "stdout",
     "output_type": "stream",
     "text": [
      "Erro: Saldo insuficiente para saque!\n"
     ]
    }
   ],
   "source": [
    "# Exemplo 1: Exceção personalizada simples\n",
    "class SaldoInsuficienteError(Exception):\n",
    "    \"\"\"Exceção levantada quando o saldo é insuficiente para uma operação.\"\"\"\n",
    "    pass\n",
    "\n",
    "def sacar(saldo, valor):\n",
    "    if valor > saldo:\n",
    "        raise SaldoInsuficienteError(\"Saldo insuficiente para saque!\")\n",
    "    return saldo - valor\n",
    "\n",
    "try:\n",
    "    novo_saldo = sacar(100, 200)\n",
    "except SaldoInsuficienteError as e:\n",
    "    print(\"Erro:\", e)"
   ]
  },
  {
   "cell_type": "code",
   "execution_count": 13,
   "id": "cc59a790-90e5-47a8-ad3f-84cc2a579432",
   "metadata": {},
   "outputs": [
    {
     "name": "stdout",
     "output_type": "stream",
     "text": [
      "Erro capturado: Idade inválida fornecida: -5\n"
     ]
    }
   ],
   "source": [
    "# Exemplo 2: Exceção personalizada com atributos extras\n",
    "class IdadeInvalidaError(Exception):\n",
    "    def __init__(self, idade, mensagem=\"Idade inválida fornecida\"):\n",
    "        self.idade = idade\n",
    "        self.mensagem = mensagem\n",
    "        super().__init__(f\"{mensagem}: {idade}\")\n",
    "\n",
    "def registrar_idade(idade):\n",
    "    if idade < 0:\n",
    "        raise IdadeInvalidaError(idade)\n",
    "    print(f\"Idade registrada: {idade} anos\")\n",
    "\n",
    "try:\n",
    "    registrar_idade(-5)\n",
    "except IdadeInvalidaError as e:\n",
    "    print(\"Erro capturado:\", e)"
   ]
  },
  {
   "cell_type": "markdown",
   "id": "20f68a53-7b89-4145-9af2-0074b188539e",
   "metadata": {},
   "source": [
    "📌 **Boas práticas ao criar exceções personalizadas:**\n",
    "- Sempre herdar de `Exception` (não diretamente de `BaseException`).  \n",
    "- Usar nomes claros e terminados com `Error` (convenção do Python).  \n",
    "- Adicionar docstrings para explicar quando a exceção deve ser usada.  \n",
    "\n",
    "✅ **Resumo da Seção 16.5:**  \n",
    "- Podemos criar classes de exceção herdando de `Exception`.  \n",
    "- Exceções personalizadas tornam o código mais expressivo.  \n",
    "- É útil para regras de negócio e validações específicas.  "
   ]
  },
  {
   "cell_type": "markdown",
   "id": "a9d3e3b5-3be9-4a17-8f51-5860c37722a4",
   "metadata": {},
   "source": [
    "## Exercícios práticos 📝\n",
    "\n",
    "Agora vamos aplicar os conceitos estudados de exceções em **situações reais**.  \n",
    "\n",
    "---\n",
    "\n",
    "### Exercício 1 — Divisão segura  \n",
    "1. Escreva uma função `dividir(a, b)` que trate a divisão por zero com `try-except`.  \n",
    "2. Caso ocorra o erro, exiba uma mensagem amigável e retorne `None`.  \n"
   ]
  },
  {
   "cell_type": "code",
   "execution_count": 14,
   "id": "03254abc-9386-4b94-8a41-90c7ec6e7155",
   "metadata": {},
   "outputs": [
    {
     "name": "stdout",
     "output_type": "stream",
     "text": [
      "5.0\n",
      "Erro: divisão por zero não é permitida.\n",
      "None\n"
     ]
    }
   ],
   "source": [
    "# Exercício 1 - Solução\n",
    "def dividir(a, b):\n",
    "    try:\n",
    "        return a / b\n",
    "    except ZeroDivisionError:\n",
    "        print(\"Erro: divisão por zero não é permitida.\")\n",
    "        return None\n",
    "\n",
    "print(dividir(10, 2))  # 5.0\n",
    "print(dividir(10, 0))  # None"
   ]
  },
  {
   "cell_type": "markdown",
   "id": "67dbc6d2-cc85-4416-99f3-ef0d96a775e8",
   "metadata": {},
   "source": [
    "---\n",
    "### Exercício 2 — Conversão robusta  \n",
    "1. Escreva uma função `para_inteiro(valor)` que tente converter uma string para inteiro.  \n",
    "2. Se não for possível, capture `ValueError` e retorne `0`.  "
   ]
  },
  {
   "cell_type": "code",
   "execution_count": 15,
   "id": "8e4c3969-0749-412c-90c1-69a5259951f9",
   "metadata": {},
   "outputs": [
    {
     "name": "stdout",
     "output_type": "stream",
     "text": [
      "123\n",
      "Erro: não foi possível converter 'abc' para inteiro.\n",
      "0\n"
     ]
    }
   ],
   "source": [
    "# Exercício 2 - Solução\n",
    "def para_inteiro(valor):\n",
    "    try:\n",
    "        return int(valor)\n",
    "    except ValueError:\n",
    "        print(f\"Erro: não foi possível converter '{valor}' para inteiro.\")\n",
    "        return 0\n",
    "\n",
    "print(para_inteiro(\"123\"))   # 123\n",
    "print(para_inteiro(\"abc\"))   # 0"
   ]
  },
  {
   "cell_type": "markdown",
   "id": "da451728-3131-4f0c-b14a-978de33cfe48",
   "metadata": {},
   "source": [
    "---\n",
    "### Exercício 3 — Leitura de arquivo segura  \n",
    "1. Escreva uma função `ler_arquivo(nome)` que abra e leia um arquivo.  \n",
    "2. Capture `FileNotFoundError` e mostre uma mensagem adequada.  \n"
   ]
  },
  {
   "cell_type": "code",
   "execution_count": 16,
   "id": "ed261852-9850-40a0-932a-459cbcd16de6",
   "metadata": {},
   "outputs": [
    {
     "name": "stdout",
     "output_type": "stream",
     "text": [
      "Erro: o arquivo 'arquivo_inexistente.txt' não foi encontrado.\n",
      "None\n"
     ]
    }
   ],
   "source": [
    "# Exercício 3 - Solução\n",
    "def ler_arquivo(nome):\n",
    "    try:\n",
    "        with open(nome, \"r\") as f:\n",
    "            return f.read()\n",
    "    except FileNotFoundError:\n",
    "        print(f\"Erro: o arquivo '{nome}' não foi encontrado.\")\n",
    "        return None\n",
    "\n",
    "print(ler_arquivo(\"arquivo_inexistente.txt\"))"
   ]
  },
  {
   "cell_type": "markdown",
   "id": "284a9f6e-1653-49e8-b661-dab981da5d28",
   "metadata": {},
   "source": [
    "---\n",
    "### Exercício 4 — Exceção personalizada  \n",
    "1. Crie uma exceção `NotaInvalidaError`.  \n",
    "2. Escreva uma função `registrar_nota(nota)` que levante essa exceção se a nota não estiver no intervalo 0–10.  \n",
    "3. Trate a exceção adequadamente.  \n"
   ]
  },
  {
   "cell_type": "code",
   "execution_count": 17,
   "id": "23a41d53-6ef5-4fb1-be81-b81b00f93785",
   "metadata": {},
   "outputs": [
    {
     "name": "stdout",
     "output_type": "stream",
     "text": [
      "Erro capturado: Nota inválida: 12. Deve estar entre 0 e 10.\n"
     ]
    }
   ],
   "source": [
    "# Exercício 4 - Solução\n",
    "class NotaInvalidaError(Exception):\n",
    "    def __init__(self, nota):\n",
    "        super().__init__(f\"Nota inválida: {nota}. Deve estar entre 0 e 10.\")\n",
    "\n",
    "def registrar_nota(nota):\n",
    "    if nota < 0 or nota > 10:\n",
    "        raise NotaInvalidaError(nota)\n",
    "    print(f\"Nota registrada: {nota}\")\n",
    "\n",
    "try:\n",
    "    registrar_nota(12)\n",
    "except NotaInvalidaError as e:\n",
    "    print(\"Erro capturado:\", e)"
   ]
  },
  {
   "cell_type": "code",
   "execution_count": null,
   "id": "b7c12e54-d509-470b-98ac-8b272d080498",
   "metadata": {},
   "outputs": [],
   "source": []
  }
 ],
 "metadata": {
  "kernelspec": {
   "display_name": "Python 3 (ipykernel)",
   "language": "python",
   "name": "python3"
  },
  "language_info": {
   "codemirror_mode": {
    "name": "ipython",
    "version": 3
   },
   "file_extension": ".py",
   "mimetype": "text/x-python",
   "name": "python",
   "nbconvert_exporter": "python",
   "pygments_lexer": "ipython3",
   "version": "3.13.7"
  }
 },
 "nbformat": 4,
 "nbformat_minor": 5
}
