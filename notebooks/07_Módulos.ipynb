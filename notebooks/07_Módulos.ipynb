{
 "cells": [
  {
   "cell_type": "markdown",
   "id": "84e1cf42-2116-4413-a6fd-5d9fe2a971ff",
   "metadata": {},
   "source": [
    "# 📦 Capítulo 7 – Módulos\n",
    "> **Adriano Pylro - Engenheiro Mecânico - Dr. Eng,** \n",
    "\n",
    "## Seção 7.1 – Conceitos básicos sobre módulos (Module Basics)\n",
    "\n",
    "Nesta seção, você aprenderá como importar e utilizar módulos em Python. Módulos são arquivos que contêm definições e códigos Python reutilizáveis, permitindo organizar programas em componentes menores, mais limpos e mais reutilizáveis.\n"
   ]
  },
  {
   "cell_type": "markdown",
   "id": "1ca2fd19-a180-429d-94b8-ec373ea6dd8d",
   "metadata": {},
   "source": [
    "## 🎯 Objetivos de aprendizagem\n",
    "\n",
    "Após concluir esta seção, você será capaz de:\n",
    "\n",
    "- Explicar o que são módulos em Python;\n",
    "- Importar e utilizar funções de módulos padrão da linguagem;\n",
    "- Compreender as diferenças entre `import`, `from ... import ...` e `as`.\n"
   ]
  },
  {
   "cell_type": "markdown",
   "id": "10f717c0-a0ce-49b8-ab17-3109add47ba6",
   "metadata": {},
   "source": [
    "## 📘 O que é um módulo?\n",
    "\n",
    "Um módulo é um arquivo Python (`.py`) que contém definições de variáveis, funções ou classes. Ele pode ser reutilizado em outros programas através da instrução `import`.\n",
    "\n",
    "Por exemplo, o módulo `math` oferece funções matemáticas como `sqrt()`, `cos()`, `log()`, entre outras.\n",
    "\n",
    "Isso permite que você:\n",
    "\n",
    "- **Evite repetição de código**;\n",
    "- **Organize o código por responsabilidades**;\n",
    "- **Reutilize bibliotecas criadas por outros desenvolvedores**;\n",
    "- **Utilize pacotes padrões robustos como `math`, `random`, `datetime`, `os`, etc**.\n"
   ]
  },
  {
   "cell_type": "code",
   "execution_count": 1,
   "id": "8d3f5704-45be-4426-a391-c012a2676d95",
   "metadata": {},
   "outputs": [
    {
     "name": "stdout",
     "output_type": "stream",
     "text": [
      "5.0\n",
      "3.141592653589793\n",
      "3.0\n"
     ]
    }
   ],
   "source": [
    "import math\n",
    "\n",
    "print(math.sqrt(25))     # Raiz quadrada\n",
    "print(math.pi)           # Constante pi\n",
    "print(math.log10(1000))  # Logaritmo base 10\n"
   ]
  },
  {
   "cell_type": "markdown",
   "id": "1497f5e3-36f0-4344-ab45-7d41124ed5bf",
   "metadata": {},
   "source": [
    "## 🔧 Outras formas de importar\n",
    "\n",
    "Além de importar o módulo inteiro, você pode importar apenas partes dele:\n",
    "\n",
    "```python\n",
    "from math import sqrt, pi\n",
    "print(sqrt(36))  # Sem precisar escrever math.sqrt\n"
   ]
  },
  {
   "cell_type": "markdown",
   "id": "334a2dcf-26fe-4987-ba66-b2368269dd59",
   "metadata": {},
   "source": [
    "#### Você também pode atribuir um apelido ao módulo para escrever menos:"
   ]
  },
  {
   "cell_type": "code",
   "execution_count": 2,
   "id": "4b8b81d4-dce3-484c-b138-82ceef8f8c18",
   "metadata": {},
   "outputs": [
    {
     "name": "stdout",
     "output_type": "stream",
     "text": [
      "1.0\n"
     ]
    }
   ],
   "source": [
    "import math as m\n",
    "print(m.cos(0))"
   ]
  },
  {
   "cell_type": "markdown",
   "id": "d7133b11-f3f0-4078-b7f4-1183cca88471",
   "metadata": {},
   "source": [
    "## 📏 Boas práticas com módulos\n",
    "\n",
    "- Evite `from module import *` — isso polui o namespace e dificulta manutenção.\n",
    "- Use `as` para dar nomes mais curtos e claros aos módulos (ex: `import numpy as np`).\n",
    "- Módulos são carregados apenas uma vez por execução — múltiplos `import` não afetam desempenho.\n",
    "- Para ver as funções disponíveis em um módulo, use `dir()`:"
   ]
  },
  {
   "cell_type": "code",
   "execution_count": 3,
   "id": "d0d7cf61-6f57-4bbe-9184-1bc82b313a8c",
   "metadata": {},
   "outputs": [
    {
     "name": "stdout",
     "output_type": "stream",
     "text": [
      "['__doc__', '__loader__', '__name__', '__package__', '__spec__', 'acos', 'acosh', 'asin', 'asinh', 'atan', 'atan2', 'atanh', 'cbrt', 'ceil', 'comb', 'copysign', 'cos', 'cosh', 'degrees', 'dist', 'e', 'erf', 'erfc', 'exp', 'exp2', 'expm1', 'fabs', 'factorial', 'floor', 'fmod', 'frexp', 'fsum', 'gamma', 'gcd', 'hypot', 'inf', 'isclose', 'isfinite', 'isinf', 'isnan', 'isqrt', 'lcm', 'ldexp', 'lgamma', 'log', 'log10', 'log1p', 'log2', 'modf', 'nan', 'nextafter', 'perm', 'pi', 'pow', 'prod', 'radians', 'remainder', 'sin', 'sinh', 'sqrt', 'sumprod', 'tan', 'tanh', 'tau', 'trunc', 'ulp']\n"
     ]
    }
   ],
   "source": [
    "import math\n",
    "print(dir(math))"
   ]
  },
  {
   "cell_type": "markdown",
   "id": "03335133-bb28-4abc-9711-506ad41ea08b",
   "metadata": {},
   "source": [
    "## 🧱 Seção 7.2 – Criando e usando módulos (Creating and Using Modules)\n",
    "\n",
    "Além de importar módulos da biblioteca padrão do Python, você também pode criar seus próprios módulos reutilizáveis para organizar melhor seus programas e projetos.\n"
   ]
  },
  {
   "cell_type": "markdown",
   "id": "0ceee639-236e-4aac-87ac-cdd79b54b03f",
   "metadata": {},
   "source": [
    "### 🎯 Objetivos de aprendizagem\n",
    "\n",
    "Após esta seção, você será capaz de:\n",
    "\n",
    "- Criar um módulo Python próprio;\n",
    "- Importar e utilizar funções definidas nesse módulo;\n",
    "- Compreender a diferença entre rodar um módulo e importá-lo;\n",
    "- Utilizar a variável `__name__` para controlar o comportamento de execução.\n"
   ]
  },
  {
   "cell_type": "markdown",
   "id": "a86fab0e-8909-4d53-9c9d-d4ddf4b1e6a7",
   "metadata": {},
   "source": [
    "### 📄 O que é um módulo personalizado?\n",
    "\n",
    "Qualquer arquivo `.py` contendo funções, classes ou variáveis pode ser tratado como um **módulo**. Para usar esse módulo em outro arquivo Python, basta importá-lo.\n",
    "\n",
    "#### Exemplo: criando o módulo `saudacoes.py`\n",
    "\n",
    "```python\n",
    "# saudacoes.py\n",
    "\n",
    "def ola(nome):\n",
    "    return f\"Olá, {nome}!\"\n",
    "\n",
    "def tchau(nome):\n",
    "    return f\"Tchau, {nome}. Até mais!\"\n"
   ]
  },
  {
   "cell_type": "markdown",
   "id": "5c83dee6-8933-44ee-b2a7-7e6648f91719",
   "metadata": {},
   "source": [
    "#### Salve esse arquivo no mesmo diretório do seu notebook ou script Python principal."
   ]
  },
  {
   "cell_type": "code",
   "execution_count": 4,
   "id": "9ce55731-c7d8-4488-bad3-505cc91c66ea",
   "metadata": {},
   "outputs": [
    {
     "name": "stdout",
     "output_type": "stream",
     "text": [
      "Olá, Ana!\n",
      "Tchau, Carlos. Até mais!\n"
     ]
    }
   ],
   "source": [
    "import saudacoes\n",
    "\n",
    "print(saudacoes.ola(\"Ana\"))\n",
    "print(saudacoes.tchau(\"Carlos\"))"
   ]
  },
  {
   "cell_type": "markdown",
   "id": "a701a71f-a22f-4112-9356-d200dfac2365",
   "metadata": {},
   "source": [
    "### ✅ Importação seletiva e apelidos\n",
    "Você também pode importar apenas funções específicas ou usar apelidos:"
   ]
  },
  {
   "cell_type": "code",
   "execution_count": 5,
   "id": "42bf6ccb-17b2-4024-a4ea-e290985f4e76",
   "metadata": {},
   "outputs": [
    {
     "name": "stdout",
     "output_type": "stream",
     "text": [
      "Olá, Maria!\n",
      "Tchau, João. Até mais!\n"
     ]
    }
   ],
   "source": [
    "from saudacoes import ola\n",
    "print(ola(\"Maria\"))\n",
    "\n",
    "import saudacoes as sd\n",
    "print(sd.tchau(\"João\"))"
   ]
  },
  {
   "cell_type": "markdown",
   "id": "6da31c7a-acfc-4051-9027-b749b71e90d5",
   "metadata": {},
   "source": [
    "### 🧠 A variável especial `__name__`\n",
    "\n",
    "Cada módulo em Python possui uma variável especial chamada `__name__`.\n",
    "\n",
    "- Quando você **executa diretamente** um arquivo Python, `__name__ == \"__main__\"`\n",
    "- Quando o arquivo é **importado** como módulo, `__name__` é igual ao nome do módulo\n",
    "\n",
    "Isso permite definir um comportamento diferente para execução direta e para importação:"
   ]
  },
  {
   "cell_type": "code",
   "execution_count": 6,
   "id": "389ed78a-02bb-4137-829e-28bebf64a91a",
   "metadata": {},
   "outputs": [
    {
     "name": "stdout",
     "output_type": "stream",
     "text": [
      "Olá, Executando diretamente!\n"
     ]
    }
   ],
   "source": [
    "# saudacoes.py\n",
    "\n",
    "def ola(nome):\n",
    "    return f\"Olá, {nome}!\"\n",
    "\n",
    "if __name__ == \"__main__\":\n",
    "    print(ola(\"Executando diretamente\"))"
   ]
  },
  {
   "cell_type": "markdown",
   "id": "b228d19e-3813-4231-a828-7b7f3577fc2f",
   "metadata": {},
   "source": [
    "#### Ao importar `saudacoes`, o trecho dentro do if não será executado."
   ]
  },
  {
   "cell_type": "markdown",
   "id": "5fb55c4c-34cd-49ec-969a-8ce7afe24599",
   "metadata": {},
   "source": [
    "### 📏 Boas práticas\n",
    "\n",
    "- Use módulos para **organizar código** em partes reutilizáveis e legíveis;\n",
    "- Sempre use o `if __name__ == \"__main__\":` se quiser permitir execução e importação;\n",
    "- Armazene seus módulos em pastas organizadas com um arquivo `__init__.py` para criar pacotes.\n"
   ]
  },
  {
   "cell_type": "markdown",
   "id": "c8ebc942-5391-46c9-a7a7-f115f63f0966",
   "metadata": {},
   "source": [
    "### 🧪 Exercícios práticos\n",
    "\n",
    "1. Crie um módulo chamado `matematica.py` com funções `soma(a, b)`, `subtrai(a, b)`, `multiplica(a, b)` e `divide(a, b)`.\n",
    "2. Importe esse módulo em outro notebook e use as funções com diferentes valores.\n",
    "3. Adicione no módulo `matematica.py` um bloco `if __name__ == \"__main__\"` para testar suas funções."
   ]
  },
  {
   "cell_type": "markdown",
   "id": "8f4ade22-f756-4aca-9a3b-a934f108c628",
   "metadata": {},
   "source": [
    "### 🧠 Explicação de `__name__`"
   ]
  },
  {
   "cell_type": "markdown",
   "id": "be426315-becc-477c-a70f-30957f1feabb",
   "metadata": {},
   "source": [
    "A variável especial __name__ em Python é um mecanismo interno que indica o contexto em que um módulo está sendo executado. Aqui vai uma explicação didática e direta com analogia, exemplos e consequências práticas.\n",
    "\n"
   ]
  },
  {
   "cell_type": "markdown",
   "id": "cb4cc9f3-c182-47b5-b15c-7c5bfd5c4b13",
   "metadata": {},
   "source": [
    "Em Python, todo arquivo `.py` tem uma variável interna chamada `__name__`.\n",
    "\n",
    "Existem dois cenários possíveis:\n",
    "1) Quando você roda o arquivo diretamente (como script principal):\n",
    "\n",
    "- Python define automaticamente:\n",
    "\n",
    "```python\n",
    "__name__ == \"__main__\"\n",
    "```\n",
    "2) Quando você importa o arquivo como módulo em outro script:\n",
    "\n",
    "- Python define:\n",
    "```python\n",
    "__name__ == \"nome_do_arquivo\"  # sem .py\n",
    "```"
   ]
  },
  {
   "cell_type": "markdown",
   "id": "67b643be-7ad2-467d-b618-c2a7b1873a04",
   "metadata": {},
   "source": [
    "### 🧪 Exemplo 1 — Arquivo util.py"
   ]
  },
  {
   "cell_type": "code",
   "execution_count": 3,
   "id": "a0a015a3-a476-495a-8482-75c32c888103",
   "metadata": {},
   "outputs": [
    {
     "name": "stdout",
     "output_type": "stream",
     "text": [
      "Executando util.py\n",
      "Este código está rodando diretamente.\n"
     ]
    }
   ],
   "source": [
    "# util.py\n",
    "\n",
    "def saudacao():\n",
    "    print(\"Olá!\")\n",
    "\n",
    "print(\"Executando util.py\")\n",
    "\n",
    "if __name__ == \"__main__\":\n",
    "    print(\"Este código está rodando diretamente.\")\n",
    "else:\n",
    "    print(\"util.py foi importado como módulo.\")\n"
   ]
  },
  {
   "cell_type": "markdown",
   "id": "3082a85e-a2b0-4267-904a-ea1cbdb07307",
   "metadata": {},
   "source": [
    "Quando você roda assim:"
   ]
  },
  {
   "cell_type": "code",
   "execution_count": 5,
   "id": "b85aa7ed-4c31-4652-9459-9b9ea22d5295",
   "metadata": {},
   "outputs": [
    {
     "name": "stdout",
     "output_type": "stream",
     "text": [
      "Executando util.py\n",
      "util.py foi importado como módulo.\n"
     ]
    }
   ],
   "source": [
    "import util"
   ]
  },
  {
   "cell_type": "markdown",
   "id": "1cb54013-8491-45d7-afb6-096a12f0cd90",
   "metadata": {},
   "source": [
    "### 🎯 Para que serve isso?\n",
    "Esse padrão é útil para separar o código de teste ou execução do código reutilizável.\n",
    "\n",
    "Assim, você pode fazer com que certas partes do código só rodem quando o arquivo for executado diretamente, e não quando for importado por outro arquivo."
   ]
  },
  {
   "cell_type": "markdown",
   "id": "05498f03-ae1c-4a17-b9ce-b471b3d65f43",
   "metadata": {},
   "source": [
    "## ✅ Tabela de comportamento da variável especial `__name__`\n",
    "\n",
    "| Situação                      | Valor de `__name__`           | Consequência                             |\n",
    "| ----------------------------- | ----------------------------- | ---------------------------------------- |\n",
    "| Arquivo executado diretamente | `\"__main__\"`                  | Executa tudo, incluindo testes           |\n",
    "| Arquivo importado como módulo | `\"nome_do_módulo\"` (ex: util) | Ignora bloco `if __name__ == \"__main__\"` |\n",
    "\n",
    "\n"
   ]
  },
  {
   "cell_type": "markdown",
   "id": "59a3ea95-6ae7-4128-8d6a-3a14cb1c90a5",
   "metadata": {},
   "source": [
    "## 📘 Seção 7.3 – Localizando módulos (Finding modules)"
   ]
  },
  {
   "cell_type": "markdown",
   "id": "3fac7678-e576-4d0b-9c3e-e0151ef5ef2b",
   "metadata": {},
   "source": [
    "### 🧭 Onde o Python encontra os módulos?\n",
    "\n",
    "Quando usamos `import nome_do_modulo`, o interpretador Python precisa saber onde encontrar esse módulo.\n",
    "\n",
    "O Python segue uma ordem de busca definida pela variável especial `sys.path`, que é uma lista de diretórios. A ordem típica é:\n",
    "\n",
    "1. O diretório atual (de onde o script está sendo executado);\n",
    "2. Diretórios padrão onde o Python está instalado;\n",
    "3. Diretórios adicionais definidos na variável de ambiente `PYTHONPATH`.\n",
    "\n",
    "Você pode visualizar a lista de caminhos com:\n",
    "\n",
    "```python\n",
    "import sys\n",
    "for path in sys.path:\n",
    "    print(path)\n"
   ]
  },
  {
   "cell_type": "markdown",
   "id": "9055a12e-aa0c-466f-80f7-6942471533f3",
   "metadata": {},
   "source": [
    "### 📌 Observações:\n",
    "\n",
    "É possível adicionar dinamicamente novos caminhos a `sys.path para que o Python encontre módulos em locais específicos.\n",
    "\n",
    "Evite conflitos com nomes de módulos internos do Python — por exemplo, não nomeie seus arquivos como `random.py`, `math.py` etc."
   ]
  },
  {
   "cell_type": "code",
   "execution_count": 7,
   "id": "537f283f-69d7-47e2-9dae-d3eb52316900",
   "metadata": {},
   "outputs": [
    {
     "name": "stdout",
     "output_type": "stream",
     "text": [
      "📂 Caminhos que o Python usa para encontrar módulos:\n",
      "\n",
      "- /usr/lib/python312.zip\n",
      "- /usr/lib/python3.12\n",
      "- /usr/lib/python3.12/lib-dynload\n",
      "- \n",
      "- /home/apy/Projetos/Trilha_Python/venv/lib/python3.12/site-packages\n"
     ]
    }
   ],
   "source": [
    "import sys\n",
    "\n",
    "print(\"📂 Caminhos que o Python usa para encontrar módulos:\\n\")\n",
    "for caminho in sys.path:\n",
    "    print(\"-\", caminho)"
   ]
  },
  {
   "cell_type": "markdown",
   "id": "31b30a3f-dec4-4d8c-b51a-d3ad8808f0a2",
   "metadata": {},
   "source": [
    "### 💡 Dica prática\n",
    "Se você quiser importar um módulo que está em um subdiretório, mas esse diretório não está na lista `sys.path`, você pode adicioná-lo manualmente assim:\n",
    "\n",
    "```python\n",
    "import sys\n",
    "sys.path.append('/caminho/para/meu/modulo')"
   ]
  },
  {
   "cell_type": "markdown",
   "id": "2c0a3891-8d12-484a-9322-e9a098ee3c92",
   "metadata": {},
   "source": [
    "## 📦 Seção 7.4 – Módulos padrão\n",
    "\n",
    "O Python vem com uma biblioteca padrão extensa, repleta de módulos prontos para uso. Esses módulos oferecem funcionalidades para manipular arquivos, realizar cálculos matemáticos, trabalhar com datas, gerar números aleatórios, acessar a internet e muito mais.\n",
    "\n",
    "Para usar um módulo padrão, basta importá-lo com `import nome_do_módulo`. Em alguns casos, você pode importar apenas partes específicas do módulo com `from nome_do_módulo import função`.\n",
    "\n",
    "A documentação oficial da biblioteca padrão pode ser acessada em:  \n",
    "🔗 https://docs.python.org/3/library/\n",
    "\n",
    "A seguir, veremos alguns exemplos de uso de módulos padrão úteis.\n"
   ]
  },
  {
   "cell_type": "markdown",
   "id": "b4431b96-1289-4c8d-8ba8-e652144ca9f0",
   "metadata": {},
   "source": [
    "### ✅ Módulo `math`"
   ]
  },
  {
   "cell_type": "code",
   "execution_count": 8,
   "id": "5d7856e3-e076-4c63-8197-ed72be606a72",
   "metadata": {},
   "outputs": [
    {
     "name": "stdout",
     "output_type": "stream",
     "text": [
      "Raiz de 25: 5.0\n",
      "cosseno de 0: 1.0\n",
      "Valor de π: 3.141592653589793\n",
      "Valor de e: 2.718281828459045\n"
     ]
    }
   ],
   "source": [
    "import math\n",
    "\n",
    "# Raiz quadrada\n",
    "print(\"Raiz de 25:\", math.sqrt(25))\n",
    "\n",
    "# Cosseno de 0 radianos\n",
    "print(\"cosseno de 0:\", math.cos(0))\n",
    "\n",
    "# Constantes matemáticas\n",
    "print(\"Valor de π:\", math.pi)\n",
    "print(\"Valor de e:\", math.e)\n"
   ]
  },
  {
   "cell_type": "markdown",
   "id": "278f220e-383e-4223-b258-d146adb35afb",
   "metadata": {},
   "source": [
    "### ✅ Módulo `random`"
   ]
  },
  {
   "cell_type": "code",
   "execution_count": 9,
   "id": "ebe8222a-d2b2-499c-807b-2d6dd202edda",
   "metadata": {},
   "outputs": [
    {
     "name": "stdout",
     "output_type": "stream",
     "text": [
      "Número aleatório entre 1 e 10: 6\n",
      "Número decimal aleatório entre 0 e 1: 0.7737736455420753\n",
      "Escolha aleatória de lista: laranja\n"
     ]
    }
   ],
   "source": [
    "import random\n",
    "\n",
    "print(\"Número aleatório entre 1 e 10:\", random.randint(1, 10))\n",
    "print(\"Número decimal aleatório entre 0 e 1:\", random.random())\n",
    "print(\"Escolha aleatória de lista:\", random.choice([\"maçã\", \"banana\", \"laranja\"]))\n"
   ]
  },
  {
   "cell_type": "markdown",
   "id": "dc1dc1b8-f816-465b-be73-3ccb95183174",
   "metadata": {},
   "source": [
    "### ✅ Módulo `datetime`"
   ]
  },
  {
   "cell_type": "code",
   "execution_count": 10,
   "id": "18ed62a0-9b00-491c-b99e-b976804a4d42",
   "metadata": {},
   "outputs": [
    {
     "name": "stdout",
     "output_type": "stream",
     "text": [
      "Data atual: 2025-08-03\n",
      "Data e hora agora: 2025-08-03 19:24:20.585308\n"
     ]
    }
   ],
   "source": [
    "from datetime import date, datetime\n",
    "\n",
    "print(\"Data atual:\", date.today())\n",
    "print(\"Data e hora agora:\", datetime.now())\n"
   ]
  },
  {
   "cell_type": "markdown",
   "id": "3cf63c41-daa2-4243-a2d9-afd6b6594b51",
   "metadata": {},
   "source": [
    "### ✅ Módulo `os` para interações com o sistema"
   ]
  },
  {
   "cell_type": "code",
   "execution_count": 11,
   "id": "24e4dc18-20a4-4a0b-b71e-ee26910ce8e4",
   "metadata": {},
   "outputs": [
    {
     "name": "stdout",
     "output_type": "stream",
     "text": [
      "Diretório atual: /home/apy/Projetos/Trilha_Python/notebooks\n",
      "Lista de arquivos no diretório: ['04_Decisões.ipynb', '02_Expressões.ipynb', '07_Módulos.ipynb', 'util.py', '.ipynb_checkpoints', '01_Intro_Python.ipynb', 'saudacoes.py', 'Numeros_em_Python_Traduzido.ipynb', '05_Laços.ipynb', '03_Objetos.ipynb', '06_Funções.ipynb', 'treinamento_python_estruturas.md', '__pycache__']\n"
     ]
    }
   ],
   "source": [
    "import os\n",
    "\n",
    "print(\"Diretório atual:\", os.getcwd())\n",
    "print(\"Lista de arquivos no diretório:\", os.listdir(\".\"))\n"
   ]
  },
  {
   "cell_type": "markdown",
   "id": "2c90757b-2512-42ea-b101-cc79a1a8ef97",
   "metadata": {},
   "source": [
    "## 📊 Módulo `statistics`\n",
    "\n",
    "O módulo `statistics` fornece funções para cálculos estatísticos básicos com listas numéricas.\n",
    "\n",
    "Funções úteis:\n",
    "- `mean(lista)`: média aritmética\n",
    "- `median(lista)`: mediana\n",
    "- `mode(lista)`: moda\n",
    "- `stdev(lista)`: desvio padrão amostral\n",
    "- `variance(lista)`: variância amostral\n",
    "\n",
    "Essas funções são úteis para análises simples de dados sem depender de bibliotecas externas como NumPy ou pandas.\n"
   ]
  },
  {
   "cell_type": "code",
   "execution_count": 13,
   "id": "ff3ffd98-3872-4462-89aa-019e12a3c6be",
   "metadata": {},
   "outputs": [
    {
     "name": "stdout",
     "output_type": "stream",
     "text": [
      "Média: 24\n",
      "Mediana: 20\n",
      "Moda: 20\n",
      "Desvio padrão: 11.40175425099138\n",
      "Variância: 130\n"
     ]
    }
   ],
   "source": [
    "import statistics\n",
    "\n",
    "dados = [10, 20, 20, 30, 40]\n",
    "\n",
    "print(\"Média:\", statistics.mean(dados))\n",
    "print(\"Mediana:\", statistics.median(dados))\n",
    "print(\"Moda:\", statistics.mode(dados))\n",
    "print(\"Desvio padrão:\", statistics.stdev(dados))\n",
    "print(\"Variância:\", statistics.variance(dados))\n"
   ]
  },
  {
   "cell_type": "markdown",
   "id": "11535451-7adb-4dc4-a02e-695ae3305872",
   "metadata": {},
   "source": [
    "## 📧 Módulo `email`\n",
    "\n",
    "O módulo `email` permite criar, manipular e analisar mensagens de e-mail no formato MIME.\n",
    "\n",
    "Ele é útil para:\n",
    "- Construir mensagens com cabeçalhos e corpo\n",
    "- Gerar e-mails com partes em texto e HTML\n",
    "- Encaminhar, responder ou salvar mensagens\n",
    "\n",
    "Abaixo, mostramos um exemplo básico de criação de uma mensagem simples usando `email.message.EmailMessage`.\n"
   ]
  },
  {
   "cell_type": "code",
   "execution_count": 14,
   "id": "431a2b55-ef3d-490b-af28-f76d9f66f448",
   "metadata": {},
   "outputs": [
    {
     "name": "stdout",
     "output_type": "stream",
     "text": [
      "Subject: Relatório Semanal\n",
      "From: engenharia@empresa.com\n",
      "To: gerente@empresa.com\n",
      "Content-Type: text/plain; charset=\"utf-8\"\n",
      "Content-Transfer-Encoding: base64\n",
      "MIME-Version: 1.0\n",
      "\n",
      "U2VndWUgZW0gYW5leG8gbyByZWxhdMOzcmlvIHNlbWFuYWwuCg==\n",
      "\n"
     ]
    }
   ],
   "source": [
    "from email.message import EmailMessage\n",
    "\n",
    "msg = EmailMessage()\n",
    "msg['Subject'] = 'Relatório Semanal'\n",
    "msg['From'] = 'engenharia@empresa.com'\n",
    "msg['To'] = 'gerente@empresa.com'\n",
    "msg.set_content('Segue em anexo o relatório semanal.')\n",
    "\n",
    "# Exibindo a mensagem formatada\n",
    "print(msg)\n"
   ]
  },
  {
   "cell_type": "markdown",
   "id": "167ae663-0408-419d-be6d-1b6b22b4ac64",
   "metadata": {},
   "source": [
    "## ✅ Considerações\n",
    "\n",
    "- A biblioteca padrão do Python oferece centenas de módulos para facilitar tarefas comuns.\n",
    "- O uso de `import` permite acessar todas as funções e constantes de um módulo.\n",
    "- É possível importar partes específicas com `from ... import ...`.\n",
    "- Familiarizar-se com os módulos padrão ajuda a evitar a \"reinvenção da roda\" e torna o código mais limpo, confiável e eficiente.\n"
   ]
  },
  {
   "cell_type": "markdown",
   "id": "c8b80a7c-929b-41cc-9ad8-9c8bcada30fa",
   "metadata": {},
   "source": [
    "## 🧠 Exercícios – Capítulo 7: Módulos\n",
    "\n",
    "Estes exercícios têm como objetivo reforçar o uso de módulos em Python, incluindo importações, criação de módulos personalizados e utilização dos principais módulos da biblioteca padrão.\n",
    "\n",
    "---\n",
    "\n",
    "### 1. Importação e uso básico\n",
    "Crie um programa que utilize o módulo `math` para:\n",
    "- Calcular a raiz quadrada de um número fornecido pelo usuário.\n",
    "- Calcular o cosseno de um ângulo (em graus) digitado pelo usuário (dica: use `math.radians`).\n",
    "\n",
    "---\n",
    "\n",
    "### 2. Criando seu próprio módulo\n",
    "Crie um arquivo chamado `conversao.py` com as seguintes funções:\n",
    "- `celsius_para_fahrenheit(c)`: converte Celsius para Fahrenheit.\n",
    "- `fahrenheit_para_celsius(f)`: converte Fahrenheit para Celsius.\n",
    "\n",
    "Depois, em outro arquivo:\n",
    "- Importe o módulo `conversao` e teste as duas funções.\n",
    "\n",
    "---\n",
    "\n",
    "### 3. Uso de `__name__ == \"__main__\"`\n",
    "No mesmo módulo `conversao.py`, adicione um trecho que, quando executado diretamente, pergunte ao usuário a temperatura em Celsius e exiba a conversão para Fahrenheit.\n",
    "\n",
    "---\n",
    "\n",
    "### 4. Estatísticas simples\n",
    "Com base no módulo `statistics`, escreva um programa que:\n",
    "- Solicite ao usuário uma lista de valores separados por vírgula.\n",
    "- Calcule e exiba a média, mediana, moda e desvio padrão dos valores.\n",
    "\n",
    "---\n",
    "\n",
    "### 5. Análise de e-mail\n",
    "Utilizando o módulo `email`, escreva um programa que:\n",
    "- Crie uma mensagem fictícia de e-mail com remetente, destinatário, assunto e corpo.\n",
    "- Imprima o conteúdo completo formatado da mensagem.\n",
    "\n",
    "---\n",
    "\n",
    "### 6. Exploração de módulos com `help()` e `dir()`\n",
    "Escolha qualquer um dos módulos mencionados no capítulo (`math`, `statistics`, `random`, `email`) e:\n",
    "- Use a função `dir(nome_do_módulo)` para listar seus atributos.\n",
    "- Use `help(nome_do_módulo.funcao)` para obter a descrição de pelo menos uma função.\n",
    "\n",
    "---\n",
    "\n",
    "### 7. Aprofundamento com `random`\n",
    "Escreva um programa que:\n",
    "- Gere uma lista com 5 números aleatórios entre 1 e 100.\n",
    "- Ordene e imprima essa lista.\n",
    "- Mostre a soma dos elementos e destaque o maior e o menor.\n",
    "\n",
    "---\n"
   ]
  },
  {
   "cell_type": "code",
   "execution_count": null,
   "id": "3ac92dec-50d4-47fc-8462-70e83c9db5f0",
   "metadata": {},
   "outputs": [],
   "source": []
  }
 ],
 "metadata": {
  "kernelspec": {
   "display_name": "Python 3 (ipykernel)",
   "language": "python",
   "name": "python3"
  },
  "language_info": {
   "codemirror_mode": {
    "name": "ipython",
    "version": 3
   },
   "file_extension": ".py",
   "mimetype": "text/x-python",
   "name": "python",
   "nbconvert_exporter": "python",
   "pygments_lexer": "ipython3",
   "version": "3.13.7"
  }
 },
 "nbformat": 4,
 "nbformat_minor": 5
}
