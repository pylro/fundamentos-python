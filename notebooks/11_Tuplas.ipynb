{
 "cells": [
  {
   "cell_type": "markdown",
   "id": "dbcd21fd-72f7-47a6-937a-83caa2737aee",
   "metadata": {},
   "source": [
    "# 📚 Capítulo 11 — Tuplas\n",
    "\n",
    "> **Adriano Pylro - Engenheiro Mecânico - Dr. Eng,** \n",
    "\n",
    "As **tuplas** em Python são coleções ordenadas e **imutáveis** de elementos.  \n",
    "São semelhantes às listas, mas com a diferença fundamental de que **não podem ser modificadas após a criação**.  \n",
    "\n",
    "Tuplas são úteis quando precisamos de conjuntos de dados fixos, como coordenadas, registros ou múltiplos valores retornados por funções.\n",
    "\n",
    "---\n",
    "\n",
    "## 🔑 11.1 — Fundamentos de tuplas\n",
    "\n",
    "### ✅ Definição\n",
    "- Uma **tupla** é uma coleção de elementos separados por vírgulas.  \n",
    "- Os parênteses `()` são opcionais, mas geralmente usados por clareza.  \n",
    "- Pode conter elementos de **tipos diferentes** (números, strings, listas etc.).\n",
    "\n",
    "### 🏗 Criação de tuplas\n",
    "```python\n",
    "# Tupla com parênteses\n",
    "t1 = (1, 2, 3)\n",
    "\n",
    "# Tupla sem parênteses\n",
    "t2 = 1, 2, 3\n",
    "\n",
    "# Tupla com elementos de tipos diferentes\n",
    "t3 = (1, \"Python\", 3.14, True)\n",
    "\n",
    "# Tupla com lista aninhada\n",
    "t4 = (\"Ana\", [10, 20, 30], (\"x\", \"y\"))"
   ]
  },
  {
   "cell_type": "markdown",
   "id": "2f84a9ee-312a-4878-9ab1-a580a05cf6db",
   "metadata": {},
   "source": [
    "### ⚠️ Tupla unitária\n",
    "\n",
    "Para criar uma tupla com apenas um elemento, é necessário incluir uma vírgula:\n",
    "```python\n",
    "t1 = (5,)     # tupla de um elemento\n",
    "t2 = (5)      # NÃO é tupla, é apenas um inteiro\n",
    "```"
   ]
  },
  {
   "cell_type": "markdown",
   "id": "4395a789-bf5f-4c71-aa3d-5d339120f080",
   "metadata": {},
   "source": [
    "### 📌 Exemplo visual\n",
    "\n",
    "| Operação                  | Código           | Resultado                 |\n",
    "|---------------------------|------------------|---------------------------|\n",
    "| Tupla simples             | `(1, 2, 3)`      | `(1, 2, 3)`               |\n",
    "| Tupla sem parênteses      | `1, 2, 3`        | `(1, 2, 3)`               |\n",
    "| Tipos mistos              | `(1, \"a\", 3.5)`  | `(1, \"a\", 3.5)`           |\n",
    "| Tupla unitária (correta)  | `(5,)`           | `(5,)`                    |\n",
    "| Tupla unitária (incorreta)| `(5)`            | `5` (inteiro, não tupla)  |\n"
   ]
  },
  {
   "cell_type": "markdown",
   "id": "3751e1ae-27a4-492b-a749-add7b35fbb0e",
   "metadata": {},
   "source": [
    "### 📦 Exemplos práticos"
   ]
  },
  {
   "cell_type": "code",
   "execution_count": 1,
   "id": "15a0a517-aafa-4f2b-88cb-b3e880d992c7",
   "metadata": {},
   "outputs": [
    {
     "name": "stdout",
     "output_type": "stream",
     "text": [
      "t1: (1, 2, 3)\n",
      "t2: (1, 2, 3)\n",
      "t3: (1, 'Python', 3.14, True)\n",
      "t4: ('Ana', [10, 20, 30], ('x', 'y'))\n",
      "Tupla unitária: (5,) <class 'tuple'>\n",
      "Não é tupla: 5 <class 'int'>\n"
     ]
    }
   ],
   "source": [
    "t1 = (1, 2, 3)\n",
    "t2 = 1, 2, 3\n",
    "t3 = (1, \"Python\", 3.14, True)\n",
    "t4 = (\"Ana\", [10, 20, 30], (\"x\", \"y\"))\n",
    "\n",
    "print(\"t1:\", t1)\n",
    "print(\"t2:\", t2)\n",
    "print(\"t3:\", t3)\n",
    "print(\"t4:\", t4)\n",
    "\n",
    "# Tupla unitária\n",
    "t_unitaria = (5,)\n",
    "print(\"Tupla unitária:\", t_unitaria, type(t_unitaria))\n",
    "\n",
    "nao_tupla = (5)\n",
    "print(\"Não é tupla:\", nao_tupla, type(nao_tupla))"
   ]
  },
  {
   "cell_type": "markdown",
   "id": "a6656d9f-7a21-4b8e-b8c0-fa1d2bb6895b",
   "metadata": {},
   "source": [
    "### 📚 Exercícios propostos\n",
    "\n",
    "1. Crie uma tupla chamada `coordenada` com os valores `(10, 20)`.  \n",
    "2. Crie uma tupla com elementos de tipos diferentes: um inteiro, um float, e uma string.  \n",
    "3. Crie uma tupla unitária contendo o valor `42`.  \n",
    "4. Crie uma tupla `registro` contendo: nome, idade e uma lista de notas.  \n",
    "5. Teste o tipo (`type()`) de `(7)` e `(7,)` para verificar a diferença.\n",
    "\n",
    "---\n"
   ]
  },
  {
   "cell_type": "markdown",
   "id": "039e58a8-279e-4a02-83aa-c9d9a47d6f1b",
   "metadata": {},
   "source": [
    "### 🧩 Exercícios resolvidos"
   ]
  },
  {
   "cell_type": "code",
   "execution_count": 2,
   "id": "4231528d-30d7-464b-a966-1dceab35ce09",
   "metadata": {},
   "outputs": [
    {
     "name": "stdout",
     "output_type": "stream",
     "text": [
      "1) coordenada: (10, 20)\n"
     ]
    }
   ],
   "source": [
    "# 1) Coordenada\n",
    "coordenada = (10, 20)\n",
    "print(\"1) coordenada:\", coordenada)"
   ]
  },
  {
   "cell_type": "code",
   "execution_count": 3,
   "id": "fe77131a-8abf-4363-b56f-663ad3897f56",
   "metadata": {},
   "outputs": [
    {
     "name": "stdout",
     "output_type": "stream",
     "text": [
      "2) mix: (5, 3.14, 'Python')\n"
     ]
    }
   ],
   "source": [
    "# 2) Tipos diferentes\n",
    "mix = (5, 3.14, \"Python\")\n",
    "print(\"2) mix:\", mix)"
   ]
  },
  {
   "cell_type": "code",
   "execution_count": 4,
   "id": "a4687488-de75-46a2-aca1-dc0049d78634",
   "metadata": {},
   "outputs": [
    {
     "name": "stdout",
     "output_type": "stream",
     "text": [
      "3) tupla unitária: (42,) <class 'tuple'>\n"
     ]
    }
   ],
   "source": [
    "# 3) Tupla unitária\n",
    "unitaria = (42,)\n",
    "print(\"3) tupla unitária:\", unitaria, type(unitaria))"
   ]
  },
  {
   "cell_type": "code",
   "execution_count": 5,
   "id": "8a6d3a56-957a-43dd-bf5e-82ba7d3eda69",
   "metadata": {},
   "outputs": [
    {
     "name": "stdout",
     "output_type": "stream",
     "text": [
      "4) registro: ('Ana', 25, [8.5, 9.0, 7.5])\n"
     ]
    }
   ],
   "source": [
    "# 4) Registro com lista de notas\n",
    "registro = (\"Ana\", 25, [8.5, 9.0, 7.5])\n",
    "print(\"4) registro:\", registro)"
   ]
  },
  {
   "cell_type": "code",
   "execution_count": 6,
   "id": "8340fc49-31a4-45b9-9210-1f2b5272f2bd",
   "metadata": {},
   "outputs": [
    {
     "name": "stdout",
     "output_type": "stream",
     "text": [
      "5a) (7): 7 <class 'int'>\n",
      "5b) (7,): (7,) <class 'tuple'>\n"
     ]
    }
   ],
   "source": [
    "# 5) Diferença entre (7) e (7,)\n",
    "print(\"5a) (7):\", (7), type((7)))\n",
    "print(\"5b) (7,):\", (7,), type((7,)))"
   ]
  },
  {
   "cell_type": "markdown",
   "id": "a3773ab9-e326-46bc-9548-824e60f583fa",
   "metadata": {},
   "source": [
    "## 🔎 11.2 — Acesso a elementos e fatiamento em tuplas\n",
    "\n",
    "Assim como listas, as tuplas permitem acessar seus elementos através de **índices** (numeração de posição).  \n",
    "Também é possível utilizar **fatiamento (*slicing*)** para extrair subconjuntos de elementos."
   ]
  },
  {
   "cell_type": "markdown",
   "id": "4eb28069-ea56-41a3-978b-5d94113f49ad",
   "metadata": {},
   "source": [
    "### 🎯 Acesso por índice\n",
    "- O índice em Python começa em **0**.  \n",
    "- Índices negativos percorrem a tupla de trás para frente.  \n",
    "\n",
    "**Sintaxe:**\n",
    "```python\n",
    "tupla[indice]\n",
    "``` "
   ]
  },
  {
   "cell_type": "markdown",
   "id": "b5e07227-1089-42ef-9e89-297ac6dc0e45",
   "metadata": {},
   "source": [
    "\n",
    "```python\n",
    "# Exemplo: acesso por índice\n",
    "t = (10, 20, 30, 40, 50)\n",
    "\n",
    "print(\"Primeiro elemento:\", t[0])    # 10\n",
    "print(\"Terceiro elemento:\", t[2])    # 30\n",
    "print(\"Último elemento:\", t[-1])     # 50\n",
    "print(\"Penúltimo elemento:\", t[-2])  # 40\n",
    "```"
   ]
  },
  {
   "cell_type": "markdown",
   "id": "ec2d017f-ca8f-4221-bb1c-89fe66e61665",
   "metadata": {},
   "source": [
    "### ✂️ Fatiamento (slicing)\n",
    "Podemos acessar **subconjuntos de elementos** com a sintaxe:\n",
    "\n",
    "```python\n",
    "tupla[inicio:fim:passo]\n",
    "```\n",
    "- `inicio` → índice inicial (inclusivo, padrão 0)\n",
    "- `fim` → índice final (exclusivo, padrão comprimento da tupla)\n",
    "- `passo` → intervalo entre elementos (padrão 1)"
   ]
  },
  {
   "cell_type": "markdown",
   "id": "db42c7f9-328b-4397-a903-d988122d0404",
   "metadata": {},
   "source": [
    "\n",
    "```python\n",
    "# Exemplo: fatiamento\n",
    "t = (10, 20, 30, 40, 50)\n",
    "\n",
    "print(\"Do índice 1 até 3 (exclusivo):\", t[1:3])   # (20, 30)\n",
    "print(\"Do início até índice 3:\", t[:3])           # (10, 20, 30)\n",
    "print(\"Do índice 2 até o fim:\", t[2:])            # (30, 40, 50)\n",
    "print(\"Elementos alternados:\", t[::2])            # (10, 30, 50)\n",
    "print(\"Tupla invertida:\", t[::-1])                # (50, 40, 30, 20, 10)\n",
    "```"
   ]
  },
  {
   "cell_type": "markdown",
   "id": "ab602187-171f-4ae3-9449-4500a1d462ee",
   "metadata": {},
   "source": [
    "### 📌 Exemplo visual\n",
    "\n",
    "| Operação                 | Código        | Resultado                |\n",
    "|--------------------------|---------------|--------------------------|\n",
    "| Primeiro elemento        | `t[0]`        | `10`                     |\n",
    "| Último elemento          | `t[-1]`       | `50`                     |\n",
    "| Do índice 1 ao 2         | `t[1:3]`      | `(20, 30)`               |\n",
    "| Do início ao índice 2    | `t[:3]`       | `(10, 20, 30)`           |\n",
    "| Do índice 2 ao fim       | `t[2:]`       | `(30, 40, 50)`           |\n",
    "| Elementos alternados     | `t[::2]`      | `(10, 30, 50)`           |\n",
    "| Tupla invertida          | `t[::-1]`     | `(50, 40, 30, 20, 10)`   |\n"
   ]
  },
  {
   "cell_type": "markdown",
   "id": "49e87d74-d0e0-4030-9e0a-839872e9eb05",
   "metadata": {},
   "source": [
    "## 📚 Exercícios propostos\n",
    "\n",
    "1. Crie a tupla `numeros = (1, 2, 3, 4, 5, 6, 7, 8, 9, 10)` e acesse:  \n",
    "   - O primeiro elemento.  \n",
    "   - O último elemento.  \n",
    "   - Os elementos do índice 2 ao 5.  \n",
    "\n",
    "2. Inverta a tupla usando slicing.  \n",
    "\n",
    "3. Extraia apenas os números pares da tupla `numeros` usando slicing com passo adequado.  \n",
    "\n",
    "4. Crie a tupla `alfabeto = (\"a\", \"b\", \"c\", \"d\", \"e\", \"f\", \"g\")` e acesse de `\"c\"` até `\"f\"`.  \n"
   ]
  },
  {
   "cell_type": "markdown",
   "id": "9d138a72-9304-4db1-a381-c047f709dc9f",
   "metadata": {},
   "source": [
    "### 🧩 Exercícios resolvidos"
   ]
  },
  {
   "cell_type": "code",
   "execution_count": 7,
   "id": "6b3b92bd-a2d6-4e0a-ac82-814a12385f52",
   "metadata": {},
   "outputs": [
    {
     "name": "stdout",
     "output_type": "stream",
     "text": [
      "Primeiro elemento: 1\n",
      "Último elemento: 10\n",
      "Do índice 2 ao 5: (3, 4, 5, 6)\n"
     ]
    }
   ],
   "source": [
    "numeros = (1, 2, 3, 4, 5, 6, 7, 8, 9, 10)\n",
    "\n",
    "# 1) Acessos\n",
    "print(\"Primeiro elemento:\", numeros[0])\n",
    "print(\"Último elemento:\", numeros[-1])\n",
    "print(\"Do índice 2 ao 5:\", numeros[2:6])"
   ]
  },
  {
   "cell_type": "code",
   "execution_count": 8,
   "id": "2fd19a4c-f0b3-477f-b994-5ed614535fe6",
   "metadata": {},
   "outputs": [
    {
     "name": "stdout",
     "output_type": "stream",
     "text": [
      "Invertida: (10, 9, 8, 7, 6, 5, 4, 3, 2, 1)\n"
     ]
    }
   ],
   "source": [
    "# 2) Invertendo a tupla\n",
    "print(\"Invertida:\", numeros[::-1])"
   ]
  },
  {
   "cell_type": "code",
   "execution_count": 9,
   "id": "b3abebf2-4922-48c9-9d13-084984bf801f",
   "metadata": {},
   "outputs": [
    {
     "name": "stdout",
     "output_type": "stream",
     "text": [
      "Pares: (2, 4, 6, 8, 10)\n"
     ]
    }
   ],
   "source": [
    "# 3) Números pares\n",
    "print(\"Pares:\", numeros[1::2])"
   ]
  },
  {
   "cell_type": "code",
   "execution_count": 10,
   "id": "f0c1c05c-e5c2-453d-9684-505a742bd519",
   "metadata": {},
   "outputs": [
    {
     "name": "stdout",
     "output_type": "stream",
     "text": [
      "De 'c' a 'f': ('c', 'd', 'e', 'f')\n"
     ]
    }
   ],
   "source": [
    "# 4) Alfabeto de 'c' até 'f'\n",
    "alfabeto = (\"a\", \"b\", \"c\", \"d\", \"e\", \"f\", \"g\")\n",
    "print(\"De 'c' a 'f':\", alfabeto[2:6])"
   ]
  },
  {
   "cell_type": "markdown",
   "id": "f169bbed-30bf-468c-aed5-16dee4f1c654",
   "metadata": {},
   "source": [
    "## 🔒 11.3 — Imutabilidade das tuplas\n",
    "\n",
    "**Tuplas são imutáveis**: após criadas, seus elementos **não podem ser alterados**, adicionados ou removidos.  \n",
    "Isso contrasta com listas, que são mutáveis. A imutabilidade traz previsibilidade, pode melhorar performance e permite usar tuplas como **chaves de dicionários** (desde que todos os seus elementos sejam *hashable*).\n"
   ]
  },
  {
   "cell_type": "code",
   "execution_count": 11,
   "id": "0209af5b-4db3-4a14-b0cf-2f7c3550478a",
   "metadata": {},
   "outputs": [
    {
     "name": "stdout",
     "output_type": "stream",
     "text": [
      "Imutabilidade (item assignment): 'tuple' object does not support item assignment\n",
      "Imutabilidade (append): 'tuple' object has no attribute 'append'\n",
      "Tupla original permanece igual: (10, 20, 30)\n"
     ]
    }
   ],
   "source": [
    "# Demonstração segura de imutabilidade usando try/except\n",
    "t = (10, 20, 30)\n",
    "\n",
    "def tenta_atribuicao() -> None:\n",
    "    \"\"\"Tenta alterar um item da tupla para mostrar o TypeError.\"\"\"\n",
    "    try:\n",
    "        # t[1] = 99  # Geraria TypeError; vamos capturar explicitamente:\n",
    "        raise TypeError(\"'tuple' object does not support item assignment\")\n",
    "    except TypeError as e:\n",
    "        print(\"Imutabilidade (item assignment):\", e)\n",
    "\n",
    "def tenta_append() -> None:\n",
    "    \"\"\"Tenta usar método inexistente para mostrar o AttributeError.\"\"\"\n",
    "    try:\n",
    "        # t.append(40)  # Geraria AttributeError; simulando a mensagem:\n",
    "        raise AttributeError(\"'tuple' object has no attribute 'append'\")\n",
    "    except AttributeError as e:\n",
    "        print(\"Imutabilidade (append):\", e)\n",
    "\n",
    "tenta_atribuicao()\n",
    "tenta_append()\n",
    "print(\"Tupla original permanece igual:\", t)"
   ]
  },
  {
   "cell_type": "markdown",
   "id": "e8d60b02-4315-4e17-a99d-dff43a35e557",
   "metadata": {},
   "source": [
    "### 🧱 O que **não** é permitido (operações que mudariam o conteúdo)\n",
    "- Atribuição por índice: `t[i] = valor` → **TypeError**  \n",
    "- Remoção de elementos: `del t[i]` → **TypeError**  \n",
    "- Métodos de mutação (não existem): `.append()`, `.extend()`, `.remove()`, `.pop()`, `.clear()`, `.sort()` → **AttributeError**"
   ]
  },
  {
   "cell_type": "markdown",
   "id": "5b0a13bf-871d-486c-aa47-8f8a9c15530d",
   "metadata": {},
   "source": [
    "### 🧩 Importante: imutável fora, mas pode conter **itens mutáveis**\n",
    "A imutabilidade é do **objeto tupla**. Se a tupla contiver um objeto mutável (por exemplo, uma lista), esse objeto **pode** mudar internamente — a referência na tupla permanece a mesma."
   ]
  },
  {
   "cell_type": "code",
   "execution_count": 12,
   "id": "f812ad68-93df-459b-86bb-4f47574e3522",
   "metadata": {},
   "outputs": [
    {
     "name": "stdout",
     "output_type": "stream",
     "text": [
      "Antes: ('Ana', [8.5, 9.0], ('BH', 'MG'))\n",
      "Depois de mutar a lista interna: ('Ana', [8.5, 9.0, 7.5], ('BH', 'MG'))\n"
     ]
    }
   ],
   "source": [
    "registro = (\"Ana\", [8.5, 9.0], (\"BH\", \"MG\"))  # tupla com lista dentro\n",
    "print(\"Antes:\", registro)\n",
    "\n",
    "# Mutação na LISTA interna (permitido, pois a lista é mutável)\n",
    "registro[1].append(7.5)\n",
    "print(\"Depois de mutar a lista interna:\", registro)"
   ]
  },
  {
   "cell_type": "markdown",
   "id": "4f55ab53-6a8d-4160-97a2-31c96fb99043",
   "metadata": {},
   "source": [
    "### 🔁 Reatribuição **não** viola imutabilidade\n",
    "Você pode **reapontar** a variável para outra tupla. Isso não altera a tupla antiga; apenas muda a referência da variável."
   ]
  },
  {
   "cell_type": "code",
   "execution_count": 13,
   "id": "1116ad81-619a-4c83-a614-ac2b360b9015",
   "metadata": {},
   "outputs": [
    {
     "name": "stdout",
     "output_type": "stream",
     "text": [
      "Antes: (1, 2, 3)\n",
      "Depois (variável reapontada): (1, 2, 3, 4)\n"
     ]
    }
   ],
   "source": [
    "t = (1, 2, 3)\n",
    "print(\"Antes:\", t)\n",
    "t = (1, 2, 3, 4)  # nova tupla atribuída à mesma variável\n",
    "print(\"Depois (variável reapontada):\", t)"
   ]
  },
  {
   "cell_type": "markdown",
   "id": "5d25c656-7faa-4c50-82f4-280090ea371a",
   "metadata": {},
   "source": [
    "### 🛠 “Como modificar” uma tupla? Criando **outra** tupla\n",
    "Para “simular” uma alteração, **crie uma nova tupla** a partir da antiga:\n",
    "\n",
    "- **Concatenação**: `t = t[:i] + (novo,) + t[i+1:]`  \n",
    "- **Conversão para lista e de volta**: `lst = list(t) → muta → t = tuple(lst)`\n",
    "\n"
   ]
  },
  {
   "cell_type": "code",
   "execution_count": 14,
   "id": "d3bfd109-b7d3-4d59-9fe9-95aeb02fb339",
   "metadata": {},
   "outputs": [
    {
     "name": "stdout",
     "output_type": "stream",
     "text": [
      "Original: (10, 20, 30, 40)\n",
      "Modificada (concatenação): (10, 99, 30, 40)\n",
      "Inserção via list/tuple: (10, 77, 20, 30, 40)\n"
     ]
    }
   ],
   "source": [
    "t = (10, 20, 30, 40)\n",
    "\n",
    "# Substituir o elemento de índice 1 por 99 via concatenação\n",
    "t_mod = t[:1] + (99,) + t[2:]\n",
    "print(\"Original:\", t)\n",
    "print(\"Modificada (concatenação):\", t_mod)\n",
    "\n",
    "# Inserir 77 após o primeiro elemento via conversão\n",
    "lst = list(t)\n",
    "lst.insert(1, 77)\n",
    "t_ins = tuple(lst)\n",
    "print(\"Inserção via list/tuple:\", t_ins)"
   ]
  },
  {
   "cell_type": "markdown",
   "id": "d39f4c38-bcb4-4ad6-ad32-2ffc0f73619f",
   "metadata": {},
   "source": [
    "### 🔐 Tuplas e *hashability*\n",
    "Tuplas são *hashable* **se e somente se** todos os seus elementos também forem *hashable*.  \n",
    "Isso permite usá-las como **chaves** de dicionários e **itens** de conjuntos (*sets*)."
   ]
  },
  {
   "cell_type": "code",
   "execution_count": 15,
   "id": "69d79470-d935-4a95-87c0-77a95c9d0a0b",
   "metadata": {},
   "outputs": [
    {
     "name": "stdout",
     "output_type": "stream",
     "text": [
      "{(10, 20): 'marco A'}\n",
      "Hashability: unhashable type: 'list'\n"
     ]
    }
   ],
   "source": [
    "# Tupla hashable como chave de dicionário\n",
    "ponto2d = (10, 20)\n",
    "medidas = {ponto2d: \"marco A\"}\n",
    "print(medidas)\n",
    "\n",
    "# Tupla NÃO hashable (contém lista) → TypeError se usada como chave\n",
    "try:\n",
    "    chave_invalida = (1, [2, 3])\n",
    "    d = {chave_invalida: \"x\"}  # vai falhar\n",
    "except TypeError as e:\n",
    "    print(\"Hashability:\", e)"
   ]
  },
  {
   "cell_type": "markdown",
   "id": "fec58b55-0b06-4a07-9a43-4dbd8ff0dc71",
   "metadata": {},
   "source": [
    "### 📏 Métodos disponíveis em tuplas\n",
    "Tuplas oferecem poucos métodos (por design, devido à imutabilidade):\n",
    "- `t.count(x)` → número de ocorrências de `x`  \n",
    "- `t.index(x[, start[, stop]])` → primeiro índice de `x`"
   ]
  },
  {
   "cell_type": "code",
   "execution_count": 16,
   "id": "363a614e-3ce0-43a2-81eb-b878b5549e29",
   "metadata": {},
   "outputs": [
    {
     "name": "stdout",
     "output_type": "stream",
     "text": [
      "count(2): 3\n",
      "index(3): 3\n"
     ]
    }
   ],
   "source": [
    "t = (1, 2, 2, 3, 2, 4)\n",
    "print(\"count(2):\", t.count(2))\n",
    "print(\"index(3):\", t.index(3))"
   ]
  },
  {
   "cell_type": "markdown",
   "id": "0086a882-bada-493b-aede-8ff27cbcb810",
   "metadata": {},
   "source": [
    "### ✅ Quando preferir tupla em vez de lista?\n",
    "- **Dados fixos** (registros imutáveis): coordenadas, datas, configurações congeladas.  \n",
    "- **Desempenho e segurança**: sinalizar intenções de “não modificar”.  \n",
    "- **Chaves de dicionário / itens de set**: quando você precisa de um tipo *hashable*.  "
   ]
  },
  {
   "cell_type": "markdown",
   "id": "76167b02-9aae-4880-ad7e-f868999ce6bd",
   "metadata": {},
   "source": [
    "### 📚 Exercícios propostos\n",
    "\n",
    "1. Explique por que `t[0] = 99` falha em uma tupla, mas `registro[1].append(7)` pode funcionar dependendo de `registro`.  \n",
    "2. Dada `t = (3, 1, 4)`, crie **uma nova tupla** onde o elemento central seja `99` (sem converter para lista).  \n",
    "3. Converta `t = (10, 20, 30)` para lista, insira `25` entre `20` e `30`, e converta de volta para tupla.  \n",
    "4. Mostre um exemplo de tupla que **não** pode ser usada como chave de dicionário e capture a exceção.  \n",
    "5. Usando `count` e `index`, conte quantas vezes `2` aparece em `t = (2, 1, 2, 3, 2)` e obtenha o primeiro índice de `3`.\n",
    "\n"
   ]
  },
  {
   "cell_type": "markdown",
   "id": "341b82fd-4b49-4f3e-845b-67dbf79e4869",
   "metadata": {},
   "source": [
    "### 🧩 Exercícios resolvidos"
   ]
  },
  {
   "cell_type": "code",
   "execution_count": 17,
   "id": "929f55a8-295e-4f3e-a88b-da93a82d66c4",
   "metadata": {},
   "outputs": [],
   "source": [
    "# 1) Explicação (comentários):\n",
    "# t[0] = 99 falha porque tuplas não suportam atribuição por índice (imutáveis).\n",
    "# Já registro[1].append(7) pode funcionar se registro[1] for uma LISTA (mutável) dentro da tupla."
   ]
  },
  {
   "cell_type": "code",
   "execution_count": 18,
   "id": "021968b8-d5f3-43a2-ae16-958c088e758e",
   "metadata": {},
   "outputs": [
    {
     "name": "stdout",
     "output_type": "stream",
     "text": [
      "2) Nova tupla: (3, 99, 4)\n"
     ]
    }
   ],
   "source": [
    "# 2) Substituir elemento central sem converter para lista\n",
    "t = (3, 1, 4)\n",
    "t2 = (t[0], 99, t[2])\n",
    "print(\"2) Nova tupla:\", t2)"
   ]
  },
  {
   "cell_type": "code",
   "execution_count": 19,
   "id": "fdd7c4a1-ffe3-4099-86c8-f8cbd9ad337f",
   "metadata": {},
   "outputs": [
    {
     "name": "stdout",
     "output_type": "stream",
     "text": [
      "3) Inserção via list/tuple: (10, 20, 25, 30)\n"
     ]
    }
   ],
   "source": [
    "# 3) Inserir 25 via list/tuple\n",
    "t = (10, 20, 30)\n",
    "lst = list(t)\n",
    "lst.insert(2, 25)\n",
    "t3 = tuple(lst)\n",
    "print(\"3) Inserção via list/tuple:\", t3)"
   ]
  },
  {
   "cell_type": "code",
   "execution_count": 20,
   "id": "cc3c9198-2ea0-4161-950e-c330af5c791a",
   "metadata": {},
   "outputs": [
    {
     "name": "stdout",
     "output_type": "stream",
     "text": [
      "4) Exceção esperada: unhashable type: 'list'\n"
     ]
    }
   ],
   "source": [
    "# 4) Tupla não hashable como chave (contém lista)\n",
    "try:\n",
    "    chave_invalida = (1, [2, 3])\n",
    "    m = {chave_invalida: \"valor\"}\n",
    "except TypeError as e:\n",
    "    print(\"4) Exceção esperada:\", e)"
   ]
  },
  {
   "cell_type": "code",
   "execution_count": 21,
   "id": "e4433361-547f-4c1f-bb0b-092a2caac8a9",
   "metadata": {},
   "outputs": [
    {
     "name": "stdout",
     "output_type": "stream",
     "text": [
      "5a) count(2): 3\n",
      "5b) index(3): 3\n"
     ]
    }
   ],
   "source": [
    "# 5) count e index\n",
    "t = (2, 1, 2, 3, 2)\n",
    "print(\"5a) count(2):\", t.count(2))\n",
    "print(\"5b) index(3):\", t.index(3))"
   ]
  },
  {
   "cell_type": "markdown",
   "id": "3d7079a3-bbba-4960-969a-c50f698f5dd7",
   "metadata": {},
   "source": [
    "## 🔗 11.4 — Operações comuns com tuplas\n",
    "\n",
    "Antes de vermos as operações usuais, precisamos reforçar o conceito de **hashable**, que apareceu na seção anterior.\n",
    "\n",
    "### 🧩 O que significa ser *hashable*?\n",
    "Um objeto em Python é considerado **hashable** se:\n",
    "1. Possui um valor de *hash* fixo durante todo o seu ciclo de vida (`__hash__`).  \n",
    "2. Pode ser comparado com outros objetos (`__eq__`).  \n",
    "\n",
    "Em termos práticos:\n",
    "- Objetos **imutáveis** como `int`, `float`, `str`, `tuple` (desde que seus elementos também sejam hashable) são hashable.  \n",
    "- Objetos **mutáveis** como `list`, `dict` e `set` não são hashable.  \n",
    "\n",
    "👉 Isso explica por que **tuplas podem ser chaves em dicionários**, mas **listas não**.  \n",
    "\n",
    "---\n",
    "\n",
    "### ⚙️ Operações comuns em tuplas\n",
    "Tuplas suportam várias operações semelhantes às listas, exceto as que modificam o conteúdo.\n"
   ]
  },
  {
   "cell_type": "code",
   "execution_count": 23,
   "id": "a35319e5-4751-42d7-9206-f23c5d7564f2",
   "metadata": {},
   "outputs": [],
   "source": [
    "# Criando tupla de exemplo\n",
    "t = (10, 20, 30, 40, 50)"
   ]
  },
  {
   "cell_type": "markdown",
   "id": "f323fc37-98d6-4edf-b29b-f49653bcbac6",
   "metadata": {},
   "source": [
    "### ➕ Concatenação\n",
    "Podemos unir tuplas usando o operador `+`."
   ]
  },
  {
   "cell_type": "code",
   "execution_count": 24,
   "id": "5c193fa6-9969-43a0-a543-e7dd3b3406c7",
   "metadata": {},
   "outputs": [
    {
     "name": "stdout",
     "output_type": "stream",
     "text": [
      "Concatenação: (1, 2, 3, 4)\n"
     ]
    }
   ],
   "source": [
    "t1 = (1, 2)\n",
    "t2 = (3, 4)\n",
    "t3 = t1 + t2\n",
    "print(\"Concatenação:\", t3)"
   ]
  },
  {
   "cell_type": "markdown",
   "id": "9fad39cc-7b9a-451f-9900-ffaa1c54191d",
   "metadata": {},
   "source": [
    "### ✖️ Repetição\n",
    "Podemos repetir uma tupla com o operador `*`."
   ]
  },
  {
   "cell_type": "code",
   "execution_count": 25,
   "id": "7628e9a0-676c-41ec-b946-5f80525ecb84",
   "metadata": {},
   "outputs": [
    {
     "name": "stdout",
     "output_type": "stream",
     "text": [
      "Repetição: (1, 2, 1, 2, 1, 2)\n"
     ]
    }
   ],
   "source": [
    "t = (1, 2)\n",
    "print(\"Repetição:\", t * 3)"
   ]
  },
  {
   "cell_type": "markdown",
   "id": "dd63e715-00d2-4007-912d-990d15124c81",
   "metadata": {},
   "source": [
    "### 🔍 Pertencimento\n",
    "Podemos verificar se um elemento está na tupla com `in` e `not in`."
   ]
  },
  {
   "cell_type": "code",
   "execution_count": 26,
   "id": "d37e6d5b-68f9-46ad-a990-310b0f9b343a",
   "metadata": {},
   "outputs": [
    {
     "name": "stdout",
     "output_type": "stream",
     "text": [
      "True\n",
      "True\n"
     ]
    }
   ],
   "source": [
    "t = (10, 20, 30, 40)\n",
    "print(20 in t)       # True\n",
    "print(99 not in t)   # True"
   ]
  },
  {
   "cell_type": "markdown",
   "id": "12959a6c-a412-43a3-bd45-1e86f7b603fa",
   "metadata": {},
   "source": [
    "### 📏 Funções úteis\n",
    "Funções nativas que funcionam em tuplas:\n",
    "\n",
    "- `len(t)` → retorna o tamanho da tupla.  \n",
    "- `min(t)` → menor valor.  \n",
    "- `max(t)` → maior valor.  \n",
    "- `sum(t)` → soma dos valores (quando forem numéricos).  \n",
    "- `sorted(t)` → retorna uma **lista** com os elementos ordenados.  "
   ]
  },
  {
   "cell_type": "code",
   "execution_count": 27,
   "id": "c26418b2-9e3f-42bd-9fb0-92afb0865802",
   "metadata": {},
   "outputs": [
    {
     "name": "stdout",
     "output_type": "stream",
     "text": [
      "len: 4\n",
      "min: 1\n",
      "max: 7\n",
      "sum: 15\n",
      "sorted: [1, 3, 4, 7]\n"
     ]
    }
   ],
   "source": [
    "t = (4, 1, 7, 3)\n",
    "\n",
    "print(\"len:\", len(t))\n",
    "print(\"min:\", min(t))\n",
    "print(\"max:\", max(t))\n",
    "print(\"sum:\", sum(t))\n",
    "print(\"sorted:\", sorted(t))"
   ]
  },
  {
   "cell_type": "markdown",
   "id": "97093035-7dfd-4c45-9c40-8708d0a94587",
   "metadata": {},
   "source": [
    "### 🧮 Iteração\n",
    "Podemos percorrer tuplas em loops `for`, assim como em listas."
   ]
  },
  {
   "cell_type": "code",
   "execution_count": 28,
   "id": "bbaf4e46-015f-4276-9846-7b03fd760760",
   "metadata": {},
   "outputs": [
    {
     "name": "stdout",
     "output_type": "stream",
     "text": [
      "vermelho\n",
      "verde\n",
      "azul\n"
     ]
    }
   ],
   "source": [
    "cores = (\"vermelho\", \"verde\", \"azul\")\n",
    "for cor in cores:\n",
    "    print(cor)"
   ]
  },
  {
   "cell_type": "markdown",
   "id": "98a3b495-0fa8-4b3b-91f8-2774e5a79417",
   "metadata": {},
   "source": [
    "## 📌 Exemplo visual\n",
    "\n",
    "| Operação       | Código        | Resultado                  |\n",
    "|----------------|---------------|----------------------------|\n",
    "| Concatenação   | `(1, 2) + (3,)` | `(1, 2, 3)`               |\n",
    "| Repetição      | `(1, 2) * 2`    | `(1, 2, 1, 2)`             |\n",
    "| Pertencimento  | `3 in (1,2,3)`  | `True`                     |\n",
    "| Tamanho        | `len((1,2,3))`  | `3`                        |\n",
    "| Mínimo/Máximo  | `min((4,1,7))`  | `1` / `7`                  |\n",
    "| Soma           | `sum((4,1,7))`  | `12`                       |\n",
    "| Ordenação      | `sorted((4,1,7))` | `[1, 4, 7]`              |\n",
    "\n",
    "---"
   ]
  },
  {
   "cell_type": "markdown",
   "id": "b2531f4b-66bc-438e-a878-381d179ed186",
   "metadata": {},
   "source": [
    "### 📚 Exercícios propostos\n",
    "\n",
    "1. Crie duas tuplas `a = (1, 2, 3)` e `b = (4, 5)` e faça a concatenação.  \n",
    "2. Repita a tupla `(\"X\", \"Y\")` cinco vezes.  \n",
    "3. Verifique se o valor `100` está presente em `(10, 20, 30, 40)`.  \n",
    "4. Calcule o `min`, `max` e `sum` da tupla `(5, 10, 15, 20)`.  \n",
    "5. Itere sobre a tupla `(\"Python\", \"Java\", \"C++\")` imprimindo cada linguagem.\n"
   ]
  },
  {
   "cell_type": "markdown",
   "id": "22c22856-5eb8-4f94-9704-85306734dbdb",
   "metadata": {},
   "source": [
    "### 🧩 Exercícios resolvidos"
   ]
  },
  {
   "cell_type": "code",
   "execution_count": 29,
   "id": "a09b34f2-874f-40cb-a6b3-e3b5d7d2f9b8",
   "metadata": {},
   "outputs": [
    {
     "name": "stdout",
     "output_type": "stream",
     "text": [
      "Concatenação: (1, 2, 3, 4, 5)\n"
     ]
    }
   ],
   "source": [
    "# 1) Concatenação\n",
    "a = (1, 2, 3)\n",
    "b = (4, 5)\n",
    "print(\"Concatenação:\", a + b)"
   ]
  },
  {
   "cell_type": "code",
   "execution_count": 30,
   "id": "ce11c390-fcd7-4589-864b-bf2fcf36ac94",
   "metadata": {},
   "outputs": [
    {
     "name": "stdout",
     "output_type": "stream",
     "text": [
      "Repetição: ('X', 'Y', 'X', 'Y', 'X', 'Y', 'X', 'Y', 'X', 'Y')\n"
     ]
    }
   ],
   "source": [
    "# 2) Repetição\n",
    "print(\"Repetição:\", (\"X\", \"Y\") * 5)"
   ]
  },
  {
   "cell_type": "code",
   "execution_count": 31,
   "id": "6ee4bc56-29cf-4893-bcd3-061ad7e9a4e5",
   "metadata": {},
   "outputs": [
    {
     "name": "stdout",
     "output_type": "stream",
     "text": [
      "100 in (10,20,30,40)? False\n"
     ]
    }
   ],
   "source": [
    "# 3) Pertencimento\n",
    "print(\"100 in (10,20,30,40)?\", 100 in (10, 20, 30, 40))"
   ]
  },
  {
   "cell_type": "code",
   "execution_count": 32,
   "id": "741f31fd-41ef-49e8-b0ad-f015b1f55a05",
   "metadata": {},
   "outputs": [
    {
     "name": "stdout",
     "output_type": "stream",
     "text": [
      "min: 5\n",
      "max: 20\n",
      "sum: 50\n"
     ]
    }
   ],
   "source": [
    "# 4) min, max, sum\n",
    "valores = (5, 10, 15, 20)\n",
    "print(\"min:\", min(valores))\n",
    "print(\"max:\", max(valores))\n",
    "print(\"sum:\", sum(valores))"
   ]
  },
  {
   "cell_type": "code",
   "execution_count": 33,
   "id": "e844230a-7e74-4709-84a2-4494bc97ac28",
   "metadata": {},
   "outputs": [
    {
     "name": "stdout",
     "output_type": "stream",
     "text": [
      "Linguagem: Python\n",
      "Linguagem: Java\n",
      "Linguagem: C++\n"
     ]
    }
   ],
   "source": [
    "# 5) Iteração\n",
    "linguagens = (\"Python\", \"Java\", \"C++\")\n",
    "for lang in linguagens:\n",
    "    print(\"Linguagem:\", lang)"
   ]
  },
  {
   "cell_type": "markdown",
   "id": "a847effa-028c-40d9-a280-b42141631fab",
   "metadata": {},
   "source": [
    "## 📤 11.5 — Desempacotamento de tuplas\n",
    "\n",
    "Uma das funcionalidades mais elegantes das tuplas em Python é o **desempacotamento** (*tuple unpacking*).  \n",
    "Esse recurso permite extrair os elementos de uma tupla diretamente em variáveis individuais, em uma única instrução.\n",
    "\n",
    "---\n",
    "\n",
    "### 🎯 Desempacotamento básico"
   ]
  },
  {
   "cell_type": "code",
   "execution_count": 34,
   "id": "df19483a-2df1-47b5-bdcc-3f53557e1a7b",
   "metadata": {},
   "outputs": [
    {
     "name": "stdout",
     "output_type": "stream",
     "text": [
      "x = 10\n",
      "y = 20\n"
     ]
    }
   ],
   "source": [
    "ponto = (10, 20)\n",
    "\n",
    "x, y = ponto\n",
    "print(\"x =\", x)\n",
    "print(\"y =\", y)"
   ]
  },
  {
   "cell_type": "markdown",
   "id": "197d4f85-ff8d-4d97-aed8-09c792be7f53",
   "metadata": {},
   "source": [
    "### ⚠️ Regra fundamental\n",
    "O número de variáveis do lado esquerdo deve ser igual ao número de elementos da tupla, salvo se usarmos o operador `*`."
   ]
  },
  {
   "cell_type": "code",
   "execution_count": 35,
   "id": "7bf29fca-8cc6-4f47-b2a2-2b5ae43a715f",
   "metadata": {},
   "outputs": [
    {
     "name": "stdout",
     "output_type": "stream",
     "text": [
      "Erro: too many values to unpack (expected 2)\n"
     ]
    }
   ],
   "source": [
    "# Isso funciona\n",
    "a, b, c = (1, 2, 3)\n",
    "\n",
    "# Isso gera ValueError (número de variáveis ≠ número de elementos)\n",
    "try:\n",
    "    a, b = (1, 2, 3)\n",
    "except ValueError as e:\n",
    "    print(\"Erro:\", e)"
   ]
  },
  {
   "cell_type": "markdown",
   "id": "735a5d18-19cf-416d-98c0-e4cb61963ad4",
   "metadata": {},
   "source": [
    "### 🌟 Usando o operador `*`\n",
    "Podemos usar `*` para capturar o restante dos elementos em uma lista:"
   ]
  },
  {
   "cell_type": "code",
   "execution_count": 36,
   "id": "33b6f8cb-1268-46b1-932d-3772f9a9cdae",
   "metadata": {},
   "outputs": [
    {
     "name": "stdout",
     "output_type": "stream",
     "text": [
      "a: 1\n",
      "b: 2\n",
      "resto: [3, 4, 5]\n",
      "a: [1, 2, 3, 4]\n",
      "b: 5\n"
     ]
    }
   ],
   "source": [
    "numeros = (1, 2, 3, 4, 5)\n",
    "\n",
    "a, b, *resto = numeros\n",
    "print(\"a:\", a)        # 1\n",
    "print(\"b:\", b)        # 2\n",
    "print(\"resto:\", resto)  # [3, 4, 5]\n",
    "\n",
    "# Capturar o final\n",
    "*a, b = numeros\n",
    "print(\"a:\", a)        # [1, 2, 3, 4]\n",
    "print(\"b:\", b)        # 5"
   ]
  },
  {
   "cell_type": "markdown",
   "id": "c450e8a2-9841-4a70-87ba-7cb00d767040",
   "metadata": {},
   "source": [
    "### 🔄 Troca de variáveis\n",
    "Uma aplicação clássica de desempacotamento é a **troca de variáveis** sem variável auxiliar:"
   ]
  },
  {
   "cell_type": "code",
   "execution_count": 37,
   "id": "a0e03d03-5871-47c1-9398-a7cb299e00fa",
   "metadata": {},
   "outputs": [
    {
     "name": "stdout",
     "output_type": "stream",
     "text": [
      "Antes: 5 10\n",
      "Depois: 10 5\n"
     ]
    }
   ],
   "source": [
    "a, b = 5, 10\n",
    "print(\"Antes:\", a, b)\n",
    "\n",
    "a, b = b, a\n",
    "print(\"Depois:\", a, b)"
   ]
  },
  {
   "cell_type": "markdown",
   "id": "c7dceb04-2edc-4c5a-a7c4-a6bc5074965b",
   "metadata": {},
   "source": [
    "### 📥 Desempacotamento em loops\n",
    "O desempacotamento é frequentemente usado em laços `for`, especialmente ao iterar sobre listas de tuplas."
   ]
  },
  {
   "cell_type": "code",
   "execution_count": 38,
   "id": "57e525f9-fc82-4de0-85b4-0a1a03667a0b",
   "metadata": {},
   "outputs": [
    {
     "name": "stdout",
     "output_type": "stream",
     "text": [
      "Ponto: x=0, y=0\n",
      "Ponto: x=1, y=2\n",
      "Ponto: x=2, y=4\n"
     ]
    }
   ],
   "source": [
    "pontos = [(0, 0), (1, 2), (2, 4)]\n",
    "\n",
    "for x, y in pontos:\n",
    "    print(f\"Ponto: x={x}, y={y}\")"
   ]
  },
  {
   "cell_type": "markdown",
   "id": "292b1e2f-e519-477e-b671-cef52e384706",
   "metadata": {},
   "source": [
    "### 📌 Exemplo visual\n",
    "\n",
    "| Operação                 | Código                    | Resultado                       |\n",
    "|---------------------------|---------------------------|---------------------------------|\n",
    "| Desempacotamento básico   | `x, y = (10, 20)`        | `x=10`, `y=20`                  |\n",
    "| Erro por desigualdade     | `a, b = (1,2,3)`         | `ValueError`                    |\n",
    "| Usando `*` (resto)        | `a, b, *r = (1,2,3,4,5)` | `a=1, b=2, r=[3,4,5]`           |\n",
    "| Troca de variáveis        | `a, b = b, a`            | valores trocados                |\n",
    "| Em laços `for`            | `for x,y in pontos`      | desempacota cada par `(x,y)`    |\n",
    "\n",
    "---"
   ]
  },
  {
   "cell_type": "markdown",
   "id": "10a44f74-a02e-4e17-85a9-7511b7be140d",
   "metadata": {},
   "source": [
    "### 📚 Exercícios propostos\n",
    "\n",
    "1. Faça o desempacotamento da tupla `pessoa = (\"Ana\", 30, \"Engenheira\")` em três variáveis distintas.  \n",
    "2. Use o operador `*` para separar os dois primeiros elementos de `(1,2,3,4,5,6)` e guardar o restante em uma lista.  \n",
    "3. Inverta os valores das variáveis `a=100` e `b=200` usando desempacotamento.  \n",
    "4. Dada a lista de tuplas `coordenadas = [(1,1), (2,3), (4,5)]`, percorra os pontos imprimindo `x` e `y` separadamente.  \n",
    "5. Faça um desempacotamento parcial de `dados = (10,20,30,40,50)` em que apenas o primeiro e o último elementos sejam atribuídos a variáveis.\n"
   ]
  },
  {
   "cell_type": "markdown",
   "id": "336629d6-cdbf-46d9-976a-9d11cfee8321",
   "metadata": {},
   "source": [
    "### 🧩 Exercícios resolvidos"
   ]
  },
  {
   "cell_type": "code",
   "execution_count": 39,
   "id": "53eee3c1-04e4-46c0-a7ad-b27ad2f32771",
   "metadata": {},
   "outputs": [
    {
     "name": "stdout",
     "output_type": "stream",
     "text": [
      "1) Ana 30 Engenheira\n"
     ]
    }
   ],
   "source": [
    "# 1) Desempacotamento direto\n",
    "pessoa = (\"Ana\", 30, \"Engenheira\")\n",
    "nome, idade, profissao = pessoa\n",
    "print(\"1)\", nome, idade, profissao)"
   ]
  },
  {
   "cell_type": "code",
   "execution_count": 40,
   "id": "0a4a5f1e-4a8f-419c-adfc-b37606a9a3bb",
   "metadata": {},
   "outputs": [
    {
     "name": "stdout",
     "output_type": "stream",
     "text": [
      "2) 1 2 [3, 4, 5, 6]\n"
     ]
    }
   ],
   "source": [
    "# 2) Usando *\n",
    "t = (1, 2, 3, 4, 5, 6)\n",
    "a, b, *resto = t\n",
    "print(\"2)\", a, b, resto)"
   ]
  },
  {
   "cell_type": "code",
   "execution_count": 41,
   "id": "e801af58-8e7e-4cc4-8efe-01d01d6fb4f0",
   "metadata": {},
   "outputs": [
    {
     "name": "stdout",
     "output_type": "stream",
     "text": [
      "3) 200 100\n"
     ]
    }
   ],
   "source": [
    "# 3) Troca de variáveis\n",
    "a, b = 100, 200\n",
    "a, b = b, a\n",
    "print(\"3)\", a, b)"
   ]
  },
  {
   "cell_type": "code",
   "execution_count": 42,
   "id": "fe0d5f96-7b35-4fa3-9467-389abe262007",
   "metadata": {},
   "outputs": [
    {
     "name": "stdout",
     "output_type": "stream",
     "text": [
      "4) Coordenada: 1 1\n",
      "4) Coordenada: 2 3\n",
      "4) Coordenada: 4 5\n"
     ]
    }
   ],
   "source": [
    "# 4) Iteração com desempacotamento\n",
    "coordenadas = [(1, 1), (2, 3), (4, 5)]\n",
    "for x, y in coordenadas:\n",
    "    print(\"4) Coordenada:\", x, y)"
   ]
  },
  {
   "cell_type": "code",
   "execution_count": 43,
   "id": "2579bad2-1ad6-4a8b-8df5-51b3df945fb9",
   "metadata": {},
   "outputs": [
    {
     "name": "stdout",
     "output_type": "stream",
     "text": [
      "5) 10 50\n"
     ]
    }
   ],
   "source": [
    "# 5) Desempacotamento parcial\n",
    "dados = (10, 20, 30, 40, 50)\n",
    "primeiro, *_, ultimo = dados\n",
    "print(\"5)\", primeiro, ultimo)"
   ]
  },
  {
   "cell_type": "markdown",
   "id": "bb7642da-3f54-4438-80be-49ba2d15cb23",
   "metadata": {},
   "source": [
    "## 11.6 — Tuplas como chaves em dicionários\n",
    "\n",
    "As tuplas podem ser usadas como **chaves em dicionários** porque são **imutáveis** e, portanto, **hashable**, desde que todos os seus elementos também sejam hashable.  \n",
    "Isso as diferencia das listas, que são mutáveis e não podem ser usadas como chaves.\n",
    "\n",
    "Esse recurso é útil quando precisamos associar valores a **combinações de elementos**, como coordenadas, pares ordenados ou agrupamentos fixos de dados."
   ]
  },
  {
   "cell_type": "code",
   "execution_count": 44,
   "id": "dfc40ce4-65d8-4065-94f8-2f1475e851bc",
   "metadata": {},
   "outputs": [
    {
     "name": "stdout",
     "output_type": "stream",
     "text": [
      "azul\n"
     ]
    }
   ],
   "source": [
    "# Exemplo 1: coordenadas como chaves\n",
    "cores = {\n",
    "    (0, 0): \"vermelho\",\n",
    "    (1, 2): \"azul\",\n",
    "    (3, 4): \"verde\"\n",
    "}\n",
    "\n",
    "print(cores[(1, 2)])   # azul"
   ]
  },
  {
   "cell_type": "markdown",
   "id": "cb32884a-93ed-4cf5-8d51-f7d1c512f2a1",
   "metadata": {},
   "source": [
    "No exemplo acima, a chave `(1, 2)` é uma tupla representando uma coordenada no plano.\n",
    "\n",
    "---\n",
    "\n",
    "### Tuplas com múltiplos tipos\n",
    "Podemos criar chaves com diferentes tipos de elementos, como nome e idade.\n"
   ]
  },
  {
   "cell_type": "code",
   "execution_count": 46,
   "id": "9b61faa3-68c7-4cde-b3b5-4c6c3412b03a",
   "metadata": {},
   "outputs": [
    {
     "name": "stdout",
     "output_type": "stream",
     "text": [
      "Médica\n"
     ]
    }
   ],
   "source": [
    "# Exemplo 2: uso de múltiplos elementos agrupados\n",
    "dados = {\n",
    "    (\"João\", 30): \"Engenheiro\",\n",
    "    (\"Maria\", 25): \"Médica\",\n",
    "    (\"Ana\", 40): \"Professora\"\n",
    "}\n",
    "\n",
    "print(dados[(\"Maria\", 25)])   # Médica"
   ]
  },
  {
   "cell_type": "markdown",
   "id": "5b12d1e9-153e-4723-bbcb-b87c33e3d78e",
   "metadata": {},
   "source": [
    "---\n",
    "\n",
    "### Tuplas de tuplas\n",
    "Até mesmo tuplas aninhadas podem ser usadas como chaves de dicionário."
   ]
  },
  {
   "cell_type": "code",
   "execution_count": 47,
   "id": "000cf36e-c58f-4506-b034-b0eb34c2fad7",
   "metadata": {},
   "outputs": [
    {
     "name": "stdout",
     "output_type": "stream",
     "text": [
      "diagonal\n"
     ]
    }
   ],
   "source": [
    "# Exemplo 3: tuplas de tuplas\n",
    "chaves_complexas = {\n",
    "    ((0, 0), (1, 1)): \"diagonal\",\n",
    "    ((0, 1), (1, 0)): \"inversa\"\n",
    "}\n",
    "\n",
    "print(chaves_complexas[((0, 0), (1, 1))])   # diagonal"
   ]
  },
  {
   "cell_type": "markdown",
   "id": "6a021464-cd62-4558-a2b9-311b9b782937",
   "metadata": {},
   "source": [
    "---\n",
    "\n",
    "📌 **Resumo**\n",
    "\n",
    "| Conceito                     | Exemplo                        | Resultado                          |\n",
    "|-------------------------------|--------------------------------|-----------------------------------|\n",
    "| Tupla como chave simples      | `d = {(1,2): \"ponto\"}`         | `{(1, 2): \"ponto\"}`                |\n",
    "| Acesso via chave tupla        | `d[(1,2)]`                     | `\"ponto\"`                          |\n",
    "| Tuplas com múltiplos tipos    | `{(\"A\", 10): \"ok\"}`            | `{(\"A\", 10): \"ok\"}`                 |\n",
    "| Tuplas aninhadas como chaves  | `d = {((0,0),(1,1)): \"linha\"}` | `{((0,0),(1,1)): \"linha\"}`         |\n",
    "| Lista como chave (inválido)   | `{[1,2]: \"erro\"}`              | ❌ `TypeError: unhashable type`    |\n",
    "\n",
    "---\n",
    "\n",
    "✅ **Conclusão**  \n",
    "Tuplas são especialmente úteis como chaves em dicionários quando queremos mapear valores para **combinações fixas de elementos**, algo impossível de se fazer diretamente com listas.\n"
   ]
  },
  {
   "cell_type": "markdown",
   "id": "d312b54d-1439-45d3-9c82-90c1d01182a0",
   "metadata": {},
   "source": [
    "## 11.7 — Vantagens e desvantagens das tuplas  \n",
    "\n",
    "As tuplas compartilham diversas características com as listas, mas possuem **vantagens e desvantagens específicas** que justificam seu uso em determinadas situações.\n",
    "\n",
    "---\n",
    "\n",
    "### ✅ Vantagens das tuplas\n",
    "\n",
    "1. **Imutabilidade**  \n",
    "   - Segurança: garantem que os dados não serão alterados acidentalmente.  \n",
    "   - Podem ser usadas como chaves em dicionários e elementos de conjuntos.  \n",
    "\n",
    "2. **Eficiência**  \n",
    "   - Ocupam menos memória que listas equivalentes.  \n",
    "   - Operações de acesso tendem a ser mais rápidas devido à imutabilidade.  \n",
    "\n",
    "3. **Semântica de dados fixos**  \n",
    "   - Úteis para representar registros com número definido de campos.  \n",
    "   - Exemplo: coordenadas `(x, y)`, datas `(ano, mês, dia)`, ou configurações fixas.  \n",
    "\n",
    "📌 **Dados fixos**  \n"
   ]
  },
  {
   "cell_type": "code",
   "execution_count": 48,
   "id": "c5eb39c7-826f-42c3-8901-6a053fccff9e",
   "metadata": {},
   "outputs": [
    {
     "name": "stdout",
     "output_type": "stream",
     "text": [
      "Ano: 2025, Mês: 8, Dia: 16\n"
     ]
    }
   ],
   "source": [
    "# Exemplo: tupla representando uma data fixa\n",
    "data = (2025, 8, 16)\n",
    "print(f\"Ano: {data[0]}, Mês: {data[1]}, Dia: {data[2]}\")"
   ]
  },
  {
   "cell_type": "markdown",
   "id": "43d4bfe0-c4ce-4b92-b5f1-a2ed434c900a",
   "metadata": {},
   "source": [
    "---\n",
    "\n",
    "### ❌ Desvantagens das tuplas\n",
    "\n",
    "1. **Imutabilidade absoluta**  \n",
    "   - Não permitem alterações após criadas (não é possível adicionar, remover ou modificar elementos).  \n",
    "   - Isso pode ser limitante quando se precisa de coleções dinâmicas.  \n",
    "\n",
    "2. **Menos métodos embutidos**  \n",
    "   - Ao contrário das listas, não oferecem métodos como `.append()`, `.remove()` ou `.sort()`.  \n",
    "\n",
    "3. **Legibilidade em alguns contextos**  \n",
    "   - Tuplas extensas podem perder clareza sem nomes de campo explícitos.  \n",
    "   - Nesses casos, é preferível usar `namedtuple` ou `dataclass`.\n",
    "\n",
    "📌 **Comparação de métodos**  \n"
   ]
  },
  {
   "cell_type": "code",
   "execution_count": 49,
   "id": "de6070aa-2245-46d0-986e-c3c548160666",
   "metadata": {},
   "outputs": [],
   "source": [
    "# Exemplo: lista possui métodos que a tupla não tem\n",
    "lista = [1, 2, 3]\n",
    "lista.append(4)   # Funciona\n",
    "\n",
    "tupla = (1, 2, 3)\n",
    "# tupla.append(4)  # ❌ Gera AttributeError"
   ]
  },
  {
   "cell_type": "markdown",
   "id": "69ec24db-ec4e-41c8-973b-19cff8aedaf8",
   "metadata": {},
   "source": [
    "---\n",
    "\n",
    "### 📊 Resumo comparativo\n",
    "\n",
    "| Critério                  | Tupla                        | Lista                        |\n",
    "|----------------------------|------------------------------|------------------------------|\n",
    "| Mutabilidade              | ❌ Imutável                  | ✅ Mutável                   |\n",
    "| Uso como chave de dict    | ✅ Sim                       | ❌ Não                       |\n",
    "| Consumo de memória        | 🔽 Menor                     | 🔼 Maior                     |\n",
    "| Métodos embutidos         | Poucos (`count`, `index`)    | Muitos (`append`, `remove`)  |\n",
    "| Semântica típica          | Dados fixos                  | Coleções dinâmicas           |\n",
    "\n",
    "---\n",
    "\n",
    "✅ **Conclusão**  \n",
    "As tuplas são mais adequadas quando os dados devem permanecer **constantes, compactos e semanticamente fixos**, enquanto listas são melhores para coleções **dinâmicas e mutáveis**.\n"
   ]
  },
  {
   "cell_type": "markdown",
   "id": "38caa12d-117f-46e7-b96e-f0d1d9654cac",
   "metadata": {},
   "source": [
    "## 11.8 — Named Tuples\n",
    "\n",
    "As tuplas comuns são acessadas por índices numéricos, o que pode dificultar a legibilidade em estruturas complexas.  \n",
    "Para resolver isso, o Python oferece o recurso de **`namedtuple`**, disponível no módulo `collections`.\n",
    "\n",
    "Com `namedtuple`, podemos criar tipos de tupla cujos elementos podem ser acessados tanto por **índice** quanto por **nome**, tornando o código mais claro.  \n",
    "Elas funcionam como **classes leves e imutáveis**, ideais para representar registros de dados de forma organizada.\n"
   ]
  },
  {
   "cell_type": "code",
   "execution_count": 50,
   "id": "e2749e12-22f7-414c-a7a7-ccc23c03a2b9",
   "metadata": {},
   "outputs": [
    {
     "name": "stdout",
     "output_type": "stream",
     "text": [
      "Ponto(x=3, y=4)\n",
      "3 4\n",
      "3 4\n"
     ]
    }
   ],
   "source": [
    "from collections import namedtuple\n",
    "\n",
    "# Criamos uma namedtuple chamada 'Ponto' com campos 'x' e 'y'\n",
    "Ponto = namedtuple(\"Ponto\", [\"x\", \"y\"])\n",
    "\n",
    "# Instanciamos um ponto\n",
    "p1 = Ponto(3, 4)\n",
    "\n",
    "print(p1)           # Saída: Ponto(x=3, y=4)\n",
    "print(p1.x, p1.y)   # Acesso por nome\n",
    "print(p1[0], p1[1]) # Acesso por índice\n"
   ]
  },
  {
   "cell_type": "markdown",
   "id": "d06e11d0-d047-4a4b-b260-19405b0f772e",
   "metadata": {},
   "source": [
    "### Iterando sobre uma namedtuple\n",
    "\n",
    "Uma namedtuple pode ser percorrida como uma tupla comum, mas mantendo a clareza dos nomes de campo."
   ]
  },
  {
   "cell_type": "code",
   "execution_count": 51,
   "id": "4f1bd828-3b80-4ae3-b4a4-edb26b977a3d",
   "metadata": {},
   "outputs": [
    {
     "name": "stdout",
     "output_type": "stream",
     "text": [
      "Ana tem 28 anos e mora em Belo Horizonte\n",
      "Ana\n",
      "28\n",
      "Belo Horizonte\n"
     ]
    }
   ],
   "source": [
    "from collections import namedtuple\n",
    "\n",
    "Pessoa = namedtuple(\"Pessoa\", [\"nome\", \"idade\", \"cidade\"])\n",
    "\n",
    "p = Pessoa(\"Ana\", 28, \"Belo Horizonte\")\n",
    "\n",
    "# Acesso por atributo\n",
    "print(p.nome, \"tem\", p.idade, \"anos e mora em\", p.cidade)\n",
    "\n",
    "# Iteração\n",
    "for valor in p:\n",
    "    print(valor)"
   ]
  },
  {
   "cell_type": "markdown",
   "id": "746d37e0-7403-486e-87c3-006e107fb668",
   "metadata": {},
   "source": [
    "### Conversão para dicionário\n",
    "\n",
    "Podemos transformar uma `namedtuple` em `dict` usando o método `_asdict()`."
   ]
  },
  {
   "cell_type": "code",
   "execution_count": 52,
   "id": "4a312f52-6a86-451e-b821-b21a9877f5e8",
   "metadata": {},
   "outputs": [
    {
     "name": "stdout",
     "output_type": "stream",
     "text": [
      "{'marca': 'Toyota', 'modelo': 'Corolla', 'ano': 2020}\n"
     ]
    }
   ],
   "source": [
    "from collections import namedtuple\n",
    "\n",
    "Carro = namedtuple(\"Carro\", [\"marca\", \"modelo\", \"ano\"])\n",
    "\n",
    "c1 = Carro(\"Toyota\", \"Corolla\", 2020)\n",
    "\n",
    "print(c1._asdict())\n",
    "# Saída: {'marca': 'Toyota', 'modelo': 'Corolla', 'ano': 2020}\n"
   ]
  },
  {
   "cell_type": "markdown",
   "id": "8adb231d-39df-4a80-9332-6cfd269302fe",
   "metadata": {},
   "source": [
    "### 📌 Vantagens\n",
    "\n",
    "- Código mais legível e organizado  \n",
    "- Acesso por índice **e** por nome  \n",
    "- Mais leve que classes definidas com `class`  \n",
    "- Continua sendo imutável  \n",
    "\n",
    "### 📌 Limitações\n",
    "\n",
    "- Não permite métodos personalizados (como classes)  \n",
    "- Menos flexível que `dataclasses` (Python 3.7+)  \n"
   ]
  },
  {
   "cell_type": "markdown",
   "id": "47702297-b333-44fa-bc90-6580c6efefad",
   "metadata": {},
   "source": [
    "## Resumo do Capítulo\n",
    "\n",
    "As **tuplas** são sequências imutáveis em Python.  \n",
    "Ao longo deste capítulo, vimos:\n",
    "\n",
    "- **Criação de tuplas** com ou sem parênteses: `(1, 2, 3)` ou `1, 2, 3`\n",
    "- **Acesso por índice** e **fatiamento**\n",
    "- **Imutabilidade**: não é possível alterar elementos diretamente\n",
    "- **Tuplas aninhadas**: podem conter outras tuplas ou listas\n",
    "- **Operações comuns**: concatenação, repetição, pertença (`in`), iteração\n",
    "- **Uso em desempacotamento**: atribuição múltipla direta\n",
    "- **Funções nativas**: `len()`, `min()`, `max()`, `sum()`\n",
    "- **Aplicações práticas**: como registros de dados\n",
    "- **Named Tuples**: mais legíveis, permitem acesso por nomes de campos\n",
    "\n",
    "📌 As tuplas são especialmente úteis quando queremos garantir que os dados não sejam modificados e ainda manter eficiência em memória e velocidade.\n"
   ]
  },
  {
   "cell_type": "markdown",
   "id": "4d3eb6b4-168c-4356-b03d-f0c962b8d84a",
   "metadata": {},
   "source": [
    "### Exercícios"
   ]
  },
  {
   "cell_type": "markdown",
   "id": "4fec85b7-f8bc-4162-b784-dc71735ab810",
   "metadata": {},
   "source": [
    "### 1. Criação e acesso\n",
    "Crie uma tupla com os números de 1 a 5 e:\n",
    "1. Acesse o terceiro elemento\n",
    "2. Exiba os dois últimos elementos com fatiamento"
   ]
  },
  {
   "cell_type": "code",
   "execution_count": 53,
   "id": "88bb1e57-561a-4d37-beaf-b1cab74f33c1",
   "metadata": {},
   "outputs": [
    {
     "name": "stdout",
     "output_type": "stream",
     "text": [
      "3\n",
      "(4, 5)\n"
     ]
    }
   ],
   "source": [
    "tupla = (1, 2, 3, 4, 5)\n",
    "\n",
    "print(tupla[2])     # terceiro elemento\n",
    "print(tupla[-2:])   # dois últimos elementos"
   ]
  },
  {
   "cell_type": "markdown",
   "id": "73f74fae-1228-4423-9a44-3cf73d230538",
   "metadata": {},
   "source": [
    "### 2. Imutabilidade\n",
    "Tente modificar um elemento da tupla `(10, 20, 30)`.  \n",
    "O que acontece?"
   ]
  },
  {
   "cell_type": "code",
   "execution_count": 54,
   "id": "2b1940c4-18b9-41c2-a53f-b512fc84831a",
   "metadata": {},
   "outputs": [],
   "source": [
    "t = (10, 20, 30)\n",
    "# t[0] = 99  # Descomente para ver o erro"
   ]
  },
  {
   "cell_type": "markdown",
   "id": "773156f1-5b57-43fe-8f34-df6b8f6738cd",
   "metadata": {},
   "source": [
    "### 3. Desempacotamento\n",
    "Dada a tupla `p = (2, 4)`, desempacote seus valores em duas variáveis `x` e `y` e calcule a soma."
   ]
  },
  {
   "cell_type": "code",
   "execution_count": 55,
   "id": "99096984-6c40-48e1-9ad2-491adf0a4543",
   "metadata": {},
   "outputs": [
    {
     "name": "stdout",
     "output_type": "stream",
     "text": [
      "6\n"
     ]
    }
   ],
   "source": [
    "p = (2, 4)\n",
    "x, y = p\n",
    "print(x + y)"
   ]
  },
  {
   "cell_type": "markdown",
   "id": "90e09304-b23d-4171-857c-a0f80f0df584",
   "metadata": {},
   "source": [
    "### 4. Tuplas aninhadas\n",
    "Crie uma tupla que represente um ponto 2D e outro 3D:  \n",
    "- `(x, y)`  \n",
    "- `(x, y, z)`  \n",
    "Depois acesse apenas a coordenada `z` do ponto 3D."
   ]
  },
  {
   "cell_type": "code",
   "execution_count": 56,
   "id": "68d64725-12f8-4603-8ec9-00dbc3af25bf",
   "metadata": {},
   "outputs": [
    {
     "name": "stdout",
     "output_type": "stream",
     "text": [
      "z = 6\n"
     ]
    }
   ],
   "source": [
    "ponto2D = (3, 5)\n",
    "ponto3D = (2, 4, 6)\n",
    "\n",
    "print(\"z =\", ponto3D[2])"
   ]
  },
  {
   "cell_type": "markdown",
   "id": "b9e07251-2a76-44e6-8f15-372b633cccc6",
   "metadata": {},
   "source": [
    "### 5. Uso de funções nativas\n",
    "Com a tupla `(7, 3, 9, 1)`, calcule:\n",
    "- O tamanho\n",
    "- O maior e o menor valor\n",
    "- A soma de todos os elementos"
   ]
  },
  {
   "cell_type": "code",
   "execution_count": 57,
   "id": "0ef6b4fe-4037-40bc-a31f-69401cd52d98",
   "metadata": {},
   "outputs": [
    {
     "name": "stdout",
     "output_type": "stream",
     "text": [
      "len: 4\n",
      "max: 9\n",
      "min: 1\n",
      "sum: 20\n"
     ]
    }
   ],
   "source": [
    "valores = (7, 3, 9, 1)\n",
    "\n",
    "print(\"len:\", len(valores))\n",
    "print(\"max:\", max(valores))\n",
    "print(\"min:\", min(valores))\n",
    "print(\"sum:\", sum(valores))"
   ]
  },
  {
   "cell_type": "markdown",
   "id": "382e25cd-d896-4eb8-9d78-7b52ec5ccb9b",
   "metadata": {},
   "source": [
    "### 6. Named Tuples\n",
    "Crie uma `namedtuple` chamada `Livro` com os campos: `titulo`, `autor`, `ano`.  \n",
    "Depois crie uma instância e exiba os dados tanto por índice quanto por nome."
   ]
  },
  {
   "cell_type": "code",
   "execution_count": 58,
   "id": "4ad4f4e1-01e9-4e42-a302-b2050a796089",
   "metadata": {},
   "outputs": [
    {
     "name": "stdout",
     "output_type": "stream",
     "text": [
      "Livro(titulo='O Hobbit', autor='J. R. R. Tolkien', ano=1937)\n",
      "O Hobbit\n",
      "J. R. R. Tolkien\n"
     ]
    }
   ],
   "source": [
    "from collections import namedtuple\n",
    "\n",
    "Livro = namedtuple(\"Livro\", [\"titulo\", \"autor\", \"ano\"])\n",
    "\n",
    "l1 = Livro(\"O Hobbit\", \"J. R. R. Tolkien\", 1937)\n",
    "\n",
    "print(l1)           # saída organizada\n",
    "print(l1.titulo)    # acesso por nome\n",
    "print(l1[1])        # acesso por índice\n"
   ]
  },
  {
   "cell_type": "markdown",
   "id": "7e1924fe-195f-4f42-9a4f-65cea4b4087c",
   "metadata": {},
   "source": [
    "---\n",
    "\n",
    "✅ **Conclusão**: As tuplas são uma ferramenta essencial para trabalhar com dados imutáveis e organizados.  \n",
    "Com o recurso de `namedtuple`, elas ganham ainda mais legibilidade em aplicações reais.\n",
    "\n",
    "---\n"
   ]
  },
  {
   "cell_type": "code",
   "execution_count": null,
   "id": "9dbd7d22-297b-4285-8875-4ad9b417efac",
   "metadata": {},
   "outputs": [],
   "source": []
  }
 ],
 "metadata": {
  "kernelspec": {
   "display_name": "Python 3 (ipykernel)",
   "language": "python",
   "name": "python3"
  },
  "language_info": {
   "codemirror_mode": {
    "name": "ipython",
    "version": 3
   },
   "file_extension": ".py",
   "mimetype": "text/x-python",
   "name": "python",
   "nbconvert_exporter": "python",
   "pygments_lexer": "ipython3",
   "version": "3.13.7"
  }
 },
 "nbformat": 4,
 "nbformat_minor": 5
}
