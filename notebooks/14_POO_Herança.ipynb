{
 "cells": [
  {
   "cell_type": "markdown",
   "id": "85648d6d-0eb3-4d5d-ab47-e57c77a976b4",
   "metadata": {},
   "source": [
    "# Capítulo 14 — Herança  \n",
    "\n",
    "> **Adriano Pylro - Engenheiro Mecânico - Dr. Eng,** \n",
    "\n",
    "A **herança** é um dos pilares fundamentais da programação orientada a objetos (POO).  \n",
    "Ela permite que uma classe (chamada **subclasse** ou **classe derivada**) herde atributos e métodos de outra classe (chamada **superclasse** ou **classe base**).  \n",
    "\n",
    "Isso promove **reutilização de código**, **extensibilidade** e facilita a organização de programas complexos.  \n",
    "\n",
    "---\n",
    "\n",
    "## 14.1 — Introdução à herança  \n",
    "\n",
    "Na prática, a herança nos permite criar uma nova classe que aproveita o comportamento de outra já existente, adicionando ou sobrescrevendo funcionalidades.  \n",
    "\n",
    "### Sintaxe básica\n",
    "```python\n",
    "class SuperClasse:\n",
    "    def __init__(self, atributo):\n",
    "        self.atributo = atributo\n",
    "\n",
    "    def metodo(self):\n",
    "        print(\"Método da SuperClasse\")\n",
    "\n",
    "class SubClasse(SuperClasse):\n",
    "    pass  # herda tudo de SuperClasse\n",
    "\n",
    "obj = SubClasse(\"valor\")\n",
    "obj.metodo()  # saída: Método da SuperClasse\n"
   ]
  },
  {
   "cell_type": "markdown",
   "id": "4dc7e95c-d93c-40cc-8131-5cbdcf276f33",
   "metadata": {},
   "source": [
    "### Sobrescrita de métodos (override)\n",
    "\n",
    "Uma subclasse pode redefinir métodos da superclasse:"
   ]
  },
  {
   "cell_type": "code",
   "execution_count": 1,
   "id": "d47efee4-898e-4b5c-a7b6-bfc93d474ec1",
   "metadata": {},
   "outputs": [
    {
     "name": "stdout",
     "output_type": "stream",
     "text": [
      "O animal faz um som.\n",
      "O cachorro late: Au Au!\n"
     ]
    }
   ],
   "source": [
    "class Animal:\n",
    "    def som(self):\n",
    "        print(\"O animal faz um som.\")\n",
    "\n",
    "class Cachorro(Animal):\n",
    "    def som(self):  # sobrescrevendo\n",
    "        print(\"O cachorro late: Au Au!\")\n",
    "\n",
    "a = Animal()\n",
    "c = Cachorro()\n",
    "\n",
    "a.som()  # O animal faz um som.\n",
    "c.som()  # O cachorro late: Au Au!"
   ]
  },
  {
   "cell_type": "markdown",
   "id": "297ea53c-b2fe-4d60-96e2-f51c8d629992",
   "metadata": {},
   "source": [
    "### O uso de `super()`\n",
    "\n",
    "A função `super()` é usada para chamar métodos da superclasse, geralmente no construtor `(__init__)` ou em métodos que são sobrescritos."
   ]
  },
  {
   "cell_type": "code",
   "execution_count": 2,
   "id": "06194f72-cd87-4e21-adc9-6f68cfa787fe",
   "metadata": {},
   "outputs": [
    {
     "name": "stdout",
     "output_type": "stream",
     "text": [
      "Maria estuda Engenharia\n"
     ]
    }
   ],
   "source": [
    "class Pessoa:\n",
    "    def __init__(self, nome):\n",
    "        self.nome = nome\n",
    "\n",
    "class Estudante(Pessoa):\n",
    "    def __init__(self, nome, curso):\n",
    "        super().__init__(nome)  # chama o construtor da superclasse\n",
    "        self.curso = curso\n",
    "\n",
    "    def detalhes(self):\n",
    "        print(f\"{self.nome} estuda {self.curso}\")\n",
    "\n",
    "e = Estudante(\"Maria\", \"Engenharia\")\n",
    "e.detalhes()"
   ]
  },
  {
   "cell_type": "markdown",
   "id": "1e36bb75-9901-4dfe-9382-c85a08bf3459",
   "metadata": {},
   "source": [
    "### Hierarquias de classes\n",
    "\n",
    "É possível criar cadeias de herança, onde uma subclasse serve de base para outra."
   ]
  },
  {
   "cell_type": "code",
   "execution_count": 3,
   "id": "488e8cba-27d0-46be-ad94-a90706c86ff4",
   "metadata": {},
   "outputs": [
    {
     "name": "stdout",
     "output_type": "stream",
     "text": [
      "Veículo em movimento.\n",
      "Carro rodando sobre rodas.\n",
      "Carro elétrico deslizando silenciosamente.\n"
     ]
    }
   ],
   "source": [
    "class Veiculo:\n",
    "    def mover(self):\n",
    "        print(\"Veículo em movimento.\")\n",
    "\n",
    "class Carro(Veiculo):\n",
    "    def mover(self):\n",
    "        print(\"Carro rodando sobre rodas.\")\n",
    "\n",
    "class CarroEletrico(Carro):\n",
    "    def mover(self):\n",
    "        print(\"Carro elétrico deslizando silenciosamente.\")\n",
    "\n",
    "v = Veiculo()\n",
    "c = Carro()\n",
    "ce = CarroEletrico()\n",
    "\n",
    "v.mover()   # Veículo em movimento.\n",
    "c.mover()   # Carro rodando sobre rodas.\n",
    "ce.mover()  # Carro elétrico deslizando silenciosamente."
   ]
  },
  {
   "cell_type": "markdown",
   "id": "579bca29-1c01-43bd-bcde-778b1ad5093d",
   "metadata": {},
   "source": [
    "### 📌 Resumo da seção 14.1\n",
    "\n",
    "- Herança permite criar novas classes baseadas em classes existentes.\n",
    "- É possível sobrescrever métodos da superclasse.\n",
    "- `super()` facilita a chamada de métodos da classe base.\n",
    "- Permite criar hierarquias de classes complexas."
   ]
  },
  {
   "cell_type": "markdown",
   "id": "89828db7-b272-4e4d-b454-da24267d116a",
   "metadata": {},
   "source": [
    "## 14.2 — Tipos de Herança em Python 🧬  \n",
    "\n",
    "O Python suporta diferentes **tipos de herança**, permitindo modelar relações entre classes de várias formas.  \n",
    "Cada tipo é útil em contextos específicos de modelagem de sistemas.  \n",
    "\n",
    "---\n",
    "\n",
    "### 🔹 1. Herança Simples  \n",
    "Uma subclasse herda de **apenas uma superclasse**.  \n",
    "É o caso mais comum.  \n",
    "\n",
    "```python\n",
    "class Animal:\n",
    "    def falar(self):\n",
    "        print(\"O animal faz um som.\")\n",
    "\n",
    "class Cachorro(Animal):  # herança simples\n",
    "    def falar(self):\n",
    "        print(\"O cachorro late: Au Au!\")\n",
    "\n",
    "dog = Cachorro()\n",
    "dog.falar()"
   ]
  },
  {
   "cell_type": "markdown",
   "id": "25ed2921-5b19-4dc3-82e9-ccabef7f01ee",
   "metadata": {},
   "source": [
    "### 🔹 2. Herança Múltipla\n",
    "\n",
    "Uma subclasse herda de duas ou mais superclasses.\n",
    "Pode gerar ambiguidade se os métodos tiverem o mesmo nome (resolvido pela MRO — Method Resolution Order)."
   ]
  },
  {
   "cell_type": "code",
   "execution_count": 4,
   "id": "eab66b92-0834-4219-aacf-3f56b80eff30",
   "metadata": {},
   "outputs": [
    {
     "name": "stdout",
     "output_type": "stream",
     "text": [
      "Mamífero: possui glândulas mamárias.\n"
     ]
    }
   ],
   "source": [
    "class Mamifero:\n",
    "    def caracteristica(self):\n",
    "        print(\"Mamífero: possui glândulas mamárias.\")\n",
    "\n",
    "class Aquatico:\n",
    "    def caracteristica(self):\n",
    "        print(\"Aquático: vive na água.\")\n",
    "\n",
    "class Baleia(Mamifero, Aquatico):  # herança múltipla\n",
    "    pass\n",
    "\n",
    "b = Baleia()\n",
    "b.caracteristica()  # segue a ordem de herança definida (Mamifero primeiro)"
   ]
  },
  {
   "cell_type": "markdown",
   "id": "6fbdefb0-d9dd-40fb-9805-c99d5ee03764",
   "metadata": {},
   "source": [
    "### 🔹 3. Herança Multinível\n",
    "\n",
    "Uma subclasse serve de base para outra subclasse, criando uma cadeia de herança."
   ]
  },
  {
   "cell_type": "code",
   "execution_count": 5,
   "id": "e609e700-a84a-4f47-ba7c-3aeaf0b0a3db",
   "metadata": {},
   "outputs": [
    {
     "name": "stdout",
     "output_type": "stream",
     "text": [
      "Carro elétrico deslizando silenciosamente.\n"
     ]
    }
   ],
   "source": [
    "class Veiculo:\n",
    "    def mover(self):\n",
    "        print(\"Veículo em movimento.\")\n",
    "\n",
    "class Carro(Veiculo):  # herda de Veiculo\n",
    "    def mover(self):\n",
    "        print(\"Carro rodando.\")\n",
    "\n",
    "class CarroEletrico(Carro):  # herda de Carro\n",
    "    def mover(self):\n",
    "        print(\"Carro elétrico deslizando silenciosamente.\")\n",
    "\n",
    "ce = CarroEletrico()\n",
    "ce.mover()\n"
   ]
  },
  {
   "cell_type": "markdown",
   "id": "0fefe4b6-0daa-42e6-a5b6-2244c41c19c1",
   "metadata": {},
   "source": [
    "### 🔹 4. Herança Hierárquica\n",
    "\n",
    "Múltiplas subclasses herdam da mesma superclasse."
   ]
  },
  {
   "cell_type": "code",
   "execution_count": 6,
   "id": "6eeb8a8a-e654-49c6-bb21-909f8ee0ecd6",
   "metadata": {},
   "outputs": [
    {
     "name": "stdout",
     "output_type": "stream",
     "text": [
      "Maria está estudando.\n",
      "Carlos está lecionando.\n"
     ]
    }
   ],
   "source": [
    "class Pessoa:\n",
    "    def __init__(self, nome):\n",
    "        self.nome = nome\n",
    "\n",
    "class Estudante(Pessoa):  # herda de Pessoa\n",
    "    def atividade(self):\n",
    "        print(f\"{self.nome} está estudando.\")\n",
    "\n",
    "class Professor(Pessoa):  # também herda de Pessoa\n",
    "    def atividade(self):\n",
    "        print(f\"{self.nome} está lecionando.\")\n",
    "\n",
    "e = Estudante(\"Maria\")\n",
    "p = Professor(\"Carlos\")\n",
    "\n",
    "e.atividade()\n",
    "p.atividade()"
   ]
  },
  {
   "cell_type": "markdown",
   "id": "bfc14d76-a718-48ad-bffc-18dba65a6ba4",
   "metadata": {},
   "source": [
    "### 📌 Resumo da seção 14.2\n",
    "\n",
    "- Herança simples → uma subclasse herda de uma única superclasse.\n",
    "- Herança múltipla → uma subclasse pode herdar de várias superclasses.\n",
    "- Herança multinível → classes em cadeia (classe filha → neta → bisneta).\n",
    "- Herança hierárquica → várias subclasses derivadas de uma única superclasse."
   ]
  },
  {
   "cell_type": "markdown",
   "id": "17af738a-4016-49be-b81e-af72d753af48",
   "metadata": {},
   "source": [
    "### Exercícios Propostos 📝\n",
    "\n",
    "1) **Herança simples (override):**  \n",
    "   Crie `Animal` com método `som()`. Crie `Gato(Animal)` sobrescrevendo `som()` para imprimir `\"Miau\"`. Instancie e chame.\n",
    "\n",
    "2) **Herança múltipla (MRO):**  \n",
    "   Crie `A` e `B` com método `identidade()` que imprimem `\"A\"` e `\"B\"`. Crie `C(A, B)` e `D(B, A)` e chame `identidade()` para ambas as classes. Observe a ordem da MRO.\n",
    "\n",
    "3) **Herança multinível:**  \n",
    "   Crie `Veiculo` → `Carro(Veiculo)` → `CarroEletrico(Carro)` e sobrescreva `mover()` em cada nível. Mostre o método chamado em uma instância de `CarroEletrico`.\n",
    "\n",
    "4) **Herança hierárquica:**  \n",
    "   `Pessoa` é superclasse. Crie `Aluno(Pessoa)` e `Professor(Pessoa)` com método `atividade()` distinto. Instancie e chame.\n",
    "\n",
    "5) **Uso de `super()` em múltiplas camadas:**  \n",
    "   Em uma cadeia `Base → Intermediaria → Final`, faça cada `__init__` imprimir seu nome usando `super()` corretamente (cooperação entre classes).\n",
    "\n",
    "6) **Verificações de relação:**  \n",
    "   Use `isinstance` e `issubclass` para checar relações entre as classes criadas nos itens anteriores."
   ]
  },
  {
   "cell_type": "code",
   "execution_count": 7,
   "id": "f9b6dc05-ee8f-43fe-80df-147e809d3def",
   "metadata": {},
   "outputs": [
    {
     "name": "stdout",
     "output_type": "stream",
     "text": [
      "== 1) Herança simples ==\n",
      "Som genérico de animal\n",
      "Miau\n"
     ]
    }
   ],
   "source": [
    "# 1) Herança simples (override) 🐱\n",
    "class Animal:\n",
    "    def som(self) -> None:\n",
    "        print(\"Som genérico de animal\")\n",
    "\n",
    "class Gato(Animal):\n",
    "    def som(self) -> None:  # override\n",
    "        print(\"Miau\")\n",
    "\n",
    "print(\"== 1) Herança simples ==\")\n",
    "a = Animal()\n",
    "g = Gato()\n",
    "a.som()\n",
    "g.som()"
   ]
  },
  {
   "cell_type": "code",
   "execution_count": 8,
   "id": "fa433f2c-3293-4222-8c8c-9fd175820774",
   "metadata": {},
   "outputs": [
    {
     "name": "stdout",
     "output_type": "stream",
     "text": [
      "\n",
      "== 2) Herança múltipla (MRO) ==\n",
      "C MRO: ['C', 'A', 'B', 'object']\n",
      "D MRO: ['D', 'B', 'A', 'object']\n",
      "A\n",
      "B\n"
     ]
    }
   ],
   "source": [
    "# 2) Herança múltipla (MRO) 🔀\n",
    "class A:\n",
    "    def identidade(self) -> None:\n",
    "        print(\"A\")\n",
    "\n",
    "class B:\n",
    "    def identidade(self) -> None:\n",
    "        print(\"B\")\n",
    "\n",
    "class C(A, B):\n",
    "    pass\n",
    "\n",
    "class D(B, A):\n",
    "    pass\n",
    "\n",
    "print(\"\\n== 2) Herança múltipla (MRO) ==\")\n",
    "print(\"C MRO:\", [cls.__name__ for cls in C.mro()])\n",
    "print(\"D MRO:\", [cls.__name__ for cls in D.mro()])\n",
    "C().identidade()  # segue ordem A, depois B\n",
    "D().identidade()  # segue ordem B, depois A"
   ]
  },
  {
   "cell_type": "code",
   "execution_count": 9,
   "id": "1e4f64db-49f2-4eaf-8284-c67ef2c8ab83",
   "metadata": {},
   "outputs": [
    {
     "name": "stdout",
     "output_type": "stream",
     "text": [
      "\n",
      "== 3) Herança multinível ==\n",
      "Carro elétrico deslizando silenciosamente.\n"
     ]
    }
   ],
   "source": [
    "# 3) Herança multinível 🚗⚡\n",
    "class Veiculo:\n",
    "    def mover(self) -> None:\n",
    "        print(\"Veículo em movimento.\")\n",
    "\n",
    "class Carro(Veiculo):\n",
    "    def mover(self) -> None:\n",
    "        print(\"Carro rodando.\")\n",
    "\n",
    "class CarroEletrico(Carro):\n",
    "    def mover(self) -> None:\n",
    "        print(\"Carro elétrico deslizando silenciosamente.\")\n",
    "\n",
    "print(\"\\n== 3) Herança multinível ==\")\n",
    "ce = CarroEletrico()\n",
    "ce.mover()"
   ]
  },
  {
   "cell_type": "code",
   "execution_count": 10,
   "id": "f8b20c81-d50e-4fdf-8edb-57ccc61f185f",
   "metadata": {},
   "outputs": [
    {
     "name": "stdout",
     "output_type": "stream",
     "text": [
      "\n",
      "== 4) Herança hierárquica ==\n",
      "Ana está estudando.\n",
      "Carlos está lecionando.\n"
     ]
    }
   ],
   "source": [
    "# 4) Herança hierárquica 👩‍🏫👨‍🎓\n",
    "class Pessoa:\n",
    "    def __init__(self, nome: str) -> None:\n",
    "        self.nome = nome\n",
    "\n",
    "class Aluno(Pessoa):\n",
    "    def atividade(self) -> None:\n",
    "        print(f\"{self.nome} está estudando.\")\n",
    "\n",
    "class Professor(Pessoa):\n",
    "    def atividade(self) -> None:\n",
    "        print(f\"{self.nome} está lecionando.\")\n",
    "\n",
    "print(\"\\n== 4) Herança hierárquica ==\")\n",
    "al = Aluno(\"Ana\")\n",
    "pr = Professor(\"Carlos\")\n",
    "al.atividade()\n",
    "pr.atividade()"
   ]
  },
  {
   "cell_type": "code",
   "execution_count": 11,
   "id": "74fd8d06-7812-4dac-9a1f-dd8ef19b6cad",
   "metadata": {},
   "outputs": [
    {
     "name": "stdout",
     "output_type": "stream",
     "text": [
      "\n",
      "== 5) super() em cadeia ==\n",
      "Init Final (antes)\n",
      "Init Intermediaria (antes)\n",
      "Init Base\n",
      "Init Intermediaria (depois)\n",
      "Init Final (depois)\n"
     ]
    }
   ],
   "source": [
    "# 5) Uso de super() em múltiplas camadas 🧬\n",
    "class Base:\n",
    "    def __init__(self) -> None:\n",
    "        print(\"Init Base\")\n",
    "        # sem super() aqui tudo bem, é a raiz\n",
    "\n",
    "class Intermediaria(Base):\n",
    "    def __init__(self) -> None:\n",
    "        print(\"Init Intermediaria (antes)\")\n",
    "        super().__init__()\n",
    "        print(\"Init Intermediaria (depois)\")\n",
    "\n",
    "class Final(Intermediaria):\n",
    "    def __init__(self) -> None:\n",
    "        print(\"Init Final (antes)\")\n",
    "        super().__init__()\n",
    "        print(\"Init Final (depois)\")\n",
    "\n",
    "print(\"\\n== 5) super() em cadeia ==\")\n",
    "f = Final()"
   ]
  },
  {
   "cell_type": "code",
   "execution_count": 12,
   "id": "ad6d4a20-91fc-4d92-a937-6202c7c52377",
   "metadata": {},
   "outputs": [
    {
     "name": "stdout",
     "output_type": "stream",
     "text": [
      "\n",
      "== 6) Verificações ==\n",
      "isinstance(ce, CarroEletrico): True\n",
      "isinstance(ce, Carro): True\n",
      "isinstance(ce, Veiculo): True\n",
      "issubclass(CarroEletrico, Carro): True\n",
      "issubclass(Carro, Veiculo): True\n",
      "issubclass(Professor, Pessoa): True\n"
     ]
    }
   ],
   "source": [
    "# 6) isinstance / issubclass ✅\n",
    "print(\"\\n== 6) Verificações ==\")\n",
    "print(\"isinstance(ce, CarroEletrico):\", isinstance(ce, CarroEletrico))\n",
    "print(\"isinstance(ce, Carro):\", isinstance(ce, Carro))\n",
    "print(\"isinstance(ce, Veiculo):\", isinstance(ce, Veiculo))\n",
    "print(\"issubclass(CarroEletrico, Carro):\", issubclass(CarroEletrico, Carro))\n",
    "print(\"issubclass(Carro, Veiculo):\", issubclass(Carro, Veiculo))\n",
    "print(\"issubclass(Professor, Pessoa):\", issubclass(Professor, Pessoa))"
   ]
  },
  {
   "cell_type": "markdown",
   "id": "7d4ed3e2-f0c9-4f80-8de8-5666d60cae85",
   "metadata": {},
   "source": [
    "## 14.3 — O uso de `super()` em hierarquias de herança 🧩  \n",
    "\n",
    "Em Python, a função **`super()`** é usada para **chamar métodos da superclasse** de forma explícita.  \n",
    "Isso é especialmente útil em **hierarquias de herança** (multinível ou múltipla), quando queremos aproveitar a implementação da classe base sem reescrever código.  \n",
    "\n",
    "📌 **Vantagens do uso de `super()`:**  \n",
    "- Evita duplicação de código.  \n",
    "- Facilita a manutenção.  \n",
    "- Coopera com a **MRO (Method Resolution Order)** em herança múltipla.  \n",
    "- Permite encadear inicializações em classes complexas.  "
   ]
  },
  {
   "cell_type": "code",
   "execution_count": 13,
   "id": "20877ac6-be47-46cb-8de3-63be136375b8",
   "metadata": {},
   "outputs": [
    {
     "name": "stdout",
     "output_type": "stream",
     "text": [
      "Construtor de Pessoa chamado\n",
      "Construtor de Estudante chamado\n",
      "Ana - Engenharia\n"
     ]
    }
   ],
   "source": [
    "# Exemplo 1: Usando super() em herança simples\n",
    "class Pessoa:\n",
    "    def __init__(self, nome):\n",
    "        self.nome = nome\n",
    "        print(\"Construtor de Pessoa chamado\")\n",
    "\n",
    "class Estudante(Pessoa):\n",
    "    def __init__(self, nome, curso):\n",
    "        super().__init__(nome)  # chama __init__ da superclasse\n",
    "        self.curso = curso\n",
    "        print(\"Construtor de Estudante chamado\")\n",
    "\n",
    "e = Estudante(\"Ana\", \"Engenharia\")\n",
    "print(e.nome, \"-\", e.curso)"
   ]
  },
  {
   "cell_type": "markdown",
   "id": "6761b8d1-4b29-4f6e-857b-8f21242b2e63",
   "metadata": {},
   "source": [
    "### Funcionamento em herança múltipla 🔀  \n",
    "\n",
    "Quando temos múltiplas superclasses, `super()` segue a ordem definida pela **MRO (Method Resolution Order)**.  \n",
    "Isso garante que cada classe na hierarquia seja inicializada **uma única vez**.  "
   ]
  },
  {
   "cell_type": "code",
   "execution_count": 14,
   "id": "26e9fe32-3812-4e93-8942-da71d3bc7673",
   "metadata": {},
   "outputs": [
    {
     "name": "stdout",
     "output_type": "stream",
     "text": [
      "Init C\n",
      "Init A\n",
      "Init B\n",
      "Ordem da MRO: ['C', 'A', 'B', 'object']\n"
     ]
    }
   ],
   "source": [
    "# Exemplo 2: Usando super() em herança múltipla\n",
    "class A:\n",
    "    def __init__(self):\n",
    "        print(\"Init A\")\n",
    "        super().__init__()\n",
    "\n",
    "class B:\n",
    "    def __init__(self):\n",
    "        print(\"Init B\")\n",
    "        super().__init__()\n",
    "\n",
    "class C(A, B):  # herança múltipla\n",
    "    def __init__(self):\n",
    "        print(\"Init C\")\n",
    "        super().__init__()\n",
    "\n",
    "c = C()\n",
    "print(\"Ordem da MRO:\", [cls.__name__ for cls in C.mro()])"
   ]
  },
  {
   "cell_type": "markdown",
   "id": "bf65110c-7b64-4f19-817f-d5333dea50aa",
   "metadata": {},
   "source": [
    "### Observações importantes ⚠️  \n",
    "- `super()` **não precisa do nome da superclasse** → é dinâmico e respeita a ordem da MRO.  \n",
    "- Sempre que possível, **use `super()` em vez de chamar a superclasse diretamente**, pois isso mantém o código compatível com herança múltipla.  \n",
    "\n",
    "✅ **Resumo da seção 14.3:**  \n",
    "- `super()` chama métodos da superclasse de forma controlada.  \n",
    "- Funciona tanto em herança simples quanto em múltipla.  \n",
    "- Garante que cada classe na cadeia seja inicializada apenas uma vez.  "
   ]
  },
  {
   "cell_type": "markdown",
   "id": "d592a53b-0be7-4ff5-9b83-2b2cfdb02693",
   "metadata": {},
   "source": [
    "## 14.4 — Polimorfismo 🌀  \n",
    "\n",
    "O **polimorfismo** é outro pilar da Programação Orientada a Objetos.  \n",
    "Ele permite que diferentes classes **compartilhem a mesma interface** (mesmos métodos) mas implementem comportamentos diferentes.  \n",
    "\n",
    "📌 **Ideia central:**  \n",
    "- Um mesmo método pode ter implementações distintas em classes diferentes.  \n",
    "- Isso torna o código mais flexível e extensível.  \n",
    "\n",
    "💡 Exemplo clássico: vários tipos de animais podem ter um método `falar()`, mas cada um emite um som diferente.  \n"
   ]
  },
  {
   "cell_type": "code",
   "execution_count": 15,
   "id": "672f251e-3a65-4919-9550-4e1a9c204450",
   "metadata": {},
   "outputs": [
    {
     "name": "stdout",
     "output_type": "stream",
     "text": [
      "O cachorro late: Au Au!\n",
      "O gato mia: Miau!\n",
      "O animal faz um som.\n"
     ]
    }
   ],
   "source": [
    "# Exemplo 1: Polimorfismo com classes distintas\n",
    "class Animal:\n",
    "    def falar(self):\n",
    "        print(\"O animal faz um som.\")\n",
    "\n",
    "class Cachorro(Animal):\n",
    "    def falar(self):\n",
    "        print(\"O cachorro late: Au Au!\")\n",
    "\n",
    "class Gato(Animal):\n",
    "    def falar(self):\n",
    "        print(\"O gato mia: Miau!\")\n",
    "\n",
    "# Usando polimorfismo\n",
    "animais = [Cachorro(), Gato(), Animal()]\n",
    "\n",
    "for a in animais:\n",
    "    a.falar()\n"
   ]
  },
  {
   "cell_type": "markdown",
   "id": "3770bea1-9209-45d1-bd44-2cd8a891abc9",
   "metadata": {},
   "source": [
    "### Polimorfismo em funções e métodos genéricos  \n",
    "\n",
    "Podemos escrever funções que recebem objetos diferentes mas esperam a mesma interface.  "
   ]
  },
  {
   "cell_type": "code",
   "execution_count": 16,
   "id": "f4f53f65-3397-4f0a-9658-32f4e09fb4db",
   "metadata": {},
   "outputs": [
    {
     "name": "stdout",
     "output_type": "stream",
     "text": [
      "O cachorro late: Au Au!\n",
      "O gato mia: Miau!\n"
     ]
    }
   ],
   "source": [
    "# Exemplo 2: Função genérica que aceita qualquer objeto com método falar\n",
    "def reproduzir_som(animal):\n",
    "    animal.falar()\n",
    "\n",
    "reproduzir_som(Cachorro())  # O cachorro late: Au Au!\n",
    "reproduzir_som(Gato())      # O gato mia: Miau!"
   ]
  },
  {
   "cell_type": "markdown",
   "id": "c3a0944d-79b0-4c0e-bf84-42e4fa12156c",
   "metadata": {},
   "source": [
    "### Polimorfismo com métodos herdados  \n",
    "\n",
    "Mesmo em uma hierarquia de herança, subclasses podem redefinir métodos, e o polimorfismo garante que o método correto seja chamado.  \n"
   ]
  },
  {
   "cell_type": "code",
   "execution_count": 17,
   "id": "3fac1246-fcbe-4077-9ced-1ecf77f0f6fc",
   "metadata": {},
   "outputs": [
    {
     "name": "stdout",
     "output_type": "stream",
     "text": [
      "Área: 16\n",
      "Área: 28.274333882308138\n"
     ]
    }
   ],
   "source": [
    "# Exemplo 3: Usando polimorfismo em hierarquia de classes\n",
    "class Forma:\n",
    "    def area(self):\n",
    "        raise NotImplementedError(\"Subclasse deve implementar este método\")\n",
    "\n",
    "class Quadrado(Forma):\n",
    "    def __init__(self, lado):\n",
    "        self.lado = lado\n",
    "    def area(self):\n",
    "        return self.lado ** 2\n",
    "\n",
    "class Circulo(Forma):\n",
    "    def __init__(self, raio):\n",
    "        self.raio = raio\n",
    "    def area(self):\n",
    "        from math import pi\n",
    "        return pi * (self.raio ** 2)\n",
    "\n",
    "formas = [Quadrado(4), Circulo(3)]\n",
    "for f in formas:\n",
    "    print(\"Área:\", f.area())\n"
   ]
  },
  {
   "cell_type": "markdown",
   "id": "ddc9f048-a37c-4aee-a008-56e5c8e7a88f",
   "metadata": {},
   "source": [
    "📌 **Resumo da seção 14.4:**\n",
    "- O polimorfismo permite diferentes implementações para a mesma interface.  \n",
    "- Garante flexibilidade: funções podem trabalhar com objetos diferentes que compartilham a mesma assinatura.  \n",
    "- É fundamental em projetos que precisam de extensibilidade (ex.: frameworks, bibliotecas).  "
   ]
  },
  {
   "cell_type": "markdown",
   "id": "a7a589e9-d106-4955-afae-d08468e64657",
   "metadata": {},
   "source": [
    "## Resumo do Capítulo  \n",
    "\n",
    "Neste capítulo, estudamos o conceito de **herança**, um dos pilares da programação orientada a objetos.  \n",
    "\n",
    "📌 **Principais pontos:**\n",
    "- **14.1 — Introdução:**  \n",
    "  - Permite que uma classe herde atributos e métodos de outra.  \n",
    "  - Reutilização de código e maior organização.  \n",
    "\n",
    "- **14.2 — Tipos de herança:**  \n",
    "  - **Simples:** herda de uma única superclasse.  \n",
    "  - **Múltipla:** herda de duas ou mais superclasses (usa MRO).  \n",
    "  - **Multinível:** uma classe herda de outra que já é derivada.  \n",
    "  - **Hierárquica:** várias subclasses herdam da mesma superclasse.  \n",
    "\n",
    "- **14.3 — `super()`:**  \n",
    "  - Usado para chamar métodos da superclasse.  \n",
    "  - Funciona em hierarquias simples e múltiplas.  \n",
    "  - Coopera com a **MRO**.  \n",
    "\n",
    "- **14.4 — Polimorfismo:**  \n",
    "  - Diferentes classes podem compartilhar a mesma interface.  \n",
    "  - Cada classe fornece sua própria implementação.  \n",
    "  - Traz flexibilidade e extensibilidade ao código.  \n",
    "\n",
    "✅ Com isso, encerramos os fundamentos de **herança e polimorfismo** em Python.  \n"
   ]
  },
  {
   "cell_type": "markdown",
   "id": "e8b1dca2-0582-4952-bfe6-ab342631f397",
   "metadata": {},
   "source": [
    "### Exercícios — Capítulo 14 📝"
   ]
  },
  {
   "cell_type": "markdown",
   "id": "4da761df-c166-41bb-8779-49068deb23aa",
   "metadata": {},
   "source": [
    "1) **Herança simples:**  \n",
    "Crie uma classe `Pessoa` com atributos `nome` e `idade`. Crie uma subclasse `Aluno` que herda de `Pessoa` e adicione o atributo `curso`. Instancie e mostre os dados.  \n",
    "\n",
    "2) **Sobrescrita de métodos:**  \n",
    "Crie a superclasse `Forma` com método `area()` que gera erro (`NotImplementedError`). Crie as subclasses `Quadrado` e `Circulo`, sobrescrevendo o método com as fórmulas corretas.  \n",
    "\n",
    "3) **Uso de super():**  \n",
    "Crie a classe `Funcionario` com atributo `nome`. Crie a subclasse `Gerente` que herda de `Funcionario` e adiciona `departamento`. Use `super()` no construtor para reaproveitar código.  \n",
    "\n",
    "4) **Herança múltipla:**  \n",
    "Crie duas classes `Mamifero` e `Aquatico` com métodos `info()`. Crie a classe `Ornitorrinco` que herda das duas. Teste a ordem da MRO e o método chamado.  \n",
    "\n",
    "5) **Polimorfismo:**  \n",
    "Implemente uma função `executar_som(animal)` que recebe diferentes animais (`Cachorro`, `Gato`, `Vaca`), todos com método `falar()`. A função deve chamar o método independentemente da classe.  \n",
    "\n",
    "6) **Verificações de tipo:**  \n",
    "Com as classes anteriores, use `isinstance` e `issubclass` para verificar relações de herança.  \n"
   ]
  },
  {
   "cell_type": "markdown",
   "id": "d768fc8e-13a3-4621-8e0f-cfc73565e962",
   "metadata": {},
   "source": [
    "### Exercícios resolvidos"
   ]
  },
  {
   "cell_type": "code",
   "execution_count": 18,
   "id": "1aacdce9-80ab-41dd-9f80-f7583ba622dd",
   "metadata": {},
   "outputs": [
    {
     "name": "stdout",
     "output_type": "stream",
     "text": [
      "Ana 20 Engenharia\n"
     ]
    }
   ],
   "source": [
    "# 1) Herança simples\n",
    "class Pessoa:\n",
    "    def __init__(self, nome, idade):\n",
    "        self.nome = nome\n",
    "        self.idade = idade\n",
    "\n",
    "class Aluno(Pessoa):\n",
    "    def __init__(self, nome, idade, curso):\n",
    "        super().__init__(nome, idade)\n",
    "        self.curso = curso\n",
    "\n",
    "a = Aluno(\"Ana\", 20, \"Engenharia\")\n",
    "print(a.nome, a.idade, a.curso)"
   ]
  },
  {
   "cell_type": "code",
   "execution_count": 19,
   "id": "ea810160-2b04-41bc-a37b-b6f4b9a246c5",
   "metadata": {},
   "outputs": [
    {
     "name": "stdout",
     "output_type": "stream",
     "text": [
      "Área quadrado: 16\n",
      "Área círculo: 28.274333882308138\n"
     ]
    }
   ],
   "source": [
    "# 2) Sobrescrita de métodos\n",
    "import math\n",
    "\n",
    "class Forma:\n",
    "    def area(self):\n",
    "        raise NotImplementedError(\"Subclasse deve implementar area()\")\n",
    "\n",
    "class Quadrado(Forma):\n",
    "    def __init__(self, lado):\n",
    "        self.lado = lado\n",
    "    def area(self):\n",
    "        return self.lado ** 2\n",
    "\n",
    "class Circulo(Forma):\n",
    "    def __init__(self, raio):\n",
    "        self.raio = raio\n",
    "    def area(self):\n",
    "        return math.pi * self.raio ** 2\n",
    "\n",
    "print(\"Área quadrado:\", Quadrado(4).area())\n",
    "print(\"Área círculo:\", Circulo(3).area())"
   ]
  },
  {
   "cell_type": "code",
   "execution_count": 20,
   "id": "49adbf79-0a0b-49b3-b06b-8665427beb1e",
   "metadata": {},
   "outputs": [
    {
     "name": "stdout",
     "output_type": "stream",
     "text": [
      "Carlos - TI\n"
     ]
    }
   ],
   "source": [
    "# 3) Uso de super()\n",
    "class Funcionario:\n",
    "    def __init__(self, nome):\n",
    "        self.nome = nome\n",
    "\n",
    "class Gerente(Funcionario):\n",
    "    def __init__(self, nome, departamento):\n",
    "        super().__init__(nome)\n",
    "        self.departamento = departamento\n",
    "\n",
    "g = Gerente(\"Carlos\", \"TI\")\n",
    "print(g.nome, \"-\", g.departamento)"
   ]
  },
  {
   "cell_type": "code",
   "execution_count": 21,
   "id": "b13e3407-3680-4df1-9c95-db6fb0d28bc2",
   "metadata": {},
   "outputs": [
    {
     "name": "stdout",
     "output_type": "stream",
     "text": [
      "Sou um mamífero\n",
      "MRO: ['Ornitorrinco', 'Mamifero', 'Aquatico', 'object']\n"
     ]
    }
   ],
   "source": [
    "# 4) Herança múltipla\n",
    "class Mamifero:\n",
    "    def info(self):\n",
    "        print(\"Sou um mamífero\")\n",
    "\n",
    "class Aquatico:\n",
    "    def info(self):\n",
    "        print(\"Sou um animal aquático\")\n",
    "\n",
    "class Ornitorrinco(Mamifero, Aquatico):\n",
    "    pass\n",
    "\n",
    "o = Ornitorrinco()\n",
    "o.info()\n",
    "print(\"MRO:\", [cls.__name__ for cls in Ornitorrinco.mro()])"
   ]
  },
  {
   "cell_type": "code",
   "execution_count": 22,
   "id": "f9cfeedc-e479-401f-9cb2-32bc5cde08dd",
   "metadata": {},
   "outputs": [
    {
     "name": "stdout",
     "output_type": "stream",
     "text": [
      "Au Au!\n",
      "Miau!\n",
      "Muu!\n"
     ]
    }
   ],
   "source": [
    "# 5) Polimorfismo\n",
    "class Cachorro:\n",
    "    def falar(self): print(\"Au Au!\")\n",
    "\n",
    "class Gato:\n",
    "    def falar(self): print(\"Miau!\")\n",
    "\n",
    "class Vaca:\n",
    "    def falar(self): print(\"Muu!\")\n",
    "\n",
    "def executar_som(animal):\n",
    "    animal.falar()\n",
    "\n",
    "for animal in [Cachorro(), Gato(), Vaca()]:\n",
    "    executar_som(animal)\n"
   ]
  },
  {
   "cell_type": "code",
   "execution_count": 23,
   "id": "1b5c32f0-a2d0-49c7-8041-d1dfb082bdd4",
   "metadata": {},
   "outputs": [
    {
     "name": "stdout",
     "output_type": "stream",
     "text": [
      "True\n",
      "True\n",
      "True\n",
      "True\n"
     ]
    }
   ],
   "source": [
    "# 6) Verificações\n",
    "print(isinstance(g, Gerente))        # True\n",
    "print(isinstance(g, Funcionario))    # True\n",
    "print(issubclass(Gerente, Funcionario)) # True\n",
    "print(issubclass(Aluno, Pessoa))     # True"
   ]
  },
  {
   "cell_type": "code",
   "execution_count": null,
   "id": "f47d5462-4b5f-4fb3-aa42-e90f9a540322",
   "metadata": {},
   "outputs": [],
   "source": []
  }
 ],
 "metadata": {
  "kernelspec": {
   "display_name": "Python 3 (ipykernel)",
   "language": "python",
   "name": "python3"
  },
  "language_info": {
   "codemirror_mode": {
    "name": "ipython",
    "version": 3
   },
   "file_extension": ".py",
   "mimetype": "text/x-python",
   "name": "python",
   "nbconvert_exporter": "python",
   "pygments_lexer": "ipython3",
   "version": "3.13.7"
  }
 },
 "nbformat": 4,
 "nbformat_minor": 5
}
