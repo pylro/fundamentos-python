{
 "cells": [
  {
   "cell_type": "markdown",
   "id": "cc11e17d-8dd8-425b-a262-071bc7357bce",
   "metadata": {},
   "source": [
    "# 📘 Capítulo 2 – Expressões\n",
    "\n",
    "> **Adriano Pylro - Engenheiro Mecânico - Dr. Eng,**  \n",
    "> Nesta unidade, estudaremos como o Python avalia e manipula expressões compostas por valores, variáveis, operadores e conversões de tipo.\n"
   ]
  },
  {
   "cell_type": "markdown",
   "id": "56bb1c1e-6dc1-4d67-801a-24ae5bc7bb87",
   "metadata": {},
   "source": [
    "# 🧠 Seção 2.1 – Conversão de Tipos (Type Conversion)\n",
    "\n",
    "## Objetivos de aprendizagem\n",
    "\n",
    "Após esta seção, você deverá ser capaz de:\n",
    "\n",
    "- Entender como e quando o Python realiza conversão de tipo automática (implícita);\n",
    "- Realizar conversões de tipo manualmente (explícitas), como de `str` para `int`;\n",
    "- Compreender as limitações e erros comuns durante conversões entre tipos incompatíveis.\n"
   ]
  },
  {
   "cell_type": "markdown",
   "id": "6046b269-967f-4d47-8cf4-cfe84f461c75",
   "metadata": {},
   "source": [
    "## 🔄 O que é conversão de tipo?\n",
    "\n",
    "**Conversão de tipo** significa transformar um valor de um tipo (por exemplo, `str`) em outro (como `int` ou `float`).\n",
    "\n",
    "Em Python, essa conversão pode ser:\n",
    "\n",
    "- **Explícita**: quando você usa funções como `int()`, `float()`, `str()` para fazer a transformação manualmente;\n",
    "- **Implícita**: quando o Python converte tipos automaticamente em certas expressões.\n",
    "\n",
    "---\n"
   ]
  },
  {
   "cell_type": "markdown",
   "id": "4d9c9129-1d1c-4b35-8fa7-cf7050a9435b",
   "metadata": {},
   "source": [
    "## ✋ Conversão explícita de tipos\n",
    "\n",
    "Você pode converter um valor diretamente usando:\n",
    "\n",
    "- `int(valor)` → converte para número inteiro;\n",
    "- `float(valor)` → converte para número decimal;\n",
    "- `str(valor)` → converte para texto (string);\n",
    "- `bool(valor)` → converte para valor lógico (`True` ou `False`).\n",
    "\n",
    "Essas funções tentam converter o valor **literalmente** — se o conteúdo não for apropriado, um erro será lançado.\n"
   ]
  },
  {
   "cell_type": "code",
   "execution_count": 2,
   "id": "36b26069-1f3f-4902-ad21-1d516d16786a",
   "metadata": {},
   "outputs": [
    {
     "name": "stdout",
     "output_type": "stream",
     "text": [
      "42\n",
      "3.14\n",
      "100\n",
      "False\n",
      "True\n"
     ]
    }
   ],
   "source": [
    "# Conversões explícitas válidas\n",
    "print(int(\"42\"))         # string → inteiro\n",
    "print(float(\"3.14\"))     # string → float\n",
    "print(str(100))          # inteiro → string\n",
    "print(bool(0))           # 0 é considerado False\n",
    "print(bool(\"texto\"))     # string não vazia é True"
   ]
  },
  {
   "cell_type": "code",
   "execution_count": 3,
   "id": "34c4fe25-edc1-46f8-b0ae-370bb761daf1",
   "metadata": {},
   "outputs": [],
   "source": [
    "# Conversão que gera erro: string não numérica para int\n",
    "# int(\"doze\")  # ValueError: invalid literal for int()"
   ]
  },
  {
   "cell_type": "markdown",
   "id": "c29c68a4-ee27-488d-92ef-1466181c72ed",
   "metadata": {},
   "source": [
    "📌 **Observação importante**:  \n",
    "A conversão `int(\"42\")` funciona, mas `int(\"quarenta e dois\")` resultará em erro.  \n",
    "O conteúdo precisa estar em formato compatível com o tipo de destino.\n",
    "\n",
    "---\n"
   ]
  },
  {
   "cell_type": "markdown",
   "id": "e8f8c87d-c70e-4b41-9f6b-ee8a51ff10aa",
   "metadata": {},
   "source": [
    "## 🔁 Conversão implícita (automática)\n",
    "\n",
    "Em algumas operações, o Python **converte tipos automaticamente** para manter a coerência da expressão.\n",
    "\n",
    "Exemplo clássico: ao somar um `int` com um `float`, o `int` é convertido para `float` antes da operação.\n"
   ]
  },
  {
   "cell_type": "code",
   "execution_count": 4,
   "id": "43e75c23-89f0-4df7-9eea-62b4f83940c8",
   "metadata": {},
   "outputs": [
    {
     "name": "stdout",
     "output_type": "stream",
     "text": [
      "7.0\n",
      "<class 'float'>\n"
     ]
    }
   ],
   "source": [
    "x = 5        # int\n",
    "y = 2.0      # float\n",
    "z = x + y    # x é convertido implicitamente para float\n",
    "\n",
    "print(z)     # Resultado: 7.0\n",
    "print(type(z))  # Resultado: <class 'float'>\n"
   ]
  },
  {
   "cell_type": "markdown",
   "id": "1c3ad14f-6888-4584-a93d-df7dcca7e131",
   "metadata": {},
   "source": [
    "## ❌ Conversões inválidas\n",
    "\n",
    "Nem toda conversão é permitida. Veja exemplos que causariam erro:\n",
    "\n",
    "```python\n",
    "int(\"3.14\")   # string com ponto → ValueError\n",
    "int(\"abc\")    # string textual → ValueError\n",
    "float(\"abc\")  # idem\n",
    "```\n",
    "Essas operações geram erro porque o conteúdo da string não pode ser interpretado como número.\n"
   ]
  },
  {
   "cell_type": "markdown",
   "id": "f775b0a2-9cf2-47cb-9030-5b3483bf819d",
   "metadata": {},
   "source": [
    "## ✅ Resumo da seção\n",
    "\n",
    "- Você pode usar `int()`, `float()`, `str()` e `bool()` para converter valores explicitamente;\n",
    "- O Python também realiza **conversões implícitas** em expressões com tipos mistos;\n",
    "- Conversões só funcionam se o conteúdo do valor **for compatível** com o tipo de destino;\n",
    "- Erros como `ValueError` ocorrem quando a conversão não é possível."
   ]
  },
  {
   "cell_type": "markdown",
   "id": "93f0ee06-33ef-4414-a43c-efc73d4fed43",
   "metadata": {},
   "source": [
    "## ✅ Exercícios práticos recomendados\n",
    "\n",
    "1. Leia uma idade do usuário com `input()` e converta para `int`, depois calcule quantos meses isso representa.\n",
    "\n",
    "2. Leia dois valores com `input()` e:\n",
    "   - Converta ambos para `float`;\n",
    "   - Calcule a média aritmética.\n",
    "\n",
    "3. Tente converter as strings `\"3.14\"`, `\"42\"` e `\"banana\"` com `int()` e `float()` e observe os resultados.\n",
    "\n",
    "4. Some um número inteiro e um número decimal, e use `type()` para verificar o tipo do resultado.\n",
    "\n",
    "5. Use `str()` para criar uma frase como:\n",
    "   `\"A soma de 2 e 3 é 5\"` usando concatenação de strings e conversões de tipo.\n",
    "\n",
    "---\n"
   ]
  },
  {
   "cell_type": "markdown",
   "id": "074c6a90-1c5b-49f1-9db1-4c98ae1daefe",
   "metadata": {},
   "source": [
    "# 🧠 Seção 2.2 – Tipos Mistos (Mixed Data Types)\n",
    "\n",
    "## Objetivos de aprendizagem\n",
    "\n",
    "Após esta seção, você deverá ser capaz de:\n",
    "\n",
    "- Reconhecer expressões que misturam diferentes tipos de dados;\n",
    "- Compreender como o Python lida com operações envolvendo `int`, `float`, `str` e `bool`;\n",
    "- Antecipar e evitar erros causados por tipos incompatíveis;\n",
    "- Usar `type()` para verificar o tipo de uma expressão ou resultado.\n"
   ]
  },
  {
   "cell_type": "code",
   "execution_count": 1,
   "id": "16b2f4cf-1ce5-4d24-b53d-5450141377a7",
   "metadata": {},
   "outputs": [
    {
     "name": "stdout",
     "output_type": "stream",
     "text": [
      "Resultado: 13.5\n",
      "Tipo do resultado: <class 'float'>\n"
     ]
    }
   ],
   "source": [
    "x = 10        # inteiro\n",
    "y = 3.5       # float\n",
    "\n",
    "resultado = x + y\n",
    "print(\"Resultado:\", resultado)\n",
    "print(\"Tipo do resultado:\", type(resultado))"
   ]
  },
  {
   "cell_type": "markdown",
   "id": "38dceddb-b137-4a2b-9ac8-e8859999cd32",
   "metadata": {},
   "source": [
    "## 📌 Regras gerais de coerção de tipos\n",
    "\n",
    "Python segue algumas **regras implícitas** quando mistura tipos:\n",
    "\n",
    "| Operação                | Resultado             |\n",
    "|-------------------------|-----------------------|\n",
    "| `int` + `float`         | `float`               |\n",
    "| `bool` + `int/float`    | numérico              |\n",
    "| `str` + `str`           | string                |\n",
    "| `str` + `int/float/bool`| ❌ erro (`TypeError`) |\n",
    "\n",
    "---\n"
   ]
  },
  {
   "cell_type": "code",
   "execution_count": 2,
   "id": "c3b7b09a-2417-4738-8994-c6e2b7856797",
   "metadata": {},
   "outputs": [
    {
     "name": "stdout",
     "output_type": "stream",
     "text": [
      "11\n",
      "<class 'int'>\n"
     ]
    }
   ],
   "source": [
    "a = True     # equivale a 1\n",
    "b = 10\n",
    "\n",
    "print(a + b)         # 1 + 10 = 11\n",
    "print(type(a + b))   # <class 'int'>"
   ]
  },
  {
   "cell_type": "code",
   "execution_count": 3,
   "id": "887db01a-a01e-49e7-9889-483bee2d1dc8",
   "metadata": {},
   "outputs": [],
   "source": [
    "# Causa erro: não pode somar string com int diretamente\n",
    "# print(\"Idade: \" + 30)  # TypeError"
   ]
  },
  {
   "cell_type": "markdown",
   "id": "3c26440c-f7b1-4e33-8efc-16e14ffd8c12",
   "metadata": {},
   "source": [
    "✅ Solução: converter o número para string manualmente com `str()`\n",
    "\n",
    "```python\n",
    "print(\"Idade: \" + str(30))  # Correto\n",
    "```\n",
    "### ✅ Célula Code — Exemplo válido com str()\n",
    "\n",
    "```python\n",
    "nome = \"Ana\"\n",
    "idade = 25\n",
    "\n",
    "mensagem = \"Nome: \" + nome + \" | Idade: \" + str(idade)\n",
    "print(mensagem)"
   ]
  },
  {
   "cell_type": "markdown",
   "id": "7d6e66c6-97f5-4790-a290-54257e4e13e1",
   "metadata": {},
   "source": [
    "## 🧪 Usando `type()` para entender resultados\n",
    "\n",
    "Sempre que estiver incerto sobre o tipo de uma expressão, use `type()` para verificar:\n",
    "\n",
    "```python\n",
    "type(expressão)\n",
    "```\n",
    "Essa prática ajuda a evitar erros e permite raciocinar sobre o comportamento do Python em expressões mistas."
   ]
  },
  {
   "cell_type": "markdown",
   "id": "5d55ca42-6800-4fac-818a-444e133c110f",
   "metadata": {},
   "source": [
    "## ✅ Resumo da seção – Tipos mistos\n",
    "\n",
    "- Python realiza **conversões implícitas** quando necessário em expressões com tipos mistos (ex: `int + float → float`);\n",
    "- O tipo `bool` é tratado como `1` (True) e `0` (False) em expressões aritméticas;\n",
    "- Não é possível combinar `str` com números sem conversão explícita;\n",
    "- Usar `type()` ajuda a inspecionar resultados e entender o comportamento de coerção do Python;\n",
    "- Quando necessário, converta valores manualmente com `str()`, `int()`, `float()`, etc."
   ]
  },
  {
   "cell_type": "markdown",
   "id": "89a96fb3-4b71-44bb-a10a-849afbbc1507",
   "metadata": {},
   "source": [
    "## ✅ Exercícios práticos recomendados\n",
    "\n",
    "1. Some `True + 3.5` e explique o resultado.\n",
    "2. Tente concatenar `\"A idade é \"` com o número `25` diretamente. O que acontece?\n",
    "3. Use `type()` para descobrir o tipo da expressão: `\"3\" + \"2\"`, `3 + 2`, `3 + 2.0`, e `True + False`.\n",
    "4. Escreva uma expressão que envolva três tipos diferentes (por exemplo: `int`, `bool`, `float`) e imprima o resultado e o tipo.\n",
    "5. Corrija a seguinte linha de código para que funcione corretamente:  \n",
    "   ```python\n",
    "   mensagem = \"Temperatura: \" + 28.5 + \" graus\"\n"
   ]
  },
  {
   "cell_type": "markdown",
   "id": "52244ca8-11d1-41bd-b661-aa85e5b6783c",
   "metadata": {},
   "source": [
    "# 🧠 Seção 2.3 – Erros de Ponto Flutuante (Floating-Point Errors)\n",
    "\n",
    "## Objetivos de aprendizagem\n",
    "\n",
    "Após esta seção, você deverá ser capaz de:\n",
    "\n",
    "- Entender por que nem todos os números decimais são representados exatamente em binário;\n",
    "- Reconhecer imprecisões ao trabalhar com `float` em Python;\n",
    "- Utilizar a função `round()` para controlar a apresentação de resultados com casas decimais;\n",
    "- Compreender que o comportamento é esperado e baseado em limites de representação digital.\n"
   ]
  },
  {
   "cell_type": "markdown",
   "id": "8bcd9cdb-12c4-4c45-b7e9-23cded3fb156",
   "metadata": {},
   "source": [
    "## ❗ Por que ocorrem erros com ponto flutuante?\n",
    "\n",
    "Python usa o padrão IEEE 754 para representar números do tipo `float`, que são armazenados em **base binária (base 2)** com precisão limitada.\n",
    "\n",
    "Certos números **não podem ser representados com exatidão** em binário, assim como 1/3 não pode ser representado exatamente com decimais (`0.333...`).\n",
    "\n",
    "Essa limitação causa **pequenas imprecisões**, que aparecem em resultados esperados como `0.1 + 0.2 = 0.30000000000000004`.\n"
   ]
  },
  {
   "cell_type": "code",
   "execution_count": 1,
   "id": "9f5ca5ec-e0d0-4a06-b7b2-52536a7b62ce",
   "metadata": {},
   "outputs": [
    {
     "name": "stdout",
     "output_type": "stream",
     "text": [
      "0.30000000000000004\n",
      "False\n"
     ]
    }
   ],
   "source": [
    "print(0.1 + 0.2)\n",
    "print(0.1 + 0.2 == 0.3)"
   ]
  },
  {
   "cell_type": "markdown",
   "id": "0a54c2d6-d73c-4e48-95e8-6265a07ef356",
   "metadata": {},
   "source": [
    "📌 O resultado acima não é exatamente `0.3` — ele é **ligeiramente maior**, por causa da representação binária interna dos números de ponto flutuante.\n",
    "\n",
    "Isso não é um “erro” do Python, mas sim uma **limitação fundamental de computadores digitais** com precisão finita.\n"
   ]
  },
  {
   "cell_type": "markdown",
   "id": "02c47d15-fea0-4baf-ad57-170408a1a842",
   "metadata": {},
   "source": [
    "## 🔧 A função `round()`\n",
    "\n",
    "A função `round(valor, ndigits)` permite **arredondar um número decimal** para um número específico de casas após a vírgula.\n",
    "\n",
    "### Sintaxe:\n",
    "```python\n",
    "round(número, casas_decimais)\n"
   ]
  },
  {
   "cell_type": "code",
   "execution_count": 2,
   "id": "c78cc68e-e951-42e7-9f5b-7c6a8a7fe90f",
   "metadata": {},
   "outputs": [
    {
     "name": "stdout",
     "output_type": "stream",
     "text": [
      "Valor bruto: 0.30000000000000004\n",
      "Valor arredondado: 0.3\n"
     ]
    }
   ],
   "source": [
    "soma = 0.1 + 0.2\n",
    "print(\"Valor bruto:\", soma)\n",
    "print(\"Valor arredondado:\", round(soma, 2))"
   ]
  },
  {
   "cell_type": "markdown",
   "id": "995b5a0c-2911-4366-aab7-d714c9cdd70c",
   "metadata": {},
   "source": [
    "Se `ndigits` for omitido, `round()` retorna o inteiro mais próximo.\n",
    "\n",
    "### Exemplo:\n",
    "```python\n",
    "round(5.6) → 6  \n",
    "round(4.3) → 4\n"
   ]
  },
  {
   "cell_type": "code",
   "execution_count": 3,
   "id": "defd204e-33c6-46f1-9a85-0e9462efb455",
   "metadata": {},
   "outputs": [
    {
     "name": "stdout",
     "output_type": "stream",
     "text": [
      "4\n",
      "3\n"
     ]
    }
   ],
   "source": [
    "print(round(3.7))\n",
    "print(round(3.3))"
   ]
  },
  {
   "cell_type": "markdown",
   "id": "b8bda26e-255b-4cc0-87e4-4deacb74ef64",
   "metadata": {},
   "source": [
    "## ✅ Resumo da seção – Erros de ponto flutuante\n",
    "\n",
    "- Números decimais em Python (`float`) são representados com precisão finita em binário;\n",
    "- Isso pode causar resultados inesperados, como `0.1 + 0.2 != 0.3`;\n",
    "- Use a função `round()` para apresentar os valores com controle de casas decimais;\n",
    "- O arredondamento é útil para exibir resultados, mas a **imprecisão interna permanece**;\n",
    "- Esse comportamento ocorre em **todas as linguagens modernas** baseadas no padrão IEEE 754.\n",
    "\n",
    "---\n"
   ]
  },
  {
   "cell_type": "markdown",
   "id": "1ba36757-3416-42a3-82e4-f92703606bb2",
   "metadata": {},
   "source": [
    "## ✅ Exercícios práticos recomendados\n",
    "\n",
    "1. Execute a expressão `0.3 - 0.1 - 0.1 - 0.1`. O que você observa? Explique.\n",
    "2. Calcule `0.1 + 0.2` e compare com `0.3` usando `==`. Em seguida, compare com `round(0.1 + 0.2, 2) == round(0.3, 2)`.\n",
    "3. Crie uma pequena calculadora de média que leia três notas (`float`) e imprima o resultado com 1 casa decimal.\n",
    "4. Use `round()` para arredondar `3.1415926535` com 2, 4 e 6 casas decimais.\n",
    "5. Simule uma operação financeira e mostre como evitar erros de arredondamento com valores como `1.10 + 2.20`.\n",
    "\n",
    "---\n"
   ]
  },
  {
   "cell_type": "markdown",
   "id": "3aaeb5c7-b39f-4052-bed5-c6bacc392451",
   "metadata": {},
   "source": [
    "# 🧠 Seção 2.4 – Divisão de Inteiros (Dividing Integers)\n",
    "\n",
    "## Objetivos de aprendizagem\n",
    "\n",
    "Após esta seção, você deverá ser capaz de:\n",
    "\n",
    "- Diferenciar entre divisão real (`/`) e divisão inteira (`//`);\n",
    "- Utilizar o operador de **resto** (`%`) para obter o valor da divisão módulo;\n",
    "- Compreender o comportamento de arredondamento do operador `//`;\n",
    "- Aplicar esses operadores para resolver problemas com inteiros, como decomposição de valores.\n"
   ]
  },
  {
   "cell_type": "markdown",
   "id": "db1e5743-1a2f-4a42-ba03-596260f9ea2a",
   "metadata": {},
   "source": [
    "## ➗ Operadores de divisão em Python\n",
    "\n",
    "Python oferece **dois operadores distintos** para divisão de números:\n",
    "\n",
    "| Operador | Nome              | Descrição                                         |\n",
    "|----------|-------------------|--------------------------------------------------|\n",
    "| `/`      | Divisão real      | Retorna um número decimal (float), mesmo entre inteiros |\n",
    "| `//`     | Divisão inteira   | Retorna apenas a parte inteira da divisão (sem casas decimais) |\n",
    "| `%`      | Resto da divisão  | Retorna o valor restante após a divisão inteira (módulo) |\n",
    "\n",
    "---\n"
   ]
  },
  {
   "cell_type": "code",
   "execution_count": 4,
   "id": "90ab541c-392d-4fe3-98b8-7c73a741d04b",
   "metadata": {},
   "outputs": [
    {
     "name": "stdout",
     "output_type": "stream",
     "text": [
      "Divisão real: 3.4\n",
      "Divisão inteira: 3\n",
      "Resto da divisão: 2\n"
     ]
    }
   ],
   "source": [
    "a = 17\n",
    "b = 5\n",
    "\n",
    "print(\"Divisão real:\", a / b)     # 3.4\n",
    "print(\"Divisão inteira:\", a // b) # 3\n",
    "print(\"Resto da divisão:\", a % b) # 2"
   ]
  },
  {
   "cell_type": "markdown",
   "id": "f7dd57af-274f-4eee-9a42-478d09f4837e",
   "metadata": {},
   "source": [
    "## 🔎 Como o `//` se comporta?\n",
    "\n",
    "O operador `//` **não arredonda para o inteiro mais próximo**.  \n",
    "Ele realiza um **arredondamento para baixo (floor)** — ou seja, retorna o maior número inteiro **menor ou igual** ao resultado.\n",
    "\n",
    "Isso afeta o comportamento com números negativos:\n"
   ]
  },
  {
   "cell_type": "code",
   "execution_count": 5,
   "id": "a6349b1f-2d4f-45d8-9528-f5c900cec1c6",
   "metadata": {},
   "outputs": [
    {
     "name": "stdout",
     "output_type": "stream",
     "text": [
      "2\n",
      "-3\n",
      "-3\n"
     ]
    }
   ],
   "source": [
    "print(7 // 3)    # 2\n",
    "print(-7 // 3)   # -3 (não -2!)\n",
    "print(7 // -3)   # -3"
   ]
  },
  {
   "cell_type": "markdown",
   "id": "1def79db-3539-441a-8bef-4f81fe48a59e",
   "metadata": {},
   "source": [
    "## 🧩 O operador `%` (módulo)\n",
    "\n",
    "O operador `%` retorna o **resto** de uma divisão inteira. Ele é útil para:\n",
    "\n",
    "- Verificar se um número é **par ou ímpar**;\n",
    "- Extrair **dígitos individuais**;\n",
    "- Repetição com base em ciclos ou divisibilidade;\n",
    "- Divisão com decomposição.\n",
    "\n",
    "### Exemplo: verificar se um número é par\n"
   ]
  },
  {
   "cell_type": "code",
   "execution_count": 6,
   "id": "8b9e17b5-9747-4ceb-95f8-cd1ee247a0ba",
   "metadata": {},
   "outputs": [
    {
     "name": "stdout",
     "output_type": "stream",
     "text": [
      "É par.\n"
     ]
    }
   ],
   "source": [
    "n = 42\n",
    "if n % 2 == 0:\n",
    "    print(\"É par.\")\n",
    "else:\n",
    "    print(\"É ímpar.\")\n"
   ]
  },
  {
   "cell_type": "code",
   "execution_count": 7,
   "id": "93748c6f-e758-4dca-9592-b124b24f7c66",
   "metadata": {},
   "outputs": [
    {
     "name": "stdout",
     "output_type": "stream",
     "text": [
      "Tempo total: 2 hora(s) e 15 minuto(s).\n"
     ]
    }
   ],
   "source": [
    "minutos_totais = 135\n",
    "horas = minutos_totais // 60\n",
    "minutos_restantes = minutos_totais % 60\n",
    "\n",
    "print(\"Tempo total:\", horas, \"hora(s) e\", minutos_restantes, \"minuto(s).\")\n"
   ]
  },
  {
   "cell_type": "markdown",
   "id": "010fdc80-ca8c-4934-89fb-91e093369c72",
   "metadata": {},
   "source": [
    "## ✅ Resumo da seção – Divisão de inteiros\n",
    "\n",
    "- Use `/` para obter resultados decimais com `float`, mesmo entre inteiros;\n",
    "- Use `//` para obter apenas a parte inteira da divisão (arredonda para baixo);\n",
    "- Use `%` para obter o **resto da divisão inteira**;\n",
    "- Esses três operadores funcionam com `int` e `float`, mas a divisão inteira e o resto são mais comuns com inteiros;\n",
    "- `//` e `%` são frequentemente usados juntos para decompor quantidades (como tempo, valores ou índices cíclicos).\n",
    "\n",
    "---\n"
   ]
  },
  {
   "cell_type": "markdown",
   "id": "bd1b6987-4323-493d-85f2-5915892c2a07",
   "metadata": {},
   "source": [
    "## ✅ Exercícios práticos recomendados\n",
    "\n",
    "1. Para o número `n = 17`, imprima:\n",
    "   - O resultado de `n / 5`\n",
    "   - O resultado de `n // 5`\n",
    "   - O resultado de `n % 5`\n",
    "\n",
    "2. Crie um programa que leia uma quantidade de segundos e converta para:\n",
    "   - horas, minutos e segundos (use `//` e `%`).\n",
    "\n",
    "3. Teste os operadores `//` e `%` com números negativos e compare com os positivos.\n",
    "\n",
    "4. Dado um número entre 0 e 999, imprima o número de centenas, dezenas e unidades (ex: `n = 345 → 3 centenas, 4 dezenas, 5 unidades`).\n",
    "\n",
    "5. Escreva uma função que determine se um número é múltiplo de 3 **e** de 5.\n",
    "\n",
    "---\n"
   ]
  },
  {
   "cell_type": "markdown",
   "id": "8dfd3a04-b2d1-40a2-b99e-42a45b79e0b0",
   "metadata": {},
   "source": [
    "# 🧠 Seção 2.5 – O módulo `math`\n",
    "\n",
    "## Objetivos de aprendizagem\n",
    "\n",
    "Após esta seção, você deverá ser capaz de:\n",
    "\n",
    "- Importar e utilizar o módulo `math` da biblioteca padrão do Python;\n",
    "- Utilizar funções matemáticas como `sqrt()`, `pow()`, `log()`, `sin()`, `cos()` e `floor()`/`ceil()`;\n",
    "- Acessar constantes como `math.pi` e `math.e`;\n",
    "- Entender que funções do módulo `math` operam sobre valores numéricos e retornam `float`.\n"
   ]
  },
  {
   "cell_type": "markdown",
   "id": "9b17696c-d1d0-4980-bf1d-bc98f6c0f21e",
   "metadata": {},
   "source": [
    "## 🧮 O que é o módulo `math`?\n",
    "\n",
    "Python oferece um módulo embutido chamado `math`, que fornece **funções matemáticas mais avançadas** e **constantes**, baseadas na biblioteca padrão do C.\n",
    "\n",
    "Para utilizá-lo, é necessário **importar o módulo**:\n",
    "\n",
    "```python\n",
    "import math\n",
    "```\n",
    "Após isso, você pode chamar as funções usando a notação `math.nome_da_função()`.\n"
   ]
  },
  {
   "cell_type": "code",
   "execution_count": 1,
   "id": "31dadc83-1645-4b0f-b5c9-541fe53b8494",
   "metadata": {},
   "outputs": [
    {
     "name": "stdout",
     "output_type": "stream",
     "text": [
      "Raiz quadrada de 25: 5.0\n"
     ]
    }
   ],
   "source": [
    "import math\n",
    "\n",
    "raiz = math.sqrt(25)\n",
    "print(\"Raiz quadrada de 25:\", raiz)"
   ]
  },
  {
   "cell_type": "markdown",
   "id": "b1d4c559-5046-4f98-891c-734f9ce216b8",
   "metadata": {},
   "source": [
    "## 🔧 Funções mais utilizadas em `math`\n",
    "\n",
    "| Função             | Descrição                                  |\n",
    "|--------------------|---------------------------------------------|\n",
    "| `math.sqrt(x)`     | Raiz quadrada de `x`                        |\n",
    "| `math.pow(x, y)`   | `x` elevado à potência `y` (retorna `float`)|\n",
    "| `math.log(x)`      | Logaritmo natural de `x` (base `e`)         |\n",
    "| `math.log10(x)`    | Logaritmo de `x` na base 10                 |\n",
    "| `math.exp(x)`      | `e` elevado à potência `x`                  |\n",
    "| `math.sin(x)`      | Seno de `x` (em radianos)                   |\n",
    "| `math.cos(x)`      | Cosseno de `x` (em radianos)                |\n",
    "| `math.floor(x)`    | Maior inteiro **menor ou igual** a `x`     |\n",
    "| `math.ceil(x)`     | Menor inteiro **maior ou igual** a `x`     |\n"
   ]
  },
  {
   "cell_type": "code",
   "execution_count": 2,
   "id": "b76e35f0-697c-436b-b635-dd612ad3644f",
   "metadata": {},
   "outputs": [
    {
     "name": "stdout",
     "output_type": "stream",
     "text": [
      "Potência 2^3: 8.0\n",
      "Logaritmo natural de e: 1.0\n",
      "Seno de 90°: 1.0\n",
      "Cosseno de 0°: 1.0\n",
      "Arredondamento para baixo de 3.7: 3\n",
      "Arredondamento para cima de 3.1: 4\n"
     ]
    }
   ],
   "source": [
    "import math\n",
    "\n",
    "print(\"Potência 2^3:\", math.pow(2, 3))\n",
    "print(\"Logaritmo natural de e:\", math.log(math.e))\n",
    "print(\"Seno de 90°:\", math.sin(math.radians(90)))\n",
    "print(\"Cosseno de 0°:\", math.cos(math.radians(0)))\n",
    "print(\"Arredondamento para baixo de 3.7:\", math.floor(3.7))\n",
    "print(\"Arredondamento para cima de 3.1:\", math.ceil(3.1))\n"
   ]
  },
  {
   "cell_type": "markdown",
   "id": "f97702da-9ff0-410d-bb8b-e2f72f6cf916",
   "metadata": {},
   "source": [
    "## 📐 Constantes matemáticas\n",
    "\n",
    "O módulo `math` também fornece constantes úteis como:\n",
    "\n",
    "- `math.pi` → valor de π (3.14159…)\n",
    "- `math.e` → base do logaritmo natural (2.71828…)\n",
    "\n",
    "Essas constantes são frequentemente usadas em funções trigonométricas e logarítmicas.\n"
   ]
  },
  {
   "cell_type": "code",
   "execution_count": 3,
   "id": "ada060f9-0eae-41b6-8a4f-7098c19e3ce3",
   "metadata": {},
   "outputs": [
    {
     "name": "stdout",
     "output_type": "stream",
     "text": [
      "π (pi): 3.141592653589793\n",
      "e (base log natural): 2.718281828459045\n",
      "Área de um círculo com raio 5: 78.53981633974483\n"
     ]
    }
   ],
   "source": [
    "import math\n",
    "\n",
    "print(\"π (pi):\", math.pi)\n",
    "print(\"e (base log natural):\", math.e)\n",
    "print(\"Área de um círculo com raio 5:\", math.pi * (5 ** 2))\n"
   ]
  },
  {
   "cell_type": "markdown",
   "id": "8a1ba5f1-709f-434e-8a7a-b0f8ad26bf37",
   "metadata": {},
   "source": [
    "## ✅ Resumo da seção – O módulo `math`\n",
    "\n",
    "- O módulo `math` precisa ser importado com `import math`;\n",
    "- Ele fornece funções matemáticas precisas e rápidas (baseadas na linguagem C);\n",
    "- `math.sqrt()`, `math.pow()`, `math.log()`, `math.sin()`, `math.floor()`, entre outras, retornam `float`;\n",
    "- As funções trigonométricas usam radianos. Use `math.radians()` e `math.degrees()` para conversões;\n",
    "- Constantes `math.pi` e `math.e` são úteis para cálculos matemáticos e científicos.\n",
    "\n",
    "---\n"
   ]
  },
  {
   "cell_type": "markdown",
   "id": "31fca083-3a44-4da5-8044-168639a11ca4",
   "metadata": {},
   "source": [
    "## ✅ Exercícios práticos recomendados\n",
    "\n",
    "1. Calcule a área de um círculo com raio fornecido pelo usuário.  \n",
    "   Fórmula: `A = π * r²`\n",
    "\n",
    "2. Peça ao usuário um número e imprima:\n",
    "   - Sua raiz quadrada;\n",
    "   - Seu logaritmo natural;\n",
    "   - Seu arredondamento para cima e para baixo.\n",
    "\n",
    "3. Crie uma função que converta graus para radianos e calcule o seno do ângulo.\n",
    "\n",
    "4. Calcule a altura de um triângulo dado o valor da hipotenusa e do ângulo adjacente (use trigonometria com `cos`).\n",
    "\n",
    "5. Mostre a diferença entre usar `**` e `math.pow()` para exponenciação.\n",
    "\n",
    "---\n"
   ]
  },
  {
   "cell_type": "markdown",
   "id": "427a90d6-d858-4379-8e1e-a4d503e6d3b9",
   "metadata": {},
   "source": [
    "# 🧠 Seção 2.6 – Formatação de Código (Formatting Code)\n",
    "\n",
    "## Objetivos de aprendizagem\n",
    "\n",
    "Após esta seção, você deverá ser capaz de:\n",
    "\n",
    "- Identificar boas práticas de formatação de código Python;\n",
    "- Utilizar recuo (indentação) corretamente;\n",
    "- Organizar visualmente estruturas de decisão e repetição;\n",
    "- Escrever código limpo e legível, seguindo o padrão da comunidade (PEP 8).\n"
   ]
  },
  {
   "cell_type": "markdown",
   "id": "a61a0871-4b20-4a59-aa2d-807415d65ce1",
   "metadata": {},
   "source": [
    "Exemplo mal formatado\n",
    "```python \n",
    "x=10\n",
    "if x>5:\n",
    "print(\"x é maior que 5\")\n",
    "```\n",
    "⚠️ Isso resultará em erro de indentação. O Python exige blocos com recuo.\n"
   ]
  },
  {
   "cell_type": "markdown",
   "id": "96677bb8-0f9e-4269-8175-f341c1f266ad",
   "metadata": {},
   "source": [
    "## 🧾 Regras essenciais de formatação em Python\n",
    "\n",
    "- Use **4 espaços** para cada nível de indentação (não use tabulação);\n",
    "- Sempre insira espaços **ao redor de operadores**:\n",
    "  - `a = b + c` (✅) vs. `a=b+c` (❌)\n",
    "- Separe funções e blocos com uma **linha em branco**;\n",
    "- Evite linhas muito longas (limite recomendado: **79 caracteres**).\n",
    "\n",
    "Exemplo bem formatado:\n",
    "\n",
    "```python\n",
    "def somar(a, b):\n",
    "    resultado = a + b\n",
    "    return resultado\n"
   ]
  },
  {
   "cell_type": "markdown",
   "id": "aa705219-48e2-418d-a0e9-9288b86b7b87",
   "metadata": {},
   "source": [
    "## 🧰 Guia PEP 8 e ferramentas automáticas\n",
    "\n",
    "A [PEP 8](https://peps.python.org/pep-0008/) é o documento oficial com as recomendações de estilo para código Python.\n",
    "\n",
    "Ferramentas úteis para validar automaticamente seu código:\n",
    "\n",
    "- `flake8`: analisa formatação e estilo.\n",
    "- `black`: formata seu código automaticamente.\n",
    "- `isort`: organiza as importações.\n",
    "- IDEs como VSCode e PyCharm já integram essas ferramentas.\n",
    "\n",
    "Exemplo com `black` (terminal):\n",
    "\n",
    "```bash\n",
    "black meu_script.py\n",
    "```\n"
   ]
  },
  {
   "cell_type": "markdown",
   "id": "68c0e07d-25cc-43da-9f25-31d8719b397a",
   "metadata": {},
   "source": [
    "## ✅ Resumo da seção – Formatação de Código\n",
    "\n",
    "- A indentação é **obrigatória** em Python para definir blocos de código;\n",
    "- Seguir convenções como as da PEP 8 torna o código mais limpo e sustentável;\n",
    "- Usar 4 espaços por nível de recuo é a norma;\n",
    "- Evite erros comuns como: ausência de indentação, falta de espaços em expressões e linhas longas demais;\n",
    "- Ferramentas automáticas como `black` ajudam a manter o padrão.\n",
    "\n",
    "---"
   ]
  },
  {
   "cell_type": "markdown",
   "id": "855869a9-0d98-46b0-975f-324f6c9437ff",
   "metadata": {},
   "source": [
    "## ✅ Exercícios práticos recomendados\n",
    "\n",
    "1. Corrija o seguinte código com erro de indentação:\n",
    "\n",
    "```python\n",
    "valor = 7\n",
    "if valor < 10:\n",
    "print(\"Valor pequeno\")\n",
    "```\n",
    "2. Reescreva este trecho aplicando PEP 8:\n",
    "```python\n",
    "def subtrair(a,b):\n",
    "return a-b\n",
    "\n",
    "```\n",
    "\n",
    "3. Use `black` ou `flake8` para verificar a formatação de um código próprio.\n",
    "4. Leia a documentação da PEP 8 e destaque três regras que você ainda não seguia."
   ]
  },
  {
   "cell_type": "code",
   "execution_count": null,
   "id": "95ad8a60-2cfe-4da1-8283-05d6b692f945",
   "metadata": {},
   "outputs": [],
   "source": []
  }
 ],
 "metadata": {
  "kernelspec": {
   "display_name": "Python 3 (ipykernel)",
   "language": "python",
   "name": "python3"
  },
  "language_info": {
   "codemirror_mode": {
    "name": "ipython",
    "version": 3
   },
   "file_extension": ".py",
   "mimetype": "text/x-python",
   "name": "python",
   "nbconvert_exporter": "python",
   "pygments_lexer": "ipython3",
   "version": "3.13.7"
  }
 },
 "nbformat": 4,
 "nbformat_minor": 5
}
