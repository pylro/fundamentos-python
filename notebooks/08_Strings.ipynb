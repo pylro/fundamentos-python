{
 "cells": [
  {
   "cell_type": "markdown",
   "id": "52cf1d4c-863b-49d9-bde7-7de120403dc9",
   "metadata": {},
   "source": [
    "# Capítulo 8 – Strings\n",
    "> **Adriano Pylro - Engenheiro Mecânico - Dr. Eng,** \n",
    "\n",
    "## 8.1 Operações com Strings\n",
    "\n",
    "Uma **string** em Python é uma sequência de caracteres delimitada por aspas simples (`'`), duplas (`\"`) ou triplas (`'''` ou `\"\"\"`).  \n",
    "Strings podem conter letras, números, símbolos e espaços.  \n",
    "\n",
    "Exemplos:\n",
    "- `'Python'`\n",
    "- `\"Engenharia\"`\n",
    "- `\"\"\"Texto de várias linhas\"\"\"`\n",
    "\n",
    "---\n",
    "\n",
    "## 🔹 Criação de strings\n",
    "Strings podem ser atribuídas diretamente a variáveis:\n",
    "\n",
    "```python\n",
    "nome = \"Maria\"\n",
    "mensagem = 'Bem-vindo(a)'\n",
    "texto_longo = \"\"\"Esta é\n",
    "uma string\n",
    "em várias linhas.\"\"\"\n"
   ]
  },
  {
   "cell_type": "markdown",
   "id": "652572d1-ad1a-4420-ae43-8cbeacc6d323",
   "metadata": {},
   "source": [
    "## 🔹 Operadores com strings\n",
    "\n",
    "Python permite usar operadores comuns para manipular strings.\n",
    "\n",
    "| Operador | Nome         | Descrição                                                   | Exemplo                          | Resultado   |\n",
    "|----------|--------------|-------------------------------------------------------------|-----------------------------------|-------------|\n",
    "| `+`      | Concatenação | Junta duas strings                                          | `\"Py\" + \"thon\"`                   | `\"Python\"`  |\n",
    "| `*`      | Repetição    | Repete a string o número especificado de vezes              | `\"ha\" * 3`                        | `\"hahaha\"`  |\n",
    "| `in`     | Pertinência  | Verifica se um valor ocorre dentro da string                | `\"tho\" in \"Python\"`               | `True`      |\n",
    "| `not in` | Não pertence | Verifica se um valor **não** ocorre dentro da string        | `\"java\" not in \"Python\"`          | `True`      |\n",
    "| `[]`     | Indexação    | Acessa caracteres individuais pela posição (0 a n-1 ou -n)  | `\"Python\"[0]`                     | `\"P\"`       |\n"
   ]
  },
  {
   "cell_type": "markdown",
   "id": "e9567f0f-f13d-4044-9ea1-a48833bfe636",
   "metadata": {},
   "source": [
    "## 🔹 Indexação\n",
    "\n",
    "Cada caractere de uma string possui um índice.\n",
    "\n",
    "Para `\"Python\"`:\n",
    "\n",
    "- **Índices positivos:** `P(0) y(1) t(2) h(3) o(4) n(5)`  \n",
    "- **Índices negativos:** `P(-6) y(-5) t(-4) h(-3) o(-2) n(-1)`  \n",
    "\n",
    "A indexação com `[]` retorna um caractere específico.\n"
   ]
  },
  {
   "cell_type": "code",
   "execution_count": 1,
   "id": "53edc290-95f0-4952-9910-6ade817c93eb",
   "metadata": {},
   "outputs": [
    {
     "name": "stdout",
     "output_type": "stream",
     "text": [
      "P\n",
      "n\n",
      "t\n",
      "t\n"
     ]
    }
   ],
   "source": [
    "texto = \"Python\"\n",
    "\n",
    "print(texto[0])   # Primeiro caractere (P)\n",
    "print(texto[-1])  # Último caractere (n)\n",
    "print(texto[2])   # Terceiro caractere (t)\n",
    "print(texto[-4])  # Quarto caractere a partir do final (t)\n"
   ]
  },
  {
   "cell_type": "markdown",
   "id": "d042a30b-1040-4f84-83bc-1612fe2b94bf",
   "metadata": {},
   "source": [
    "## 🔹 Imutabilidade\n",
    "Strings são imutáveis, ou seja, não é possível alterar caracteres diretamente:"
   ]
  },
  {
   "cell_type": "markdown",
   "id": "79845f98-a260-4268-aa72-23032492cc81",
   "metadata": {},
   "source": [
    "```python\n",
    "s = \"Python\"\n",
    "s[0] = \"p\"  # ❌ Erro: TypeError"
   ]
  },
  {
   "cell_type": "markdown",
   "id": "5ae9ce42-b4bb-480c-af06-32376b183c1a",
   "metadata": {},
   "source": [
    "Para modificar, é preciso criar uma nova string:"
   ]
  },
  {
   "cell_type": "code",
   "execution_count": 7,
   "id": "832c431a-13ee-4500-8c1e-8d95e8267eb8",
   "metadata": {},
   "outputs": [
    {
     "name": "stdout",
     "output_type": "stream",
     "text": [
      "python\n"
     ]
    }
   ],
   "source": [
    "s = \"Python\"\n",
    "s_mod = \"p\" + s[1:]\n",
    "print(s_mod)"
   ]
  },
  {
   "cell_type": "markdown",
   "id": "c9b13564-9f70-4b65-9c5c-8182c5891366",
   "metadata": {},
   "source": [
    "✅ Resumo desta seção\n",
    "Strings são sequências imutáveis de caracteres.\n",
    "\n",
    "- Podem ser criadas com aspas simples, duplas ou triplas.\n",
    "\n",
    "- Operadores comuns: `+` (concatenação), `*` (repetição), `in/not in` (pertinência) e indexação `[]`.\n",
    "\n",
    "- Índices positivos contam do início; negativos contam do final.\n",
    "\n",
    "- Strings não podem ser alteradas diretamente; é preciso criar novas."
   ]
  },
  {
   "cell_type": "code",
   "execution_count": 8,
   "id": "fc75f568-0c22-40d8-9057-cce2f35fdf09",
   "metadata": {},
   "outputs": [
    {
     "name": "stdout",
     "output_type": "stream",
     "text": [
      "Python\n",
      "Engenharia\n",
      "Texto\n",
      "de várias linhas\n"
     ]
    }
   ],
   "source": [
    "# Criação de strings\n",
    "s1 = \"Python\"\n",
    "s2 = 'Engenharia'\n",
    "s3 = \"\"\"Texto\n",
    "de várias linhas\"\"\"\n",
    "\n",
    "print(s1)\n",
    "print(s2)\n",
    "print(s3)"
   ]
  },
  {
   "cell_type": "code",
   "execution_count": 9,
   "id": "61433437-0856-40ec-90f3-3f3960015314",
   "metadata": {},
   "outputs": [
    {
     "name": "stdout",
     "output_type": "stream",
     "text": [
      "Python\n"
     ]
    }
   ],
   "source": [
    "# Concatenação\n",
    "linguagem = \"Py\" + \"thon\"\n",
    "print(linguagem)"
   ]
  },
  {
   "cell_type": "code",
   "execution_count": 11,
   "id": "9372f317-8cbb-4842-811f-d826a88215df",
   "metadata": {},
   "outputs": [
    {
     "name": "stdout",
     "output_type": "stream",
     "text": [
      "hahaha\n"
     ]
    }
   ],
   "source": [
    "# Repetição\n",
    "risada = \"ha\" * 3\n",
    "print(risada)"
   ]
  },
  {
   "cell_type": "code",
   "execution_count": 12,
   "id": "1b358185-0298-48c8-9fd9-42f9fc6db6b8",
   "metadata": {},
   "outputs": [
    {
     "name": "stdout",
     "output_type": "stream",
     "text": [
      "True\n",
      "True\n"
     ]
    }
   ],
   "source": [
    "# Pertinência\n",
    "print(\"tho\" in \"Python\")      # True\n",
    "print(\"java\" not in \"Python\") # True"
   ]
  },
  {
   "cell_type": "code",
   "execution_count": 13,
   "id": "083101e3-17ad-426d-8419-93498ba31b7d",
   "metadata": {},
   "outputs": [
    {
     "name": "stdout",
     "output_type": "stream",
     "text": [
      "P\n",
      "n\n"
     ]
    }
   ],
   "source": [
    "# Indexação\n",
    "print(s1[0])   # 'P'\n",
    "print(s1[-1])  # 'n'"
   ]
  },
  {
   "cell_type": "code",
   "execution_count": 14,
   "id": "1ab05560-4cc4-4615-a51b-8776ad8e4c39",
   "metadata": {},
   "outputs": [
    {
     "name": "stdout",
     "output_type": "stream",
     "text": [
      "Erro: 'str' object does not support item assignment\n",
      "python\n"
     ]
    }
   ],
   "source": [
    "# Tentativa de alterar uma string (erro)\n",
    "try:\n",
    "    s = \"Python\"\n",
    "    s[0] = \"p\"\n",
    "except TypeError as e:\n",
    "    print(\"Erro:\", e)\n",
    "\n",
    "# Forma correta: criar nova string\n",
    "s = \"Python\"\n",
    "s_mod = \"p\" + s[1:]\n",
    "print(s_mod)  # 'python'"
   ]
  },
  {
   "cell_type": "markdown",
   "id": "25ed868d-cb18-4b45-83fb-62cbef659e31",
   "metadata": {},
   "source": [
    "## 🧪 Exercícios – Operações com Strings"
   ]
  },
  {
   "cell_type": "markdown",
   "id": "8d77ffd5-23e3-4d26-82a2-012fec68ebd8",
   "metadata": {},
   "source": [
    "1. Crie uma string `\"Engenharia\"` e:\n",
    "   - Imprima o primeiro e o último caractere usando indexação positiva e negativa.\n",
    "   - Verifique se `\"gia\"` está na string.\n",
    "   - Repita a string 3 vezes.\n",
    "\n",
    "2. Escreva um programa que:\n",
    "   - Peça ao usuário para digitar seu primeiro nome.\n",
    "   - Concatene com o sobrenome `\"Silva\"`.\n",
    "   - Exiba a mensagem: `\"Nome completo: <nome> <sobrenome>\"`.\n",
    "\n",
    "3. Dada a string `frase = \"Python é incrível\"`:\n",
    "   - Substitua o primeiro caractere por `\"J\"` (usando slicing e concatenação).\n",
    "   - Verifique se `\"Java\"` está **não** presente.\n",
    "\n",
    "4. Explique, com exemplo, por que strings em Python são imutáveis."
   ]
  },
  {
   "cell_type": "markdown",
   "id": "4a5e1fcb-354c-4a3b-b06d-4ac4dd0f5c02",
   "metadata": {},
   "source": [
    "# 8.2 – Fatiamento de Strings (String Slicing)\n",
    "\n",
    "O **fatiamento** permite obter uma parte de uma string, criando uma nova string a partir da original.\n",
    "\n",
    "A sintaxe básica é:\n",
    "\n",
    "```python\n",
    "string[início:fim:passo]\n",
    "```\n",
    "- início: índice inicial (inclusivo).\n",
    "\n",
    "- fim: índice final (exclusivo).\n",
    "\n",
    "- passo: valor opcional que indica o salto entre índices (padrão é 1).\n",
    "\n",
    "Se algum dos valores for omitido:\n",
    "\n",
    "- início padrão é 0.\n",
    "\n",
    "- fim padrão é o comprimento da string (len(string)).\n",
    "\n",
    "- passo padrão é 1."
   ]
  },
  {
   "cell_type": "markdown",
   "id": "6a8e2714-8dcd-413d-8eb1-cb7858cd50a6",
   "metadata": {},
   "source": [
    "## 🔹 Exemplos\n",
    "\n",
    "| Código        | Resultado  | Explicação                         |\n",
    "|---------------|------------|------------------------------------|\n",
    "| `texto[0:4]`  | `\"Pyth\"`   | Do índice 0 até antes do índice 4  |\n",
    "| `texto[2:]`   | `\"thon\"`   | Do índice 2 até o final            |\n",
    "| `texto[:3]`   | `\"Pyt\"`    | Do início até antes do índice 3    |\n",
    "| `texto[-3:]`  | `\"hon\"`    | Últimos 3 caracteres               |\n",
    "| `texto[::2]`  | `\"Pto\"`    | Salta de 2 em 2                    |\n",
    "| `texto[::-1]` | `\"nohtyP\"` | Inverte a string                   |\n"
   ]
  },
  {
   "cell_type": "markdown",
   "id": "9e53b268-85bc-45b4-b2f6-7cf3ac5a9172",
   "metadata": {},
   "source": [
    "## 📌 Observações importantes\n",
    "- O fatiamento nunca altera a string original.\n",
    "\n",
    "- Índices fora do intervalo não causam erro: Python ajusta automaticamente ao tamanho válido.\n",
    "\n",
    "- O uso de índices negativos é comum para acessar elementos a partir do final."
   ]
  },
  {
   "cell_type": "code",
   "execution_count": 15,
   "id": "0000d2b4-cc88-4b86-9de9-f16200fbf8d4",
   "metadata": {},
   "outputs": [
    {
     "name": "stdout",
     "output_type": "stream",
     "text": [
      "Pyth\n",
      "thon\n",
      "Pyt\n",
      "hon\n",
      "Pto\n",
      "nohtyP\n"
     ]
    }
   ],
   "source": [
    "texto = \"Python\"\n",
    "\n",
    "# Exemplos básicos de slicing\n",
    "print(texto[0:4])    # Pyth\n",
    "print(texto[2:])     # thon\n",
    "print(texto[:3])     # Pyt\n",
    "print(texto[-3:])    # hon\n",
    "print(texto[::2])    # Pto\n",
    "print(texto[::-1])   # nohtyP"
   ]
  },
  {
   "cell_type": "markdown",
   "id": "225e0b63-8b8c-417b-b2f8-e51cdbffe6bb",
   "metadata": {},
   "source": [
    "## 📝 Exercícios – String Slicing\n",
    "\n",
    "1. Crie uma string com o valor `\"Programação\"` e use **fatiamento** para exibir:\n",
    "   - Os quatro primeiros caracteres;\n",
    "   - Do quinto caractere até o final;\n",
    "   - Os últimos três caracteres.\n",
    "\n",
    "2. Usando a string `\"Aprendizado\"`, faça:\n",
    "   - Uma cópia invertida da string;\n",
    "   - Apenas as letras nas posições pares (considerando índice começando em 0);\n",
    "   - Apenas as letras nas posições ímpares.\n",
    "\n",
    "3. Dada a string `\"Inteligência Artificial\"`, utilize slicing para:\n",
    "   - Extrair a palavra `\"Inteligência\"`;\n",
    "   - Extrair a palavra `\"Artificial\"`;\n",
    "   - Mostrar apenas as cinco últimas letras.\n",
    "\n",
    "4. Com a string `\"Python\"`, escreva uma expressão de fatiamento que:\n",
    "   - Produza `\"Pto\"`;\n",
    "   - Produza `\"yhn\"`;\n",
    "   - Inverta a string.\n",
    "\n",
    "5. Desafio: crie um programa que receba uma frase digitada pelo usuário e:\n",
    "   - Mostre os três primeiros caracteres;\n",
    "   - Mostre os três últimos caracteres;\n",
    "   - Mostre a frase invertida.\n"
   ]
  },
  {
   "cell_type": "markdown",
   "id": "9b5ebce8-5a15-4713-9481-48b4bd8d848a",
   "metadata": {},
   "source": [
    "# 8.3 – Busca e Teste em Strings\n",
    "\n",
    "Python fornece métodos para **verificar** e **buscar** conteúdo dentro de strings.  \n",
    "Esses métodos retornam geralmente **valores booleanos** (`True` ou `False`) ou índices, permitindo testar e localizar padrões de texto.\n",
    "\n",
    "---\n",
    "\n",
    "## 🔍 Métodos de teste (retornam True ou False)\n",
    "\n",
    "| Método                  | Descrição                                                       | Exemplo                                | Resultado |\n",
    "|------------------------|-----------------------------------------------------------------|----------------------------------------|-----------|\n",
    "| `str.startswith(sub)`  | Verifica se a string começa com `sub`.                          | `\"Python\".startswith(\"Py\")`            | `True`    |\n",
    "| `str.endswith(sub)`    | Verifica se a string termina com `sub`.                         | `\"Python\".endswith(\"on\")`               | `True`    |\n",
    "| `str.isalpha()`        | Retorna `True` se todos os caracteres forem letras.             | `\"abc\".isalpha()`                       | `True`    |\n",
    "| `str.isdigit()`        | Retorna `True` se todos os caracteres forem dígitos.            | `\"123\".isdigit()`                       | `True`    |\n",
    "| `str.isalnum()`        | Retorna `True` se todos os caracteres forem letras ou dígitos.  | `\"abc123\".isalnum()`                    | `True`    |\n",
    "| `str.isspace()`        | Retorna `True` se todos os caracteres forem espaços.            | `\"   \".isspace()`                        | `True`    |\n",
    "| `str.islower()`        | Retorna `True` se todos os caracteres estiverem em minúsculas.  | `\"python\".islower()`                    | `True`    |\n",
    "| `str.isupper()`        | Retorna `True` se todos os caracteres estiverem em maiúsculas.  | `\"PYTHON\".isupper()`                    | `True`    |\n",
    "\n",
    "📌 **Nota:** Estes métodos ignoram `None` e diferenciam maiúsculas e minúsculas.\n",
    "\n",
    "---\n",
    "\n",
    "## 🔎 Métodos de busca\n",
    "\n",
    "| Método                  | Descrição                                                                 | Exemplo                                    | Resultado |\n",
    "|------------------------|---------------------------------------------------------------------------|--------------------------------------------|-----------|\n",
    "| `str.find(sub)`        | Retorna o índice da primeira ocorrência de `sub`, ou `-1` se não encontrar.| `\"banana\".find(\"na\")`                       | `2`       |\n",
    "| `str.rfind(sub)`       | Retorna o índice da última ocorrência de `sub`, ou `-1` se não encontrar. | `\"banana\".rfind(\"na\")`                      | `4`       |\n",
    "| `str.index(sub)`       | Igual a `find()`, mas gera erro `ValueError` se não encontrar.            | `\"banana\".index(\"na\")`                      | `2`       |\n",
    "| `str.count(sub)`       | Retorna o número de ocorrências de `sub`.                                 | `\"banana\".count(\"na\")`                      | `2`       |\n",
    "\n",
    "💡 **Dica:** Prefira `find()` quando quiser evitar exceções caso o texto não exista.\n",
    "\n",
    "\n"
   ]
  },
  {
   "cell_type": "markdown",
   "id": "931aae3a-3f4a-4070-9898-972478e3da0b",
   "metadata": {},
   "source": [
    "## 📌 Exemplo prático"
   ]
  },
  {
   "cell_type": "code",
   "execution_count": 16,
   "id": "a701fc35-6f63-40e8-93f9-6c84e04c358f",
   "metadata": {},
   "outputs": [
    {
     "name": "stdout",
     "output_type": "stream",
     "text": [
      "True\n",
      "True\n",
      "9\n",
      "3\n"
     ]
    }
   ],
   "source": [
    "texto = \"Aprender Python é divertido\"\n",
    "\n",
    "print(texto.startswith(\"Aprender\"))  # True\n",
    "print(texto.endswith(\"divertido\"))   # True\n",
    "print(texto.find(\"Python\"))           # 9\n",
    "print(texto.count(\"e\"))               # 3"
   ]
  },
  {
   "cell_type": "markdown",
   "id": "8cd5527e-512e-43eb-b52f-b8023a7b594e",
   "metadata": {},
   "source": [
    "✅ Resumo da seção\n",
    "- Métodos de teste (`isalpha()`, `isdigit()`, etc.) ajudam a validar o conteúdo da string.\n",
    "\n",
    "- Métodos de busca (`find()`, `count()`, etc.) ajudam a localizar e quantificar padrões.\n",
    "\n",
    "- São muito usados em validação de dados, filtros de entrada e processamento de texto."
   ]
  },
  {
   "cell_type": "markdown",
   "id": "2f517bd8-6a45-4f60-a25c-099b008d23a9",
   "metadata": {},
   "source": [
    "## 🧪 Exercícios práticos\n",
    "\n",
    "1) **Validação simples de usuário**  \n",
    "   Regras: somente letras e dígitos (`isalnum()`), tamanho entre 3 e 12.\n",
    "\n",
    "2) **Contar vogais** em um texto, sem diferenciar maiúsculas/minúsculas.\n",
    "\n",
    "3) **Encontrar todas as ocorrências** de um padrão em uma string (retornar lista de índices).\n",
    "\n",
    "4) **Validação de e-mail (simplificada)**  \n",
    "   Deve conter `'@'` e terminar com um domínio permitido (ex.: `\".com\"`, `\".org\"`, `\".edu\"`).\n",
    "\n",
    "5) **Teste “começa/termina com” ignorando caixa**  \n",
    "   `startswith` e `endswith` case-insensitive.\n",
    "\n",
    "6) **Somente dígitos**  \n",
    "   Verificar se uma string contém apenas dígitos (`isdigit()`). Testar casos: `\"123\"`, `\"12 3\"`, `\"１２３\"` (dígitos de largura inteira).\n",
    "\n",
    "7) **Contar palavras alvo**  \n",
    "   Dado um texto, contar quantas vezes cada palavra alvo aparece (busca ingênua, sensível a palavras inteiras simples).\n"
   ]
  },
  {
   "cell_type": "markdown",
   "id": "263430f0-eb7e-47d5-97f2-1ae4340d0419",
   "metadata": {},
   "source": [
    "## 📄 Soluções comentadas"
   ]
  },
  {
   "cell_type": "markdown",
   "id": "fe4e3199-a6b8-4697-9ff6-825bd8fd7bc2",
   "metadata": {},
   "source": [
    "```python\n",
    "from typing import List, Dict\n",
    "\n",
    "# 1) Validação simples de usuário\n",
    "def usuario_valido(s: str) -> bool:\n",
    "    \"\"\"Retorna True se s for alfanumérico e 3 <= len(s) <= 12.\"\"\"\n",
    "    return s.isalnum() and (3 <= len(s) <= 12)\n",
    "\n",
    "# Testes\n",
    "print(\"1) Validação usuário\")\n",
    "for u in [\"ana\", \"jo\", \"maria123\", \"com-erro\", \"nome_muito_longo_123\"]:\n",
    "    print(f\"{u!r} ->\", usuario_valido(u))\n",
    "print(\"-\" * 40)\n",
    "\n",
    "\n",
    "# 2) Contar vogais (a, e, i, o, u) sem diferenciar caixa\n",
    "def contar_vogais(txt: str) -> int:\n",
    "    \"\"\"Conta vogais aeiou (sem acentos) no texto, ignorando caixa.\"\"\"\n",
    "    vogais = set(\"aeiou\")\n",
    "    return sum(1 for ch in txt.lower() if ch in vogais)\n",
    "\n",
    "print(\"2) Contar vogais\")\n",
    "print(contar_vogais(\"Aprender Python é divertido\"))  # conta só aeiou\n",
    "print(\"-\" * 40)\n",
    "\n",
    "\n",
    "# 3) Encontrar todas as ocorrências de um padrão\n",
    "def indices_de(t: str, sub: str) -> List[int]:\n",
    "    \"\"\"Retorna todos os índices de início de 'sub' em 't' (sem sobreposição).\"\"\"\n",
    "    if not sub:\n",
    "        return []\n",
    "    achados = []\n",
    "    i = 0\n",
    "    while True:\n",
    "        i = t.find(sub, i)\n",
    "        if i == -1:\n",
    "            break\n",
    "        achados.append(i)\n",
    "        i += len(sub)  # avança sem sobreposição; use i += 1 se quiser permitir sobreposição\n",
    "    return achados\n",
    "\n",
    "print(\"3) Índices de padrão\")\n",
    "print(indices_de(\"banana\", \"na\"))     # [2, 4]\n",
    "print(indices_de(\"aaaaa\", \"aa\"))      # [0, 2] (sem sobreposição)\n",
    "print(\"-\" * 40)\n",
    "\n",
    "\n",
    "# 4) Validação de e-mail (bem simples)\n",
    "def email_valido_simples(e: str, dominios: List[str] = None) -> bool:\n",
    "    \"\"\"\n",
    "    Validação simplificada:\n",
    "    - contém '@'\n",
    "    - termina com um domínio permitido\n",
    "    - há algo antes e depois de '@'\n",
    "    \"\"\"\n",
    "    if dominios is None:\n",
    "        dominios = [\".com\", \".org\", \".edu\", \".net\", \".br\"]\n",
    "    if \"@\" not in e:\n",
    "        return False\n",
    "    usuario, sep, host = e.partition(\"@\")\n",
    "    if not usuario or not host:\n",
    "        return False\n",
    "    if not any(host.endswith(d) for d in dominios):\n",
    "        return False\n",
    "    return True\n",
    "\n",
    "print(\"4) Validação de e-mail (simples)\")\n",
    "for mail in [\"alice@empresa.com\", \"bob@\", \"@site.com\", \"carol@uni.edu\", \"david@host.xyz\"]:\n",
    "    print(f\"{mail!r} ->\", email_valido_simples(mail))\n",
    "print(\"-\" * 40)\n",
    "\n",
    "\n",
    "# 5) startswith/endswith ignorando caixa\n",
    "def startswith_ci(s: str, prefixo: str) -> bool:\n",
    "    return s.lower().startswith(prefixo.lower())\n",
    "\n",
    "def endswith_ci(s: str, sufixo: str) -> bool:\n",
    "    return s.lower().endswith(sufixo.lower())\n",
    "\n",
    "print(\"5) Começa/termina com (case-insensitive)\")\n",
    "print(startswith_ci(\"Python\", \"py\"))\n",
    "print(endswith_ci(\"relatorio.PDF\", \".pdf\"))\n",
    "print(\"-\" * 40)\n",
    "\n",
    "\n",
    "# 6) Somente dígitos\n",
    "print(\"6) Somente dígitos (isdigit)\")\n",
    "for caso in [\"123\", \"12 3\", \"１２３\"]:  # último são dígitos unicode de largura inteira\n",
    "    print(f\"{caso!r} ->\", caso.isdigit())\n",
    "print(\"-\" * 40)\n",
    "\n",
    "\n",
    "# 7) Contar palavras alvo (ingênuo)\n",
    "def contar_alvos(texto: str, alvos: List[str]) -> Dict[str, int]:\n",
    "    \"\"\"\n",
    "    Conta ocorrências ingênuas de palavras-alvo em texto.\n",
    "    - Normaliza caixa para comparações simples.\n",
    "    - Separa por espaços; não trata pontuação complexa.\n",
    "    \"\"\"\n",
    "    tokens = texto.lower().split()\n",
    "    alvos_set = {a.lower() for a in alvos}\n",
    "    cont: Dict[str, int] = {a: 0 for a in alvos_set}\n",
    "    for tk in tokens:\n",
    "        if tk in cont:\n",
    "            cont[tk] += 1\n",
    "    return cont\n",
    "\n",
    "print(\"7) Contagem de alvos\")\n",
    "texto = \"Python é divertido e Python é poderoso\"\n",
    "print(contar_alvos(texto, [\"python\", \"é\", \"java\"]))"
   ]
  },
  {
   "cell_type": "markdown",
   "id": "9530a04c-c367-47ee-9703-848a9f806709",
   "metadata": {},
   "source": [
    "# 8.4 – Formatação de Strings (String formatting)\n",
    "\n",
    "Formatar strings é exibir valores (números, datas, textos) com **controle de casas decimais, largura, alinhamento, sinais, separadores** etc.\n",
    "\n",
    "Python oferece três abordagens principais:\n",
    "1. **f-strings** (recomendado, Python 3.6+): `f\"... {expressao:especificador} ...\"`\n",
    "2. **`str.format()`**: `\"... {0:.2f} ...\".format(valor)`\n",
    "3. **`%` (printf-style)**: `\"%.2f\" % valor` (legado — evite em código novo)\n",
    "\n",
    "---\n",
    "\n",
    "## ✅ f-strings (recomendado)\n",
    "\n",
    "- Inserem variáveis e expressões diretamente: `f\"A soma é {a+b}\"`\n",
    "- Permitem **especificadores de formato** após `:` dentro das chaves.\n",
    "\n",
    "Exemplos comuns:\n",
    "- `:.2f` → 2 casas decimais  \n",
    "- `:>10` → largura 10, alinhado à **direita**  \n",
    "- `:<10` → alinhado à **esquerda**  \n",
    "- `:^10` → **centralizado**  \n",
    "- `:+` → sempre mostrar sinal  \n",
    "- `:,` → separador de milhar  \n",
    "- `:05d` → inteiro com **zero-padding** até 5 dígitos  \n",
    "- `:.2%` → porcentagem (multiplica por 100 e adiciona `%`)  \n",
    "- `:b`, `:x`, `:#x` → binário, hexadecimal, hexadecimal com prefixo `0x`  \n",
    "- `:e` → notação científica\n",
    "\n",
    "---\n",
    "\n",
    "## 🔢 Tabela de especificadores úteis\n",
    "\n",
    "| Especificador         | Exemplo               | Resultado (exemplo)             | Descrição                                     |\n",
    "|-----------------------|-----------------------|----------------------------------|-----------------------------------------------|\n",
    "| `:.2f`                | `f\"{3.14159:.2f}\"`    | `3.14`                           | 2 casas decimais                              |\n",
    "| `:>10`                | `f\"{42:>10}\"`         | `'        42'`                   | Largura 10, à direita                         |\n",
    "| `:<10`                | `f\"{'py':<10}\"`       | `'py        '`                   | Largura 10, à esquerda                        |\n",
    "| `:^10`                | `f\"{'py':^10}\"`       | `'   py    '`                    | Centralizado                                  |\n",
    "| `:+`                  | `f\"{-7:+}\"`           | `-7`                             | Mostra sinal (`+7`, `-7`)                     |\n",
    "| `:,`                  | `f\"{1000000:,}\"`      | `1,000,000`                      | Separador de milhar (locale independente)     |\n",
    "| `:05d`                | `f\"{42:05d}\"`         | `00042`                          | Inteiro com zeros à esquerda                  |\n",
    "| `:.2%`                | `f\"{0.1234:.2%}\"`     | `12.34%`                         | Porcentagem                                   |\n",
    "| `:b` / `:x` / `:#x`   | `f\"{255:#x}\"`         | `0xff`                           | Bases numéricas (bin/hex, com/sem prefixo)    |\n",
    "| `:e`                  | `f\"{1234.0:e}\"`       | `1.234000e+03`                   | Notação científica                            |\n",
    "\n",
    "> **Dica:** Você pode combinar: `f\"{valor:+,.2f}\"` → sinal, milhar, 2 casas.\n",
    "\n",
    "---\n",
    "\n",
    "## 🗓️ Datas e horas em f-strings\n",
    "\n",
    "Objetos `datetime` suportam formatação com `strftime` dentro das chaves:\n",
    "\n",
    "- `f\"{dt:%d/%m/%Y}\"` → data no formato brasileiro  \n",
    "- `f\"{dt:%Y-%m-%d %H:%M}\"` → ISO compacto com hora/minuto\n",
    "\n",
    "---\n",
    "\n",
    "## 🧩 `str.format()` (alternativa)\n",
    "\n",
    "```python\n",
    "\"Nome: {nome}, Nota: {nota:.1f}\".format(nome=\"Ana\", nota=9.25)\n",
    "```\n",
    "Útil quando não dá para usar f-strings (ex.: strings definidas em tempo de execução anterior ao valor)."
   ]
  },
  {
   "cell_type": "markdown",
   "id": "5aac21c4-1508-4feb-9322-f1c44f495b85",
   "metadata": {},
   "source": [
    "## ⚠️ % (printf-style) — legado\n",
    "Suportado por compatibilidade histórica:"
   ]
  },
  {
   "cell_type": "code",
   "execution_count": 1,
   "id": "a9f89c06-c6a0-4669-ae8b-b1a4ba3bfbea",
   "metadata": {},
   "outputs": [
    {
     "data": {
      "text/plain": [
       "'Pi = 3.142'"
      ]
     },
     "execution_count": 1,
     "metadata": {},
     "output_type": "execute_result"
    }
   ],
   "source": [
    "\"Pi = %.3f\" % 3.14159"
   ]
  },
  {
   "cell_type": "markdown",
   "id": "7440994f-516d-4865-97c2-65ff5411579e",
   "metadata": {},
   "source": [
    "Prefira `f-strings` ou `str.format()` em código novo."
   ]
  },
  {
   "cell_type": "code",
   "execution_count": 2,
   "id": "3b108aa3-f11c-43f7-a4d7-01c5fe7e9681",
   "metadata": {},
   "outputs": [
    {
     "name": "stdout",
     "output_type": "stream",
     "text": [
      "Pi (2 casas): 3.14\n",
      "Pi centralizado (10 col):    3.14   \n",
      "Saldo com sinal: -987.5\n"
     ]
    }
   ],
   "source": [
    "from datetime import datetime\n",
    "\n",
    "pi = 3.1415926535\n",
    "n = 1234567\n",
    "saldo = -987.5\n",
    "dt = datetime(2025, 8, 10, 14, 30)\n",
    "\n",
    "# Decimais, largura e alinhamento\n",
    "print(f\"Pi (2 casas): {pi:.2f}\")\n",
    "print(f\"Pi centralizado (10 col): {pi:^10.2f}\")\n",
    "print(f\"Saldo com sinal: {saldo:+.1f}\")"
   ]
  },
  {
   "cell_type": "code",
   "execution_count": 3,
   "id": "2e251506-22be-4f82-8a04-7d0abe26666b",
   "metadata": {},
   "outputs": [
    {
     "name": "stdout",
     "output_type": "stream",
     "text": [
      "Milhar: 1,234,567\n",
      "Zero-padding inteiro: 00042\n",
      "Hex com prefixo: 0xff  | Bin: 1101\n"
     ]
    }
   ],
   "source": [
    "# Milhar, zero-padding e bases\n",
    "print(f\"Milhar: {n:,}\")\n",
    "print(f\"Zero-padding inteiro: {42:05d}\")\n",
    "print(f\"Hex com prefixo: {255:#x}  | Bin: {13:b}\")"
   ]
  },
  {
   "cell_type": "code",
   "execution_count": 4,
   "id": "34703a57-66dd-41e6-a84d-e6bd1c9687ef",
   "metadata": {},
   "outputs": [
    {
     "name": "stdout",
     "output_type": "stream",
     "text": [
      "Taxa: 7.35%\n",
      "Científico: 3.141593e+00\n"
     ]
    }
   ],
   "source": [
    "# Porcentagem e científica\n",
    "taxa = 0.0735\n",
    "print(f\"Taxa: {taxa:.2%}\")\n",
    "print(f\"Científico: {pi:e}\")"
   ]
  },
  {
   "cell_type": "code",
   "execution_count": 5,
   "id": "6cdf94c0-4078-4421-8dd0-0cf6da4d8235",
   "metadata": {},
   "outputs": [
    {
     "name": "stdout",
     "output_type": "stream",
     "text": [
      "Data BR: 10/08/2025\n",
      "ISO compacto: 2025-08-10 14:30\n"
     ]
    }
   ],
   "source": [
    "# Datas e horas\n",
    "print(f\"Data BR: {dt:%d/%m/%Y}\")\n",
    "print(f\"ISO compacto: {dt:%Y-%m-%d %H:%M}\")"
   ]
  },
  {
   "cell_type": "code",
   "execution_count": 6,
   "id": "fae57450-6e96-4766-9f19-67a4338e13d8",
   "metadata": {},
   "outputs": [
    {
     "name": "stdout",
     "output_type": "stream",
     "text": [
      "R$   1,234.50\n"
     ]
    }
   ],
   "source": [
    "# Combinações\n",
    "valor = 1234.5\n",
    "print(f\"R$ {valor:>10,.2f}\")  # largura 10, milhar, 2 casas"
   ]
  },
  {
   "cell_type": "markdown",
   "id": "299443af-ac2d-4725-bf1c-9f2852cf1221",
   "metadata": {},
   "source": [
    "## 📄 Comparando abordagens"
   ]
  },
  {
   "cell_type": "code",
   "execution_count": 7,
   "id": "7e762d69-9394-44e0-aca0-130cbc0f2bad",
   "metadata": {},
   "outputs": [
    {
     "name": "stdout",
     "output_type": "stream",
     "text": [
      "Aluno(a): Carla, Nota: 9.28\n",
      "Aluno(a): Carla, Nota: 9.28\n",
      "Aluno(a): Carla, Nota: 9.28\n"
     ]
    }
   ],
   "source": [
    "nome, nota = \"Carla\", 9.275\n",
    "\n",
    "# f-string\n",
    "print(f\"Aluno(a): {nome}, Nota: {nota:.2f}\")\n",
    "\n",
    "# str.format\n",
    "print(\"Aluno(a): {n}, Nota: {x:.2f}\".format(n=nome, x=nota))\n",
    "\n",
    "# printf-style (legado)\n",
    "print(\"Aluno(a): %s, Nota: %.2f\" % (nome, nota))"
   ]
  },
  {
   "cell_type": "markdown",
   "id": "b102b678-33d0-4de0-ac1d-541799ede7c2",
   "metadata": {},
   "source": [
    "## 🧪 Exercícios – String formatting\n",
    "\n",
    "1) **Notas alinhadas**  \n",
    "   Dada a lista de tuplas `alunos = [(\"Ana\", 9.25), (\"Bruno\", 7.0), (\"Carla\", 10)]`, imprima\n",
    "```python   \n",
    "Nome Nota\n",
    "Ana 9.25\n",
    "Bruno 7.00\n",
    "Carla 10.00\n",
    "```\n",
    "- Nome alinhado à esquerda em 10 colunas;\n",
    "- Nota com 2 casas decimais, alinhada à direita em 6 colunas.\n",
    "\n",
    "2) **Relatório com milhar e sinal**  \n",
    "Exiba `receita = 1250000.5` e `despesa = -340500.75` como:\n",
    "```python\n",
    "Receita: 1,250,000.50\n",
    "Despesa: -340,500.75\n",
    "Saldo: 909,499.75\n",
    "```\n",
    "- Use separador de milhar `,`, largura mínima e sinais adequados.\n",
    "\n",
    "3) **Porcentagens**  \n",
    "Formate a taxa `0.03456` como `3.46%` e `3.46 %` (com espaço antes de `%`).\n",
    "\n",
    "4) **Bases numéricas**  \n",
    "Para `num = 255`, mostre **decimal**, **hex** (com `0x`) e **binário**:  \n",
    "`255 | 0xff | 11111111`\n",
    "\n",
    "5) **Data/hora**  \n",
    "Com `from datetime import datetime`, crie `agora = datetime.now()` e exiba:  \n",
    "- `DD/MM/AAAA HH:MM`  \n",
    "- `AAAA-MM-DD`  \n",
    "- Mês por extenso + ano (ex.: `Agosto/2025`).\n",
    "\n",
    "6) **Tabela de preços**  \n",
    "Dada `itens = [(\"Caderno\", 12.5), (\"Lápis\", 2.0), (\"Mochila\", 199.9)]`, gere:\n",
    "```python\n",
    "Produto Preço\n",
    "Caderno R$ 12.50\n",
    "Lápis R$ 2.00\n",
    "Mochila R$ 199.90\n",
    "```\n",
    "- Coluna de preço com largura fixa, alinhada à direita, 2 casas, e prefixo `R$`.\n",
    "\n",
    "> **Extra:** resolva os exercícios **somente com f-strings**."
   ]
  },
  {
   "cell_type": "code",
   "execution_count": 8,
   "id": "3c5d4afd-fe07-47be-8e7e-42903c4c303b",
   "metadata": {},
   "outputs": [
    {
     "name": "stdout",
     "output_type": "stream",
     "text": [
      "1) Notas alinhadas\n",
      "Nome        Nota\n",
      "Ana         9.25\n",
      "Bruno       7.00\n",
      "Carla      10.00\n",
      "----------------------------------------\n",
      "2) Relatório com milhar e sinal\n",
      "Receita:  1,250,000.50\n",
      "Despesa:   -340,500.75\n",
      "Saldo:      909,499.75\n",
      "----------------------------------------\n",
      "3) Porcentagens\n",
      "Sem espaço: 3.46%\n",
      "Com espaço: 3.46 %\n",
      "----------------------------------------\n",
      "4) Bases numéricas\n",
      "255 | 0xff | 11111111\n",
      "----------------------------------------\n",
      "5) Data/hora\n",
      "10/08/2025 14:08\n",
      "2025-08-10\n",
      "August/2025\n",
      "----------------------------------------\n",
      "6) Tabela de preços\n",
      "Produto                Preço\n",
      "Caderno         R$      12.50\n",
      "Lápis           R$       2.00\n",
      "Mochila         R$     199.90\n"
     ]
    }
   ],
   "source": [
    "\"\"\"\n",
    "Soluções — Seção 8.4: String formatting\n",
    "Todas as saídas são geradas com f-strings, seguindo PEP 8.\n",
    "\"\"\"\n",
    "\n",
    "from __future__ import annotations\n",
    "from datetime import datetime\n",
    "from typing import Iterable, List, Tuple\n",
    "\n",
    "\n",
    "def tabela_alunos(alunos: Iterable[Tuple[str, float]]) -> None:\n",
    "    \"\"\"Imprime tabela de alunos com alinhamento e 2 casas decimais.\"\"\"\n",
    "    print(\"Nome\".ljust(10), \"Nota\".rjust(6), sep=\"\")\n",
    "    for nome, nota in alunos:\n",
    "        print(f\"{nome:<10}{nota:>6.2f}\")\n",
    "\n",
    "\n",
    "def relatorio_financeiro(receita: float, despesa: float) -> None:\n",
    "    \"\"\"Exibe receita, despesa e saldo com separador de milhar e sinais.\"\"\"\n",
    "    saldo = receita + despesa\n",
    "    print(f\"Receita:{receita:>14,.2f}\")\n",
    "    print(f\"Despesa:{despesa:>14,.2f}\")\n",
    "    print(f\"Saldo:  {saldo:>14,.2f}\")\n",
    "\n",
    "\n",
    "def porcentagens(taxa: float) -> None:\n",
    "    \"\"\"Formata taxa como porcentagem com e sem espaço antes do símbolo %.\"\"\"\n",
    "    print(f\"Sem espaço: {taxa:.2%}\")\n",
    "    # Com espaço antes do %: formatamos manualmente multiplicando por 100\n",
    "    print(f\"Com espaço: {taxa*100:.2f} %\")\n",
    "\n",
    "\n",
    "def bases_numericas(num: int) -> None:\n",
    "    \"\"\"Mostra número em decimal, hexa (com 0x) e binário.\"\"\"\n",
    "    print(f\"{num:d} | {num:#x} | {num:b}\")\n",
    "\n",
    "\n",
    "def datas_formatadas(dt: datetime) -> None:\n",
    "    \"\"\"Exibe a data/hora em três formatos solicitados.\"\"\"\n",
    "    print(f\"{dt:%d/%m/%Y %H:%M}\")\n",
    "    print(f\"{dt:%Y-%m-%d}\")\n",
    "    # Mês por extenso + ano (ex.: Agosto/2025)\n",
    "    print(f\"{dt:%B/%Y}\")\n",
    "\n",
    "\n",
    "def tabela_precos(itens: Iterable[Tuple[str, float]]) -> None:\n",
    "    \"\"\"\n",
    "    Gera tabela de preços:\n",
    "    - Produto alinhado à esquerda\n",
    "    - Preço com prefixo 'R$', largura fixa e 2 casas, alinhado à direita\n",
    "    \"\"\"\n",
    "    print(f\"{'Produto':<15} {'Preço':>12}\")\n",
    "    for produto, preco in itens:\n",
    "        print(f\"{produto:<15} R$ {preco:>10,.2f}\")\n",
    "\n",
    "\n",
    "# -----------------------\n",
    "# Execução das soluções\n",
    "# -----------------------\n",
    "\n",
    "print(\"1) Notas alinhadas\")\n",
    "alunos_ex = [(\"Ana\", 9.25), (\"Bruno\", 7.0), (\"Carla\", 10)]\n",
    "tabela_alunos(alunos_ex)\n",
    "print(\"-\" * 40)\n",
    "\n",
    "print(\"2) Relatório com milhar e sinal\")\n",
    "relatorio_financeiro(receita=1_250_000.50, despesa=-340_500.75)\n",
    "print(\"-\" * 40)\n",
    "\n",
    "print(\"3) Porcentagens\")\n",
    "porcentagens(0.03456)\n",
    "print(\"-\" * 40)\n",
    "\n",
    "print(\"4) Bases numéricas\")\n",
    "bases_numericas(255)\n",
    "print(\"-\" * 40)\n",
    "\n",
    "print(\"5) Data/hora\")\n",
    "agora = datetime.now()\n",
    "datas_formatadas(agora)\n",
    "print(\"-\" * 40)\n",
    "\n",
    "print(\"6) Tabela de preços\")\n",
    "itens_ex = [(\"Caderno\", 12.5), (\"Lápis\", 2.0), (\"Mochila\", 199.9)]\n",
    "tabela_precos(itens_ex)\n"
   ]
  },
  {
   "cell_type": "markdown",
   "id": "84c1cb7f-06b5-493e-a419-95eba0edc177",
   "metadata": {},
   "source": [
    "# 8.5 Dividindo e unindo strings\n",
    "\n",
    "Em Python, **dividir** (split) e **unir** (join) strings são operações muito comuns, especialmente ao lidar com dados formatados em texto.\n",
    "\n",
    "---\n",
    "\n",
    "## 🔹 Dividindo strings — `split()`\n",
    "\n",
    "O método `split()` quebra uma string em uma **lista de substrings**, usando um separador (delimitador).\n",
    "\n",
    "- **Sintaxe:**\n",
    "```python\n",
    "string.split(sep=None, maxsplit=-1)\n",
    "```\n",
    "- Parâmetros:\n",
    "    - `sep` (opcional): caractere ou sequência usada como delimitador.\n",
    "        -  Se omitido ou `None`, o padrão é espaço em branco (qualquer quantidade de espaços, quebras de linha, tabulações).\n",
    "    -  `maxsplit` (opcional): número máximo de divisões (o restante fica em um único elemento da lista).\n",
    "- Retorno: lista contendo as partes da string."
   ]
  },
  {
   "cell_type": "markdown",
   "id": "4bb3c7fb-be8c-4af2-b8f1-ac43b4b980e4",
   "metadata": {},
   "source": [
    "| Código | Resultado | Explicação |\n",
    "|---|---|---|\n",
    "| `\" \".join([\"Python\", \"é\", \"incrível\"])` | `\"Python é incrível\"` | Junta com espaço |\n",
    "| `\",\".join([\"maçã\", \"banana\", \"laranja\"])` | `\"maçã,banana,laranja\"` | Junta com vírgula |\n",
    "| `\"-\".join(\"ABC\")` | `\"A-B-C\"` | Cada caractere separado por hífen |"
   ]
  },
  {
   "cell_type": "markdown",
   "id": "b642fa53-cd78-4b7e-9b01-f4a83f04cca3",
   "metadata": {},
   "source": [
    "## 💡 Observações importantes\n",
    "- Tanto `split()` quanto `join()` não alteram a string original — strings são imutáveis.\n",
    "\n",
    "- `join()` exige que todos os elementos do iterável sejam strings. Se houver números, é necessário convertê-los antes `(map(str, lista))`."
   ]
  },
  {
   "cell_type": "markdown",
   "id": "b60e4e7d-cae2-433b-a979-75efb96ddf53",
   "metadata": {},
   "source": [
    "## 💻 Exemplos Práticos"
   ]
  },
  {
   "cell_type": "code",
   "execution_count": 9,
   "id": "95b66b9f-61e1-4665-aeac-4a99b48822d6",
   "metadata": {},
   "outputs": [
    {
     "name": "stdout",
     "output_type": "stream",
     "text": [
      "['Python', 'é', 'incrível']\n"
     ]
    }
   ],
   "source": [
    "# Dividindo com split()\n",
    "frase = \"Python é incrível\"\n",
    "palavras = frase.split()\n",
    "print(palavras)  # ['Python', 'é', 'incrível']"
   ]
  },
  {
   "cell_type": "code",
   "execution_count": 10,
   "id": "a81c39f7-8b4d-47af-96e0-03bb99c2c1e7",
   "metadata": {},
   "outputs": [
    {
     "name": "stdout",
     "output_type": "stream",
     "text": [
      "['maçã', 'banana', 'laranja']\n"
     ]
    }
   ],
   "source": [
    "# Definindo um separador\n",
    "frutas = \"maçã,banana,laranja\".split(\",\")\n",
    "print(frutas)  # ['maçã', 'banana', 'laranja']"
   ]
  },
  {
   "cell_type": "code",
   "execution_count": 11,
   "id": "4e3b449d-bf6c-4cab-89df-89d6537590d6",
   "metadata": {},
   "outputs": [
    {
     "name": "stdout",
     "output_type": "stream",
     "text": [
      "['um', 'dois:tres']\n"
     ]
    }
   ],
   "source": [
    "# Limitando divisões\n",
    "texto = \"um:dois:tres\"\n",
    "print(texto.split(\":\", 1))  # ['um', 'dois:tres']"
   ]
  },
  {
   "cell_type": "code",
   "execution_count": 12,
   "id": "87bded4c-a59f-41f2-ae8a-cd3c7f65035d",
   "metadata": {},
   "outputs": [
    {
     "name": "stdout",
     "output_type": "stream",
     "text": [
      "Python é incrível\n"
     ]
    }
   ],
   "source": [
    "# Unindo com join()\n",
    "lista_palavras = [\"Python\", \"é\", \"incrível\"]\n",
    "print(\" \".join(lista_palavras))  # Python é incrível"
   ]
  },
  {
   "cell_type": "code",
   "execution_count": 13,
   "id": "32f1b50e-965a-4e90-9bcb-0cbc396e7a51",
   "metadata": {},
   "outputs": [
    {
     "name": "stdout",
     "output_type": "stream",
     "text": [
      "maçã,banana,laranja\n"
     ]
    }
   ],
   "source": [
    "# Usando outro delimitador\n",
    "print(\",\".join(frutas))  # maçã,banana,laranja"
   ]
  },
  {
   "cell_type": "code",
   "execution_count": 14,
   "id": "e36fba7b-7ce1-4409-b53c-0a400bab8781",
   "metadata": {},
   "outputs": [
    {
     "name": "stdout",
     "output_type": "stream",
     "text": [
      "A-B-C\n"
     ]
    }
   ],
   "source": [
    "# Juntando caracteres individuais\n",
    "print(\"-\".join(\"ABC\"))  # A-B-C"
   ]
  },
  {
   "cell_type": "code",
   "execution_count": 15,
   "id": "25867e37-139e-4231-9534-45b2bd1fa389",
   "metadata": {},
   "outputs": [
    {
     "name": "stdout",
     "output_type": "stream",
     "text": [
      "1 | 2 | 3 | 4\n"
     ]
    }
   ],
   "source": [
    "# Convertendo números para string antes de usar join()\n",
    "numeros = [1, 2, 3, 4]\n",
    "print(\" | \".join(map(str, numeros)))  # 1 | 2 | 3 | 4"
   ]
  },
  {
   "cell_type": "markdown",
   "id": "4f3da21e-fe97-4509-a5af-8373b62c890e",
   "metadata": {},
   "source": [
    "## 📝 Exercícios — Seção 8.5 (Splitting / Joining Strings)"
   ]
  },
  {
   "cell_type": "markdown",
   "id": "6abef014-add2-41e1-b748-81f45c95a630",
   "metadata": {},
   "source": [
    "1. **Divisão simples**  \n",
    "   Use `split()` para separar a string `\"maçã banana laranja\"` em uma lista de frutas.\n",
    "\n",
    "2. **Separador personalizado**  \n",
    "   A string `\"nome;sobrenome;idade;cidade\"` está separada por ponto e vírgula.  \n",
    "   Use `split()` para criar uma lista com cada informação.\n",
    "\n",
    "3. **Divisão com limite**  \n",
    "   Dada a string `\"um-dois-tres-quatro\"`, use `split(\"-\", 2)` para dividir em **no máximo 3 partes**.\n",
    "\n",
    "4. **Junção de lista em string**  \n",
    "   Converta a lista `[\"Python\", \"é\", \"incrível\"]` em uma única string separada por espaços usando `join()`.\n",
    "\n",
    "5. **Formatando CSV**  \n",
    "   Transforme a lista `[\"maçã\", \"banana\", \"laranja\"]` em uma única string no formato CSV usando `join()`.\n",
    "\n",
    "6. **Separando e reformatando**  \n",
    "   A string `\"João:25:Engenheiro\"` contém nome, idade e profissão separados por dois-pontos.  \n",
    "   - Use `split()` para criar uma lista.  \n",
    "   - Em seguida, use `join()` para criar uma string usando vírgulas como separador.\n",
    "\n",
    "7. **Unindo números com join()**  \n",
    "   Converta a lista `[1, 2, 3, 4, 5]` em uma única string com números separados por `\" - \"`.  \n",
    "   *Dica*: será necessário converter os números para string antes de usar `join()`.\n",
    "\n",
    "8. **Desafio extra**  \n",
    "   Receba uma frase do usuário (via `input()`).  \n",
    "   - Mostre a lista de palavras usando `split()`.  \n",
    "   - Depois, junte novamente em uma string usando hífen como separador.\n"
   ]
  },
  {
   "cell_type": "markdown",
   "id": "3ead7c66-0005-4078-9fb7-11508deefeb2",
   "metadata": {},
   "source": [
    "## 📄 Soluções Exercícios Seção 8.5"
   ]
  },
  {
   "cell_type": "code",
   "execution_count": 16,
   "id": "244f9d47-c001-443d-a49d-122d50328702",
   "metadata": {},
   "outputs": [
    {
     "name": "stdout",
     "output_type": "stream",
     "text": [
      "['maçã', 'banana', 'laranja']\n"
     ]
    }
   ],
   "source": [
    "# 1. Divisão simples\n",
    "frutas = \"maçã banana laranja\".split()\n",
    "print(frutas)  # ['maçã', 'banana', 'laranja']"
   ]
  },
  {
   "cell_type": "code",
   "execution_count": 17,
   "id": "9765cc3d-ac7f-4886-a013-7ecfdaab342b",
   "metadata": {},
   "outputs": [
    {
     "name": "stdout",
     "output_type": "stream",
     "text": [
      "['nome', 'sobrenome', 'idade', 'cidade']\n"
     ]
    }
   ],
   "source": [
    "# 2. Separador personalizado\n",
    "dados = \"nome;sobrenome;idade;cidade\".split(\";\")\n",
    "print(dados)  # ['nome', 'sobrenome', 'idade', 'cidade']"
   ]
  },
  {
   "cell_type": "code",
   "execution_count": 18,
   "id": "02d29c65-c837-4a90-8cb3-56672596ff8f",
   "metadata": {},
   "outputs": [
    {
     "name": "stdout",
     "output_type": "stream",
     "text": [
      "['um', 'dois', 'tres-quatro']\n"
     ]
    }
   ],
   "source": [
    "# 3. Divisão com limite\n",
    "numeros = \"um-dois-tres-quatro\".split(\"-\", 2)\n",
    "print(numeros)  # ['um', 'dois', 'tres-quatro']"
   ]
  },
  {
   "cell_type": "code",
   "execution_count": 19,
   "id": "230227b9-e3fd-4f4b-a208-25fbc53ed84b",
   "metadata": {},
   "outputs": [
    {
     "name": "stdout",
     "output_type": "stream",
     "text": [
      "Python é incrível\n"
     ]
    }
   ],
   "source": [
    "# 4. Junção de lista em string\n",
    "lista_palavras = [\"Python\", \"é\", \"incrível\"]\n",
    "frase = \" \".join(lista_palavras)\n",
    "print(frase)  # \"Python é incrível\""
   ]
  },
  {
   "cell_type": "code",
   "execution_count": 20,
   "id": "de1525b4-10f5-4987-8828-88d91fab10ef",
   "metadata": {},
   "outputs": [
    {
     "name": "stdout",
     "output_type": "stream",
     "text": [
      "maçã,banana,laranja\n"
     ]
    }
   ],
   "source": [
    "# 5. Formatando CSV\n",
    "frutas_lista = [\"maçã\", \"banana\", \"laranja\"]\n",
    "csv = \",\".join(frutas_lista)\n",
    "print(csv)  # \"maçã,banana,laranja\""
   ]
  },
  {
   "cell_type": "code",
   "execution_count": 21,
   "id": "75586763-15a1-4246-9b82-ba0ce33c0ea1",
   "metadata": {},
   "outputs": [
    {
     "name": "stdout",
     "output_type": "stream",
     "text": [
      "['João', '25', 'Engenheiro']\n",
      "João,25,Engenheiro\n"
     ]
    }
   ],
   "source": [
    "# 6. Separando e reformatando\n",
    "info = \"João:25:Engenheiro\".split(\":\")\n",
    "info_formatada = \",\".join(info)\n",
    "print(info)           # ['João', '25', 'Engenheiro']\n",
    "print(info_formatada) # \"João,25,Engenheiro\""
   ]
  },
  {
   "cell_type": "code",
   "execution_count": 22,
   "id": "d67f48de-eadb-41ed-a052-050a904e0bc6",
   "metadata": {},
   "outputs": [
    {
     "name": "stdout",
     "output_type": "stream",
     "text": [
      "1 - 2 - 3 - 4 - 5\n"
     ]
    }
   ],
   "source": [
    "# 7. Unindo números com join()\n",
    "numeros_lista = [1, 2, 3, 4, 5]\n",
    "numeros_str = \" - \".join(map(str, numeros_lista))\n",
    "print(numeros_str)  # \"1 - 2 - 3 - 4 - 5\""
   ]
  },
  {
   "cell_type": "code",
   "execution_count": 24,
   "id": "073d7567-777c-4e26-b7ca-c66eb59c1959",
   "metadata": {},
   "outputs": [
    {
     "name": "stdin",
     "output_type": "stream",
     "text": [
      "Digite uma frase:  engenharia mecânica\n"
     ]
    },
    {
     "name": "stdout",
     "output_type": "stream",
     "text": [
      "Lista de palavras: ['engenharia', 'mecânica']\n",
      "Frase com hífens: engenharia-mecânica\n"
     ]
    }
   ],
   "source": [
    "# 8. Desafio extra\n",
    "frase_usuario = input(\"Digite uma frase: \")\n",
    "palavras = frase_usuario.split()\n",
    "print(\"Lista de palavras:\", palavras)\n",
    "print(\"Frase com hífens:\", \"-\".join(palavras))"
   ]
  },
  {
   "cell_type": "markdown",
   "id": "36d57b15-7b4c-4676-82c6-68d3d45d3178",
   "metadata": {},
   "source": [
    "## 📌 Resumo do Capítulo 8 – Strings\n",
    "\n",
    "- **Strings** são sequências imutáveis de caracteres, delimitadas por aspas simples `'` ou duplas `\"`.\n",
    "- É possível **concatenar** (`+`), **repetir** (`*`) e verificar pertinência (`in`, `not in`) em strings.\n",
    "- Cada caractere possui um **índice** (positivo e negativo) e pode ser acessado via **indexação** `[]`.\n",
    "- **Fatiamento (slicing)** permite extrair partes da string com a sintaxe `texto[início:fim:passo]`.\n",
    "- Funções comuns:\n",
    "  - `len(s)`: retorna o número de caracteres.\n",
    "  - `str(obj)`: converte objetos para string.\n",
    "- Métodos importantes:\n",
    "  - Pesquisa e teste: `find()`, `startswith()`, `endswith()`, operadores `in` e `not in`.\n",
    "  - Formatação: `format()`, f-strings (`f\"...\"`), especificadores de formatação.\n",
    "  - Divisão e junção: `split()`, `split(sep)`, `join(lista)`.\n",
    "- Strings são **imutáveis**: qualquer modificação gera uma nova string.\n",
    "\n",
    "---\n",
    "\n",
    "## 📚 Tabela de referência – Strings\n",
    "\n",
    "| Categoria           | Função / Método       | Descrição                                                                                 | Exemplo                                | Saída                          |\n",
    "|---------------------|----------------------|-------------------------------------------------------------------------------------------|-----------------------------------------|---------------------------------|\n",
    "| Função built-in     | `len(s)`              | Retorna o tamanho da string                                                              | `len(\"Python\")`                         | `6`                             |\n",
    "| Função built-in     | `str(x)`              | Converte `x` em string                                                                   | `str(123)`                              | `\"123\"`                         |\n",
    "| Operador            | `+`                   | Concatena strings                                                                        | `\"Py\" + \"thon\"`                         | `\"Python\"`                      |\n",
    "| Operador            | `*`                   | Repete a string                                                                          | `\"ha\" * 3`                              | `\"hahaha\"`                      |\n",
    "| Operador            | `in` / `not in`       | Testa se substring existe (ou não) na string                                             | `\"tho\" in \"Python\"`                     | `True`                          |\n",
    "| Indexação/Fatiamento| `s[i]` / `s[i:j:k]`   | Acessa caracteres ou fatias                                                              | `\"Python\"[::-1]`                         | `\"nohtyP\"`                      |\n",
    "| Pesquisa            | `find(sub)`           | Retorna o índice da primeira ocorrência ou -1                                            | `\"Python\".find(\"tho\")`                  | `2`                             |\n",
    "| Teste               | `startswith(sub)`     | Testa se começa com substring                                                            | `\"Python\".startswith(\"Py\")`             | `True`                          |\n",
    "| Teste               | `endswith(sub)`       | Testa se termina com substring                                                           | `\"Python\".endswith(\"on\")`               | `True`                          |\n",
    "| Formatação          | `format()` / f-string | Formata strings com variáveis e expressões                                               | `f\"O dobro de 2 é {2*2}\"`                | `\"O dobro de 2 é 4\"`            |\n",
    "| Divisão             | `split()`             | Divide a string em lista                                                                 | `\"a,b,c\".split(\",\")`                     | `['a', 'b', 'c']`               |\n",
    "| Junção              | `sep.join(lista)`     | Junta lista em string com separador                                                      | `\" - \".join(['a', 'b', 'c'])`            | `\"a - b - c\"`                   |\n",
    "\n",
    "---\n",
    "\n",
    "## 📝 Exercícios recomendados\n",
    "\n",
    "1. Peça ao usuário seu nome e sobrenome, depois exiba-os formatados como `\"SOBRENOME, Nome\"`.\n",
    "2. Leia uma frase e exiba:\n",
    "   - O número de caracteres;\n",
    "   - A frase invertida;\n",
    "   - Se contém a palavra `\"Python\"`.\n",
    "3. Extraia o domínio de um e-mail informado (`\"usuario@dominio.com\"` → `\"dominio.com\"`).\n",
    "4. Substitua todas as vogais de uma frase por `\"*\"`.\n",
    "5. Peça ao usuário para digitar três palavras e una-as em uma única string separada por hífens.\n",
    "6. Verifique se uma palavra é palíndromo (lida igual de trás para frente).\n",
    "7. Dada a string `\"123,456,789\"`, converta para lista de inteiros `[123, 456, 789]`.\n",
    "8. Crie um script que receba o nome de um arquivo e adicione a extensão `\".txt\"` caso não tenha.\n"
   ]
  },
  {
   "cell_type": "code",
   "execution_count": null,
   "id": "7342f148-9283-4eb7-80d3-dc748d8e675f",
   "metadata": {},
   "outputs": [],
   "source": []
  }
 ],
 "metadata": {
  "kernelspec": {
   "display_name": "Python 3 (ipykernel)",
   "language": "python",
   "name": "python3"
  },
  "language_info": {
   "codemirror_mode": {
    "name": "ipython",
    "version": 3
   },
   "file_extension": ".py",
   "mimetype": "text/x-python",
   "name": "python",
   "nbconvert_exporter": "python",
   "pygments_lexer": "ipython3",
   "version": "3.13.7"
  }
 },
 "nbformat": 4,
 "nbformat_minor": 5
}
