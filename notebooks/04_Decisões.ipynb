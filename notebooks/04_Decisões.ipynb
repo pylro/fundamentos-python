{
 "cells": [
  {
   "cell_type": "markdown",
   "id": "268b2757-6519-4414-804e-8d8be5832819",
   "metadata": {},
   "source": [
    "# 📘 Capítulo 4 – Decisões (Decisions)\n",
    "\n",
    "> **Adriano Pylro - Engenheiro Mecânico - Dr. Eng,** \n",
    "\n",
    "Neste capítulo, exploraremos como os programas podem tomar **decisões** com base em condições lógicas. Assim como seres humanos fazem escolhas dependendo de certas situações (por exemplo, \"Se estiver chovendo, leve um guarda-chuva\"), os programas também podem executar instruções diferentes dependendo de valores booleanos.\n",
    "\n",
    "Você aprenderá a:\n",
    "\n",
    "- Usar instruções `if`, `elif` e `else` para executar blocos de código condicionalmente;\n",
    "- Avaliar expressões booleanas e usá-las para controlar o fluxo do programa;\n",
    "- Utilizar estruturas de decisão aninhadas e combinar múltiplas condições.\n",
    "\n",
    "Esses recursos são fundamentais para qualquer programa que precise **tomar decisões dinâmicas** durante sua execução, tornando seu código mais inteligente e interativo.\n"
   ]
  },
  {
   "cell_type": "markdown",
   "id": "59a9fd89-bf4c-410f-8ec5-7bc284129759",
   "metadata": {},
   "source": [
    "## 🧠 Seção 4.1 – Valores Booleanos (Boolean Values)\n",
    "\n",
    "### Objetivos de aprendizagem\n",
    "\n",
    "Ao final desta seção, você será capaz de:\n",
    "\n",
    "- Compreender o tipo de dado booleano em Python;\n",
    "- Avaliar expressões que retornam `True` ou `False`;\n",
    "- Utilizar operadores relacionais para produzir valores booleanos;\n",
    "- Diferenciar comportamento de variáveis booleanas e expressões.\n"
   ]
  },
  {
   "cell_type": "markdown",
   "id": "eefe2c52-ce5a-48ba-a948-13308c29ad37",
   "metadata": {},
   "source": [
    "## 🔍 O que é um valor booleano?\n",
    "\n",
    "Um valor **booleano** representa uma das duas possibilidades: `True` (verdadeiro) ou `False` (falso).\n",
    "\n",
    "Esses valores são essenciais para tomada de decisões em programas (como em estruturas `if`, `while`, etc.).\n",
    "\n",
    "Em Python, os valores booleanos fazem parte do tipo `bool`.\n"
   ]
  },
  {
   "cell_type": "code",
   "execution_count": 1,
   "id": "2554138e-d5f8-40de-8dc5-8a9d50511af3",
   "metadata": {},
   "outputs": [
    {
     "name": "stdout",
     "output_type": "stream",
     "text": [
      "True\n",
      "False\n",
      "<class 'bool'>\n"
     ]
    }
   ],
   "source": [
    "print(True)\n",
    "print(False)\n",
    "print(type(True))   # <class 'bool'>\n"
   ]
  },
  {
   "cell_type": "markdown",
   "id": "98dc3187-ca2e-4999-b432-ca3d9842d628",
   "metadata": {},
   "source": [
    "## ✅ Expressões booleanas\n",
    "\n",
    "Qualquer expressão que compare valores com operadores **relacionais** retorna `True` ou `False`.\n",
    "\n",
    "### Operadores relacionais mais comuns:\n",
    "\n",
    "| Operador | Significado         |\n",
    "|----------|---------------------|\n",
    "| `==`     | Igualdade           |\n",
    "| `!=`     | Diferença           |\n",
    "| `>`      | Maior que           |\n",
    "| `<`      | Menor que           |\n",
    "| `>=`     | Maior ou igual que  |\n",
    "| `<=`     | Menor ou igual que  |\n"
   ]
  },
  {
   "cell_type": "code",
   "execution_count": 2,
   "id": "1757932d-9d6a-43b1-9482-f830695b3bf2",
   "metadata": {},
   "outputs": [
    {
     "name": "stdout",
     "output_type": "stream",
     "text": [
      "True\n",
      "True\n",
      "False\n",
      "False\n"
     ]
    }
   ],
   "source": [
    "print(5 > 3)      # True\n",
    "print(10 == 2*5)  # True\n",
    "print(7 != 7)     # False\n",
    "print(4 <= 2)     # False\n"
   ]
  },
  {
   "cell_type": "markdown",
   "id": "b227a631-9dd0-4ee6-bb1c-0c63935a7ccb",
   "metadata": {},
   "source": [
    "## 📦 Variáveis booleanas\n",
    "\n",
    "Você pode armazenar o resultado de uma expressão booleana em uma variável:\n",
    "\n",
    "```python\n",
    "maioridade = idade >= 18\n",
    "```\n",
    "Essas variáveis podem ser usadas em outras expressões ou decisões."
   ]
  },
  {
   "cell_type": "code",
   "execution_count": 3,
   "id": "ccdcdfa3-f9c0-407c-a0ef-96b29e048106",
   "metadata": {},
   "outputs": [
    {
     "name": "stdout",
     "output_type": "stream",
     "text": [
      "É maior de idade? True\n"
     ]
    }
   ],
   "source": [
    "idade = 20\n",
    "maioridade = idade >= 18\n",
    "print(\"É maior de idade?\", maioridade)"
   ]
  },
  {
   "cell_type": "markdown",
   "id": "016802e8-bd50-48e8-b56f-3850f9dbcafa",
   "metadata": {},
   "source": [
    "## 🔢 Valores numéricos em contexto booleano\n",
    "\n",
    "Python interpreta alguns valores como booleanos:\n",
    "\n",
    "- Zero (`0`, `0.0`, `''`, `[]`) é considerado `False`;\n",
    "- Qualquer valor diferente de zero é considerado `True`.\n",
    "\n",
    "Exemplo:\n",
    "\n",
    "```python\n",
    "bool(0)      # False\n",
    "bool(3.14)   # True\n",
    "bool(\"\")     # False\n",
    "bool(\"abc\")  # True\n",
    "```"
   ]
  },
  {
   "cell_type": "code",
   "execution_count": 4,
   "id": "33e73453-e0aa-4680-8923-a8f95b39b386",
   "metadata": {},
   "outputs": [
    {
     "name": "stdout",
     "output_type": "stream",
     "text": [
      "False\n",
      "True\n",
      "False\n",
      "True\n",
      "False\n",
      "True\n"
     ]
    }
   ],
   "source": [
    "print(bool(0))        # False\n",
    "print(bool(42))       # True\n",
    "print(bool(\"\"))       # False\n",
    "print(bool(\"Olá\"))    # True\n",
    "print(bool([]))       # False\n",
    "print(bool([1, 2]))   # True"
   ]
  },
  {
   "cell_type": "markdown",
   "id": "dc1f0eee-683f-4878-9b1c-fa94969ab737",
   "metadata": {},
   "source": [
    "## ✅ Resumo – Valores Booleanos\n",
    "\n",
    "- O tipo `bool` representa dois valores possíveis: `True` e `False`;\n",
    "- Comparações com operadores relacionais produzem valores booleanos;\n",
    "- É possível armazenar valores booleanos em variáveis;\n",
    "- Função `bool()` converte qualquer valor para `True` ou `False` segundo regras internas;\n",
    "- Esses valores são amplamente usados em estruturas de decisão (`if`, `while`, etc.).\n"
   ]
  },
  {
   "cell_type": "markdown",
   "id": "0a358f3b-37f7-44c2-9485-7505b055150c",
   "metadata": {},
   "source": [
    "## 🧪 Exercícios práticos recomendados\n",
    "\n",
    "1. Escreva expressões que avaliem:\n",
    "   - Se um número é maior que 100;\n",
    "   - Se dois nomes são iguais;\n",
    "   - Se um número está entre 10 e 50 (inclusive).\n",
    "\n",
    "2. Crie uma variável chamada `idade` e outra `maior_de_idade`, que armazene se `idade` é maior ou igual a 18. Teste com diferentes valores.\n",
    "\n",
    "3. Teste a função `bool()` com valores como 0, \"\", \"Python\", [], [1, 2, 3].\n",
    "\n",
    "4. Escreva um programa que leia a idade do usuário com `input()` e imprima se ele é maior de idade.\n"
   ]
  },
  {
   "cell_type": "markdown",
   "id": "90eb205c-bdc1-47eb-8e66-dc010e333d66",
   "metadata": {},
   "source": [
    "## 🧠 Seção 4.2 – Instruções `if` e `else`\n",
    "\n",
    "### Objetivos de aprendizagem\n",
    "\n",
    "Ao final desta seção, você será capaz de:\n",
    "\n",
    "- Utilizar a instrução `if` para executar código condicionalmente;\n",
    "- Adicionar alternativas com `else`;\n",
    "- Compreender o uso de indentação para definir blocos de código;\n",
    "- Criar fluxos lógicos básicos com decisões binárias.\n"
   ]
  },
  {
   "cell_type": "markdown",
   "id": "35451ccc-2f40-482e-b4cf-a34b23e24843",
   "metadata": {},
   "source": [
    "## 🔍 Estrutura condicional `if`\n",
    "\n",
    "A instrução `if` permite executar um bloco de código **somente se** uma determinada condição for verdadeira.\n",
    "\n",
    "### Sintaxe básica:\n",
    "\n",
    "```python\n",
    "if condição:\n",
    "    bloco_de_código\n",
    "```\n",
    "A condição deve ser uma expressão booleana (`True` ou `False`).\n",
    "\n",
    "Se a condição for verdadeira, o bloco indentado é executado. Caso contrário, ele é ignorado.\n",
    "\n",
    "A indentação (geralmente 4 espaços) é obrigatória em Python para delimitar o bloco de código que pertence ao `if`.\n"
   ]
  },
  {
   "cell_type": "code",
   "execution_count": 1,
   "id": "ad19e7a8-8f2c-42d2-a5f4-10741ce3ed1a",
   "metadata": {},
   "outputs": [
    {
     "name": "stdout",
     "output_type": "stream",
     "text": [
      "Está quente hoje!\n"
     ]
    }
   ],
   "source": [
    "temperatura = 35\n",
    "\n",
    "if temperatura > 30:\n",
    "    print(\"Está quente hoje!\")\n"
   ]
  },
  {
   "cell_type": "markdown",
   "id": "5713bcf3-3f56-470c-ae1f-88e76e6cb4fa",
   "metadata": {},
   "source": [
    "## 🔁 Alternativa com `else`\n",
    "\n",
    "Podemos usar `else` para executar um bloco alternativo **caso a condição do `if` não seja satisfeita**.\n",
    "\n",
    "### Sintaxe:\n",
    "\n",
    "```python\n",
    "if condição:\n",
    "    bloco_se_verdadeiro\n",
    "else:\n",
    "    bloco_se_falso\n",
    "```\n",
    "Somente um dos blocos será executado."
   ]
  },
  {
   "cell_type": "code",
   "execution_count": 2,
   "id": "c93a3196-8939-40ee-ab5c-c109a13dea33",
   "metadata": {},
   "outputs": [
    {
     "name": "stdin",
     "output_type": "stream",
     "text": [
      "Qual é a sua idade?  55\n"
     ]
    },
    {
     "name": "stdout",
     "output_type": "stream",
     "text": [
      "Você é maior de idade.\n"
     ]
    }
   ],
   "source": [
    "idade = int(input(\"Qual é a sua idade? \"))\n",
    "\n",
    "if idade >= 18:\n",
    "    print(\"Você é maior de idade.\")\n",
    "else:\n",
    "    print(\"Você é menor de idade.\")\n"
   ]
  },
  {
   "cell_type": "markdown",
   "id": "7f2b32c8-2b75-46b2-945d-d8e3cfe06609",
   "metadata": {},
   "source": [
    "## 🔎 Observação\n",
    "\n",
    "A condição no `if` pode ser:\n",
    "\n",
    "- Uma comparação (`x > 5`);\n",
    "- Uma variável booleana (`ligado`);\n",
    "- O retorno de `bool(valor)`.\n",
    "\n",
    "Lembre-se: `0`, `''`, `[]`, `None` e `False` são interpretados como falso (`False`). Todo o resto é interpretado como verdadeiro (`True`).\n"
   ]
  },
  {
   "cell_type": "code",
   "execution_count": 16,
   "id": "cfd2238e-9018-4c9c-b925-b653aa93a2c0",
   "metadata": {},
   "outputs": [
    {
     "name": "stdin",
     "output_type": "stream",
     "text": [
      "Digite seu nome:  adriano\n"
     ]
    },
    {
     "name": "stdout",
     "output_type": "stream",
     "text": [
      "Olá, adriano\n"
     ]
    }
   ],
   "source": [
    "nome = input(\"Digite seu nome: \")\n",
    "\n",
    "if nome:\n",
    "    print(\"Olá,\", nome)\n",
    "else:\n",
    "    print(\"Você não digitou um nome.\")\n"
   ]
  },
  {
   "cell_type": "markdown",
   "id": "b5d9821a-1d12-43c4-b40c-74dcdef65f44",
   "metadata": {},
   "source": [
    "## ✅ Resumo – Instruções `if` e `else`\n",
    "\n",
    "- A instrução `if` executa um bloco de código se a condição for verdadeira;\n",
    "- A instrução `else` define o que fazer se a condição for falsa;\n",
    "- O uso correto da **indentação** é obrigatório em Python;\n",
    "- As condições podem ser expressões booleanas ou valores convertidos com `bool()`.\n"
   ]
  },
  {
   "cell_type": "markdown",
   "id": "c4360e0d-88b3-4a58-93b9-3106c7517ba0",
   "metadata": {},
   "source": [
    "## 🧪 Exercícios práticos recomendados\n",
    "\n",
    "1. Escreva um programa que leia um número e diga se ele é positivo ou negativo.\n",
    "\n",
    "2. Solicite a idade de uma pessoa e informe:\n",
    "   - Se ela é menor de idade;\n",
    "   - Se tem entre 18 e 65 anos;\n",
    "   - Se é idosa (acima de 65 anos). Use apenas `if` e `else`.\n",
    "\n",
    "3. Crie um programa que pergunte ao usuário se ele possui um cupom de desconto:\n",
    "   - Se sim, aplique 10% de desconto no valor informado.\n",
    "   - Se não, mostre o valor total sem desconto.\n"
   ]
  },
  {
   "cell_type": "markdown",
   "id": "f86060c8-2dbf-472f-92f7-2e84bae69f34",
   "metadata": {},
   "source": [
    "## 🧠 Seção 4.3 – Operações Booleanas (Boolean Operations)\n",
    "\n",
    "### Objetivos de aprendizagem\n",
    "\n",
    "Ao final desta seção, você será capaz de:\n",
    "\n",
    "- Combinar múltiplas condições booleanas com `and`, `or` e `not`;\n",
    "- Compreender o comportamento lógico de cada operador;\n",
    "- Criar expressões compostas para decisões mais elaboradas.\n"
   ]
  },
  {
   "cell_type": "markdown",
   "id": "6113af55-1624-4608-be3b-a28e8e8d5b65",
   "metadata": {},
   "source": [
    "## 🔎 Operadores booleanos\n",
    "\n",
    "Python oferece três operadores lógicos para combinar expressões booleanas:\n",
    "\n",
    "| Operador | Nome     | Descrição                                                              |\n",
    "|----------|----------|------------------------------------------------------------------------|\n",
    "| `and`    | E        | Verdadeiro se **ambas** as expressões forem verdadeiras                |\n",
    "| `or`     | Ou       | Verdadeiro se **pelo menos uma** das expressões for verdadeira         |\n",
    "| `not`    | Não      | Inverte o valor lógico da expressão (`True` vira `False`, e vice-versa)|\n"
   ]
  },
  {
   "cell_type": "code",
   "execution_count": 17,
   "id": "e1f869ab-247f-4fec-ad14-843bd0106409",
   "metadata": {},
   "outputs": [
    {
     "name": "stdout",
     "output_type": "stream",
     "text": [
      "Você atende aos critérios.\n"
     ]
    }
   ],
   "source": [
    "idade = 25\n",
    "salario = 3000\n",
    "\n",
    "# Só é verdadeiro se as duas condições forem verdadeiras\n",
    "if idade >= 18 and salario >= 2500:\n",
    "    print(\"Você atende aos critérios.\")\n"
   ]
  },
  {
   "cell_type": "code",
   "execution_count": 18,
   "id": "350be604-1039-422c-9f3c-17e4387127f4",
   "metadata": {},
   "outputs": [
    {
     "name": "stdin",
     "output_type": "stream",
     "text": [
      "Digite uma cor:  verde\n"
     ]
    },
    {
     "name": "stdout",
     "output_type": "stream",
     "text": [
      "Cor não permitida.\n"
     ]
    }
   ],
   "source": [
    "cor = input(\"Digite uma cor: \")\n",
    "\n",
    "if cor == \"vermelho\" or cor == \"azul\":\n",
    "    print(\"Cor permitida.\")\n",
    "else:\n",
    "    print(\"Cor não permitida.\")\n"
   ]
  },
  {
   "cell_type": "code",
   "execution_count": 19,
   "id": "12c3d6c0-d8bc-4907-8f5f-3d5a24e8040d",
   "metadata": {},
   "outputs": [
    {
     "name": "stdout",
     "output_type": "stream",
     "text": [
      "O sistema está desligado.\n"
     ]
    }
   ],
   "source": [
    "ligado = False\n",
    "\n",
    "if not ligado:\n",
    "    print(\"O sistema está desligado.\")\n"
   ]
  },
  {
   "cell_type": "markdown",
   "id": "d20cdc1e-89a1-45d8-850f-16c8037cfbeb",
   "metadata": {},
   "source": [
    "## 📊 Tabelas verdade dos operadores\n",
    "\n",
    "### `and`\n",
    "\n",
    "| A       | B       | A and B |\n",
    "|---------|---------|---------|\n",
    "| True    | True    | True    |\n",
    "| True    | False   | False   |\n",
    "| False   | True    | False   |\n",
    "| False   | False   | False   |\n",
    "\n",
    "### `or`\n",
    "\n",
    "| A       | B       | A or B  |\n",
    "|---------|---------|---------|\n",
    "| True    | True    | True    |\n",
    "| True    | False   | True    |\n",
    "| False   | True    | True    |\n",
    "| False   | False   | False   |\n",
    "\n",
    "### `not`\n",
    "\n",
    "| A       | not A   |\n",
    "|---------|---------|\n",
    "| True    | False   |\n",
    "| False   | True    |\n"
   ]
  },
  {
   "cell_type": "markdown",
   "id": "b00aca66-3b8f-4641-a005-111f8392a285",
   "metadata": {},
   "source": [
    "## 🔗 Expressões compostas\n",
    "\n",
    "Você pode combinar comparações e operadores lógicos:\n",
    "\n",
    "```python\n",
    "idade = 30\n",
    "genero = \"F\"\n",
    "\n",
    "if idade >= 18 and genero == \"F\":\n",
    "    print(\"Candidata elegível.\")\n",
    "```\n",
    "Evite misturar muitos operadores sem parênteses. O uso de parênteses torna o código mais legível e seguro."
   ]
  },
  {
   "cell_type": "code",
   "execution_count": 20,
   "id": "45ec32e3-0647-4f14-9ce5-59b2aa06fcab",
   "metadata": {},
   "outputs": [
    {
     "name": "stdout",
     "output_type": "stream",
     "text": [
      "Aluno aprovado.\n"
     ]
    }
   ],
   "source": [
    "nota = 85\n",
    "faltas = 2\n",
    "\n",
    "if (nota >= 70 and faltas <= 3) or nota >= 90:\n",
    "    print(\"Aluno aprovado.\")"
   ]
  },
  {
   "cell_type": "markdown",
   "id": "08cf3291-7164-46e0-8c09-a061a97367f7",
   "metadata": {},
   "source": [
    "## ✅ Resumo – Operações Booleanas\n",
    "\n",
    "- `and`: ambas as expressões precisam ser verdadeiras;\n",
    "- `or`: basta que uma das expressões seja verdadeira;\n",
    "- `not`: inverte o valor lógico de uma expressão;\n",
    "- Use parênteses para controlar a ordem de avaliação;\n",
    "- Essas operações permitem criar condições mais flexíveis e inteligentes.\n"
   ]
  },
  {
   "cell_type": "markdown",
   "id": "7d22bb64-6ff3-47d3-a85d-6440ead7fe38",
   "metadata": {},
   "source": [
    "## 🧪 Exercícios práticos recomendados\n",
    "\n",
    "1. Escreva um programa que leia idade e renda e diga se a pessoa pode obter um empréstimo:\n",
    "   - Requisitos: idade >= 21 e renda >= 3000.\n",
    "\n",
    "2. Crie um sistema que aceite somente usuários com senha correta **ou** cartão válido.\n",
    "\n",
    "3. Solicite dois números e informe se **ambos são positivos**.\n",
    "\n",
    "4. Teste o comportamento de `not` com expressões numéricas e strings.\n"
   ]
  },
  {
   "cell_type": "markdown",
   "id": "48115a08-d91e-4f97-a5e4-d8dcc21c7ce2",
   "metadata": {},
   "source": [
    "## 🧠 Seção 4.4 – Precedência de Operadores (Operator Precedence)\n",
    "\n",
    "### Objetivos de aprendizagem\n",
    "\n",
    "Ao final desta seção, você será capaz de:\n",
    "\n",
    "- Entender a ordem em que os operadores são avaliados em expressões complexas;\n",
    "- Utilizar parênteses para garantir a clareza e o controle da precedência;\n",
    "- Prever corretamente o resultado de expressões compostas com operadores lógicos, relacionais e aritméticos.\n"
   ]
  },
  {
   "cell_type": "markdown",
   "id": "379260a1-97c0-43d7-8ec1-52b83ef72bdf",
   "metadata": {},
   "source": [
    "## 🧮 O que é precedência de operadores?\n",
    "\n",
    "Precedência de operadores define **a ordem** em que diferentes partes de uma expressão são avaliadas.\n",
    "\n",
    "Sem parênteses explícitos, Python segue regras internas para decidir **qual operador é aplicado primeiro**.\n",
    "\n",
    "Essa ordem afeta diretamente o resultado das expressões.\n",
    "\n",
    "Por exemplo:\n",
    "\n",
    "```python\n",
    "print(True or False and False)  # Saída: True\n",
    "```\n",
    "Neste caso, `and` tem maior precedência que `or`, então `False and False` é avaliado primeiro.\n"
   ]
  },
  {
   "cell_type": "markdown",
   "id": "6755cdff-bd11-4b17-a6c1-c35b6f0c3b10",
   "metadata": {},
   "source": [
    "## 📊 Tabela simplificada de precedência (do mais alto para o mais baixo)\n",
    "\n",
    "| Precedência | Operador        | Descrição                       |\n",
    "|-------------|------------------|----------------------------------|\n",
    "| 1 (alta)    | `()`             | Parênteses (avalia primeiro)    |\n",
    "| 2           | `**`             | Exponenciação                   |\n",
    "| 3           | `* / // %`       | Multiplicação, divisão          |\n",
    "| 4           | `+ -`            | Soma, subtração                 |\n",
    "| 5           | `== != < > <= >=`| Comparações                     |\n",
    "| 6           | `not`            | Negação lógica                  |\n",
    "| 7           | `and`            | Conjunção lógica                |\n",
    "| 8 (baixa)   | `or`             | Disjunção lógica                |"
   ]
  },
  {
   "cell_type": "code",
   "execution_count": 21,
   "id": "29899167-a135-48bf-88f2-ef8580857edc",
   "metadata": {},
   "outputs": [
    {
     "name": "stdout",
     "output_type": "stream",
     "text": [
      "11\n"
     ]
    }
   ],
   "source": [
    "resultado = 5 + 2 * 3\n",
    "print(resultado)  # Saída: 11 (multiplicação tem precedência)\n"
   ]
  },
  {
   "cell_type": "code",
   "execution_count": 22,
   "id": "1270e9fb-4f9f-43d0-bc4d-bb0f57d992b1",
   "metadata": {},
   "outputs": [
    {
     "name": "stdout",
     "output_type": "stream",
     "text": [
      "True\n"
     ]
    }
   ],
   "source": [
    "x = True\n",
    "y = False\n",
    "z = True\n",
    "\n",
    "print(x or y and z)  # Saída: True, pois `and` é avaliado antes de `or`\n"
   ]
  },
  {
   "cell_type": "code",
   "execution_count": 23,
   "id": "69562c44-e43f-40e5-a4b2-42fbfd8d4c9a",
   "metadata": {},
   "outputs": [
    {
     "name": "stdout",
     "output_type": "stream",
     "text": [
      "True\n",
      "True\n",
      "True\n"
     ]
    }
   ],
   "source": [
    "# Mudança de lógica com parênteses\n",
    "print((x or y) and z)  # Saída: True\n",
    "print(x or (y and z))  # Saída: True\n",
    "print((x or y and z))  # Equivale a: x or (y and z) → True\n"
   ]
  },
  {
   "cell_type": "markdown",
   "id": "739886dd-57c1-4083-9bd5-fbcf40c59ef6",
   "metadata": {},
   "source": [
    "## ✅ Boas práticas com precedência\n",
    "\n",
    "- Use **parênteses sempre que quiser deixar claro o que deve ser avaliado primeiro**;\n",
    "- Mesmo que conheça as regras de precedência, prefira **código legível** a \"esperto\";\n",
    "- Parênteses tornam expressões complexas mais fáceis de entender e manter.\n"
   ]
  },
  {
   "cell_type": "markdown",
   "id": "14f8717f-0524-41ad-88ea-bb3a6fa278b2",
   "metadata": {},
   "source": [
    "## ✅ Resumo – Precedência de Operadores\n",
    "\n",
    "- Python segue uma ordem fixa de avaliação de operadores;\n",
    "- Operadores aritméticos são avaliados antes dos relacionais;\n",
    "- `not` é avaliado antes de `and`, que é avaliado antes de `or`;\n",
    "- Use parênteses para controlar ou esclarecer a ordem de execução.\n"
   ]
  },
  {
   "cell_type": "markdown",
   "id": "0869a2be-972b-4195-8ebe-cd0a19074651",
   "metadata": {},
   "source": [
    "## 🧪 Exercícios práticos recomendados\n",
    "\n",
    "1. Qual o resultado da expressão: `True or False and False`? Justifique.\n",
    "\n",
    "2. Escreva uma expressão que use pelo menos 3 operadores diferentes e explique a ordem de avaliação.\n",
    "\n",
    "3. Reescreva expressões como:\n",
    "   ```python\n",
    "   x and y or z\n",
    "   ```\n",
    "   usando parênteses para alterar o resultado.\n",
    "\n",
    "4. Simule uma condição de aprovação com três critérios e controle a lógica com parênteses.\n"
   ]
  },
  {
   "cell_type": "markdown",
   "id": "46de22f7-de68-4e70-8201-31c2bb9719ae",
   "metadata": {},
   "source": [
    "## 🧠 Seção 4.5 – Decisões encadeadas (Chained Decisions)\n",
    "\n",
    "### Objetivos de aprendizagem\n",
    "\n",
    "Ao final desta seção, você será capaz de:\n",
    "\n",
    "- Utilizar a instrução `elif` para testar múltiplas condições em sequência;\n",
    "- Construir estruturas de decisão com múltiplos caminhos possíveis;\n",
    "- Entender o fluxo de avaliação das instruções `if` → `elif` → `else`.\n"
   ]
  },
  {
   "cell_type": "markdown",
   "id": "d77fb80b-de61-4cd6-97c6-f4d30c2c0ce9",
   "metadata": {},
   "source": [
    "## 🔀 Testes encadeados com `elif`\n",
    "\n",
    "Em Python, podemos usar `elif` (\"else if\") para testar **várias condições mutuamente exclusivas**.\n",
    "\n",
    "A estrutura `if` → `elif` → `else` permite testar **múltiplas opções** em sequência, executando **somente o primeiro bloco cuja condição seja verdadeira**.\n",
    "\n",
    "### Sintaxe:\n",
    "\n",
    "```python\n",
    "if condição_1:\n",
    "    bloco_1\n",
    "elif condição_2:\n",
    "    bloco_2\n",
    "elif condição_3:\n",
    "    bloco_3\n",
    "else:\n",
    "    bloco_padrão\n"
   ]
  },
  {
   "cell_type": "code",
   "execution_count": 24,
   "id": "746ad313-9319-44e1-b286-91eeaa70073b",
   "metadata": {},
   "outputs": [
    {
     "name": "stdin",
     "output_type": "stream",
     "text": [
      "Informe sua idade:  34\n"
     ]
    },
    {
     "name": "stdout",
     "output_type": "stream",
     "text": [
      "Adulto\n"
     ]
    }
   ],
   "source": [
    "idade = int(input(\"Informe sua idade: \"))\n",
    "\n",
    "if idade < 18:\n",
    "    print(\"Menor de idade\")\n",
    "elif idade <= 65:\n",
    "    print(\"Adulto\")\n",
    "else:\n",
    "    print(\"Idoso\")"
   ]
  },
  {
   "cell_type": "markdown",
   "id": "3ec0c3f6-5d20-4676-8ac1-4cd50e20b7ce",
   "metadata": {},
   "source": [
    "## ⚠️ Avaliação em cascata\n",
    "\n",
    "Python avalia as condições **de cima para baixo** e executa **somente o primeiro bloco verdadeiro**.\n",
    "\n",
    "Se uma condição for satisfeita, as demais **não são sequer avaliadas**.\n"
   ]
  },
  {
   "cell_type": "code",
   "execution_count": 25,
   "id": "7d859632-d450-4c55-b477-d0819ea9366b",
   "metadata": {},
   "outputs": [
    {
     "name": "stdin",
     "output_type": "stream",
     "text": [
      "Informe seu salário:  1000\n"
     ]
    },
    {
     "name": "stdout",
     "output_type": "stream",
     "text": [
      "Baixa renda\n"
     ]
    }
   ],
   "source": [
    "salario = float(input(\"Informe seu salário: \"))\n",
    "\n",
    "if salario < 2000:\n",
    "    print(\"Baixa renda\")\n",
    "elif salario < 5000:\n",
    "    print(\"Renda média\")\n",
    "elif salario < 10000:\n",
    "    print(\"Alta renda\")\n",
    "else:\n",
    "    print(\"Renda muito alta\")\n"
   ]
  },
  {
   "cell_type": "markdown",
   "id": "9cbac0ac-a62a-49f2-8e64-eeb659f7f304",
   "metadata": {},
   "source": [
    "## ✅ Boas práticas com `elif`\n",
    "\n",
    "- Utilize `elif` quando tiver **múltiplas opções exclusivas**;\n",
    "- Evite repetir condições desnecessárias — use faixas claras e progressivas;\n",
    "- Use `else` somente quando quiser capturar **qualquer caso não tratado acima**;\n",
    "- Priorize **legibilidade**: mantenha a indentação e estrutura clara.\n"
   ]
  },
  {
   "cell_type": "markdown",
   "id": "315bb25d-ff28-42cc-989d-42a9fd7c67aa",
   "metadata": {},
   "source": [
    "## ✅ Resumo – Decisões encadeadas\n",
    "\n",
    "- A instrução `elif` permite encadear condições adicionais após um `if`;\n",
    "- Somente **um único bloco será executado**: o do primeiro teste verdadeiro;\n",
    "- O `else`, se presente, captura todos os casos restantes;\n",
    "- Essa estrutura é útil para categorizar valores, classificar entradas ou modelar menus.\n"
   ]
  },
  {
   "cell_type": "markdown",
   "id": "f1a92447-e87c-4f46-8f94-a8726a80e898",
   "metadata": {},
   "source": [
    "## 🧪 Exercícios práticos recomendados\n",
    "\n",
    "1. Crie um programa que leia uma nota de 0 a 10 e imprima:\n",
    "   - Abaixo de 5: \"Reprovado\"\n",
    "   - Entre 5 e 6.9: \"Recuperação\"\n",
    "   - 7 ou mais: \"Aprovado\"\n",
    "\n",
    "2. Solicite o número de horas trabalhadas por semana e classifique:\n",
    "   - Até 20h: \"Meio período\"\n",
    "   - Até 40h: \"Tempo integral\"\n",
    "   - Mais de 40h: \"Hora extra\"\n",
    "\n",
    "3. Escreva um programa que leia a temperatura e classifique o clima:\n",
    "   - Menor que 15°C: \"Frio\"\n",
    "   - Entre 15°C e 25°C: \"Agradável\"\n",
    "   - Acima de 25°C: \"Quente\"\n"
   ]
  },
  {
   "cell_type": "markdown",
   "id": "fde34359-bd36-491f-aa6b-345d1d6f8c9d",
   "metadata": {},
   "source": [
    "## 🧠 Seção 4.6 – Decisões aninhadas (Nested Decisions)\n",
    "\n",
    "### Objetivos de aprendizagem\n",
    "\n",
    "Ao final desta seção, você será capaz de:\n",
    "\n",
    "- Criar estruturas condicionais aninhadas (condições dentro de condições);\n",
    "- Compreender como a indentação reflete a hierarquia das decisões;\n",
    "- Evitar complexidade excessiva em estruturas aninhadas.\n"
   ]
  },
  {
   "cell_type": "markdown",
   "id": "8b09c8ec-2562-4054-a27e-122cc8237368",
   "metadata": {},
   "source": [
    "## 🔂 O que são decisões aninhadas?\n",
    "\n",
    "Uma decisão aninhada ocorre quando **um bloco `if`, `elif` ou `else` contém outro bloco condicional**.\n",
    "\n",
    "Essa estrutura é útil quando precisamos tomar **uma nova decisão dependendo do resultado anterior**.\n",
    "\n",
    "### Sintaxe:\n",
    "\n",
    "```python\n",
    "if condição_1:\n",
    "    if condição_2:\n",
    "        ação_1\n",
    "    else:\n",
    "        ação_2\n",
    "else:\n",
    "    ação_3\n"
   ]
  },
  {
   "cell_type": "code",
   "execution_count": 26,
   "id": "a5ce79fc-2f0a-469c-b863-9f85464c9deb",
   "metadata": {},
   "outputs": [
    {
     "name": "stdin",
     "output_type": "stream",
     "text": [
      "Você possui carteira de motorista? (s/n)  s\n"
     ]
    },
    {
     "name": "stdout",
     "output_type": "stream",
     "text": [
      "Você pode dirigir.\n"
     ]
    }
   ],
   "source": [
    "tem_carteira = input(\"Você possui carteira de motorista? (s/n) \")\n",
    "\n",
    "if idade >= 18:\n",
    "    if tem_carteira == \"s\":\n",
    "        print(\"Você pode dirigir.\")\n",
    "    else:\n",
    "        print(\"Você precisa tirar a carteira.\")\n",
    "else:\n",
    "    print(\"Você ainda é menor de idade.\")\n"
   ]
  },
  {
   "cell_type": "markdown",
   "id": "5215d089-aba2-4c98-aa02-4cb5a771043b",
   "metadata": {},
   "source": [
    "## ⚠️ Cuidados com a indentação\n",
    "\n",
    "Cada nível de decisão deve ser corretamente indentado.\n",
    "\n",
    "Evite estruturas **muito profundas**, pois dificultam a leitura e manutenção.\n",
    "\n",
    "Para situações complexas, considere reestruturar usando **`elif`**, **funções** ou **lógicas compostas**.\n"
   ]
  },
  {
   "cell_type": "code",
   "execution_count": 27,
   "id": "162be792-b675-4736-b20a-19f6d55a4910",
   "metadata": {},
   "outputs": [
    {
     "name": "stdin",
     "output_type": "stream",
     "text": [
      "Digite um número:  34\n"
     ]
    },
    {
     "name": "stdout",
     "output_type": "stream",
     "text": [
      "Número positivo e par\n"
     ]
    }
   ],
   "source": [
    "x = int(input(\"Digite um número: \"))\n",
    "\n",
    "if x > 0:\n",
    "    if x % 2 == 0:\n",
    "        print(\"Número positivo e par\")\n",
    "    else:\n",
    "        print(\"Número positivo e ímpar\")\n",
    "else:\n",
    "    print(\"Número zero ou negativo\")\n"
   ]
  },
  {
   "cell_type": "markdown",
   "id": "8a70e704-d119-4eb3-bb74-264cd2a39ee8",
   "metadata": {},
   "source": [
    "## ✅ Reescrevendo o mesmo exemplo com `and`\n",
    "\n",
    "É possível reestruturar decisões aninhadas com operadores lógicos:\n",
    "\n",
    "```python\n",
    "if x > 0 and x % 2 == 0:\n",
    "    print(\"Número positivo e par\")\n",
    "elif x > 0:\n",
    "    print(\"Número positivo e ímpar\")\n",
    "else:\n",
    "    print(\"Número zero ou negativo\")\n",
    "```\n",
    "Essa abordagem torna o código mais plano e legível, evitando múltiplos níveis de aninhamento."
   ]
  },
  {
   "cell_type": "markdown",
   "id": "82adfb40-0894-4114-a749-5d06af10dcb4",
   "metadata": {},
   "source": [
    "## ✅ Resumo – Decisões aninhadas\n",
    "\n",
    "- Permitem fazer verificações condicionais **dentro de outras**;\n",
    "- A **indentação** indica a hierarquia das decisões;\n",
    "- Útil em situações que dependem de múltiplos critérios;\n",
    "- Evite profundidade excessiva — prefira código legível."
   ]
  },
  {
   "cell_type": "markdown",
   "id": "13d69017-86c2-413e-85fb-b8d1760b6b91",
   "metadata": {},
   "source": [
    "## 🧪 Exercícios práticos recomendados\n",
    "\n",
    "1. Crie um programa que pergunte a idade e se a pessoa possui passaporte:\n",
    "   - Se idade < 18: \"Menor de idade, precisa de autorização dos pais\"\n",
    "   - Se idade >= 18 e tem passaporte: \"Pode viajar\"\n",
    "   - Se idade >= 18 e não tem passaporte: \"Precisa de passaporte\"\n",
    "\n",
    "2. Leia a nota de um aluno e se ela for maior ou igual a 7:\n",
    "   - Pergunte se ele entregou todos os trabalhos\n",
    "     - Se sim, diga \"Aprovado com mérito\"\n",
    "     - Se não, diga \"Aprovado\"\n",
    "   - Se a nota for menor que 7: \"Reprovado\"\n",
    "\n",
    "3. Escreva um programa que leia a renda mensal e a idade de uma pessoa.\n",
    "   - Se renda < 2500 e idade < 25: \"Candidato para bolsa\"\n",
    "   - Se renda >= 2500 e idade < 25: \"Candidato parcial\"\n",
    "   - Se idade >= 25: \"Não elegível\"\n"
   ]
  },
  {
   "cell_type": "markdown",
   "id": "a18ca81c-3592-4d86-8b6a-44cae73f52c8",
   "metadata": {},
   "source": [
    "## 🧠 Seção 4.7 – Expressões Condicionais (`condição_if_verdadeira if condição else condição_falsa`)\n",
    "\n",
    "### Objetivos de aprendizagem\n",
    "\n",
    "Após esta seção, você será capaz de:\n",
    "\n",
    "- Escrever expressões condicionais compactas com a sintaxe `x if condição else y`;\n",
    "- Usar expressões condicionais para definir valores com base em uma lógica;\n",
    "- Melhorar a legibilidade e concisão do código.\n"
   ]
  },
  {
   "cell_type": "markdown",
   "id": "82769f3d-1798-4b72-81aa-5da9adebd052",
   "metadata": {},
   "source": [
    "## 🔁 Expressões condicionais (condicional ternária)\n",
    "\n",
    "Python permite definir valores com base em condições usando a **expressão condicional**, também conhecida como **expressão ternária**.\n",
    "\n",
    "Ela segue a seguinte sintaxe:\n",
    "\n",
    "```python\n",
    "valor = expressão_1 if condição else expressão_2\n",
    "```\n",
    "Essa estrutura permite atribuir valores de forma compacta e legível, como alternativa ao if tradicional."
   ]
  },
  {
   "cell_type": "code",
   "execution_count": 29,
   "id": "d29935f7-f763-4f53-a2d3-87af6ed03d3a",
   "metadata": {},
   "outputs": [
    {
     "name": "stdin",
     "output_type": "stream",
     "text": [
      "Informe sua idade:  13\n"
     ]
    },
    {
     "name": "stdout",
     "output_type": "stream",
     "text": [
      "Você é menor de idade\n"
     ]
    }
   ],
   "source": [
    "idade = int(input(\"Informe sua idade: \"))\n",
    "status = \"maior de idade\" if idade >= 18 else \"menor de idade\"\n",
    "print(\"Você é\", status)"
   ]
  },
  {
   "cell_type": "markdown",
   "id": "0d6e5368-f5f9-4cfa-8acd-fca24d687f79",
   "metadata": {},
   "source": [
    "## 📊 Comparação com `if-else` tradicional\n",
    "\n",
    "O código abaixo usa `if-else` tradicional:\n",
    "\n",
    "```python\n",
    "if idade >= 18:\n",
    "    status = \"maior de idade\"\n",
    "else:\n",
    "    status = \"menor de idade\"\n",
    "```\n",
    "Com expressão condicional:\n",
    "```python\n",
    "status = \"maior de idade\" if idade >= 18 else \"menor de idade\"\n",
    "```\n",
    "Ambos produzem o mesmo resultado, mas a versão com expressão condicional é mais concisa e clara, principalmente quando usada para atribuição simples."
   ]
  },
  {
   "cell_type": "code",
   "execution_count": 30,
   "id": "c051a901-9515-4a50-af92-080a68d09ac2",
   "metadata": {},
   "outputs": [
    {
     "name": "stdin",
     "output_type": "stream",
     "text": [
      "Informe a nota do aluno:  3\n"
     ]
    },
    {
     "name": "stdout",
     "output_type": "stream",
     "text": [
      "Reprovado\n"
     ]
    }
   ],
   "source": [
    "nota = float(input(\"Informe a nota do aluno: \"))\n",
    "print(\"Aprovado\" if nota >= 7 else \"Reprovado\")"
   ]
  },
  {
   "cell_type": "markdown",
   "id": "e2d1fd1d-8861-4b9c-9ced-199cf6636d2d",
   "metadata": {},
   "source": [
    "## ✅ Boas práticas\n",
    "\n",
    "- Use expressões condicionais **apenas para expressões simples**;\n",
    "- Para lógica mais complexa, prefira `if-else` tradicional;\n",
    "- Útil para **atribuições, retornos de função** e **impressões diretas**;\n",
    "- Evite aninhar expressões ternárias — reduz a legibilidade.\n"
   ]
  },
  {
   "cell_type": "markdown",
   "id": "aa79a133-9057-44aa-bfcd-90c30b9a1ab8",
   "metadata": {},
   "source": [
    "## ✅ Resumo – Expressões condicionais\n",
    "\n",
    "- Permitem atribuir valores com base em condições, em uma única linha;\n",
    "- Sintaxe: `resultado_true if condição else resultado_false`;\n",
    "- Facilitam código mais limpo e compacto;\n",
    "- Não substituem `if-else` estruturado em casos complexos.\n"
   ]
  },
  {
   "cell_type": "markdown",
   "id": "2fba2420-ec86-4e69-ae75-24db0f4d29d8",
   "metadata": {},
   "source": [
    "## 🧪 Exercícios práticos recomendados\n",
    "\n",
    "1. Peça ao usuário um número e imprima se ele é \"par\" ou \"ímpar\" usando uma expressão condicional.\n",
    "\n",
    "2. Solicite uma temperatura em °C e imprima \"Quente\" se for maior que 30, caso contrário imprima \"Agradável\".\n",
    "\n",
    "3. Crie uma expressão condicional que determine se um número é múltiplo de 3 ou não.\n",
    "\n",
    "4. Escreva um programa que leia o nome de um usuário e exiba \"Bem-vindo, <nome>\" se ele digitou algo, ou \"Nome não informado\" se deixou em branco.\n"
   ]
  },
  {
   "cell_type": "markdown",
   "id": "705275d3-4ef8-4f05-b855-e1fab76cb152",
   "metadata": {},
   "source": [
    "## 🧪 Exercícios integradores – Capítulo 4: Decisões\n",
    "\n",
    "1. Escreva um programa que receba dois números e:\n",
    "   - Imprima qual deles é o maior;\n",
    "   - Se forem iguais, informe \"Números iguais\".\n",
    "\n",
    "2. Peça ao usuário seu nome e idade. Se tiver menos de 18 anos, imprima \"Acesso negado\". Caso contrário:\n",
    "   - Se o nome começar com a letra \"A\", imprima \"Acesso VIP\";\n",
    "   - Caso contrário, imprima \"Acesso comum\".\n",
    "\n",
    "3. Solicite a nota final de um aluno e exiba:\n",
    "   - \"Reprovado\" se a nota for menor que 5;\n",
    "   - \"Recuperação\" se estiver entre 5 e 6.9;\n",
    "   - \"Aprovado\" se for 7 ou mais;\n",
    "   - Use `elif`.\n",
    "\n",
    "4. Solicite um número ao usuário. Classifique como:\n",
    "   - Positivo par, positivo ímpar, negativo par, negativo ímpar ou zero;\n",
    "   - Use decisões aninhadas para resolver o problema.\n",
    "\n",
    "5. Crie uma expressão condicional que leia a renda mensal e diga:\n",
    "   - \"Isento\" se renda ≤ 2000;\n",
    "   - \"Tributável\" caso contrário;\n",
    "   - Use a sintaxe `x if condição else y`.\n"
   ]
  },
  {
   "cell_type": "markdown",
   "id": "386bda3d-f168-46d1-a195-f04150e0f06b",
   "metadata": {},
   "source": [
    "## 📚 Tabela de referência – Capítulo 4: Decisões\n",
    "\n",
    "### 🔧 Estruturas de decisão\n",
    "\n",
    "| Estrutura        | Descrição                                                                 |\n",
    "|------------------|---------------------------------------------------------------------------|\n",
    "| `if`             | Executa um bloco se a condição for verdadeira                             |\n",
    "| `else`           | Executa se nenhuma condição anterior for satisfeita                       |\n",
    "| `elif`           | Testa condições adicionais após um `if` inicial                           |\n",
    "| `if dentro de if`| Decisão aninhada: condição dentro de outra                               |\n",
    "| `condição if ... else ...` | Expressão condicional em uma única linha (ternária)              |\n",
    "\n",
    "---\n",
    "\n",
    "### 🔣 Operadores lógicos e relacionais\n",
    "\n",
    "| Operador | Significado         | Exemplo               |\n",
    "|----------|---------------------|------------------------|\n",
    "| `==`     | Igualdade            | `x == y`               |\n",
    "| `!=`     | Diferente            | `x != y`               |\n",
    "| `<`      | Menor que            | `x < y`                |\n",
    "| `>`      | Maior que            | `x > y`                |\n",
    "| `<=`     | Menor ou igual       | `x <= y`               |\n",
    "| `>=`     | Maior ou igual       | `x >= y`               |\n",
    "| `and`    | E lógico             | `x > 0 and x < 10`     |\n",
    "| `or`     | OU lógico            | `x < 0 or x > 100`     |\n",
    "| `not`    | Negação lógica       | `not (x == y)`         |\n",
    "\n",
    "---\n",
    "\n",
    "### 🧠 Regras de precedência (ordem de avaliação)\n",
    "\n",
    "1. Parênteses `()`\n",
    "2. Operadores aritméticos `**`, `*`, `/`, `+`, `-`\n",
    "3. Comparações `==`, `!=`, `<`, `>`, `<=`, `>=`\n",
    "4. Operadores lógicos `not` → `and` → `or`\n",
    "\n",
    "---\n",
    "\n",
    "### 💡 Boas práticas\n",
    "\n",
    "- Use `elif` ao invés de `if` separado quando os testes forem mutuamente exclusivos;\n",
    "- Indente corretamente estruturas aninhadas;\n",
    "- Use expressões condicionais com parcimônia — priorize legibilidade;\n",
    "- Comente trechos complexos para explicar decisões tomadas.\n"
   ]
  },
  {
   "cell_type": "code",
   "execution_count": null,
   "id": "694aeb57-cf87-48d4-9d67-1a572f4218bd",
   "metadata": {},
   "outputs": [],
   "source": []
  }
 ],
 "metadata": {
  "kernelspec": {
   "display_name": "Python 3 (ipykernel)",
   "language": "python",
   "name": "python3"
  },
  "language_info": {
   "codemirror_mode": {
    "name": "ipython",
    "version": 3
   },
   "file_extension": ".py",
   "mimetype": "text/x-python",
   "name": "python",
   "nbconvert_exporter": "python",
   "pygments_lexer": "ipython3",
   "version": "3.13.7"
  }
 },
 "nbformat": 4,
 "nbformat_minor": 5
}
