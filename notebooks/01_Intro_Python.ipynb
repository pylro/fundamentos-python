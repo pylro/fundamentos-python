{
 "cells": [
  {
   "cell_type": "markdown",
   "id": "257611b0",
   "metadata": {},
   "source": [
    "# Capítulo 1 – Introdução ao Python\n",
    "\n",
    "> **Adriano Pylro - Engenheiro Mecânico - Dr. Eng.**"
   ]
  },
  {
   "cell_type": "markdown",
   "id": "32792df2",
   "metadata": {},
   "source": [
    "# Seção 1.1 – Instruções\n",
    "\n",
    "Em Python, uma **instrução** é uma linha de código que o interpretador pode executar. Assim como frases completas em linguagem natural, uma instrução em Python representa uma ação completa.\n",
    "\n",
    "**Exemplos de instruções:**\n",
    "- Atribuir um valor a uma variável\n",
    "- Chamar uma função (como `print()`)\n",
    "- Controlar o fluxo com `if`, `while`, etc.\n",
    "\n",
    "Você pode digitar instruções no terminal interativo do Python ou escrevê-las em um script `.py` para execução posterior."
   ]
  },
  {
   "cell_type": "code",
   "execution_count": 1,
   "id": "674df7b1",
   "metadata": {},
   "outputs": [
    {
     "name": "stdout",
     "output_type": "stream",
     "text": [
      "Olá, Python!\n"
     ]
    }
   ],
   "source": [
    "# Instrução simples: chamada de função\n",
    "print(\"Olá, Python!\")"
   ]
  },
  {
   "cell_type": "markdown",
   "id": "dfbaa53c",
   "metadata": {},
   "source": [
    "## Atribuições\n",
    "\n",
    "Uma instrução de **atribuição** associa um valor a um nome (variável).\n",
    "\n",
    "**Sintaxe geral:**\n",
    "\n",
    "`nome_variavel = valor`\n",
    "\n",
    "Após a atribuição, o nome da variável pode ser usado para acessar esse valor posteriormente."
   ]
  },
  {
   "cell_type": "code",
   "execution_count": 2,
   "id": "a4e214c1",
   "metadata": {},
   "outputs": [],
   "source": [
    "# Atribuição de valor inteiro\n",
    "idade = 30\n",
    "\n",
    "# Atribuição de string\n",
    "nome = \"Ana\"\n",
    "\n",
    "# Atribuição de valor booleano\n",
    "ativo = True"
   ]
  },
  {
   "cell_type": "markdown",
   "id": "5659d4f5",
   "metadata": {},
   "source": [
    "### Observação\n",
    "\n",
    "- A instrução `idade = 30` **não significa igualdade matemática**. Ela significa \"associe o valor 30 ao nome 'idade'\".\n",
    "- O símbolo `=` em Python é o **operador de atribuição**, não o de igualdade (que é `==`)."
   ]
  },
  {
   "cell_type": "markdown",
   "id": "bed9d5cc",
   "metadata": {},
   "source": [
    "## Chamadas de função\n",
    "\n",
    "Chamadas de função também são instruções. Ao chamar `print(\"Olá\")`, estamos pedindo que Python execute a função `print()` com o argumento especificado.\n",
    "\n",
    "Uma função pode ou não retornar um valor. Algumas funções apenas executam uma ação (como imprimir na tela), e isso já é considerado uma instrução válida."
   ]
  },
  {
   "cell_type": "code",
   "execution_count": 3,
   "id": "55e902b7",
   "metadata": {},
   "outputs": [
    {
     "name": "stdout",
     "output_type": "stream",
     "text": [
      "Este é um exemplo de chamada de função\n"
     ]
    }
   ],
   "source": [
    "# Chamada de função\n",
    "print(\"Este é um exemplo de chamada de função\")"
   ]
  },
  {
   "cell_type": "markdown",
   "id": "e1605d7f",
   "metadata": {},
   "source": [
    "## Instruções compostas\n",
    "\n",
    "Instruções compostas, como `if`, `while`, `for`, são compostas por múltiplas linhas e exigem **indentação** para indicar blocos de código.\n",
    "\n",
    "Exemplo:\n",
    "\n",
    "```python\n",
    "if idade > 18:\n",
    "    print(\"Maior de idade\")\n",
    "else:\n",
    "    print(\"Menor de idade\")\n",
    "```\n",
    "\n",
    "Esse tipo de instrução será estudado com mais profundidade nos próximos capítulos."
   ]
  },
  {
   "cell_type": "markdown",
   "id": "f875ca7c",
   "metadata": {},
   "source": [
    "## ✔️ Resumo da Seção\n",
    "\n",
    "| Tipo de Instrução     | Exemplo                        | Descrição                                  |\n",
    "|------------------------|--------------------------------|----------------------------------------------|\n",
    "| Atribuição             | `x = 5`                        | Associa valor a uma variável                |\n",
    "| Chamada de função      | `print(\"Oi\")`                 | Executa uma função                          |\n",
    "| Instrução composta     | `if x > 0: ...`                | Controla o fluxo, requer indentação         |\n",
    "\n",
    "Agora que você entende o que são instruções em Python, o próximo passo será explorar **expressões** no Capítulo 2."
   ]
  },
  {
   "cell_type": "markdown",
   "id": "faab6294-a049-43d8-9434-ed7b51f8069a",
   "metadata": {},
   "source": [
    "# 🧠 Seção 1.2 – Entrada e saída (Input/Output)\n",
    "\n",
    "## Objetivos de aprendizagem\n",
    "\n",
    "Depois desta seção, você deverá ser capaz de:\n",
    "\n",
    "- Mostrar informações para o usuário usando a função `print()`;\n",
    "- Ler dados digitados pelo usuário usando a função `input()`.\n"
   ]
  },
  {
   "cell_type": "markdown",
   "id": "9d12f0a8-68f1-4c42-a41e-1432546e96c6",
   "metadata": {},
   "source": [
    "## 🖨️ Saída padrão com `print()`\n",
    "\n",
    "A função `print()` exibe texto ou valores no console (saída padrão). Por padrão:\n",
    "\n",
    "- Imprime cada argumento separado por um **espaço**;\n",
    "- Adiciona uma **nova linha** ao final.\n",
    "\n",
    "### Parâmetros úteis\n",
    "\n",
    "- `sep=\"...\"`: define o separador entre os itens;\n",
    "- `end=\"...\"`: define o final da linha (por padrão é `\"\\n\"` – nova linha).\n"
   ]
  },
  {
   "cell_type": "code",
   "execution_count": 4,
   "id": "57c7f913-9f5e-4e75-8244-8dd3bc8cb772",
   "metadata": {},
   "outputs": [
    {
     "name": "stdout",
     "output_type": "stream",
     "text": [
      "Today is Monday.\n",
      "I like string beans.\n"
     ]
    }
   ],
   "source": [
    "print(\"Today is Monday.\")\n",
    "print(\"I like string beans.\")"
   ]
  },
  {
   "cell_type": "code",
   "execution_count": 5,
   "id": "20c36cae-58ef-445f-a448-7410c5006fa7",
   "metadata": {},
   "outputs": [
    {
     "name": "stdout",
     "output_type": "stream",
     "text": [
      "Today is Monday\n"
     ]
    }
   ],
   "source": [
    "print(\"Today\", \"is\", \"Monday\")"
   ]
  },
  {
   "cell_type": "code",
   "execution_count": 6,
   "id": "e688b3fe-e68b-40ae-a067-02b921a222cd",
   "metadata": {},
   "outputs": [
    {
     "name": "stdout",
     "output_type": "stream",
     "text": [
      "Today...is...Monday\n"
     ]
    }
   ],
   "source": [
    "print(\"Today\", \"is\", \"Monday\", sep=\"...\")"
   ]
  },
  {
   "cell_type": "code",
   "execution_count": 7,
   "id": "7e3ddcca-c3a0-495a-ae3a-b0e50200fb0b",
   "metadata": {},
   "outputs": [
    {
     "name": "stdout",
     "output_type": "stream",
     "text": [
      "Hoje é segunda, e eu gosto de feijão\n"
     ]
    }
   ],
   "source": [
    "print(\"Hoje é segunda,\", end=\" \")\n",
    "print(\"e eu gosto de feijão\")"
   ]
  },
  {
   "cell_type": "code",
   "execution_count": 8,
   "id": "d568783c-b5a8-402c-81a4-714ae70ec15e",
   "metadata": {},
   "outputs": [
    {
     "name": "stdout",
     "output_type": "stream",
     "text": [
      "1-2!3\n"
     ]
    }
   ],
   "source": [
    "print(\"1\", \"2\", sep=\"-\", end=\"!\")\n",
    "print(\"3\")"
   ]
  },
  {
   "cell_type": "markdown",
   "id": "a40a1a45-2e12-4b3d-8878-ce02500c8705",
   "metadata": {},
   "source": [
    "📌 **Observação**:  \n",
    "Estar atento aos espaços e quebras de linha é essencial para produzir saídas corretas e bem formatadas."
   ]
  },
  {
   "cell_type": "markdown",
   "id": "eace0f18-f0a4-4bfd-9ac7-807bf327e2ec",
   "metadata": {},
   "source": [
    "## 📥 Entrada do usuário com `input()`\n",
    "\n",
    "Em Python, usamos `input()` para capturar dados digitados pelo usuário no console.\n",
    "\n",
    "### Sintaxe básica:\n",
    "\n",
    "```python\n",
    "nome = input(\"Digite seu nome: \")\n",
    "\n",
    "nome é a variável que armazenará o texto digitado;\n",
    "\n",
    "\"Digite seu nome: \" é o prompt exibido ao usuário (opcional);\n",
    "\n",
    "O valor recebido sempre será uma string, mesmo que o usuário digite apenas números."
   ]
  },
  {
   "cell_type": "code",
   "execution_count": 9,
   "id": "4937acdf-9a6b-4f93-b72b-74b800a8a3e3",
   "metadata": {},
   "outputs": [
    {
     "name": "stdin",
     "output_type": "stream",
     "text": [
      "Quantos anos você tem?  34\n"
     ]
    },
    {
     "name": "stdout",
     "output_type": "stream",
     "text": [
      "Você tem 34 anos.\n"
     ]
    }
   ],
   "source": [
    "idade = input(\"Quantos anos você tem? \")\n",
    "print(\"Você tem\", idade, \"anos.\")"
   ]
  },
  {
   "cell_type": "markdown",
   "id": "27d62366-2c6d-4460-b0e2-b1c058dd11b9",
   "metadata": {},
   "source": [
    "Mesmo se o usuário digitar `25` para `idade`, o valor estará como `\"25\"` (string) até ser **explicitamente convertido**."
   ]
  },
  {
   "cell_type": "code",
   "execution_count": 10,
   "id": "5dc0d993-4d01-4bc7-9757-74ef2e4bf7cc",
   "metadata": {},
   "outputs": [
    {
     "name": "stdout",
     "output_type": "stream",
     "text": [
      "Por favor, informe seu país:\n"
     ]
    },
    {
     "name": "stdin",
     "output_type": "stream",
     "text": [
      " Brasil\n"
     ]
    },
    {
     "name": "stdout",
     "output_type": "stream",
     "text": [
      "Você mora em Brasil\n"
     ]
    }
   ],
   "source": [
    "print(\"Por favor, informe seu país:\")\n",
    "pais = input()\n",
    "print(\"Você mora em\", pais)"
   ]
  },
  {
   "cell_type": "markdown",
   "id": "eff920da-3ada-4ef0-b35d-a5d9f83a63b8",
   "metadata": {},
   "source": [
    "## 🧪 Exemplos combinando entrada e saída"
   ]
  },
  {
   "cell_type": "code",
   "execution_count": 11,
   "id": "9dac6189-83fa-4964-949f-0ef64bd44eb9",
   "metadata": {},
   "outputs": [
    {
     "name": "stdin",
     "output_type": "stream",
     "text": [
      "Qual é o seu nome?  João\n"
     ]
    },
    {
     "name": "stdout",
     "output_type": "stream",
     "text": [
      "Olá, João! Bem-vindo(a) ao Python.\n"
     ]
    }
   ],
   "source": [
    "nome = input(\"Qual é o seu nome? \")\n",
    "print(\"Olá,\", nome + \"! Bem-vindo(a) ao Python.\")"
   ]
  },
  {
   "cell_type": "code",
   "execution_count": 12,
   "id": "c4d193cc-70ed-41b0-8b94-a5e8a4b0436d",
   "metadata": {},
   "outputs": [
    {
     "name": "stdin",
     "output_type": "stream",
     "text": [
      "Digite um número:  7\n",
      "Digite outro número:  9\n"
     ]
    },
    {
     "name": "stdout",
     "output_type": "stream",
     "text": [
      "A soma é 16\n"
     ]
    }
   ],
   "source": [
    "valor1 = input(\"Digite um número: \")\n",
    "valor2 = input(\"Digite outro número: \")\n",
    "\n",
    "# Conversão para int\n",
    "n1 = int(valor1)\n",
    "n2 = int(valor2)\n",
    "\n",
    "print(\"A soma é\", n1 + n2)"
   ]
  },
  {
   "cell_type": "markdown",
   "id": "4e1c675e-f8b6-4f57-a278-3a7607b5d15b",
   "metadata": {},
   "source": [
    "## ⚠️ Cuidados comuns\n",
    "\n",
    "- `input()` **nunca lê números diretamente**: sempre retorna `string` — requer conversão para uso em operações matemáticas.\n",
    "- `sep` e `end` afetam como sua saída aparece — evite deixar espaços ou quebras indesejadas.\n",
    "- Se o usuário digitar algo inesperado (como letras onde esperava número), pode ocorrer erro ao converter."
   ]
  },
  {
   "cell_type": "markdown",
   "id": "066dca96-d5bf-4d4c-9f4e-52a3be2541ce",
   "metadata": {},
   "source": [
    "## ✅ Resumo didático\n",
    "\n",
    "- `print()`: envia valores/texto para o console. Com `sep` e `end` você controla formatação.\n",
    "- `input()`: lê texto digitado. Sempre retorna uma `string`.\n",
    "- Para usar valores numéricos, é necessário converter com `int()` ou `float()`."
   ]
  },
  {
   "cell_type": "markdown",
   "id": "8b11809f-85bc-4501-a6e1-bb2eafed178b",
   "metadata": {},
   "source": [
    "## ✅ Exercícios práticos recomendados\n",
    "\n",
    "1. Escreva um programa que solicite dois termos separados e imprima-os com vírgula entre eles usando `sep=\" , \"`.\n",
    "\n",
    "2. Peça ao usuário duas notas e calcule a média, convertendo as entradas para `float`.\n",
    "\n",
    "3. Crie um programa que solicite nome e sobrenome separadamente e imprima o seu nome completo é: \"nome\" \"sobrenome\", sem quebrar a linha entre os nomes."
   ]
  },
  {
   "cell_type": "markdown",
   "id": "beea2aa0-b916-4993-aaf4-d03ad74f25aa",
   "metadata": {},
   "source": [
    "# 🧠 Seção 1.3 – Variáveis (Variables)\n",
    "\n",
    "## Objetivos de aprendizagem\n",
    "\n",
    "Após esta seção, você deverá ser capaz de:\n",
    "\n",
    "- Declarar variáveis e atribuir valores a elas em Python;\n",
    "- Compreender como valores são armazenados na memória e referenciados por nomes;\n",
    "- Distinguir entre nome de variável e valor associado;\n",
    "- Entender o comportamento de reatribuição e sobrescrita de variáveis;\n",
    "- Compreender que variáveis referenciam objetos, e não “contêm” valores no sentido físico."
   ]
  },
  {
   "cell_type": "markdown",
   "id": "d39df46b-b27b-4443-930b-013357664ffb",
   "metadata": {},
   "source": [
    "## 🔤 O que é uma variável?\n",
    "\n",
    "Uma **variável** é um nome que você escolhe para se referir a um valor armazenado na memória.\n",
    "\n",
    "Ela **não é a própria informação**, mas sim uma **referência** a um objeto que contém a informação.\n",
    "\n",
    "### Sintaxe de atribuição:\n",
    "\n",
    "```python\n",
    "nome_variavel = valor\n",
    "```\n",
    "#### A variável pode conter:\n",
    "\n",
    "Números inteiros ou reais (int, float);\n",
    "\n",
    "Textos (str);\n",
    "\n",
    "Valores lógicos (bool);\n",
    "\n",
    "Estruturas de dados mais complexas (listas, dicionários, etc.);\n",
    "\n",
    "Ou ainda, resultados de expressões e chamadas de função."
   ]
  },
  {
   "cell_type": "markdown",
   "id": "1cb336da-e957-4b51-b6b1-65dde294f10e",
   "metadata": {},
   "source": [
    "```python\n",
    "# Exemplos de variáveis com diferentes tipos\n",
    "mensagem = \"Olá, Python!\"\n",
    "idade = 25\n",
    "altura = 1.75\n",
    "ativo = True\n",
    "\n",
    "print(mensagem)\n",
    "print(idade)\n",
    "print(altura)\n",
    "print(ativo)"
   ]
  },
  {
   "cell_type": "markdown",
   "id": "230ba2b8-8ce1-497f-8c75-4d73fad3c423",
   "metadata": {},
   "source": [
    "## 🧠 Atribuições e Reatribuições\n",
    "\n",
    "Em Python, você pode reatribuir uma nova informação a uma variável a qualquer momento.\n",
    "\n",
    "O nome continua o mesmo, mas a **referência é alterada** para apontar para outro objeto.\n",
    "\n",
    "### Exemplo:\n"
   ]
  },
  {
   "cell_type": "code",
   "execution_count": 13,
   "id": "f074d504-592f-466c-b10f-486c470e9522",
   "metadata": {},
   "outputs": [
    {
     "name": "stdout",
     "output_type": "stream",
     "text": [
      "Valor inicial de x: 10\n",
      "Novo valor de x: 99\n"
     ]
    }
   ],
   "source": [
    "x = 10\n",
    "print(\"Valor inicial de x:\", x)\n",
    "\n",
    "x = 99\n",
    "print(\"Novo valor de x:\", x)\n"
   ]
  },
  {
   "cell_type": "markdown",
   "id": "87d5bf34-d7aa-4c1f-bafb-827b968e9acc",
   "metadata": {},
   "source": [
    "### 🧪 Variáveis não são “caixas” com valores\n",
    "\n",
    "Muitos iniciantes pensam em variáveis como “caixas” que contêm valores, mas em Python, elas são mais como **etiquetas** ligadas a valores.\n",
    "\n",
    "Isso significa que **duas variáveis podem apontar para o mesmo objeto na memória**.\n",
    "\n",
    "Vamos ver um exemplo:\n"
   ]
  },
  {
   "cell_type": "code",
   "execution_count": 14,
   "id": "3277fde1-9693-40de-8bae-da36d4d07409",
   "metadata": {},
   "outputs": [
    {
     "name": "stdout",
     "output_type": "stream",
     "text": [
      "a = 5\n",
      "b = 5\n",
      "Novo a = 8\n",
      "b ainda é = 5\n"
     ]
    }
   ],
   "source": [
    "a = 5\n",
    "b = a  # b agora aponta para o mesmo valor que a\n",
    "\n",
    "print(\"a =\", a)\n",
    "print(\"b =\", b)\n",
    "\n",
    "a = 8  # a muda de referência; b continua igual\n",
    "print(\"Novo a =\", a)\n",
    "print(\"b ainda é =\", b)\n"
   ]
  },
  {
   "cell_type": "markdown",
   "id": "7b805c8b-4177-49db-8470-222f34f5a277",
   "metadata": {},
   "source": [
    "📌 **Conclusão importante**:  \n",
    "Se `b = a` e depois `a` for alterado, isso **não afeta `b`**, pois `a` passa a apontar para outro valor — não há vínculo permanente.\n",
    "\n",
    "Isso reforça a ideia de que variáveis são **referências para objetos**, e não cópias de conteúdo.\n"
   ]
  },
  {
   "cell_type": "markdown",
   "id": "3006f37a-8b7a-485b-b24c-c858054790f8",
   "metadata": {},
   "source": [
    "## ❗ Nomes de variáveis\n",
    "\n",
    "Os nomes de variáveis:\n",
    "\n",
    "- Devem começar com letra ou sublinhado (`_`);\n",
    "- Podem conter letras, números e underscores (`_`);\n",
    "- Não podem conter espaços, nem começar com números;\n",
    "- São **sensíveis a maiúsculas/minúsculas** (`idade` ≠ `Idade`);\n",
    "- Não podem ser palavras reservadas da linguagem, como `if`, `class`, `def`, `True`, etc.\n",
    "\n",
    "### Bons exemplos:\n",
    "\n",
    "```python\n",
    "altura_media = 1.65\n",
    "nome_completo = \"João da Silva\"\n",
    "_temperatura = 22\n",
    "```\n",
    "### Maus exemplos (vão gerar erro):\n",
    "```python\n",
    "2idade = 30       # começa com número\n",
    "nome completo = \"Ana\"  # espaço\n",
    "print = 100       # sobrescreve função embutida"
   ]
  },
  {
   "cell_type": "markdown",
   "id": "07134117-1869-411e-90a6-0a017b69090b",
   "metadata": {},
   "source": [
    "## 🔒 Palavras reservadas em Python (keywords)\n",
    "\n",
    "O Python possui um conjunto de palavras reservadas (chamadas de **keywords**) que têm significado especial para o interpretador.  \n",
    "Essas palavras **não podem ser utilizadas como nomes de variáveis, funções, classes ou identificadores**.\n",
    "\n",
    "Elas representam comandos, operadores lógicos, tipos especiais e estruturas de controle da linguagem.\n",
    "\n",
    "### ⚠️ Exemplos inválidos:\n",
    "```python\n",
    "if = 10       # Erro! \"if\" é palavra reservada\n",
    "class = \"abc\" # Erro! \"class\" é uma keyword\n"
   ]
  },
  {
   "cell_type": "markdown",
   "id": "03c1625c-72f5-4daa-aa8d-1431e9ad322e",
   "metadata": {},
   "source": [
    "``` python\n",
    "False      await      else       import     pass\n",
    "None       break      except     in         raise\n",
    "True       class      finally    is         return\n",
    "and        continue   for        lambda     try\n",
    "as         def        from       nonlocal   while\n",
    "assert     del        global     not        with\n",
    "async      elif       if         or         yield\n"
   ]
  },
  {
   "cell_type": "markdown",
   "id": "549a1e5f-cc28-47c4-a049-a9b5a42f39ff",
   "metadata": {},
   "source": [
    "✅ Dica: Para listar todas as palavras-chave da sua versão do Python, use o módulo keyword:\n",
    "\n",
    "``` python\n",
    "import keyword\n",
    "print(keyword.kwlist)"
   ]
  },
  {
   "cell_type": "code",
   "execution_count": 15,
   "id": "0a7787e0-1c4a-4fe4-9fc3-d7840029c15c",
   "metadata": {},
   "outputs": [
    {
     "name": "stdout",
     "output_type": "stream",
     "text": [
      "['False', 'None', 'True', 'and', 'as', 'assert', 'async', 'await', 'break', 'class', 'continue', 'def', 'del', 'elif', 'else', 'except', 'finally', 'for', 'from', 'global', 'if', 'import', 'in', 'is', 'lambda', 'nonlocal', 'not', 'or', 'pass', 'raise', 'return', 'try', 'while', 'with', 'yield']\n"
     ]
    }
   ],
   "source": [
    "import keyword\n",
    "print(keyword.kwlist)"
   ]
  },
  {
   "cell_type": "markdown",
   "id": "c12e6a16-9c5b-4d31-995a-d1be84dfb741",
   "metadata": {},
   "source": [
    "## ✅ Resumo da seção\n",
    "\n",
    "- Variáveis são **nomes** que fazem referência a objetos (valores) em memória;\n",
    "- O operador `=` realiza a **associação** entre nome e valor (não confundir com igualdade matemática!);\n",
    "- Variáveis podem ser reatribuídas e não “guardam” valores, apenas apontam para eles;\n",
    "- Reatribuir uma variável não afeta outras que apontavam para o valor anterior;\n",
    "- O nome da variável deve seguir regras de nomenclatura válidas para o Python.\n"
   ]
  },
  {
   "cell_type": "markdown",
   "id": "aa2f71b4-ded2-4d98-8be1-8dc607287a4b",
   "metadata": {},
   "source": [
    "## ✅ Exercícios práticos recomendados\n",
    "\n",
    "1. Crie três variáveis: `nome`, `idade` e `cidade`. Atribua a elas valores apropriados e exiba-os com `print()`.\n",
    "\n",
    "2. Declare uma variável `a` com valor 5. Em seguida, crie `b = a`. Altere `a` para 9. O que acontece com `b`?\n",
    "\n",
    "3. Teste diferentes nomes inválidos para variáveis e observe os erros retornados pelo Python.\n",
    "\n",
    "4. Reatribua valores a uma mesma variável em sequência e imprima seu conteúdo após cada mudança.\n"
   ]
  },
  {
   "cell_type": "markdown",
   "id": "81735748-e0fa-43a0-8ea5-b6753440e216",
   "metadata": {},
   "source": [
    "# 🧠 Seção 1.4 – Expressões (Expressions)\n",
    "\n",
    "## Objetivos de aprendizagem\n",
    "\n",
    "Após esta seção, você deverá ser capaz de:\n",
    "\n",
    "- Compreender o que é uma **expressão** em Python;\n",
    "- Avaliar expressões aritméticas, lógicas e mistas;\n",
    "- Distinguir entre expressões e instruções (statements);\n",
    "- Utilizar operadores matemáticos, relacionais e lógicos;\n",
    "- Entender o conceito de precedência de operadores.\n"
   ]
  },
  {
   "cell_type": "markdown",
   "id": "1c0bdf81-dd50-4c58-ba2b-e47ecf4087ad",
   "metadata": {},
   "source": [
    "## 🧮 O que é uma expressão?\n",
    "\n",
    "Uma **expressão** é uma combinação de **valores, variáveis e operadores** que pode ser **avaliada** para resultar em um valor.\n",
    "\n",
    "Toda expressão retorna um valor, que pode ser usado em atribuições, comparações ou como argumento em funções.\n",
    "\n",
    "### Exemplos de expressões:\n",
    "\n",
    "- `3 + 4`\n",
    "- `x * y`\n",
    "- `idade > 18`\n",
    "- `\"oi\" + \" mundo\"`\n",
    "- `not ativo`\n"
   ]
  },
  {
   "cell_type": "markdown",
   "id": "b1ef2225-507f-4e46-8483-43c2a4d0ae70",
   "metadata": {},
   "source": [
    "### Expressões que retornam valores\n",
    "```python\n",
    "3 + 5\n",
    "10 / 2\n",
    "\"Olá, \" + \"mundo\"\n",
    "True and False\n"
   ]
  },
  {
   "cell_type": "markdown",
   "id": "e6e3bf6a-7de0-4714-8f45-cf2be18b9797",
   "metadata": {},
   "source": [
    "## 🧩 Diferença entre expressão e instrução\n",
    "\n",
    "- Uma **expressão** tem um **valor** como resultado (pode ser usada dentro de outra instrução).\n",
    "- Uma **instrução (statement)** realiza uma **ação completa**, como uma atribuição ou chamada de função.\n",
    "\n",
    "### Exemplo:\n"
   ]
  },
  {
   "cell_type": "code",
   "execution_count": 16,
   "id": "d599ce8f-f579-4be0-8e18-8c38df4e2751",
   "metadata": {},
   "outputs": [
    {
     "data": {
      "text/plain": [
       "28"
      ]
     },
     "execution_count": 16,
     "metadata": {},
     "output_type": "execute_result"
    }
   ],
   "source": [
    "# Expressão isolada (não atribuída nem impressa)\n",
    "4 * 7"
   ]
  },
  {
   "cell_type": "code",
   "execution_count": 17,
   "id": "aad94a0d-954c-4551-abef-bccbc8b444bd",
   "metadata": {},
   "outputs": [
    {
     "name": "stdout",
     "output_type": "stream",
     "text": [
      "O resultado é 28\n"
     ]
    }
   ],
   "source": [
    "# Expressão dentro de uma instrução\n",
    "resultado = 4 * 7\n",
    "print(\"O resultado é\", resultado)"
   ]
  },
  {
   "cell_type": "markdown",
   "id": "4e2d65f5-e28b-4097-9dea-df2e40bb6f02",
   "metadata": {},
   "source": [
    "## ➕ Operadores aritméticos\n",
    "\n",
    "| Operador | Significado       | Exemplo   | Resultado |\n",
    "|----------|-------------------|-----------|-----------|\n",
    "| `+`      | Adição             | `3 + 2`   | `5`       |\n",
    "| `-`      | Subtração          | `5 - 1`   | `4`       |\n",
    "| `*`      | Multiplicação      | `2 * 3`   | `6`       |\n",
    "| `/`      | Divisão real       | `10 / 4`  | `2.5`     |\n",
    "| `//`     | Divisão inteira    | `10 // 4` | `2`       |\n",
    "| `%`      | Resto da divisão   | `10 % 4`  | `2`       |\n",
    "| `**`     | Exponenciação      | `2 ** 3`  | `8`       |\n"
   ]
  },
  {
   "cell_type": "code",
   "execution_count": 18,
   "id": "2c2f09e4-1ca3-482a-a18f-fbe26eb0c900",
   "metadata": {},
   "outputs": [
    {
     "name": "stdout",
     "output_type": "stream",
     "text": [
      "10\n",
      "4\n",
      "16\n"
     ]
    }
   ],
   "source": [
    "# Testando operadores\n",
    "print(7 + 3)\n",
    "print(9 // 2)\n",
    "print(2 ** 4)\n"
   ]
  },
  {
   "cell_type": "markdown",
   "id": "db8d3fa7-4f93-48f7-97d8-669564d19f98",
   "metadata": {},
   "source": [
    "## 🔁 Precedência de operadores\n",
    "\n",
    "Python segue regras de precedência ao avaliar expressões:\n",
    "\n",
    "1. Parênteses `()`\n",
    "2. Exponenciação `**`\n",
    "3. Multiplicação, divisão, resto `* / // %`\n",
    "4. Adição e subtração `+ -`\n",
    "5. Operadores relacionais e lógicos\n",
    "\n",
    "### Exemplo:\n"
   ]
  },
  {
   "cell_type": "code",
   "execution_count": 19,
   "id": "f2b31af6-59ea-4d3c-9395-407bb5970746",
   "metadata": {},
   "outputs": [
    {
     "name": "stdout",
     "output_type": "stream",
     "text": [
      "11\n",
      "14\n",
      "16\n"
     ]
    }
   ],
   "source": [
    "# Ordem de precedência\n",
    "print(3 + 4 * 2)       # 3 + (4 * 2) = 11\n",
    "print((3 + 4) * 2)     # (3 + 4) * 2 = 14\n",
    "print(2 ** 3 * 2)      # (2 ** 3) * 2 = 16\n"
   ]
  },
  {
   "cell_type": "markdown",
   "id": "e4e251d9-764b-44d4-9f1e-4f72e17b5800",
   "metadata": {},
   "source": [
    "## 🔍 Expressões relacionais e lógicas\n",
    "\n",
    "Expressões também podem comparar valores ou avaliar condições lógicas.\n",
    "\n",
    "### Operadores relacionais:\n",
    "\n",
    "| Operador | Significado           |\n",
    "|----------|------------------------|\n",
    "| `==`     | Igual a                |\n",
    "| `!=`     | Diferente de           |\n",
    "| `>`      | Maior que              |\n",
    "| `<`      | Menor que              |\n",
    "| `>=`     | Maior ou igual a       |\n",
    "| `<=`     | Menor ou igual a       |\n",
    "\n",
    "### Operadores lógicos:\n",
    "\n",
    "| Operador | Significado |\n",
    "|----------|-------------|\n",
    "| `and`    | E lógico     |\n",
    "| `or`     | Ou lógico    |\n",
    "| `not`    | Negação      |\n"
   ]
  },
  {
   "cell_type": "code",
   "execution_count": 20,
   "id": "87adda28-cf28-47ae-8c8d-ba46cd37b513",
   "metadata": {},
   "outputs": [
    {
     "name": "stdout",
     "output_type": "stream",
     "text": [
      "True\n",
      "True\n",
      "True\n",
      "False\n",
      "True\n",
      "False\n"
     ]
    }
   ],
   "source": [
    "# Relacionais\n",
    "print(5 > 3)\n",
    "print(7 == 7)\n",
    "print(10 != 2)\n",
    "\n",
    "# Lógicos\n",
    "x = True\n",
    "y = False\n",
    "\n",
    "print(x and y)\n",
    "print(x or y)\n",
    "print(not x)\n"
   ]
  },
  {
   "cell_type": "markdown",
   "id": "4b8fe2cd-ef28-46a4-b0af-d25a9bfaa35d",
   "metadata": {},
   "source": [
    "## 🔠 A função `len()`\n",
    "\n",
    "A função embutida `len()` retorna o **comprimento (número de caracteres)** de uma string (ou número de elementos em listas, tuplas e outras coleções — que serão vistas em capítulos futuros).\n",
    "\n",
    "### Sintaxe:\n",
    "```python\n",
    "len(objeto)\n",
    "```\n",
    "O objeto precisa ser algo que possua tamanho definido (como uma string, lista, tupla, dicionário, etc.)."
   ]
  },
  {
   "cell_type": "code",
   "execution_count": 21,
   "id": "b592fd89-8e62-4985-925f-ad12f95e1084",
   "metadata": {},
   "outputs": [
    {
     "name": "stdout",
     "output_type": "stream",
     "text": [
      "A mensagem tem 18 caracteres.\n"
     ]
    }
   ],
   "source": [
    "mensagem = \"Python é divertido\"\n",
    "tamanho = len(mensagem)\n",
    "\n",
    "print(\"A mensagem tem\", tamanho, \"caracteres.\")"
   ]
  },
  {
   "cell_type": "markdown",
   "id": "684a0dfe-1f69-4d84-9b1b-5cdd7218fe7c",
   "metadata": {},
   "source": [
    "## 🧬 A função `type()`\n",
    "\n",
    "A função `type()` retorna a **classe ou tipo** do valor passado como argumento.\n",
    "\n",
    "É muito útil para descobrir o tipo de uma variável ou de um literal.\n",
    "\n",
    "### Sintaxe:\n",
    "```python\n",
    "type(objeto)\n",
    "```\n",
    "### Exemplo:\n",
    "```python\n",
    "print(type(42))           # <class 'int'>\n",
    "print(type(3.14))         # <class 'float'>\n",
    "print(type(\"texto\"))      # <class 'str'>\n",
    "print(type(True))         # <class 'bool'>\n"
   ]
  },
  {
   "cell_type": "code",
   "execution_count": 22,
   "id": "3e260ceb-ff84-4756-82b9-89f09da91333",
   "metadata": {},
   "outputs": [
    {
     "name": "stdout",
     "output_type": "stream",
     "text": [
      "<class 'int'>\n",
      "<class 'float'>\n",
      "<class 'str'>\n",
      "<class 'bool'>\n"
     ]
    }
   ],
   "source": [
    "print(type(42))           # <class 'int'>\n",
    "print(type(3.14))         # <class 'float'>\n",
    "print(type(\"texto\"))      # <class 'str'>\n",
    "print(type(True))         # <class 'bool'>"
   ]
  },
  {
   "cell_type": "markdown",
   "id": "21726bfd-5ef8-4324-b4a6-fb9e1a16b551",
   "metadata": {},
   "source": [
    "## 🔗 Concatenação de strings com `+`\n",
    "\n",
    "Quando usado com **strings**, o operador `+` **concatena** (junta) dois textos, criando uma nova string resultante.\n",
    "\n",
    "### Importante:\n",
    "- Não adiciona espaços automaticamente.\n",
    "- Funciona apenas entre objetos do tipo `str`.\n",
    "\n",
    "### Exemplo:\n"
   ]
  },
  {
   "cell_type": "code",
   "execution_count": 23,
   "id": "ebe1de64-eb51-44e5-8068-df74a51a3653",
   "metadata": {},
   "outputs": [
    {
     "name": "stdout",
     "output_type": "stream",
     "text": [
      "Nome completo: João Silva\n"
     ]
    }
   ],
   "source": [
    "nome = \"João\"\n",
    "sobrenome = \"Silva\"\n",
    "\n",
    "nome_completo = nome + \" \" + sobrenome\n",
    "print(\"Nome completo:\", nome_completo)"
   ]
  },
  {
   "cell_type": "markdown",
   "id": "fa278add-4235-4588-8855-2dede7f73bdb",
   "metadata": {},
   "source": [
    "📌 **Cuidado**:  \n",
    "Concatenar uma string com outro tipo de dado (como um número) **causa erro**, a menos que o número seja convertido para string com `str()`.\n",
    "\n",
    "```python\n",
    "idade = 30\n",
    "print(\"Idade: \" + str(idade))  # Correto\n"
   ]
  },
  {
   "cell_type": "markdown",
   "id": "9fbae5bc-6706-4bf2-8068-bf18202f4e0d",
   "metadata": {},
   "source": [
    "## ✅ Resumo da seção – Expressões\n",
    "\n",
    "- Uma **expressão** é uma combinação de **valores, variáveis e operadores** que o Python pode **avaliar para obter um resultado**.\n",
    "\n",
    "- Toda expressão retorna um valor. Esse valor pode ser:\n",
    "  - atribuído a uma variável;\n",
    "  - impresso com `print()`;\n",
    "  - comparado em estruturas de controle como `if` ou `while`;\n",
    "  - passado como argumento para funções.\n",
    "\n",
    "- Python possui diferentes tipos de operadores para construir expressões:\n",
    "  - **Aritméticos**: `+`, `-`, `*`, `/`, `//`, `%`, `**`\n",
    "  - **Relacionais**: `==`, `!=`, `<`, `>`, `<=`, `>=`\n",
    "  - **Lógicos**: `and`, `or`, `not`\n",
    "\n",
    "- O operador `+` tem duplo uso:\n",
    "  - Com números: realiza **adição**.\n",
    "  - Com strings: realiza **concatenação**.\n",
    "\n",
    "- A função `len()` retorna o tamanho de uma string;\n",
    "  - Exemplo: `len(\"abc\")` resulta em `3`.\n",
    "\n",
    "- A função `type()` informa o tipo de um valor ou variável;\n",
    "  - Exemplo: `type(5)` retorna `<class 'int'>`.\n",
    "\n",
    "- A **precedência dos operadores** segue regras semelhantes às da matemática:\n",
    "  - Parênteses `()` têm a maior precedência;\n",
    "  - Exponenciação `**`, seguida por multiplicações/divisões, e por fim adições/subtrações;\n",
    "  - A ordem pode ser alterada explicitamente com parênteses.\n",
    "\n",
    "- Expressões podem ser simples (`3 + 4`) ou compostas (`x > 0 and y < 10`) e estão presentes em quase todas as estruturas da linguagem.\n",
    "\n",
    "---\n",
    "\n"
   ]
  },
  {
   "cell_type": "markdown",
   "id": "d853a383-abb4-4744-aad6-e7982d8c4007",
   "metadata": {},
   "source": [
    "## ✅ Exercícios práticos recomendados\n",
    "\n",
    "1. Escreva uma expressão que calcule o quadrado da soma de dois números.\n",
    "2. Crie expressões que avaliem as seguintes condições:\n",
    "   - Se um número é par;\n",
    "   - Se dois números são iguais;\n",
    "   - Se a idade está entre 18 e 65.\n",
    "3. Use `input()` para ler dois números, depois imprima:\n",
    "   - A soma, o produto e a média aritmética.\n",
    "4. Escreva expressões que combinem operadores lógicos e relacionais com variáveis booleanas.\n"
   ]
  },
  {
   "cell_type": "markdown",
   "id": "ebd5e12f-6e51-402b-be1c-9ff0eef3cc2e",
   "metadata": {},
   "source": [
    "## 📚 Tabela de referência – Capítulo 1\n",
    "\n",
    "### 🔧 Funções básicas\n",
    "\n",
    "| Função           | Descrição                                                                 |\n",
    "|------------------|---------------------------------------------------------------------------|\n",
    "| `print(valor)`   | Exibe um ou mais valores na tela, separados por espaço.                   |\n",
    "| `input(prompt)`  | Exibe o `prompt` (se fornecido) e lê uma linha de entrada do usuário.     |\n",
    "| `len(string)`    | Retorna o número de caracteres de uma string.                             |\n",
    "| `type(valor)`    | Retorna o tipo (ou classe) de um valor. Ex: `type(123)` retorna `<class 'int'>`. |\n",
    "\n",
    "---\n",
    "\n",
    "### ➕ Operadores\n",
    "\n",
    "| Operador | Nome             | Descrição                                                                 |\n",
    "|----------|------------------|---------------------------------------------------------------------------|\n",
    "| `=`      | Atribuição       | Atribui (ou atualiza) o valor de uma variável. Variáveis são criadas ao serem atribuídas pela primeira vez. |\n",
    "| `+`      | Concatenação     | Junta duas strings, criando uma nova string.                             |\n",
    "| `+`      | Adição           | Soma dois números.                                                        |\n",
    "| `-`      | Subtração        | Subtrai o segundo número do primeiro.                                     |\n",
    "| `*`      | Multiplicação    | Multiplica dois números.                                                  |\n",
    "| `/`      | Divisão          | Divide um número por outro.                                              |\n",
    "| `**`     | Exponenciação    | Eleva um número a uma potência. Ex: `3 ** 2` equivale a três ao quadrado. |\n",
    "\n",
    "---\n",
    "\n",
    "### 📝 Elementos de sintaxe\n",
    "\n",
    "| Elemento    | Descrição                                                                 |\n",
    "|-------------|--------------------------------------------------------------------------|\n",
    "| `#`         | Comentário. Todo o texto após `#` até o final da linha é ignorado.       |\n",
    "| `'` ou `\"`  | Delimitadores de string. Ambos podem ser usados. Ex: `\"A\"` ou `'A'`.     |\n",
    "| `\"\"\"`       | Docstring. Usado para documentação de programas, geralmente em múltiplas linhas. |\n"
   ]
  },
  {
   "cell_type": "markdown",
   "id": "8739d7c1-9819-4c81-9eaf-e9ec83e0a4cf",
   "metadata": {},
   "source": [
    "> ℹ️ **Nota terminológica**:  \n",
    "> Neste material, traduzimos *statement* como **instrução**, em conformidade com a documentação oficial do Python em português.  \n",
    "> Evitamos o uso do termo “declaração” para reduzir ambiguidade com outras linguagens como C/C++.\n"
   ]
  }
 ],
 "metadata": {
  "kernelspec": {
   "display_name": "Python 3 (ipykernel)",
   "language": "python",
   "name": "python3"
  },
  "language_info": {
   "codemirror_mode": {
    "name": "ipython",
    "version": 3
   },
   "file_extension": ".py",
   "mimetype": "text/x-python",
   "name": "python",
   "nbconvert_exporter": "python",
   "pygments_lexer": "ipython3",
   "version": "3.13.7"
  }
 },
 "nbformat": 4,
 "nbformat_minor": 5
}
