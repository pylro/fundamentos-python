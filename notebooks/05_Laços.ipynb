{
 "cells": [
  {
   "cell_type": "markdown",
   "id": "efb3db20-4979-4b60-b186-667dc0a2fc67",
   "metadata": {},
   "source": [
    "# 🔁 Capítulo 5 – Laços (Loops)\n",
    "\n",
    "> **Adriano Pylro - Engenheiro Mecânico - Dr. Eng,** \n",
    "\n",
    "Programas muitas vezes precisam repetir certas tarefas várias vezes. Para isso, utilizamos **laços de repetição (loops)**, que permitem executar um bloco de código múltiplas vezes com base em uma condição.\n",
    "\n",
    "Neste capítulo, você aprenderá a:\n",
    "\n",
    "- Criar laços usando `while` e `for`;\n",
    "- Controlar a execução de laços com `break` e `continue`;\n",
    "- Evitar laços infinitos e construir contadores e acumuladores.\n",
    "\n",
    "Laços são fundamentais para tarefas como leitura de listas, repetição de cálculos, interação com o usuário, entre outros.\n"
   ]
  },
  {
   "cell_type": "markdown",
   "id": "da0244a7-165c-4658-abdd-169b6eb9a8e5",
   "metadata": {},
   "source": [
    "## 🔁 Seção 5.1 – Laços `while`\n",
    "\n",
    "O laço `while` executa um bloco de código **enquanto uma condição for verdadeira**.\n",
    "\n",
    "### Sintaxe:\n",
    "\n",
    "```python\n",
    "while condição:\n",
    "    # bloco de código\n",
    "```\n",
    "A condição é avaliada antes de cada iteração. Se for verdadeira, o bloco é executado. Caso contrário, o loop termina."
   ]
  },
  {
   "cell_type": "code",
   "execution_count": 1,
   "id": "a806e641-9403-446b-803d-9afeeb625a04",
   "metadata": {},
   "outputs": [
    {
     "name": "stdout",
     "output_type": "stream",
     "text": [
      "Contador: 0\n",
      "Contador: 1\n",
      "Contador: 2\n",
      "Contador: 3\n",
      "Contador: 4\n"
     ]
    }
   ],
   "source": [
    "contador = 0\n",
    "while contador < 5:\n",
    "    print(\"Contador:\", contador)\n",
    "    contador += 1\n"
   ]
  },
  {
   "cell_type": "markdown",
   "id": "ad902a33-c735-4069-a049-3ca5678f095a",
   "metadata": {},
   "source": [
    "⚠️ Cuidado com laços infinitos:\n",
    "Se a condição nunca for falsa, o laço se repete indefinidamente. Exemplo abaixo:\n",
    "\n",
    "```python\n",
    "while True:\n",
    "    print(\"Loop infinito!\")  # Não pare, a menos que use break ou CTRL+C\n",
    "```"
   ]
  },
  {
   "cell_type": "markdown",
   "id": "e83c1993-83a9-47ce-973f-6866ad7abf8d",
   "metadata": {},
   "source": [
    "### 🧪 Exemplo com entrada do usuário:\n",
    "\n",
    "```python\n",
    "senha = \"\"\n",
    "while senha != \"python123\":\n",
    "    senha = input(\"Digite a senha: \")\n",
    "print(\"Acesso liberado.\")\n",
    "```\n",
    "Este laço continua solicitando a senha até que o usuário digite \"python123\"."
   ]
  },
  {
   "cell_type": "markdown",
   "id": "c0ea62a9-b994-47c8-bd02-b5bebbd3ac1e",
   "metadata": {},
   "source": [
    "## 🔁 Seção 5.2 – Laços `for`\n",
    "\n",
    "Em Python, o laço `for` é usado para **percorrer uma sequência** (como listas, strings ou intervalos de números). Cada iteração atribui um novo valor à variável de controle.\n",
    "\n",
    "### Sintaxe básica:\n",
    "\n",
    "```python\n",
    "for variável in sequência:\n",
    "    # bloco de código\n",
    "```\n",
    "A variável assume, a cada iteração, um valor diferente da sequência.\n"
   ]
  },
  {
   "cell_type": "code",
   "execution_count": 2,
   "id": "a1e7e083-d488-4c29-b1bf-fb447ece04a8",
   "metadata": {},
   "outputs": [
    {
     "name": "stdout",
     "output_type": "stream",
     "text": [
      "Valor de i: 0\n",
      "Valor de i: 1\n",
      "Valor de i: 2\n",
      "Valor de i: 3\n",
      "Valor de i: 4\n"
     ]
    }
   ],
   "source": [
    "for i in range(5):\n",
    "    print(\"Valor de i:\", i)\n"
   ]
  },
  {
   "cell_type": "markdown",
   "id": "dcb0f377-72ed-49c5-b4bd-114fd4eb8e78",
   "metadata": {},
   "source": [
    "A função `range(n)` gera números de 0 até n−1."
   ]
  },
  {
   "cell_type": "markdown",
   "id": "31861980-3335-4779-b2f5-f6ce38cc374e",
   "metadata": {},
   "source": [
    "### 📦 Iterando listas:"
   ]
  },
  {
   "cell_type": "code",
   "execution_count": 6,
   "id": "77e1d5c1-9503-45d1-9b52-3f22c4e6c459",
   "metadata": {},
   "outputs": [
    {
     "name": "stdout",
     "output_type": "stream",
     "text": [
      "Olá, Ana\n",
      "Olá, Bruno\n",
      "Olá, Carlos\n"
     ]
    }
   ],
   "source": [
    "nomes = [\"Ana\", \"Bruno\", \"Carlos\"]\n",
    "for nome in nomes:\n",
    "    print(\"Olá,\", nome)\n"
   ]
  },
  {
   "cell_type": "markdown",
   "id": "657483ef-7730-42dd-a430-ab626c817711",
   "metadata": {},
   "source": [
    "### 🔡 Iterando strings:"
   ]
  },
  {
   "cell_type": "code",
   "execution_count": 4,
   "id": "816108bb-3276-47e5-b507-4dc9431378db",
   "metadata": {},
   "outputs": [
    {
     "name": "stdout",
     "output_type": "stream",
     "text": [
      "P\n",
      "y\n",
      "t\n",
      "h\n",
      "o\n",
      "n\n"
     ]
    }
   ],
   "source": [
    "texto = \"Python\"\n",
    "for letra in texto:\n",
    "    print(letra)\n"
   ]
  },
  {
   "cell_type": "markdown",
   "id": "bb6b5ec4-dce8-4561-85f0-88221dc5b8ce",
   "metadata": {},
   "source": [
    "### 📊 Exemplo com acumulador:"
   ]
  },
  {
   "cell_type": "code",
   "execution_count": 5,
   "id": "2d5c30be-6cef-49de-a23d-5e66aabcc9fb",
   "metadata": {},
   "outputs": [
    {
     "name": "stdout",
     "output_type": "stream",
     "text": [
      "Soma total: 60\n"
     ]
    }
   ],
   "source": [
    "numeros = [10, 20, 30]\n",
    "soma = 0\n",
    "for n in numeros:\n",
    "    soma += n\n",
    "print(\"Soma total:\", soma)\n"
   ]
  },
  {
   "cell_type": "markdown",
   "id": "b05de3f4-3690-4a55-8074-8f0333f7201e",
   "metadata": {},
   "source": [
    "### 🧠 Observações:\n",
    "`range(início, fim, passo) permite controlar início e incremento:\n",
    "\n",
    "```python\n",
    "for i in range(1, 10, 2):  # 1, 3, 5, 7, 9\n",
    "    print(i)\n",
    "```\n",
    "`for` é preferido quando sabemos de antemão quantas vezes queremos iterar.\n",
    "\n",
    "O laço `for` em Python funciona com qualquer objeto iterável."
   ]
  },
  {
   "cell_type": "markdown",
   "id": "330ba9e6-d898-4b07-9519-47f8f0830d68",
   "metadata": {},
   "source": [
    "## 🔁 Seção 5.3 – Laços Aninhados (Nested Loops)\n",
    "\n",
    "Um **laço aninhado** ocorre quando colocamos um laço dentro de outro. Isso é útil para lidar com **estruturas bidimensionais**, como tabelas, matrizes, ou listas de listas.\n",
    "\n",
    "### 🧱 Estrutura básica:\n",
    "\n",
    "```python\n",
    "for item1 in sequência1:\n",
    "    for item2 in sequência2:\n",
    "        # bloco de código interno\n",
    "```\n",
    "O laço mais interno será executado por completo a cada iteração do laço mais externo."
   ]
  },
  {
   "cell_type": "markdown",
   "id": "18b79c56-437b-4ae3-ac71-99fe0a7011be",
   "metadata": {},
   "source": [
    "### 🔍 Exemplo: Tabela de multiplicação (simplificada)"
   ]
  },
  {
   "cell_type": "code",
   "execution_count": 7,
   "id": "7e717736-1417-4337-86d2-f466d04b66e1",
   "metadata": {},
   "outputs": [
    {
     "name": "stdout",
     "output_type": "stream",
     "text": [
      "1\t2\t3\t\n",
      "2\t4\t6\t\n",
      "3\t6\t9\t\n"
     ]
    }
   ],
   "source": [
    "for i in range(1, 4):  # linhas\n",
    "    for j in range(1, 4):  # colunas\n",
    "        print(i * j, end=\"\\t\")\n",
    "    print()  # quebra de linha ao final da linha"
   ]
  },
  {
   "cell_type": "markdown",
   "id": "a1f2ca1d-706d-41eb-8931-d9322b37c7b9",
   "metadata": {},
   "source": [
    "### 📦 Exemplo com lista de listas"
   ]
  },
  {
   "cell_type": "code",
   "execution_count": 8,
   "id": "176afc09-8a71-4221-aa3e-0f39c48326ee",
   "metadata": {},
   "outputs": [
    {
     "name": "stdout",
     "output_type": "stream",
     "text": [
      "1 2 3 \n",
      "4 5 6 \n"
     ]
    }
   ],
   "source": [
    "matriz = [\n",
    "    [1, 2, 3],\n",
    "    [4, 5, 6]\n",
    "]\n",
    "\n",
    "for linha in matriz:\n",
    "    for valor in linha:\n",
    "        print(valor, end=\" \")\n",
    "    print()\n"
   ]
  },
  {
   "cell_type": "markdown",
   "id": "196ec758-ce39-4d3b-a840-12bc24f6459a",
   "metadata": {},
   "source": [
    "### ⚠️ Cuidado com a indentação\n",
    "A indentação correta é fundamental. O código dentro do laço mais interno deve estar duas vezes identado."
   ]
  },
  {
   "cell_type": "markdown",
   "id": "4e26e655-f032-4da9-bd67-3f60ba475d1b",
   "metadata": {},
   "source": [
    "### 🧠 Quando usar?\n",
    "Ao percorrer matrizes (linhas e colunas);\n",
    "\n",
    "Ao construir estruturas tabulares;\n",
    "\n",
    "Ao gerar combinações de elementos."
   ]
  },
  {
   "cell_type": "markdown",
   "id": "b40ae8ca-d99c-4302-b193-a574e362629c",
   "metadata": {},
   "source": [
    "## ⛔ Seção 5.4 – Break e Continue\n",
    "\n",
    "Python oferece duas instruções especiais para controle de fluxo dentro de laços: `break` e `continue`.\n",
    "\n",
    "---\n",
    "\n",
    "### 🔻 break\n",
    "\n",
    "Interrompe imediatamente a execução do laço mais interno, mesmo que a condição ainda seja verdadeira.\n",
    "\n",
    "### 📌 Exemplo:"
   ]
  },
  {
   "cell_type": "code",
   "execution_count": 10,
   "id": "e44cce39-51b0-4906-9680-06ec64446751",
   "metadata": {},
   "outputs": [
    {
     "name": "stdout",
     "output_type": "stream",
     "text": [
      "0\n",
      "1\n",
      "2\n",
      "3\n",
      "4\n"
     ]
    }
   ],
   "source": [
    "for i in range(10):\n",
    "    if i == 5:\n",
    "        break\n",
    "    print(i)"
   ]
  },
  {
   "cell_type": "markdown",
   "id": "43f977db-e77b-4db6-8adb-22249809daab",
   "metadata": {},
   "source": [
    "Assim que `i` vale 5, o laço é interrompido."
   ]
  },
  {
   "cell_type": "markdown",
   "id": "8c90542f-a5e4-466d-9847-5ffd21608eff",
   "metadata": {},
   "source": [
    "### 🔁 continue\n",
    "Pula o restante do código no laço atual e volta para a próxima iteração.\n",
    "\n",
    "### 📌 Exemplo:"
   ]
  },
  {
   "cell_type": "code",
   "execution_count": 11,
   "id": "6bea8be6-c23d-4e70-b3d6-ac75f053faf2",
   "metadata": {},
   "outputs": [
    {
     "name": "stdout",
     "output_type": "stream",
     "text": [
      "0\n",
      "1\n",
      "3\n",
      "4\n"
     ]
    }
   ],
   "source": [
    "for i in range(5):\n",
    "    if i == 2:\n",
    "        continue\n",
    "    print(i)\n"
   ]
  },
  {
   "cell_type": "markdown",
   "id": "5114d885-5392-4650-9dd9-a24d3654f2ca",
   "metadata": {},
   "source": [
    "A iteração em que `i == 2` é ignorada."
   ]
  },
  {
   "cell_type": "markdown",
   "id": "ffc13a0f-c930-47db-9de0-167a0bb3a7d3",
   "metadata": {},
   "source": [
    "### 💡 Dica prática\n",
    "- `break` é útil para parar a busca quando uma condição for satisfeita.\n",
    "\n",
    "- `continue` ajuda a pular casos específicos sem interromper o laço inteiro.\n",
    "\n"
   ]
  },
  {
   "cell_type": "markdown",
   "id": "5ce089b7-029a-4b80-8f4e-61ccc0a272f2",
   "metadata": {},
   "source": [
    "### ⚠️ Atenção\n",
    "Evite usar `break` e `continue` em excesso — prefira laços bem estruturados com lógica clara, mas use essas instruções quando facilitarem o entendimento e a legibilidade."
   ]
  },
  {
   "cell_type": "markdown",
   "id": "fa7c9fca-6646-495a-8d0a-1a4583f5b337",
   "metadata": {},
   "source": [
    "## ➕ Seção 5.5 – Cláusula `else` em laços (`loop else`)\n",
    "\n",
    "Python permite usar uma cláusula `else` **após** a finalização de um laço `for` ou `while`. Isso pode parecer incomum, mas tem usos interessantes.\n",
    "\n",
    "---\n",
    "\n",
    "### 🧠 Como funciona?\n",
    "\n",
    "- A cláusula `else` será executada **somente se o laço for concluído normalmente**, ou seja, **sem que um `break` tenha sido acionado**.\n",
    "\n",
    "---\n",
    "\n",
    "### 📌 Estrutura geral\n",
    "\n",
    "```python\n",
    "for item in iterable:\n",
    "    # corpo do laço\n",
    "    if condição:\n",
    "        break\n",
    "else:\n",
    "    # executa se o laço não for interrompido por break\n",
    "```"
   ]
  },
  {
   "cell_type": "markdown",
   "id": "572c2aee-7f7d-49e6-8b31-1faa4f0126b4",
   "metadata": {},
   "source": [
    "### 🔍 Exemplo 1: Sem break"
   ]
  },
  {
   "cell_type": "code",
   "execution_count": 13,
   "id": "b4d2b8cf-0beb-4ca3-9e63-7244c317617f",
   "metadata": {},
   "outputs": [
    {
     "name": "stdout",
     "output_type": "stream",
     "text": [
      "Tentativa 0\n",
      "Tentativa 1\n",
      "Tentativa 2\n",
      "Todas as tentativas foram feitas com sucesso.\n"
     ]
    }
   ],
   "source": [
    "for i in range(3):\n",
    "    print(\"Tentativa\", i)\n",
    "else:\n",
    "    print(\"Todas as tentativas foram feitas com sucesso.\")\n"
   ]
  },
  {
   "cell_type": "markdown",
   "id": "fb8301b2-b6ba-4294-9b11-69b9812591bb",
   "metadata": {},
   "source": [
    "### 🔍 Exemplo 2: Com break"
   ]
  },
  {
   "cell_type": "code",
   "execution_count": 14,
   "id": "ddc72c0e-db79-48eb-ae34-011483d57315",
   "metadata": {},
   "outputs": [
    {
     "name": "stdout",
     "output_type": "stream",
     "text": [
      "Tentativa 0\n",
      "Tentativa 1\n",
      "Interrompido!\n"
     ]
    }
   ],
   "source": [
    "for i in range(3):\n",
    "    print(\"Tentativa\", i)\n",
    "    if i == 1:\n",
    "        print(\"Interrompido!\")\n",
    "        break\n",
    "else:\n",
    "    print(\"Todas as tentativas foram feitas com sucesso.\")\n"
   ]
  },
  {
   "cell_type": "markdown",
   "id": "185c9b29-bd10-4106-ae68-f95115c34dc8",
   "metadata": {},
   "source": [
    "🛑 A mensagem do else não aparece, pois houve interrupção com break."
   ]
  },
  {
   "cell_type": "markdown",
   "id": "d0211a39-f8dc-4302-a65c-67576b63087e",
   "metadata": {},
   "source": [
    "### ✅ Usos práticos\n",
    "- Verificar se nenhum item atendeu a uma condição.\n",
    "\n",
    "- Confirmar que todas as tentativas foram realizadas.\n",
    "\n",
    "- Detectar ausência de interrupção (ex.: buscas, tentativas, varreduras)."
   ]
  },
  {
   "cell_type": "markdown",
   "id": "569d6120-27e5-46e8-b119-d571bf565b3a",
   "metadata": {},
   "source": [
    "### ⚠️ Importante\n",
    "- `else` não é executado se houver `break`.\n",
    "\n",
    "- Cuidado para não confundir com o `else` do `if`: aqui ele está ligado ao `for` ou `while`."
   ]
  },
  {
   "cell_type": "markdown",
   "id": "4e6a1cea-99a0-475a-8658-dfb0a748d498",
   "metadata": {},
   "source": [
    "# ✅ Conclusão do Capítulo 5 – Laços (*Loops*)\n",
    "\n",
    "Neste capítulo, você aprendeu a construir programas com execução repetitiva, essencial para automação de tarefas e processamento de dados em Python.\n",
    "\n",
    "---\n",
    "\n",
    "## 🔁 Conceitos-chave revisados\n",
    "\n",
    "| Conceito               | Descrição                                                                 |\n",
    "|------------------------|---------------------------------------------------------------------------|\n",
    "| `while`                | Executa um bloco enquanto a condição for verdadeira                       |\n",
    "| `for ... in ...`       | Itera sobre uma sequência (como listas, strings ou `range()`)             |\n",
    "| `break`                | Interrompe o laço prematuramente                                          |\n",
    "| `continue`             | Pula para a próxima iteração sem executar o restante do bloco             |\n",
    "| `else` em laços        | Executa se o laço termina normalmente (sem `break`)                       |\n",
    "| Laços aninhados        | Permite repetir estruturas internas dentro de outras                      |\n",
    "\n",
    "---\n",
    "\n",
    "## 🧪 Exercícios práticos recomendados\n",
    "\n",
    "1. **Contador de números pares:**\n",
    "   - Escreva um `for` que imprima todos os números pares de 0 a 20.\n",
    "\n",
    "2. **Soma de dígitos:**\n",
    "   - Peça um número ao usuário e imprima a soma de seus dígitos.\n",
    "\n",
    "3. **Senha com tentativas:**\n",
    "   - Solicite uma senha ao usuário com no máximo 3 tentativas. Se errar todas, exiba \"Acesso negado\". Use `break` e `else`.\n",
    "\n",
    "4. **Tabuada com `while`:**\n",
    "   - Use `while` para exibir a tabuada de um número digitado pelo usuário.\n",
    "\n",
    "5. **Lista filtrada:**\n",
    "   - Crie uma lista com nomes. Imprima apenas os que não começam com vogal, usando `continue`.\n",
    "\n",
    "6. **Laços aninhados:**\n",
    "   - Imprima uma matriz 3x3 com números de 1 a 9 em formato de tabela.\n",
    "\n",
    "---\n",
    "\n",
    "## 💡 Dica final\n",
    "\n",
    "Evite repetir código manualmente. Quando perceber padrões ou repetição, um laço é provavelmente a melhor escolha. Laços bem escritos tornam seu código mais eficiente, legível e adaptável.\n"
   ]
  },
  {
   "cell_type": "code",
   "execution_count": null,
   "id": "59cd7e3f-4362-4bf0-8183-b1ef362e5707",
   "metadata": {},
   "outputs": [],
   "source": []
  }
 ],
 "metadata": {
  "kernelspec": {
   "display_name": "Python 3 (ipykernel)",
   "language": "python",
   "name": "python3"
  },
  "language_info": {
   "codemirror_mode": {
    "name": "ipython",
    "version": 3
   },
   "file_extension": ".py",
   "mimetype": "text/x-python",
   "name": "python",
   "nbconvert_exporter": "python",
   "pygments_lexer": "ipython3",
   "version": "3.13.7"
  }
 },
 "nbformat": 4,
 "nbformat_minor": 5
}
