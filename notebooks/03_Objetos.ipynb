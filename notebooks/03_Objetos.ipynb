{
 "cells": [
  {
   "cell_type": "markdown",
   "id": "fb3d575d-43d1-446b-8d95-45ef6367a005",
   "metadata": {},
   "source": [
    "# Capítulo 3 – Objetos\n",
    "> **Adriano Pylro - Engenheiro Mecânico - Dr. Eng,** \n",
    "\n",
    "\n",
    "## 🧠 Seção 3.1 – Strings revisitadas\n",
    "\n",
    "## Objetivos de aprendizagem\n",
    "\n",
    "Ao final desta seção, você será capaz de:\n",
    "\n",
    "- Extrair caracteres específicos de uma string usando índices;\n",
    "- Utilizar sequências de escape para representar caracteres especiais;\n",
    "- Compreender que `str` em Python é uma sequência imutável de caracteres.\n"
   ]
  },
  {
   "cell_type": "markdown",
   "id": "56cca13b-d918-49f0-bf05-ca5733382b79",
   "metadata": {},
   "source": [
    "## 🔤 Índices de strings\n",
    "\n",
    "Uma string em Python é uma sequência de caracteres indexados:\n",
    "\n",
    "- Os índices começam em **0** para o primeiro caractere: `s[0]`\n",
    "- Também é possível usar índices negativos: `s[-1]` representa o último caractere.\n",
    "\n",
    "### Exemplos:\n",
    "- `\"Python!\"[1]` é `\"y\"`\n",
    "- `\"Python!\"[-1]` é `\"!\"`\n"
   ]
  },
  {
   "cell_type": "code",
   "execution_count": 1,
   "id": "c000416d-8c5c-4e03-b40a-3cb300773c46",
   "metadata": {},
   "outputs": [
    {
     "name": "stdout",
     "output_type": "stream",
     "text": [
      "P\n",
      "y\n",
      "!\n",
      "n\n"
     ]
    }
   ],
   "source": [
    "s = \"Python!\"\n",
    "print(s[0])   # P\n",
    "print(s[1])   # y\n",
    "print(s[-1])  # !\n",
    "print(s[-2])  # n\n"
   ]
  },
  {
   "cell_type": "markdown",
   "id": "b655516f-7904-4d9a-a91d-1821d6892239",
   "metadata": {},
   "source": [
    "## 🌐 Unicode e funções `ord()` / `chr()`\n",
    "\n",
    "- O Python usa Unicode para representar texto — cada caractere tem um **ponto de código (code point)** único.\n",
    "- Use `ord(c)` para obter o número do code point de `c`.\n",
    "- Use `chr(n)` para converter o número (code point) `n` em um caractere.\n",
    "\n",
    "### Exemplos:\n",
    "- `ord(\"P\")` → 80\n",
    "- `chr(33)` → \"!\":contentReference[oaicite:2]{index=2}\n"
   ]
  },
  {
   "cell_type": "code",
   "execution_count": 2,
   "id": "655c58ff-73fe-481b-92fe-f234dd7fb10d",
   "metadata": {},
   "outputs": [
    {
     "name": "stdout",
     "output_type": "stream",
     "text": [
      "80\n",
      "33\n",
      "A\n",
      "a\n"
     ]
    }
   ],
   "source": [
    "print(ord(\"P\"))    # 80\n",
    "print(ord(\"!\"))    # 33\n",
    "print(chr(65))     # 'A'\n",
    "print(chr(97))     # 'a'\n"
   ]
  },
  {
   "cell_type": "markdown",
   "id": "ee9b6838-264e-4275-aad0-24844b256dcf",
   "metadata": {},
   "source": [
    "## 🧩 Sequências de escape comuns\n",
    "\n",
    "Sequências de escape permitem incluir caracteres especiais em strings:\n",
    "\n",
    "| Escape | Significado      | Exemplo                       |\n",
    "|--------|------------------|-------------------------------|\n",
    "| `\\n`   | Nova linha       | `\"Linha1\\nLinha2\"`           |\n",
    "| `\\t`   | Tabulação        | `\"Coluna1\\tColuna2\"`         |\n",
    "| `\\'`   | Aspas simples    | `\"I\\'ll try\"`                |\n",
    "| `\\\"`   | Aspas duplas     | `\"Ele disse: \\\"Oi\\\"\"`        |\n",
    "| `\\\\`   | Barra invertida  | `\"Mostra uma \\\\\\\\\"\"`         |:contentReference[oaicite:3]{index=3}\n"
   ]
  },
  {
   "cell_type": "code",
   "execution_count": 3,
   "id": "1e0970a4-68c1-4380-b956-69cd5e34bf7e",
   "metadata": {},
   "outputs": [
    {
     "name": "stdout",
     "output_type": "stream",
     "text": [
      "Linha1\n",
      "Linha2\n",
      "Coluna1\tColuna2\n",
      "I'll try\n",
      "Ele disse: \"Oi\"\n",
      "Mostra uma \\barra\\\n"
     ]
    }
   ],
   "source": [
    "print(\"Linha1\\nLinha2\")\n",
    "print(\"Coluna1\\tColuna2\")\n",
    "print(\"I\\'ll try\")\n",
    "print(\"Ele disse: \\\"Oi\\\"\")\n",
    "print(\"Mostra uma \\\\barra\\\\\")\n"
   ]
  },
  {
   "cell_type": "markdown",
   "id": "a0ecffd9-071b-42dc-8fbc-7b4ed7cb115c",
   "metadata": {},
   "source": [
    "📌 Em Python, strings são **imutáveis** — você não pode alterar caracteres diretamente.\n",
    "\n",
    "Exemplo:\n",
    "```python\n",
    "s = \"Python\"\n",
    "# s[0] = \"p\"  # Isso causaria TypeError\n",
    "```"
   ]
  },
  {
   "cell_type": "markdown",
   "id": "6048ec43-ecce-42b7-986d-b62c394700a1",
   "metadata": {},
   "source": [
    "## ✅ Resumo – Strings revisitadas\n",
    "\n",
    "- Strings são **sequências de caracteres**, indexadas a partir de 0 (ou usando índices negativos).\n",
    "- Use `ord()` e `chr()` para converter entre caracteres e seus pontos de código Unicode.\n",
    "- Sequências de escape (`\\n`, `\\t`, `\\\"`, etc.) permitem inserir caracteres especiais.\n",
    "- Strings são **imutáveis**, ou seja, não podem ser modificadas individualmente após criadas.\n"
   ]
  },
  {
   "cell_type": "markdown",
   "id": "e57e45c3-ab63-4b42-966f-4dc7c3044680",
   "metadata": {},
   "source": [
    "## ✅ Exercícios práticos recomendados\n",
    "\n",
    "1. Acesse o primeiro e o último caractere de uma string fornecida pelo usuário.\n",
    "2. Use `ord()` em uma letra maiúscula e verifique se está entre 65 e 90 (intervalo ASCII).\n",
    "3. Crie uma string que inclua uma nova linha e uma tabulação.\n",
    "4. Tente alterar um caractere dentro de uma string e observe o erro gerado.\n",
    "5. Dado `s = \"Python!\"`, responda:\n",
    "   - Qual é o valor de `s[1] + s[-1]`?\n",
    "   - Qual é o tipo de `s[0]`?\n"
   ]
  },
  {
   "cell_type": "markdown",
   "id": "6a2ef334-8ab3-402d-aab0-e1dd73daeaff",
   "metadata": {},
   "source": [
    "## 🧠 Seção 3.2 – Formatação de Strings (Formatted Strings)\n",
    "\n",
    "### Objetivos de aprendizagem\n",
    "\n",
    "Após esta seção, você será capaz de:\n",
    "\n",
    "- Inserir variáveis e expressões diretamente em strings formatadas;\n",
    "- Utilizar a sintaxe f-string introduzida no Python 3.6;\n",
    "- Entender o uso de chaves `{}` em f-strings;\n",
    "- Controlar o número de casas decimais e o alinhamento do texto em saídas formatadas.\n"
   ]
  },
  {
   "cell_type": "markdown",
   "id": "ce39b8c3-b505-42d0-a282-d829921c8485",
   "metadata": {},
   "source": [
    "## 🔤 f-strings: Strings formatadas com `f\"\"`\n",
    "\n",
    "O Python permite inserir valores diretamente em strings usando `f-strings`, introduzidas no Python 3.6.\n",
    "\n",
    "A sintaxe é:\n",
    "\n",
    "```python\n",
    "f\"texto {expressao} mais texto\"\n",
    "```\n",
    "Qualquer expressão válida de Python pode ser colocada entre as chaves {}.\n",
    "\n",
    "Exemplos:\n",
    "```python\n",
    "nome = \"Ana\"\n",
    "idade = 30\n",
    "f\"Olá, {nome}! Você tem {idade} anos.\"\n",
    "```\n",
    "Saída: `\"Olá, Ana! Você tem 30 anos.\"`"
   ]
  },
  {
   "cell_type": "code",
   "execution_count": 5,
   "id": "0b6ec41e-5ec2-4762-91d1-33ae5ec43c29",
   "metadata": {},
   "outputs": [
    {
     "name": "stdout",
     "output_type": "stream",
     "text": [
      "Olá, Ana! Você tem 30 anos.\n"
     ]
    }
   ],
   "source": [
    "nome = \"Ana\"\n",
    "idade = 30\n",
    "mensagem = f\"Olá, {nome}! Você tem {idade} anos.\"\n",
    "print(mensagem)"
   ]
  },
  {
   "cell_type": "markdown",
   "id": "b7245511-260c-4e35-92ad-4ecf8b3a850a",
   "metadata": {},
   "source": [
    "## 🧮 Avaliação de expressões dentro de f-strings\n",
    "\n",
    "Você pode usar expressões matemáticas diretamente dentro de `{}`:\n",
    "\n",
    "```python\n",
    "a = 5\n",
    "b = 3\n",
    "f\"A soma de {a} e {b} é {a + b}\"\n",
    "```\n",
    "Saída: `\"A soma de 5 e 3 é 8\"`"
   ]
  },
  {
   "cell_type": "code",
   "execution_count": 6,
   "id": "092fb908-2bca-4748-82ce-736edb281d2c",
   "metadata": {},
   "outputs": [
    {
     "name": "stdout",
     "output_type": "stream",
     "text": [
      "A soma de 5 e 3 é 8\n"
     ]
    }
   ],
   "source": [
    "a = 5\n",
    "b = 3\n",
    "print(f\"A soma de {a} e {b} é {a + b}\")"
   ]
  },
  {
   "cell_type": "markdown",
   "id": "bc2754e2-cdd9-4998-9809-2d3c456cd173",
   "metadata": {},
   "source": [
    "## 📐 Controle de casas decimais e alinhamento\n",
    "\n",
    "Você pode especificar o número de casas decimais com `:.nf`, onde `n` é o número de casas após o ponto.\n",
    "\n",
    "| Sintaxe                  | Resultado                   |\n",
    "|--------------------------|-----------------------------|\n",
    "| `f\"{pi:.2f}\"`            | Arredonda para 2 casas      |\n",
    "| `f\"{valor:10.2f}\"`       | Espaço de 10 caracteres, alinhado à direita |\n",
    "| `f\"{valor:<10.2f}\"`      | Alinhado à esquerda         |\n",
    "| `f\"{valor:^10.2f}\"`      | Centralizado                |\n",
    "\n",
    "Exemplo:\n",
    "\n",
    "```python\n",
    "pi = 3.14159265\n",
    "print(f\"O valor de pi é aproximadamente {pi:.2f}\")\n",
    "```\n",
    "Saída: `\"O valor de pi é aproximadamente 3.14\"`"
   ]
  },
  {
   "cell_type": "code",
   "execution_count": 7,
   "id": "c3c68df6-cfc6-4e09-9030-9480726b6993",
   "metadata": {},
   "outputs": [
    {
     "name": "stdout",
     "output_type": "stream",
     "text": [
      "O valor de pi é aproximadamente 3.14\n",
      "Centralizado:    3.14   \n",
      "Direita:            3.14\n",
      "Esquerda:     3.14      \n"
     ]
    }
   ],
   "source": [
    "pi = 3.14159265\n",
    "print(f\"O valor de pi é aproximadamente {pi:.2f}\")\n",
    "print(f\"Centralizado: {pi:^10.2f}\")\n",
    "print(f\"Direita:      {pi:>10.2f}\")\n",
    "print(f\"Esquerda:     {pi:<10.2f}\")\n"
   ]
  },
  {
   "cell_type": "markdown",
   "id": "a1292c83-8307-40ea-823f-fccbd120fd2b",
   "metadata": {},
   "source": [
    "## ⚙️ f-strings com condicionais\n",
    "\n",
    "f-strings também permitem incluir expressões condicionais simples:\n",
    "\n",
    "```python\n",
    "idade = 18\n",
    "print(f\"Você tem {idade} ano{'s' if idade > 1 else ''}.\")\n",
    "```\n",
    "Saída: `\"Você tem 18 anos.\"`"
   ]
  },
  {
   "cell_type": "code",
   "execution_count": 9,
   "id": "0406a333-b558-4407-b80d-9b80e06ec8ca",
   "metadata": {},
   "outputs": [
    {
     "name": "stdout",
     "output_type": "stream",
     "text": [
      "Você tem 18 anos.\n"
     ]
    }
   ],
   "source": [
    "idade = 18\n",
    "print(f\"Você tem {idade} ano{'s' if idade > 1 else ''}.\")"
   ]
  },
  {
   "cell_type": "markdown",
   "id": "d28e5d2c-7efd-443f-bee9-0910cee0f957",
   "metadata": {},
   "source": [
    "## ✅ Resumo – Formatação de Strings\n",
    "\n",
    "- f-strings permitem inserir variáveis e expressões dentro de strings usando `{}`.\n",
    "- A sintaxe `f\"texto {variavel}\"` é clara, eficiente e poderosa.\n",
    "- É possível controlar o formato numérico com `:.2f`, alinhamento, largura mínima etc.\n",
    "- f-strings suportam qualquer expressão válida de Python — inclusive condicionais e chamadas de função.\n"
   ]
  },
  {
   "cell_type": "markdown",
   "id": "03667bdb-51e7-4599-8024-890fb8e46cab",
   "metadata": {},
   "source": [
    "## ✅ Exercícios práticos recomendados\n",
    "\n",
    "1. Solicite ao usuário seu nome e idade, depois imprima uma mensagem formatada com f-string.\n",
    "2. Crie uma tabela alinhada com nome, idade e nota, utilizando f-strings com largura mínima.\n",
    "3. Mostre a divisão de dois números com exatamente 3 casas decimais.\n",
    "4. Use uma f-string para mostrar se um número digitado pelo usuário é par ou ímpar.\n",
    "5. Monte uma frase do tipo: `\"Hoje é terça-feira, 25°C\"` a partir de variáveis `dia` e `temperatura`.\n"
   ]
  },
  {
   "cell_type": "markdown",
   "id": "9ffdf0aa-dbda-4949-b3c2-20585a242cc5",
   "metadata": {},
   "source": [
    "## 🧠 Seção 3.3 – Revisão de Variáveis (Variables Revisited)\n",
    "\n",
    "### Objetivos de aprendizagem\n",
    "\n",
    "Após esta seção, você será capaz de:\n",
    "\n",
    "- Relembrar como variáveis funcionam no Python;\n",
    "- Entender a associação entre nomes e valores;\n",
    "- Compreender o conceito de mutabilidade e aliasing;\n",
    "- Evitar armadilhas comuns ao manipular variáveis compostas (como listas).\n"
   ]
  },
  {
   "cell_type": "markdown",
   "id": "b129b151-93b1-45a1-af4a-d379682be148",
   "metadata": {},
   "source": [
    "## 📦 O que são variáveis?\n",
    "\n",
    "Variáveis em Python são **nomes** que fazem referência a valores armazenados na memória.\n",
    "\n",
    "Quando você escreve:\n",
    "\n",
    "```python\n",
    "mensagem = \"Olá\"\n",
    "```\n",
    "Você está associando o nome mensagem ao valor \"Olá\".\n",
    "\n",
    "📌 O Python gerencia automaticamente o tipo de dado — você não precisa declarar o tipo da variável explicitamente."
   ]
  },
  {
   "cell_type": "code",
   "execution_count": 10,
   "id": "dafdf1ac-926f-43d0-afb4-c2e5be2ee1ff",
   "metadata": {},
   "outputs": [
    {
     "name": "stdout",
     "output_type": "stream",
     "text": [
      "Olá\n"
     ]
    }
   ],
   "source": [
    "mensagem = \"Olá\"\n",
    "print(mensagem)"
   ]
  },
  {
   "cell_type": "markdown",
   "id": "388108df-a5ec-43e1-8f2d-903015a7ace2",
   "metadata": {},
   "source": [
    "## 🔗 Variáveis são referências a objetos\n",
    "\n",
    "No Python, variáveis **não contêm os valores diretamente**, mas **apontam para objetos** que estão na memória.\n",
    "\n",
    "Quando você faz:\n",
    "\n",
    "```python\n",
    "a = [1, 2, 3]\n",
    "b = a\n",
    "```\n",
    "Ambas as variáveis `a` e `b` apontam para o mesmo objeto lista. Isso significa que uma alteração via `b` afeta também `a`."
   ]
  },
  {
   "cell_type": "code",
   "execution_count": 11,
   "id": "e6af4876-dcda-4dac-b8b4-c389b9e24c75",
   "metadata": {},
   "outputs": [
    {
     "name": "stdout",
     "output_type": "stream",
     "text": [
      "a: [1, 2, 3, 4]\n",
      "b: [1, 2, 3, 4]\n"
     ]
    }
   ],
   "source": [
    "a = [1, 2, 3]\n",
    "b = a  # b aponta para o mesmo objeto que a\n",
    "\n",
    "b.append(4)\n",
    "\n",
    "print(\"a:\", a)  # [1, 2, 3, 4]\n",
    "print(\"b:\", b)  # [1, 2, 3, 4]"
   ]
  },
  {
   "cell_type": "markdown",
   "id": "4900e87c-e41b-4fec-95b7-a00ac78e92c3",
   "metadata": {},
   "source": [
    "## 🧯 Como evitar o aliasing?\n",
    "\n",
    "Para criar uma **cópia independente**, você pode usar `copy()`:\n",
    "\n",
    "```python\n",
    "import copy\n",
    "nova_lista = copy.copy(lista_original)\n",
    "```\n",
    "Ou no caso de listas simples:\n",
    "```python\n",
    "nova_lista = lista_original[:]\n",
    "```"
   ]
  },
  {
   "cell_type": "code",
   "execution_count": 12,
   "id": "6306bbaa-b355-4a73-9622-d0a75479c4a7",
   "metadata": {},
   "outputs": [
    {
     "name": "stdout",
     "output_type": "stream",
     "text": [
      "a: [1, 2, 3]\n",
      "b: [1, 2, 3, 4]\n"
     ]
    }
   ],
   "source": [
    "a = [1, 2, 3]\n",
    "b = a[:]  # cópia rasa da lista\n",
    "\n",
    "b.append(4)\n",
    "\n",
    "print(\"a:\", a)  # [1, 2, 3]\n",
    "print(\"b:\", b)  # [1, 2, 3, 4]"
   ]
  },
  {
   "cell_type": "markdown",
   "id": "0b4a69fc-5df4-4e2a-9e6b-538ad3264055",
   "metadata": {},
   "source": [
    "## 🌀 Objetos mutáveis vs. imutáveis\n",
    "\n",
    "- **Mutáveis**: podem ser modificados após a criação. Ex: listas, dicionários.\n",
    "- **Imutáveis**: não podem ser alterados. Ex: inteiros, floats, strings, tuplas.\n",
    "\n",
    "```python\n",
    "x = 10\n",
    "y = x\n",
    "y = y + 5\n",
    "```\n",
    "`x` continua valendo 10, pois inteiros são imutáveis. Um novo objeto é criado para `y`."
   ]
  },
  {
   "cell_type": "code",
   "execution_count": 13,
   "id": "73c7c8a6-2ee0-45f2-ae57-eb7631566ce9",
   "metadata": {},
   "outputs": [
    {
     "name": "stdout",
     "output_type": "stream",
     "text": [
      "x: 10\n",
      "y: 15\n"
     ]
    }
   ],
   "source": [
    "x = 10\n",
    "y = x\n",
    "y = y + 5\n",
    "\n",
    "print(\"x:\", x)  # 10\n",
    "print(\"y:\", y)  # 15"
   ]
  },
  {
   "cell_type": "markdown",
   "id": "4cc5909d-0590-48ce-b0de-dbf9af8bbc43",
   "metadata": {},
   "source": [
    "## 💡 Dica prática\n",
    "\n",
    "Sempre que estiver lidando com listas, dicionários ou outros objetos mutáveis:\n",
    "\n",
    "- Verifique se está **copiando o conteúdo** ou **compartilhando a referência**;\n",
    "- Use cópias (`[:]`, `copy()`, `deepcopy()`) quando necessário;\n",
    "- Documente o comportamento esperado das variáveis no seu código.\n"
   ]
  },
  {
   "cell_type": "markdown",
   "id": "903d274d-b12b-407b-8735-dc9b677637dc",
   "metadata": {},
   "source": [
    "## ✅ Resumo – Revisão de Variáveis\n",
    "\n",
    "- Variáveis são **nomes que referenciam objetos** em Python.\n",
    "- Duas variáveis podem referenciar o mesmo objeto — isso é chamado de **aliasing**.\n",
    "- Objetos **imutáveis** (como inteiros e strings) não podem ser modificados.\n",
    "- Objetos **mutáveis** (como listas) podem ser alterados, e alterações afetam todas as referências.\n",
    "- Cópias devem ser usadas com cuidado para evitar efeitos colaterais indesejados.\n"
   ]
  },
  {
   "cell_type": "markdown",
   "id": "dd5568c3-3a95-4c1a-bc51-78f4bed76d0d",
   "metadata": {},
   "source": [
    "## ✅ Exercícios práticos recomendados\n",
    "\n",
    "1. Crie uma lista com 3 elementos e faça outra variável apontar para ela. Adicione um elemento com `append()` e observe o que acontece com ambas.\n",
    "2. Use `[:]` para copiar uma lista e mostre que agora são listas diferentes.\n",
    "3. Crie uma variável string e atribua seu valor a outra variável. Modifique uma delas e comprove que são objetos distintos.\n",
    "4. Explique com comentários no código por que duas variáveis com o mesmo nome não colidem em funções diferentes.\n"
   ]
  },
  {
   "cell_type": "markdown",
   "id": "ab571107-ea17-49be-a45f-86b4d5642bfc",
   "metadata": {},
   "source": [
    "## 📚 Seção 3.4 – Fundamentos de Listas (List Basics)\n",
    "\n",
    "### Objetivos de aprendizagem\n",
    "\n",
    "Após esta seção, você será capaz de:\n",
    "\n",
    "- Criar e manipular listas em Python;\n",
    "- Acessar e modificar elementos por índice;\n",
    "- Compreender como listas são armazenadas e manipuladas na memória.\n"
   ]
  },
  {
   "cell_type": "markdown",
   "id": "140ec464-0d5f-4d7d-a84c-78c46c4db54a",
   "metadata": {},
   "source": [
    "## 🧾 O que é uma lista?\n",
    "\n",
    "Uma **lista** em Python é uma estrutura de dados que armazena uma sequência ordenada de elementos. Os elementos podem ser de **tipos diferentes** (strings, números, listas, etc.).\n",
    "\n",
    "Listas são objetos **mutáveis**, ou seja, podem ser modificadas após a criação.\n",
    "\n",
    "A notação usa colchetes `[]` e os elementos são separados por vírgulas:\n",
    "\n",
    "```python\n",
    "frutas = [\"maçã\", \"banana\", \"laranja\"]\n",
    "```\n",
    "Você pode:\n",
    "\n",
    "- Acessar um elemento por índice;\n",
    "\n",
    "- Atualizar valores;\n",
    "\n",
    "- Adicionar ou remover elementos;\n",
    "\n",
    "- Iterar pelos itens com laços.\n"
   ]
  },
  {
   "cell_type": "code",
   "execution_count": 1,
   "id": "f84dbcd9-324f-4169-b0fd-fea6deb99a71",
   "metadata": {},
   "outputs": [
    {
     "name": "stdout",
     "output_type": "stream",
     "text": [
      "[10, 20, 30, 40]\n",
      "[3.14, 'texto', True, [1, 2]]\n"
     ]
    }
   ],
   "source": [
    "numeros = [10, 20, 30, 40]\n",
    "print(numeros)\n",
    "\n",
    "mistura = [3.14, \"texto\", True, [1, 2]]\n",
    "print(mistura)"
   ]
  },
  {
   "cell_type": "markdown",
   "id": "d3fa6042-0e4b-4e91-bfd2-4eec0f07b879",
   "metadata": {},
   "source": [
    "## 🔢 Acesso por índice\n",
    "\n",
    "Os elementos de uma lista são numerados a partir do índice **0**.\n",
    "\n",
    "```python\n",
    "letras = [\"a\", \"b\", \"c\", \"d\"]\n",
    "print(letras[0])  # \"a\"\n",
    "print(letras[2])  # \"c\"\n",
    "```\n",
    "⚠️ Se você tentar acessar um índice fora do intervalo válido, um erro `IndexError` será gerado."
   ]
  },
  {
   "cell_type": "code",
   "execution_count": 2,
   "id": "f53f9cb3-8bfb-4074-9c31-3313f693d8d4",
   "metadata": {},
   "outputs": [
    {
     "name": "stdout",
     "output_type": "stream",
     "text": [
      "Primeira letra: a\n",
      "Terceira letra: c\n"
     ]
    }
   ],
   "source": [
    "letras = [\"a\", \"b\", \"c\", \"d\"]\n",
    "print(\"Primeira letra:\", letras[0])\n",
    "print(\"Terceira letra:\", letras[2])"
   ]
  },
  {
   "cell_type": "markdown",
   "id": "606633e2-f24b-4d31-ac82-5977e45ab54f",
   "metadata": {},
   "source": [
    "## ✏️ Atualizando valores em listas\n",
    "\n",
    "Listas são mutáveis, então você pode alterar elementos diretamente:\n",
    "\n",
    "```python\n",
    "valores = [1, 2, 3]\n",
    "valores[1] = 200\n",
    "```\n",
    "O elemento na posição 1 (o segundo da lista) será substituído."
   ]
  },
  {
   "cell_type": "code",
   "execution_count": 3,
   "id": "d25fcdb9-5377-4704-9c0c-5ed6e64a31fd",
   "metadata": {},
   "outputs": [
    {
     "name": "stdout",
     "output_type": "stream",
     "text": [
      "Antes: [1, 2, 3]\n",
      "Depois: [1, 200, 3]\n"
     ]
    }
   ],
   "source": [
    "valores = [1, 2, 3]\n",
    "print(\"Antes:\", valores)\n",
    "\n",
    "valores[1] = 200\n",
    "print(\"Depois:\", valores)"
   ]
  },
  {
   "cell_type": "markdown",
   "id": "af41ef60-af42-41ac-b47b-e734a44ec910",
   "metadata": {},
   "source": [
    "## 📏 Tamanho da lista\n",
    "\n",
    "Você pode usar a função `len()` para descobrir quantos elementos há em uma lista:\n",
    "\n",
    "```python\n",
    "len([\"a\", \"b\", \"c\"])  # retorna 3\n",
    "```\n"
   ]
  },
  {
   "cell_type": "code",
   "execution_count": 4,
   "id": "8d3cfceb-42e1-4c60-812c-fc4bf7fc0a26",
   "metadata": {},
   "outputs": [
    {
     "name": "stdout",
     "output_type": "stream",
     "text": [
      "Número de nomes: 3\n"
     ]
    }
   ],
   "source": [
    "nomes = [\"Ana\", \"Carlos\", \"João\"]\n",
    "print(\"Número de nomes:\", len(nomes))"
   ]
  },
  {
   "cell_type": "markdown",
   "id": "076773fe-affe-4f92-8fb9-d227232a4ef5",
   "metadata": {},
   "source": [
    "## 🧩 Listas dentro de listas\n",
    "\n",
    "Python permite criar **listas aninhadas** — listas que contêm outras listas:\n",
    "\n",
    "```python\n",
    "matriz = [[1, 2], [3, 4]]\n",
    "print(matriz[0])    # [1, 2]\n",
    "print(matriz[0][1]) # 2\n",
    "```"
   ]
  },
  {
   "cell_type": "code",
   "execution_count": 5,
   "id": "fc69dbe6-96dc-4628-990c-bcfac003bc68",
   "metadata": {},
   "outputs": [
    {
     "name": "stdout",
     "output_type": "stream",
     "text": [
      "Primeira linha: [1, 2]\n",
      "Elemento linha 1, coluna 2: 2\n"
     ]
    }
   ],
   "source": [
    "matriz = [[1, 2], [3, 4]]\n",
    "print(\"Primeira linha:\", matriz[0])\n",
    "print(\"Elemento linha 1, coluna 2:\", matriz[0][1])"
   ]
  },
  {
   "cell_type": "markdown",
   "id": "29333f2f-74ff-4d30-9c77-952849874ea6",
   "metadata": {},
   "source": [
    "## ⚠️ Cuidados com listas\n",
    "\n",
    "- Índices começam do zero;\n",
    "- Listas são **mutáveis** — alterações podem afetar outras variáveis que referenciam a mesma lista;\n",
    "- O uso incorreto de índices pode causar `IndexError`.\n",
    "\n",
    "Evite acessar posições inexistentes e lembre-se de que o índice máximo válido é `len(lista) - 1`.\n"
   ]
  },
  {
   "cell_type": "markdown",
   "id": "84776e97-c374-4832-9696-611b2828a9ce",
   "metadata": {},
   "source": [
    "## ✅ Resumo – Fundamentos de Listas\n",
    "\n",
    "- Listas armazenam sequências de elementos de qualquer tipo;\n",
    "- Usam colchetes `[]` e são separadas por vírgula;\n",
    "- Elementos são acessados por índices iniciando em 0;\n",
    "- Listas são mutáveis — podem ser modificadas após a criação;\n",
    "- Listas podem ser aninhadas (listas dentro de listas);\n",
    "- A função `len()` retorna o número de elementos.\n"
   ]
  },
  {
   "cell_type": "markdown",
   "id": "f2d0aaa7-01c9-4e11-bcc0-6c468a0a590e",
   "metadata": {},
   "source": [
    "## 🧪 Exercícios práticos recomendados\n",
    "\n",
    "1. Crie uma lista com cinco nomes e imprima o terceiro.\n",
    "2. Atualize o valor de um dos elementos da lista e imprima a nova lista.\n",
    "3. Crie uma lista de listas com 3 linhas e 2 colunas. Acesse e imprima o elemento da linha 2, coluna 1.\n",
    "4. Escreva uma função que receba uma lista e imprima todos os seus elementos, um por linha.\n"
   ]
  },
  {
   "cell_type": "markdown",
   "id": "44eb97de-f09f-4bf0-9902-2b1d60308bd6",
   "metadata": {},
   "source": [
    "## 🔗 Seção 3.5 – Fundamentos de Tuplas (Tuple Basics)\n",
    "\n",
    "### Objetivos de aprendizagem\n",
    "\n",
    "Após esta seção, você será capaz de:\n",
    "\n",
    "- Compreender o que são tuplas e como usá-las;\n",
    "- Criar tuplas com diferentes tipos de dados;\n",
    "- Acessar elementos de tuplas por índice;\n",
    "- Distinguir tuplas de listas quanto à mutabilidade.\n"
   ]
  },
  {
   "cell_type": "markdown",
   "id": "60682d05-8c13-4a0e-ae70-f61cb508c8f3",
   "metadata": {},
   "source": [
    "## 🧾 O que é uma tupla?\n",
    "\n",
    "Uma **tupla** é uma estrutura de dados semelhante a uma lista, porém **imutável**. Ou seja, após a criação, seus elementos não podem ser alterados.\n",
    "\n",
    "Tuplas são definidas entre **parênteses `()`**, com elementos separados por vírgulas:\n",
    "\n",
    "```python\n",
    "coordenadas = (10.5, 20.3)\n",
    "```\n",
    "Você pode:\n",
    "\n",
    "- Acessar elementos por índice (como nas listas);\n",
    "\n",
    "- Armazenar valores de tipos diferentes;\n",
    "\n",
    "- Utilizar tuplas como chaves em dicionários (graças à imutabilidade)."
   ]
  },
  {
   "cell_type": "code",
   "execution_count": 6,
   "id": "d03e2d77-35a4-4715-9c91-e3458f7c9304",
   "metadata": {},
   "outputs": [
    {
     "name": "stdout",
     "output_type": "stream",
     "text": [
      "(1, 2, 3)\n",
      "('João', 42, True)\n"
     ]
    }
   ],
   "source": [
    "tupla_exemplo = (1, 2, 3)\n",
    "print(tupla_exemplo)\n",
    "\n",
    "dados = (\"João\", 42, True)\n",
    "print(dados)"
   ]
  },
  {
   "cell_type": "markdown",
   "id": "67838e32-c084-4582-a26a-10c73df60cd4",
   "metadata": {},
   "source": [
    "## 🔢 Acesso a elementos da tupla\n",
    "\n",
    "Tuplas permitem acesso por índice, semelhante às listas:\n",
    "\n",
    "```python\n",
    "dias = (\"segunda\", \"terça\", \"quarta\")\n",
    "print(dias[0])  # \"segunda\"\n",
    "```\n",
    "⚠️ Assim como nas listas, acessar um índice inválido resulta em `IndexError`."
   ]
  },
  {
   "cell_type": "code",
   "execution_count": 7,
   "id": "0496680c-b104-4925-bf07-94f85eacd997",
   "metadata": {},
   "outputs": [
    {
     "name": "stdout",
     "output_type": "stream",
     "text": [
      "Primeiro nome: Ana\n",
      "Último nome: Carlos\n"
     ]
    }
   ],
   "source": [
    "nomes = (\"Ana\", \"Bruno\", \"Carlos\")\n",
    "print(\"Primeiro nome:\", nomes[0])\n",
    "print(\"Último nome:\", nomes[-1])"
   ]
  },
  {
   "cell_type": "markdown",
   "id": "0fee4e43-6568-4c61-806d-b1c752eb3412",
   "metadata": {},
   "source": [
    "## ☝️ Tuplas unitárias\n",
    "\n",
    "Uma tupla com apenas um elemento **deve conter uma vírgula** após o valor:\n",
    "\n",
    "```python\n",
    "tupla_um = (5,)   # Tupla válida\n",
    "nao_tupla = (5)   # Apenas um número entre parênteses\n",
    "```\n",
    "Sem a vírgula, o Python interpreta como um valor comum entre parênteses."
   ]
  },
  {
   "cell_type": "code",
   "execution_count": 8,
   "id": "30ef2434-108e-4168-97b9-ded351cecd7b",
   "metadata": {},
   "outputs": [
    {
     "name": "stdout",
     "output_type": "stream",
     "text": [
      "Tipo: <class 'tuple'>\n",
      "Tipo: <class 'int'>\n"
     ]
    }
   ],
   "source": [
    "tupla_correta = (42,)\n",
    "print(\"Tipo:\", type(tupla_correta))\n",
    "\n",
    "valor_entre_parenteses = (42)\n",
    "print(\"Tipo:\", type(valor_entre_parenteses))"
   ]
  },
  {
   "cell_type": "markdown",
   "id": "5181a8d8-a904-40b8-8bc6-6d21943c5517",
   "metadata": {},
   "source": [
    "## 🔒 Imutabilidade das tuplas\n",
    "\n",
    "Tuplas **não podem ser modificadas** após a criação. Isso significa:\n",
    "\n",
    "- Não é possível alterar elementos;\n",
    "- Não é possível adicionar nem remover elementos.\n",
    "\n",
    "```python\n",
    "exemplo = (1, 2, 3)\n",
    "exemplo[0] = 99  # TypeError\n",
    "```\n",
    "Essa imutabilidade torna tuplas adequadas para:\n",
    "\n",
    "- Uso como chaves em dicionários;\n",
    "\n",
    "- Representação de dados fixos.\n"
   ]
  },
  {
   "cell_type": "code",
   "execution_count": 9,
   "id": "55fd2622-d717-4b58-95ed-83efbcc0a387",
   "metadata": {},
   "outputs": [
    {
     "name": "stdout",
     "output_type": "stream",
     "text": [
      "Erro: 'tuple' object does not support item assignment\n"
     ]
    }
   ],
   "source": [
    "exemplo = (1, 2, 3)\n",
    "try:\n",
    "    exemplo[0] = 99\n",
    "except TypeError as e:\n",
    "    print(\"Erro:\", e)"
   ]
  },
  {
   "cell_type": "markdown",
   "id": "eb5f257b-31bf-4cf5-948d-4d80906ef4a4",
   "metadata": {},
   "source": [
    "## 🤔 Quando usar tuplas?\n",
    "\n",
    "- Quando os dados **não devem ser alterados**;\n",
    "- Quando você precisa de uma **sequência leve e segura**;\n",
    "- Quando deseja usar como **chave de dicionário**;\n",
    "- Para retornar múltiplos valores de uma função.\n",
    "\n",
    "Exemplo:\n",
    "\n",
    "```python\n",
    "def estatisticas(valores):\n",
    "    media = sum(valores) / len(valores)\n",
    "    minimo = min(valores)\n",
    "    maximo = max(valores)\n",
    "    return (media, minimo, maximo)\n",
    "```"
   ]
  },
  {
   "cell_type": "code",
   "execution_count": 10,
   "id": "5604d0cf-4684-48aa-93e9-c92b654a3e10",
   "metadata": {},
   "outputs": [
    {
     "name": "stdout",
     "output_type": "stream",
     "text": [
      "Estatísticas: (25.0, 10, 40)\n"
     ]
    }
   ],
   "source": [
    "def estatisticas(valores):\n",
    "    media = sum(valores) / len(valores)\n",
    "    minimo = min(valores)\n",
    "    maximo = max(valores)\n",
    "    return (media, minimo, maximo)\n",
    "\n",
    "dados = [10, 20, 30, 40]\n",
    "resultado = estatisticas(dados)\n",
    "print(\"Estatísticas:\", resultado)\n"
   ]
  },
  {
   "cell_type": "markdown",
   "id": "56d75c6d-c42f-4e4c-8bef-a1f80d8e4409",
   "metadata": {},
   "source": [
    "## ✅ Resumo – Fundamentos de Tuplas\n",
    "\n",
    "- Tuplas armazenam múltiplos valores **imutáveis**, usando `()`;\n",
    "- São acessadas por índice, como listas;\n",
    "- Não podem ser modificadas (adicionar/remover/alterar);\n",
    "- Tuplas com um único valor devem conter **vírgula final**;\n",
    "- São úteis quando a **imutabilidade** é desejada, e podem ser usadas como **chaves de dicionários**;\n",
    "- Funções podem retornar múltiplos valores como tupla.\n"
   ]
  },
  {
   "cell_type": "markdown",
   "id": "79e83308-d213-46d3-a88f-73f929e4c255",
   "metadata": {},
   "source": [
    "## 🧪 Exercícios práticos recomendados\n",
    "\n",
    "1. Crie uma tupla com três elementos e imprima o segundo.\n",
    "2. Escreva uma função que retorne o mínimo e o máximo de uma lista como uma tupla.\n",
    "3. Teste o que acontece ao tentar alterar um elemento de uma tupla.\n",
    "4. Crie uma tupla unitária corretamente e imprima seu tipo.\n",
    "5. Use uma tupla como chave em um dicionário com dados geográficos (ex: coordenadas → cidade).\n"
   ]
  },
  {
   "cell_type": "code",
   "execution_count": null,
   "id": "31acbcd2-d316-4287-9b56-b7f4b2c6aa77",
   "metadata": {},
   "outputs": [],
   "source": []
  }
 ],
 "metadata": {
  "kernelspec": {
   "display_name": "Python 3 (ipykernel)",
   "language": "python",
   "name": "python3"
  },
  "language_info": {
   "codemirror_mode": {
    "name": "ipython",
    "version": 3
   },
   "file_extension": ".py",
   "mimetype": "text/x-python",
   "name": "python",
   "nbconvert_exporter": "python",
   "pygments_lexer": "ipython3",
   "version": "3.13.7"
  }
 },
 "nbformat": 4,
 "nbformat_minor": 5
}
