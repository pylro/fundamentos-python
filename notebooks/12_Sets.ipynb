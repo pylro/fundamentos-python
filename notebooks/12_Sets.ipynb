{
 "cells": [
  {
   "cell_type": "markdown",
   "id": "85ff5d0f-7719-420a-800a-598381f75aae",
   "metadata": {},
   "source": [
    "# Capítulo 12 — Conjuntos (Sets)\n",
    "\n",
    "> **Adriano Pylro - Engenheiro Mecânico - Dr. Eng,** \n",
    "\n",
    "## 12.1 — Introdução aos conjuntos\n",
    "\n",
    "Os conjuntos em Python (`set`) são coleções de elementos **não ordenados** e **sem duplicatas**.  \n",
    "Eles representam diretamente o conceito matemático de conjunto e são muito úteis quando precisamos garantir a **unicidade de itens** ou realizar operações típicas como **união, interseção e diferença**.\n",
    "\n",
    "📌 **Características principais**:\n",
    "\n",
    "- ✅ Não permitem elementos duplicados.  \n",
    "- 🔀 Não mantêm ordem dos elementos.  \n",
    "- 🔧 São mutáveis (podemos adicionar ou remover elementos).  \n",
    "- 🔒 Apenas elementos imutáveis e *hashable* podem ser inseridos em um conjunto (ex.: números, strings, tuplas).  \n",
    "\n",
    "⚠️ **Cuidado:** `{}` vazio cria um **dicionário**, não um conjunto. Para criar um conjunto vazio, use `set()`.  \n"
   ]
  },
  {
   "cell_type": "code",
   "execution_count": 2,
   "id": "32522c96-6669-47b7-87be-60fa113fa3f1",
   "metadata": {},
   "outputs": [
    {
     "name": "stdout",
     "output_type": "stream",
     "text": [
      "Conjunto1: {1, 2, 3, 4}\n"
     ]
    }
   ],
   "source": [
    "# Criando conjuntos em Python\n",
    "\n",
    "# Conjunto com elementos inteiros\n",
    "conjunto1 = {1, 2, 3, 4}\n",
    "print(\"Conjunto1:\", conjunto1)\n"
   ]
  },
  {
   "cell_type": "code",
   "execution_count": 3,
   "id": "a3a10612-657c-4ac8-831f-4b8ad064cf8a",
   "metadata": {},
   "outputs": [
    {
     "name": "stdout",
     "output_type": "stream",
     "text": [
      "Conjunto2 sem duplicatas: {1, 2, 3, 4}\n"
     ]
    }
   ],
   "source": [
    "# Conjunto com elementos repetidos (duplicatas serão removidas)\n",
    "conjunto2 = {1, 2, 2, 3, 4, 4}\n",
    "print(\"Conjunto2 sem duplicatas:\", conjunto2)"
   ]
  },
  {
   "cell_type": "code",
   "execution_count": 4,
   "id": "458c2a29-c91c-4873-8e5d-25833b1a8c4a",
   "metadata": {},
   "outputs": [
    {
     "name": "stdout",
     "output_type": "stream",
     "text": [
      "Conjunto3 (caracteres únicos): {'r', 'h', 'g', 'a', 'n', 'e', 'i'}\n"
     ]
    }
   ],
   "source": [
    "# Conjunto criado a partir de uma string\n",
    "conjunto3 = set(\"engenharia\")\n",
    "print(\"Conjunto3 (caracteres únicos):\", conjunto3)"
   ]
  },
  {
   "cell_type": "code",
   "execution_count": 5,
   "id": "8f8f090f-c750-48b0-ba5b-7386dcf3c415",
   "metadata": {},
   "outputs": [
    {
     "name": "stdout",
     "output_type": "stream",
     "text": [
      "Conjunto vazio: set()\n"
     ]
    }
   ],
   "source": [
    "# Criando um conjunto vazio (precisa da função set)\n",
    "conjunto_vazio = set()\n",
    "print(\"Conjunto vazio:\", conjunto_vazio)"
   ]
  },
  {
   "cell_type": "markdown",
   "id": "419ccd17-e299-4000-ab40-7b95ba394795",
   "metadata": {},
   "source": [
    "🔎 **Observações importantes**:  \n",
    "- Os conjuntos são otimizados para **testes de pertencimento** (`in`) e para operações matemáticas rápidas.  \n",
    "- Eles são muito úteis para remover duplicatas de uma lista ou validar elementos únicos em uma coleção.  \n"
   ]
  },
  {
   "cell_type": "markdown",
   "id": "ec1f3e54-11d4-4e67-bd63-793802d72f26",
   "metadata": {},
   "source": [
    "## 12.2 — Características principais dos conjuntos\n",
    "\n",
    "Os conjuntos (`set`) em Python têm algumas propriedades específicas que os diferenciam de listas e tuplas.  \n",
    "Essas características são fundamentais para escolher a estrutura de dados correta em cada situação.\n",
    "\n",
    "📌 **Principais características:**\n",
    "\n",
    "1. 🔀 **Não possuem ordem**  \n",
    "   - Os elementos não são armazenados em uma sequência fixa.  \n",
    "   - Não é possível acessar elementos por índice, como em listas ou tuplas.  \n",
    "\n",
    "2. ❌ **Não aceitam duplicatas**  \n",
    "   - Se um elemento for adicionado mais de uma vez, apenas uma ocorrência será mantida.  \n",
    "\n",
    "3. 🔧 **São mutáveis**  \n",
    "   - É possível adicionar e remover elementos de um conjunto após sua criação.  \n",
    "\n",
    "4. 🔒 **Apenas elementos imutáveis e hashable são permitidos**  \n",
    "   - Exemplos válidos: números, strings, tuplas.  \n",
    "   - Exemplos inválidos: listas, dicionários (não são *hashable*).  \n",
    "\n",
    "5. ⚡ **Altamente eficientes em operações de pertencimento**  \n",
    "   - A verificação de se um elemento está em um conjunto (`in`) é muito mais rápida do que em listas.  \n"
   ]
  },
  {
   "cell_type": "code",
   "execution_count": 6,
   "id": "730313ea-85db-4d7b-86b2-0eddc9342cf3",
   "metadata": {},
   "outputs": [
    {
     "name": "stdout",
     "output_type": "stream",
     "text": [
      "{1, 2, 3}\n"
     ]
    }
   ],
   "source": [
    "# Demonstração das características dos conjuntos\n",
    "\n",
    "# 1. Não possuem ordem\n",
    "meu_set = {3, 1, 2}\n",
    "print(meu_set)  # A ordem pode variar, ex.: {1, 2, 3}"
   ]
  },
  {
   "cell_type": "code",
   "execution_count": 7,
   "id": "719669bd-f721-4664-80b4-3a1a31ad4b35",
   "metadata": {},
   "outputs": [
    {
     "name": "stdout",
     "output_type": "stream",
     "text": [
      "{1, 2, 3}\n"
     ]
    }
   ],
   "source": [
    "# 2. Não aceitam duplicatas\n",
    "set_com_duplicatas = {1, 2, 2, 3, 3, 3}\n",
    "print(set_com_duplicatas)  # {1, 2, 3}"
   ]
  },
  {
   "cell_type": "code",
   "execution_count": 8,
   "id": "feebca06-3a9d-4886-a5e1-01b7abb8734f",
   "metadata": {},
   "outputs": [
    {
     "name": "stdout",
     "output_type": "stream",
     "text": [
      "{'pássaro', 'gato', 'cachorro'}\n",
      "{'pássaro', 'cachorro'}\n"
     ]
    }
   ],
   "source": [
    "# 3. São mutáveis\n",
    "animais = {\"cachorro\", \"gato\"}\n",
    "animais.add(\"pássaro\")\n",
    "print(animais)  # {'cachorro', 'gato', 'pássaro'}\n",
    "\n",
    "animais.remove(\"gato\")\n",
    "print(animais)  # {'cachorro', 'pássaro'}"
   ]
  },
  {
   "cell_type": "code",
   "execution_count": 9,
   "id": "5af70362-8918-492a-a7b6-1604199dfbd4",
   "metadata": {},
   "outputs": [
    {
     "name": "stdout",
     "output_type": "stream",
     "text": [
      "{(2, 3), 1, 'Python'}\n"
     ]
    }
   ],
   "source": [
    "# 4. Apenas elementos imutáveis\n",
    "set_valido = {1, \"Python\", (2, 3)}  # ✅ OK\n",
    "print(set_valido)\n",
    "\n",
    "# set_invalido = {1, [2, 3]}  # ❌ ERRO -> lista não é hashable"
   ]
  },
  {
   "cell_type": "code",
   "execution_count": 10,
   "id": "4c5ec765-f32c-4bf8-ac3a-5d4ffa6b03d8",
   "metadata": {},
   "outputs": [
    {
     "name": "stdout",
     "output_type": "stream",
     "text": [
      "True\n"
     ]
    }
   ],
   "source": [
    "# 5. Eficiência em 'in'\n",
    "numeros = set(range(1000000))\n",
    "print(999999 in numeros)  # True, busca muito rápida"
   ]
  },
  {
   "cell_type": "markdown",
   "id": "df6747bc-0de9-440a-9bda-66f97898065d",
   "metadata": {},
   "source": [
    "## 12.3 — Criação de conjuntos\n",
    "\n",
    "Existem diferentes formas de criar conjuntos (`set`) em Python.  \n",
    "A escolha da forma depende da clareza e da necessidade do seu código.  \n",
    "\n",
    "📌 **Principais maneiras de criar conjuntos:**\n",
    "\n",
    "1. **Usando chaves `{}`**  \n",
    "   - Forma mais direta para conjuntos não vazios.  \n",
    "   - Exemplo: `meu_set = {1, 2, 3}`  \n",
    "\n",
    "2. **Usando a função `set()`**  \n",
    "   - Recomendado para criar conjuntos vazios ou converter outras coleções.  \n",
    "   - Exemplo: `meu_set = set()`  \n",
    "\n",
    "3. **Conversão de outras coleções**  \n",
    "   - Listas, tuplas ou strings podem ser convertidas em conjuntos.  \n",
    "   - Isso automaticamente remove duplicatas.  \n",
    "\n",
    "⚠️ **Atenção**: `{}` cria um **dicionário vazio**, não um conjunto.  \n",
    "Para criar um conjunto vazio use `set()`.  \n"
   ]
  },
  {
   "cell_type": "code",
   "execution_count": 11,
   "id": "1c218e1c-53b7-49bd-89c3-bec60c77bdf5",
   "metadata": {},
   "outputs": [
    {
     "name": "stdout",
     "output_type": "stream",
     "text": [
      "{'banana', 'laranja', 'maçã'}\n"
     ]
    }
   ],
   "source": [
    "# 1. Criando conjuntos com chaves {}\n",
    "frutas = {\"maçã\", \"banana\", \"laranja\"}\n",
    "print(frutas)  # {'maçã', 'banana', 'laranja'}"
   ]
  },
  {
   "cell_type": "code",
   "execution_count": 12,
   "id": "90d011aa-06f0-42d4-8be3-9305eb2fdd76",
   "metadata": {},
   "outputs": [
    {
     "name": "stdout",
     "output_type": "stream",
     "text": [
      "set()\n"
     ]
    }
   ],
   "source": [
    "# 2. Criando conjuntos vazios com set()\n",
    "conjunto_vazio = set()\n",
    "print(conjunto_vazio)  # set()"
   ]
  },
  {
   "cell_type": "code",
   "execution_count": 13,
   "id": "159910ef-c324-45e5-bd25-e9da9b8b18f2",
   "metadata": {},
   "outputs": [
    {
     "name": "stdout",
     "output_type": "stream",
     "text": [
      "{1, 2, 3, 4, 5}\n"
     ]
    }
   ],
   "source": [
    "# 3. Conversão de lista para conjunto\n",
    "lista = [1, 2, 2, 3, 4, 4, 5]\n",
    "conjunto = set(lista)\n",
    "print(conjunto)  # {1, 2, 3, 4, 5}"
   ]
  },
  {
   "cell_type": "code",
   "execution_count": 14,
   "id": "2fd2ad66-739c-4340-b86e-3f4b6ec0eb26",
   "metadata": {},
   "outputs": [
    {
     "name": "stdout",
     "output_type": "stream",
     "text": [
      "{'r', 'h', 'g', 'a', 'n', 'e', 'i'}\n"
     ]
    }
   ],
   "source": [
    "# 4. Conversão de string para conjunto\n",
    "texto = \"engenharia\"\n",
    "conjunto_letras = set(texto)\n",
    "print(conjunto_letras)  # ordem arbitrária, ex.: {'n', 'g', 'a', 'i', 'e', 'h', 'r'}"
   ]
  },
  {
   "cell_type": "markdown",
   "id": "1a87061e-f405-4e28-af0f-5d887f25cabc",
   "metadata": {},
   "source": [
    "## 12.4 — Operações matemáticas com conjuntos\n",
    "\n",
    "Os conjuntos em Python permitem realizar diretamente operações típicas da teoria dos conjuntos, como **união, interseção, diferença e diferença simétrica**.  \n",
    "Essas operações são extremamente úteis em problemas que envolvem comparação de coleções, filtragem de elementos ou análise de dados.\n",
    "\n",
    "📌 **Operações principais:**\n",
    "\n",
    "- **União (⋃):** Combina elementos de dois conjuntos, sem duplicatas.  \n",
    "  - `A | B` ou `A.union(B)`\n",
    "\n",
    "- **Interseção (⋂):** Retorna apenas os elementos que aparecem em ambos os conjuntos.  \n",
    "  - `A & B` ou `A.intersection(B)`\n",
    "\n",
    "- **Diferença (\\\\):** Retorna os elementos que estão em `A` mas não em `B`.  \n",
    "  - `A - B` ou `A.difference(B)`\n",
    "\n",
    "- **Diferença Simétrica (∆):** Retorna os elementos que estão em apenas um dos conjuntos (exclusivos).  \n",
    "  - `A ^ B` ou `A.symmetric_difference(B)`\n",
    "\n",
    "✨ Essas operações são realizadas de forma **otimizada**, pois os conjuntos são implementados internamente com **tabelas hash**.\n"
   ]
  },
  {
   "cell_type": "code",
   "execution_count": 15,
   "id": "b0f30a6b-c5d0-4253-95ab-7373448a4191",
   "metadata": {},
   "outputs": [
    {
     "name": "stdout",
     "output_type": "stream",
     "text": [
      "União: {1, 2, 3, 4, 5, 6}\n",
      "União (método): {1, 2, 3, 4, 5, 6}\n"
     ]
    }
   ],
   "source": [
    "# Definição dos conjuntos\n",
    "A = {1, 2, 3, 4}\n",
    "B = {3, 4, 5, 6}\n",
    "\n",
    "# União\n",
    "print(\"União:\", A | B)  \n",
    "print(\"União (método):\", A.union(B))"
   ]
  },
  {
   "cell_type": "code",
   "execution_count": 16,
   "id": "d622a417-95cb-4ea4-a7dc-876108446fd5",
   "metadata": {},
   "outputs": [
    {
     "name": "stdout",
     "output_type": "stream",
     "text": [
      "Interseção: {3, 4}\n",
      "Interseção (método): {3, 4}\n"
     ]
    }
   ],
   "source": [
    "# Interseção\n",
    "print(\"Interseção:\", A & B)\n",
    "print(\"Interseção (método):\", A.intersection(B))"
   ]
  },
  {
   "cell_type": "code",
   "execution_count": 17,
   "id": "cc43597f-047b-4e8d-bc93-f3c0aeeb1001",
   "metadata": {},
   "outputs": [
    {
     "name": "stdout",
     "output_type": "stream",
     "text": [
      "Diferença A - B: {1, 2}\n",
      "Diferença B - A: {5, 6}\n"
     ]
    }
   ],
   "source": [
    "# Diferença\n",
    "print(\"Diferença A - B:\", A - B)\n",
    "print(\"Diferença B - A:\", B - A)"
   ]
  },
  {
   "cell_type": "code",
   "execution_count": 18,
   "id": "8ff8a678-33c3-49b8-8c19-1c6b5e884e74",
   "metadata": {},
   "outputs": [
    {
     "name": "stdout",
     "output_type": "stream",
     "text": [
      "Diferença Simétrica: {1, 2, 5, 6}\n",
      "Diferença Simétrica (método): {1, 2, 5, 6}\n"
     ]
    }
   ],
   "source": [
    "# Diferença simétrica\n",
    "print(\"Diferença Simétrica:\", A ^ B)\n",
    "print(\"Diferença Simétrica (método):\", A.symmetric_difference(B))"
   ]
  },
  {
   "cell_type": "markdown",
   "id": "14351994-674d-41a1-8b7a-854c064119a2",
   "metadata": {},
   "source": [
    "## 12.5 — Métodos úteis de conjuntos\n",
    "\n",
    "Além das operações matemáticas, os conjuntos em Python oferecem vários **métodos internos** para manipulação.  \n",
    "Esses métodos permitem **adicionar, remover e limpar** elementos, entre outras funcionalidades importantes.\n",
    "\n",
    "📌 **Principais métodos:**\n",
    "\n",
    "- `add(x)` → Adiciona um elemento ao conjunto.  \n",
    "- `remove(x)` → Remove um elemento; gera erro se o item não existir. ⚠️  \n",
    "- `discard(x)` → Remove um elemento; **não gera erro** se o item não existir.  \n",
    "- `pop()` → Remove e retorna um elemento aleatório.  \n",
    "- `clear()` → Remove todos os elementos do conjunto.  \n",
    "- `copy()` → Cria uma cópia rasa (shallow copy) do conjunto.  \n",
    "\n",
    "✨ Dica: usar `discard()` pode ser mais seguro que `remove()` quando não temos certeza se o elemento está presente.\n"
   ]
  },
  {
   "cell_type": "code",
   "execution_count": 20,
   "id": "7d38462e-90e0-40d1-9157-99e0a9f841c7",
   "metadata": {},
   "outputs": [
    {
     "name": "stdout",
     "output_type": "stream",
     "text": [
      "{'banana', 'laranja', 'maçã'}\n"
     ]
    }
   ],
   "source": [
    "# Criando um conjunto inicial\n",
    "frutas = {\"maçã\", \"banana\", \"laranja\"}\n",
    "print(frutas)"
   ]
  },
  {
   "cell_type": "code",
   "execution_count": 21,
   "id": "12f6a355-9522-46b7-a3e1-d99ef9da44d5",
   "metadata": {},
   "outputs": [
    {
     "name": "stdout",
     "output_type": "stream",
     "text": [
      "Após add: {'banana', 'uva', 'laranja', 'maçã'}\n"
     ]
    }
   ],
   "source": [
    "# Adicionar elemento\n",
    "frutas.add(\"uva\")\n",
    "print(\"Após add:\", frutas)"
   ]
  },
  {
   "cell_type": "code",
   "execution_count": 22,
   "id": "ddd98488-84f7-4673-8c57-b4612c3198c4",
   "metadata": {},
   "outputs": [
    {
     "name": "stdout",
     "output_type": "stream",
     "text": [
      "Após remove: {'uva', 'laranja', 'maçã'}\n"
     ]
    }
   ],
   "source": [
    "# Remover elemento existente\n",
    "frutas.remove(\"banana\")\n",
    "print(\"Após remove:\", frutas)"
   ]
  },
  {
   "cell_type": "code",
   "execution_count": 23,
   "id": "1fd68076-ced7-40b1-970f-2be8145821a8",
   "metadata": {},
   "outputs": [
    {
     "name": "stdout",
     "output_type": "stream",
     "text": [
      "Após discard: {'uva', 'laranja', 'maçã'}\n"
     ]
    }
   ],
   "source": [
    "# Remover elemento inexistente com discard (não gera erro)\n",
    "frutas.discard(\"abacaxi\")\n",
    "print(\"Após discard:\", frutas)"
   ]
  },
  {
   "cell_type": "code",
   "execution_count": 24,
   "id": "c2bf69f7-f829-424c-a9cd-1e80e61b5f07",
   "metadata": {},
   "outputs": [
    {
     "name": "stdout",
     "output_type": "stream",
     "text": [
      "Elemento removido com pop: uva\n",
      "Após pop: {'laranja', 'maçã'}\n"
     ]
    }
   ],
   "source": [
    "# Usando pop (remove elemento aleatório)\n",
    "removido = frutas.pop()\n",
    "print(\"Elemento removido com pop:\", removido)\n",
    "print(\"Após pop:\", frutas)"
   ]
  },
  {
   "cell_type": "code",
   "execution_count": 25,
   "id": "7b1b3930-b7a6-4675-9c31-0d5404948860",
   "metadata": {},
   "outputs": [
    {
     "name": "stdout",
     "output_type": "stream",
     "text": [
      "Cópia do conjunto: {'laranja', 'maçã'}\n"
     ]
    }
   ],
   "source": [
    "# Cópia do conjunto\n",
    "copia = frutas.copy()\n",
    "print(\"Cópia do conjunto:\", copia)"
   ]
  },
  {
   "cell_type": "code",
   "execution_count": 26,
   "id": "0e120868-3c0e-4093-aad2-af92e0f77f64",
   "metadata": {},
   "outputs": [
    {
     "name": "stdout",
     "output_type": "stream",
     "text": [
      "Após clear: set()\n"
     ]
    }
   ],
   "source": [
    "# Limpando o conjunto\n",
    "frutas.clear()\n",
    "print(\"Após clear:\", frutas)"
   ]
  },
  {
   "cell_type": "markdown",
   "id": "dcd496bd-a8b6-4ce0-81b4-21bf327f9b55",
   "metadata": {},
   "source": [
    "## 12.6 — Operações de pertinência e subconjuntos\n",
    "\n",
    "Uma das grandes utilidades dos conjuntos é verificar **pertinência** (se um elemento pertence ou não ao conjunto)  \n",
    "e **relações entre conjuntos** (subconjunto, superconjunto).\n",
    "\n",
    "📌 **Operadores e métodos principais:**\n",
    "\n",
    "- `in` → Verifica se um elemento **pertence** ao conjunto.  \n",
    "- `not in` → Verifica se um elemento **não pertence** ao conjunto.  \n",
    "- `issubset( )` → Verifica se um conjunto é **subconjunto** de outro.  \n",
    "- `issuperset( )` → Verifica se um conjunto é **superconjunto** de outro.  \n",
    "- `isdisjoint( )` → Verifica se dois conjuntos são **disjuntos** (não possuem elementos em comum).\n",
    "\n",
    "✨ Essas operações ajudam a estruturar verificações lógicas e modelar relações matemáticas entre coleções.\n"
   ]
  },
  {
   "cell_type": "code",
   "execution_count": 27,
   "id": "fbf15d62-f872-42aa-aa71-a6b968319a97",
   "metadata": {},
   "outputs": [
    {
     "name": "stdout",
     "output_type": "stream",
     "text": [
      "True\n",
      "True\n"
     ]
    }
   ],
   "source": [
    "# Conjuntos de exemplo\n",
    "A = {1, 2, 3}\n",
    "B = {1, 2, 3, 4, 5}\n",
    "C = {6, 7}\n",
    "\n",
    "# Pertinência\n",
    "print(2 in A)       # True\n",
    "print(4 not in A)   # True"
   ]
  },
  {
   "cell_type": "code",
   "execution_count": 28,
   "id": "60208ef6-9346-4d21-9e19-e2658091075b",
   "metadata": {},
   "outputs": [
    {
     "name": "stdout",
     "output_type": "stream",
     "text": [
      "True\n",
      "True\n"
     ]
    }
   ],
   "source": [
    "# Subconjunto e superconjunto\n",
    "print(A.issubset(B))     # True → A está contido em B\n",
    "print(B.issuperset(A))   # True → B contém A"
   ]
  },
  {
   "cell_type": "code",
   "execution_count": 29,
   "id": "cb17d98a-52c7-473b-b5ca-78137f4257a1",
   "metadata": {},
   "outputs": [
    {
     "name": "stdout",
     "output_type": "stream",
     "text": [
      "True\n"
     ]
    }
   ],
   "source": [
    "# Conjuntos disjuntos\n",
    "print(A.isdisjoint(C))   # True → não compartilham elementos"
   ]
  },
  {
   "cell_type": "markdown",
   "id": "7d9dbe4e-2d8a-4257-93a5-2af035b9983d",
   "metadata": {},
   "source": [
    "## Exercícios Propostos 📝\n",
    "\n",
    "A seguir, uma lista de exercícios para praticar o que foi estudado sobre conjuntos:\n",
    "\n",
    "1. Crie um conjunto com os números de 1 a 10 e verifique se o número 7 pertence a ele.  \n",
    "2. Dado o conjunto `A = {1, 2, 3, 4}` e o conjunto `B = {3, 4, 5, 6}`, calcule:\n",
    "   - União  \n",
    "   - Interseção  \n",
    "   - Diferença `A - B`  \n",
    "   - Diferença simétrica  \n",
    "3. Elimine os elementos duplicados da lista `[1, 2, 2, 3, 4, 4, 5]` usando um conjunto.  \n",
    "4. Verifique se `{1, 2}` é subconjunto de `{1, 2, 3, 4}` e se `{1, 2, 3, 4}` é superconjunto de `{1, 2}`.  \n",
    "5. Dado `C = {10, 20, 30}` e `D = {40, 50, 60}`, verifique se os conjuntos são disjuntos.  \n",
    "6. Crie um conjunto de vogais a partir da string `\"programacao\"` (sem elementos repetidos).  \n"
   ]
  },
  {
   "cell_type": "markdown",
   "id": "59db6115-efb6-4641-9759-61e3166fdafd",
   "metadata": {},
   "source": [
    "## Exercícios Resolvidos ✅"
   ]
  },
  {
   "cell_type": "code",
   "execution_count": 30,
   "id": "b3c4d603-12bf-4f61-bca7-c979d60202e5",
   "metadata": {},
   "outputs": [
    {
     "name": "stdout",
     "output_type": "stream",
     "text": [
      "True\n"
     ]
    }
   ],
   "source": [
    "# 1. Verificação de pertinência\n",
    "conjunto = set(range(1, 11))\n",
    "print(7 in conjunto)  # True"
   ]
  },
  {
   "cell_type": "code",
   "execution_count": 31,
   "id": "dacc7e58-24ed-4112-891b-6d1267499cf1",
   "metadata": {},
   "outputs": [
    {
     "name": "stdout",
     "output_type": "stream",
     "text": [
      "{1, 2, 3, 4, 5, 6}\n",
      "{3, 4}\n",
      "{1, 2}\n",
      "{1, 2, 5, 6}\n"
     ]
    }
   ],
   "source": [
    "# 2. Operações básicas\n",
    "A = {1, 2, 3, 4}\n",
    "B = {3, 4, 5, 6}\n",
    "print(A | B)   # União → {1, 2, 3, 4, 5, 6}\n",
    "print(A & B)   # Interseção → {3, 4}\n",
    "print(A - B)   # Diferença → {1, 2}\n",
    "print(A ^ B)   # Diferença simétrica → {1, 2, 5, 6}"
   ]
  },
  {
   "cell_type": "code",
   "execution_count": 32,
   "id": "5dda0f69-8b20-40fb-870c-b5d2a4832489",
   "metadata": {},
   "outputs": [
    {
     "name": "stdout",
     "output_type": "stream",
     "text": [
      "{1, 2, 3, 4, 5}\n"
     ]
    }
   ],
   "source": [
    "# 3. Remover duplicatas de lista\n",
    "lista = [1, 2, 2, 3, 4, 4, 5]\n",
    "sem_duplicatas = set(lista)\n",
    "print(sem_duplicatas)  # {1, 2, 3, 4, 5}"
   ]
  },
  {
   "cell_type": "code",
   "execution_count": 33,
   "id": "5dcde378-bf83-4df3-89c0-8ae6faf79e7a",
   "metadata": {},
   "outputs": [
    {
     "name": "stdout",
     "output_type": "stream",
     "text": [
      "True\n",
      "True\n"
     ]
    }
   ],
   "source": [
    "# 4. Subconjunto e superconjunto\n",
    "print({1, 2}.issubset({1, 2, 3, 4}))    # True\n",
    "print({1, 2, 3, 4}.issuperset({1, 2}))  # True"
   ]
  },
  {
   "cell_type": "code",
   "execution_count": 34,
   "id": "fea8c7c0-bb82-4a39-b90d-ac919eb8fc98",
   "metadata": {},
   "outputs": [
    {
     "name": "stdout",
     "output_type": "stream",
     "text": [
      "True\n"
     ]
    }
   ],
   "source": [
    "# 5. Conjuntos disjuntos\n",
    "C = {10, 20, 30}\n",
    "D = {40, 50, 60}\n",
    "print(C.isdisjoint(D))  # True"
   ]
  },
  {
   "cell_type": "code",
   "execution_count": 35,
   "id": "1bdda29a-4662-4525-97f2-74ed31652098",
   "metadata": {},
   "outputs": [
    {
     "name": "stdout",
     "output_type": "stream",
     "text": [
      "{'a', 'o'}\n"
     ]
    }
   ],
   "source": [
    "# 6. Conjunto de vogais a partir de string\n",
    "string = \"programacao\"\n",
    "vogais = {ch for ch in string if ch in \"aeiou\"}\n",
    "print(vogais)  # {'a', 'o'}"
   ]
  },
  {
   "cell_type": "markdown",
   "id": "ecd208f4-8667-4272-8789-797df577cafd",
   "metadata": {},
   "source": [
    "📌 **Resumo final do capítulo:**  \n",
    "- Conjuntos são úteis para trabalhar com elementos únicos e operações matemáticas.  \n",
    "- São muito eficientes para verificar pertinência e eliminar duplicatas.  \n",
    "- Possuem métodos poderosos como `union`, `intersection`, `difference`, `issubset`, `issuperset` e `isdisjoint`.  \n",
    "\n",
    "🎯 Com isso, finalizamos o **Capítulo 12 — Conjuntos (Sets)**.  \n"
   ]
  },
  {
   "cell_type": "code",
   "execution_count": null,
   "id": "8a9fdd6d-0004-411c-b5be-5c5fcb49832b",
   "metadata": {},
   "outputs": [],
   "source": []
  }
 ],
 "metadata": {
  "kernelspec": {
   "display_name": "Python 3 (ipykernel)",
   "language": "python",
   "name": "python3"
  },
  "language_info": {
   "codemirror_mode": {
    "name": "ipython",
    "version": 3
   },
   "file_extension": ".py",
   "mimetype": "text/x-python",
   "name": "python",
   "nbconvert_exporter": "python",
   "pygments_lexer": "ipython3",
   "version": "3.13.7"
  }
 },
 "nbformat": 4,
 "nbformat_minor": 5
}
