{
 "cells": [
  {
   "cell_type": "markdown",
   "id": "058d5940-8e48-4ede-86a3-493069dca048",
   "metadata": {},
   "source": [
    "# Capítulo 13 — Programação Orientada a Objetos\n",
    "\n",
    "> **Adriano Pylro - Engenheiro Mecânico - Dr. Eng,** \n",
    "\n",
    "## 13.1 — Fundamentos da Programação Orientada a Objetos (Object-Oriented Programming Basics) 🧩\n",
    "\n",
    "A **Programação Orientada a Objetos (POO)** é um paradigma que organiza o código em torno de **objetos**, que combinam **dados** (atributos) e **comportamentos** (métodos).  \n",
    "\n",
    "Esse paradigma é muito utilizado em Python (e em muitas outras linguagens como Java, C++ e C#) porque facilita a modelagem de problemas do mundo real.\n",
    "\n",
    "📌 **Conceitos fundamentais da POO:**\n",
    "1. **Classe** → um molde ou projeto que define como os objetos serão criados.  \n",
    "2. **Objeto (instância)** → uma ocorrência específica de uma classe.  \n",
    "3. **Atributos** → variáveis que armazenam o estado de um objeto.  \n",
    "4. **Métodos** → funções que definem o comportamento de um objeto.  \n",
    "5. **Encapsulamento** → ocultar detalhes internos de uma classe, expondo apenas o necessário.  \n",
    "6. **Herança** → criar novas classes baseadas em classes existentes.  \n",
    "7. **Polimorfismo** → diferentes classes podem compartilhar a mesma interface, mas com implementações distintas.  \n",
    "\n",
    "💡 **Por que usar POO?**\n",
    "- Organização do código.  \n",
    "- Reutilização de código.  \n",
    "- Facilidade de manutenção.  \n",
    "- Clareza na modelagem de sistemas complexos.  \n"
   ]
  },
  {
   "cell_type": "code",
   "execution_count": 1,
   "id": "3267606a-d481-442f-bf94-9506978a66e3",
   "metadata": {},
   "outputs": [
    {
     "name": "stdout",
     "output_type": "stream",
     "text": [
      "Ana\n",
      "45\n",
      "Ana diz: Olá!\n"
     ]
    }
   ],
   "source": [
    "# Exemplo simples de Classe e Objeto em Python\n",
    "\n",
    "class Pessoa:\n",
    "    def __init__(self, nome, idade):\n",
    "        self.nome = nome   # atributo\n",
    "        self.idade = idade # atributo\n",
    "    \n",
    "    def falar(self, mensagem):  # método\n",
    "        print(f\"{self.nome} diz: {mensagem}\")\n",
    "\n",
    "# Criando objetos (instâncias da classe Pessoa)\n",
    "p1 = Pessoa(\"Ana\", 30)\n",
    "p2 = Pessoa(\"Carlos\", 45)\n",
    "\n",
    "# Usando atributos e métodos\n",
    "print(p1.nome)     # Ana\n",
    "print(p2.idade)    # 45\n",
    "p1.falar(\"Olá!\")   # Ana diz: Olá!\n"
   ]
  },
  {
   "cell_type": "code",
   "execution_count": 2,
   "id": "de285059-0533-4fc3-aee3-fe9675f2a563",
   "metadata": {},
   "outputs": [],
   "source": [
    "# A palavra-chave `class` é usada para criar uma classe.\n",
    "# Convenções de nomeação (PEP 8): Use CamelCase para nomes de classes.\n",
    "\n",
    "class Carro:\n",
    "    \"\"\"\n",
    "    Uma classe para representar um carro.\n",
    "    \"\"\"\n",
    "\n",
    "    # O método `__init__` (chamado de construtor) é executado ao criar um novo objeto.\n",
    "    # O parâmetro `self` é uma referência à própria instância do objeto que está sendo criada.\n",
    "    def __init__(self, cor: str, marca: str, modelo: str):\n",
    "        \"\"\"\n",
    "        Inicializa um objeto Carro com cor, marca e modelo.\n",
    "\n",
    "        Args:\n",
    "            cor (str): A cor do carro.\n",
    "            marca (str): A marca do carro.\n",
    "            modelo (str): O modelo do carro.\n",
    "        \"\"\"\n",
    "        self.cor = cor\n",
    "        self.marca = marca\n",
    "        self.modelo = modelo\n",
    "        self.velocidade = 0  # Atributo inicial, todo carro começa parado.\n",
    "\n",
    "    # Métodos são funções definidas dentro de uma classe que operam nos objetos.\n",
    "    def acelerar(self, valor: int):\n",
    "        \"\"\"\n",
    "        Aumenta a velocidade do carro.\n",
    "\n",
    "        Args:\n",
    "            valor (int): A quantidade de velocidade a ser adicionada.\n",
    "        \"\"\"\n",
    "        self.velocidade += valor\n",
    "        print(f\"O {self.modelo} {self.cor} acelerou e agora está a {self.velocidade} km/h.\")\n",
    "\n",
    "    def frear(self, valor: int):\n",
    "        \"\"\"\n",
    "        Diminui a velocidade do carro, garantindo que não seja negativa.\n",
    "\n",
    "        Args:\n",
    "            valor (int): A quantidade de velocidade a ser subtraída.\n",
    "        \"\"\"\n",
    "        self.velocidade -= valor\n",
    "        if self.velocidade < 0:\n",
    "            self.velocidade = 0\n",
    "        print(f\"O {self.modelo} {self.cor} freou e agora está a {self.velocidade} km/h.\")"
   ]
  },
  {
   "cell_type": "code",
   "execution_count": 3,
   "id": "d48a5916-0c9f-4a95-81f9-66aaf844af9a",
   "metadata": {},
   "outputs": [],
   "source": [
    "# Criando objetos (instâncias) da classe Carro\n",
    "meu_carro = Carro(\"Azul\", \"Honda\", \"Civic\")\n",
    "seu_carro = Carro(\"Vermelho\", \"Ferrari\", \"458 Italia\")"
   ]
  },
  {
   "cell_type": "code",
   "execution_count": 4,
   "id": "f988603e-8b19-4bd5-91f2-c816326203bc",
   "metadata": {},
   "outputs": [
    {
     "name": "stdout",
     "output_type": "stream",
     "text": [
      "Meu carro é um Honda Civic.\n",
      "Seu carro é um Ferrari 458 Italia.\n",
      "O Civic Azul acelerou e agora está a 50 km/h.\n",
      "O 458 Italia Vermelho acelerou e agora está a 200 km/h.\n",
      "O Civic Azul freou e agora está a 30 km/h.\n",
      "O 458 Italia Vermelho freou e agora está a 100 km/h.\n"
     ]
    }
   ],
   "source": [
    "# Acessando os atributos e métodos dos objetos\n",
    "print(f\"Meu carro é um {meu_carro.marca} {meu_carro.modelo}.\")\n",
    "print(f\"Seu carro é um {seu_carro.marca} {seu_carro.modelo}.\")\n",
    "\n",
    "meu_carro.acelerar(50)\n",
    "seu_carro.acelerar(200)\n",
    "\n",
    "meu_carro.frear(20)\n",
    "seu_carro.frear(100)"
   ]
  },
  {
   "cell_type": "markdown",
   "id": "8a54e904-30a2-4b82-a390-1716f5799267",
   "metadata": {},
   "source": [
    "### Exercício - 01\n",
    "Crie uma classe chamada `ContaBancaria` com os atributos `titular` e `saldo`. Adicione um método `depositar()` que receba um valor e o adicione ao saldo. Em seguida, crie um objeto da classe `ContaBancaria` e use o método `depositar()`. 💰"
   ]
  },
  {
   "cell_type": "code",
   "execution_count": 5,
   "id": "de99c572-c514-4510-94d5-40cf9d4d3338",
   "metadata": {},
   "outputs": [
    {
     "name": "stdout",
     "output_type": "stream",
     "text": [
      "Depósito de R$150.00 realizado na conta de Maria.\n",
      "Novo saldo da conta de Maria: R$650.00\n"
     ]
    }
   ],
   "source": [
    "# Crie sua classe ContaBancaria aqui\n",
    "class ContaBancaria:\n",
    "    \"\"\"Uma classe para representar uma conta bancária.\"\"\"\n",
    "    def __init__(self, titular: str, saldo: float = 0.0):\n",
    "        \"\"\"Inicializa a conta com um titular e um saldo inicial.\"\"\"\n",
    "        self.titular = titular\n",
    "        self.saldo = saldo\n",
    "\n",
    "    def depositar(self, valor: float):\n",
    "        \"\"\"Adiciona um valor ao saldo da conta.\"\"\"\n",
    "        if valor > 0:\n",
    "            self.saldo += valor\n",
    "            print(f\"Depósito de R${valor:.2f} realizado na conta de {self.titular}.\")\n",
    "        else:\n",
    "            print(\"Valor de depósito inválido.\")\n",
    "\n",
    "# Crie um objeto e teste o método depositar() aqui\n",
    "minha_conta = ContaBancaria(\"Maria\", 500.0)\n",
    "minha_conta.depositar(150.0)\n",
    "print(f\"Novo saldo da conta de Maria: R${minha_conta.saldo:.2f}\")"
   ]
  },
  {
   "cell_type": "markdown",
   "id": "fc6f6108-9f2b-4c90-bd78-d9a93bdbf4be",
   "metadata": {},
   "source": [
    "📌 **Resumo da seção 13.1:**  \n",
    "- POO organiza o código em classes e objetos.  \n",
    "- Objetos têm atributos (dados) e métodos (ações).  \n",
    "- Encapsulamento, herança e polimorfismo são os três pilares da POO.\n"
   ]
  },
  {
   "cell_type": "markdown",
   "id": "05d8c0b7-e0c7-4d0e-91ac-29e2c1421eba",
   "metadata": {},
   "source": [
    "---\n",
    "## 13.2 — Classes e Instâncias\n",
    "\n",
    "A distinção entre uma **classe** e uma **instância** é o ponto central da Programação Orientada a Objetos. Pense na classe como a **planta de uma casa**: ela define o número de quartos, a localização das portas e as dimensões gerais. A classe é uma abstração, um molde para criar algo.\n",
    "\n",
    "Uma **instância**, por outro lado, é a **casa construída a partir da planta**. Você pode construir várias casas idênticas usando a mesma planta, mas cada casa é uma entidade separada. Uma casa pode ter paredes pintadas de azul, enquanto a outra pode ter paredes vermelhas. Se você pintar a parede de uma casa, a cor da parede da outra não muda.\n",
    "\n",
    "Da mesma forma, uma classe é um modelo para criar objetos (instâncias). Cada instância é um objeto único com seus próprios valores para os atributos definidos na classe.\n",
    "\n",
    "**Atributos** são as variáveis que armazenam dados dentro de um objeto. Eles representam o estado do objeto (ex: `cor`, `velocidade` de um carro).\n",
    "\n",
    "**Métodos** são as funções definidas na classe que realizam operações nos dados do objeto (ex: `acelerar()`, `frear()`)."
   ]
  },
  {
   "cell_type": "markdown",
   "id": "2b0d62f6-c54a-41df-b797-8f8436e7b323",
   "metadata": {},
   "source": [
    "No Python, **classes** são moldes (ou projetos) que descrevem como os objetos devem ser criados, enquanto **instâncias** são objetos individuais criados a partir dessas classes.\n",
    "\n",
    "🔑 **Diferença entre classe e instância:**\n",
    "- **Classe** → define os atributos e métodos comuns.  \n",
    "- **Instância** → objeto específico baseado na classe, com valores próprios para os atributos.  \n",
    "\n",
    "📌 **Pontos importantes:**\n",
    "1. Cada instância pode ter diferentes valores em seus atributos.  \n",
    "2. O método especial `__init__` é chamado automaticamente ao criar uma instância.  \n",
    "3. Instâncias podem acessar métodos definidos na classe.  \n",
    "\n",
    "💡 Pensa na classe como a \"receita\" de um bolo, e nas instâncias como os bolos preparados seguindo essa receita.  \n"
   ]
  },
  {
   "cell_type": "code",
   "execution_count": 6,
   "id": "c08675eb-6a59-45ce-a59f-41076f8e62c0",
   "metadata": {},
   "outputs": [
    {
     "name": "stdout",
     "output_type": "stream",
     "text": [
      "Velocidade inicial do carro de João: 0 km/h\n",
      "Velocidade inicial do carro de Maria: 0 km/h\n",
      "O Civic Azul acelerou e agora está a 60 km/h.\n",
      "O 458 Italia Vermelho acelerou e agora está a 120 km/h.\n",
      "\n",
      "Velocidade atual do carro de João: 60 km/h\n",
      "Velocidade atual do carro de Maria: 120 km/h\n"
     ]
    }
   ],
   "source": [
    "# A classe 'Carro' atua como o molde.\n",
    "class Carro:\n",
    "    \"\"\"\n",
    "    Uma classe para representar um carro.\n",
    "    \"\"\"\n",
    "    def __init__(self, cor: str, marca: str, modelo: str):\n",
    "        \"\"\"\n",
    "        Inicializa um objeto Carro com cor, marca e modelo.\n",
    "        \"\"\"\n",
    "        self.cor = cor\n",
    "        self.marca = marca\n",
    "        self.modelo = modelo\n",
    "        self.velocidade = 0\n",
    "\n",
    "    def acelerar(self, valor: int):\n",
    "        \"\"\"\n",
    "        Aumenta a velocidade do carro.\n",
    "        \"\"\"\n",
    "        self.velocidade += valor\n",
    "        print(f\"O {self.modelo} {self.cor} acelerou e agora está a {self.velocidade} km/h.\")\n",
    "\n",
    "    def frear(self, valor: int):\n",
    "        \"\"\"\n",
    "        Diminui a velocidade do carro.\n",
    "        \"\"\"\n",
    "        self.velocidade -= valor\n",
    "        if self.velocidade < 0:\n",
    "            self.velocidade = 0\n",
    "        print(f\"O {self.modelo} {self.cor} freou e agora está a {self.velocidade} km/h.\")\n",
    "\n",
    "# Criando duas instâncias (objetos) diferentes da classe Carro.\n",
    "# Cada objeto tem seu próprio estado, ou seja, seus próprios valores para `cor`, `marca`, etc.\n",
    "carro_do_joao = Carro(\"Azul\", \"Honda\", \"Civic\")\n",
    "carro_da_maria = Carro(\"Vermelho\", \"Ferrari\", \"458 Italia\")\n",
    "\n",
    "# Demonstração: Acelerar o carro de João não afeta o de Maria.\n",
    "print(f\"Velocidade inicial do carro de João: {carro_do_joao.velocidade} km/h\")\n",
    "print(f\"Velocidade inicial do carro de Maria: {carro_da_maria.velocidade} km/h\")\n",
    "\n",
    "carro_do_joao.acelerar(60)\n",
    "carro_da_maria.acelerar(120)\n",
    "\n",
    "print(f\"\\nVelocidade atual do carro de João: {carro_do_joao.velocidade} km/h\")\n",
    "print(f\"Velocidade atual do carro de Maria: {carro_da_maria.velocidade} km/h\")"
   ]
  },
  {
   "cell_type": "code",
   "execution_count": 12,
   "id": "3322ff38-d0e4-41c3-903d-ca4800dfaf48",
   "metadata": {},
   "outputs": [
    {
     "name": "stdout",
     "output_type": "stream",
     "text": [
      "Rex\n",
      "Luna\n",
      "Rex está latindo! 🐶\n",
      "Luna está latindo! 🐶\n"
     ]
    }
   ],
   "source": [
    "# Definição da classe\n",
    "class Cachorro:\n",
    "    def __init__(self, nome, idade):\n",
    "        self.nome = nome   # atributo da instância\n",
    "        self.idade = idade # atributo da instância\n",
    "\n",
    "    def latir(self):\n",
    "        print(f\"{self.nome} está latindo! 🐶\")\n",
    "\n",
    "# Criando duas instâncias da classe\n",
    "dog1 = Cachorro(\"Rex\", 5)\n",
    "dog2 = Cachorro(\"Luna\", 3)\n",
    "\n",
    "# Atributos diferentes para cada instância\n",
    "print(dog1.nome)   # Rex\n",
    "print(dog2.nome)   # Luna\n",
    "\n",
    "# Chamando métodos em cada instância\n",
    "dog1.latir()  # Rex está latindo! 🐶\n",
    "dog2.latir()  # Luna está latindo! 🐶\n"
   ]
  },
  {
   "cell_type": "markdown",
   "id": "cd025ea3-20cb-4d35-a2c5-47b405f03d8f",
   "metadata": {},
   "source": [
    "### Exercício - 03\n",
    "Crie uma classe chamada `Cachorro` com os atributos `nome` e `raca`. Adicione um método `latir()` que imprima uma mensagem genérica, por exemplo, \"Au au!\". Em seguida, crie um objeto da classe `Cachorro` e chame o método `latir()`. 🐶"
   ]
  },
  {
   "cell_type": "code",
   "execution_count": 7,
   "id": "0574e80a-09cf-4cd9-8c62-303cbda57a9a",
   "metadata": {},
   "outputs": [
    {
     "name": "stdout",
     "output_type": "stream",
     "text": [
      "Au au!\n"
     ]
    }
   ],
   "source": [
    "# Crie sua classe Cachorro e o objeto aqui\n",
    "class Cachorro:\n",
    "    \"\"\"Uma classe para representar um cachorro.\"\"\"\n",
    "    def __init__(self, nome: str, raca: str):\n",
    "        \"\"\"Inicializa um objeto Cachorro com nome e raça.\"\"\"\n",
    "        self.nome = nome\n",
    "        self.raca = raca\n",
    "\n",
    "    def latir(self):\n",
    "        \"\"\"Imprime o som de um latido.\"\"\"\n",
    "        print(\"Au au!\")\n",
    "\n",
    "# Crie um objeto da classe Cachorro e chame o método latir() aqui\n",
    "meu_cachorro = Cachorro(\"Rex\", \"Pastor Alemão\")\n",
    "meu_cachorro.latir()"
   ]
  },
  {
   "cell_type": "markdown",
   "id": "884b7687-6d27-4845-a198-6c01a3f125c2",
   "metadata": {},
   "source": [
    "### Exercício - 04\n",
    "Modifique a classe `Cachorro` do exercício anterior para que o método `latir()` inclua o nome do cachorro na mensagem. Por exemplo: \"Rex diz: Au au!\"."
   ]
  },
  {
   "cell_type": "code",
   "execution_count": 8,
   "id": "cf9e21f2-7c58-4a34-a497-7526b3e8b845",
   "metadata": {},
   "outputs": [
    {
     "name": "stdout",
     "output_type": "stream",
     "text": [
      "Rex diz: Au au!\n"
     ]
    }
   ],
   "source": [
    "# Modifique a classe Cachorro aqui\n",
    "class Cachorro:\n",
    "    \"\"\"Uma classe para representar um cachorro, com um método de latido personalizado.\"\"\"\n",
    "    def __init__(self, nome: str, raca: str):\n",
    "        \"\"\"Inicializa um objeto Cachorro com nome e raça.\"\"\"\n",
    "        self.nome = nome\n",
    "        self.raca = raca\n",
    "\n",
    "    def latir(self):\n",
    "        \"\"\"Imprime o som de um latido personalizado com o nome do cachorro.\"\"\"\n",
    "        print(f\"{self.nome} diz: Au au!\")\n",
    "\n",
    "# Crie um novo objeto e teste o método modificado\n",
    "meu_cachorro_falante = Cachorro(\"Rex\", \"Golden Retriever\")\n",
    "meu_cachorro_falante.latir()"
   ]
  },
  {
   "cell_type": "markdown",
   "id": "0694abb8-0a8d-4274-acda-54fd02b8168e",
   "metadata": {},
   "source": [
    "📌 **Resumo da Seção 13.2:**\n",
    "- A **classe** é o projeto, a **instância** é o objeto concreto.  \n",
    "- Cada instância possui seus próprios atributos.  \n",
    "- Métodos da classe podem ser usados pelas instâncias.  "
   ]
  },
  {
   "cell_type": "markdown",
   "id": "1f882e1b-786b-4af4-a654-7c3d11f5e01a",
   "metadata": {},
   "source": [
    "## 13.3 — Métodos de Instância\n",
    "\n",
    "Um **método de instância** é uma função que pertence a uma classe e opera em um **objeto específico** (ou seja, uma instância) dessa classe. O que torna um método de instância especial é o seu primeiro parâmetro, `self`. É uma função definida dentro de uma classe que opera sobre os dados de uma **instância específica**. \n",
    "\n",
    "- **O que é `self`?** O `self` é uma referência à própria instância do objeto. Ele permite que o método acesse e manipule os atributos (variáveis) e outros métodos do objeto.\n",
    "\n",
    "- **Por que usá-los?** Eles são a espinha dorsal da POO, pois definem os comportamentos de um objeto. Por exemplo, um método `acelerar()` só faz sentido se aplicado a um objeto `Carro` específico, pois é ele quem vai mudar de velocidade, e não a classe `Carro` em si."
   ]
  },
  {
   "cell_type": "markdown",
   "id": "1294e854-b40a-44af-b780-45eb92d46944",
   "metadata": {},
   "source": [
    "📌 **Características principais:**\n",
    "- Sempre recebem o parâmetro `self` como primeiro argumento (que representa a própria instância).  \n",
    "- Podem acessar e modificar os atributos da instância.  \n",
    "- São chamados a partir de objetos criados a partir da classe.  \n",
    "\n",
    "➡️ **Atributos** armazenam dados; **métodos** definem comportamentos.  \n"
   ]
  },
  {
   "cell_type": "code",
   "execution_count": 9,
   "id": "c8050fa3-ed02-499c-8eac-d2085db44e30",
   "metadata": {},
   "outputs": [
    {
     "name": "stdout",
     "output_type": "stream",
     "text": [
      "Velocidade inicial: 0 km/h\n",
      "O carro Civic acelerou para 50 km/h.\n",
      "O carro Civic freou para 30 km/h.\n",
      "O carro Civic freou para 0 km/h.\n"
     ]
    }
   ],
   "source": [
    "# A classe 'Carro' com seus métodos de instância\n",
    "class Carro:\n",
    "    \"\"\"\n",
    "    Uma classe para representar um carro e seus comportamentos.\n",
    "    \"\"\"\n",
    "\n",
    "    def __init__(self, cor: str, marca: str, modelo: str):\n",
    "        \"\"\"\n",
    "        O construtor, um método de instância especial, que inicializa os atributos do objeto.\n",
    "        O 'self' refere-se à instância que está sendo criada.\n",
    "        \"\"\"\n",
    "        self.cor = cor\n",
    "        self.marca = marca\n",
    "        self.modelo = modelo\n",
    "        self.velocidade = 0\n",
    "\n",
    "    def acelerar(self, valor: int):\n",
    "        \"\"\"\n",
    "        Um método de instância que modifica o atributo 'velocidade' do objeto.\n",
    "        O 'self' permite acessar 'self.velocidade'.\n",
    "        \"\"\"\n",
    "        if valor > 0:\n",
    "            self.velocidade += valor\n",
    "            print(f\"O carro {self.modelo} acelerou para {self.velocidade} km/h.\")\n",
    "        else:\n",
    "            print(\"O valor para acelerar deve ser positivo.\")\n",
    "\n",
    "    def frear(self, valor: int):\n",
    "        \"\"\"\n",
    "        Um método de instância que diminui a velocidade do objeto.\n",
    "        \"\"\"\n",
    "        if valor > 0:\n",
    "            self.velocidade -= valor\n",
    "            if self.velocidade < 0:\n",
    "                self.velocidade = 0\n",
    "            print(f\"O carro {self.modelo} freou para {self.velocidade} km/h.\")\n",
    "        else:\n",
    "            print(\"O valor para frear deve ser positivo.\")\n",
    "\n",
    "# Criando um objeto (instância) da classe Carro\n",
    "meu_carro = Carro(\"Azul\", \"Honda\", \"Civic\")\n",
    "\n",
    "# Chamando os métodos de instância no objeto 'meu_carro'\n",
    "print(f\"Velocidade inicial: {meu_carro.velocidade} km/h\")\n",
    "meu_carro.acelerar(50)\n",
    "meu_carro.frear(20)\n",
    "meu_carro.frear(100) # Demonstra o tratamento de erro interno do método"
   ]
  },
  {
   "cell_type": "code",
   "execution_count": 13,
   "id": "b159dce0-1fcd-44d0-98da-beee8ffc3168",
   "metadata": {},
   "outputs": [
    {
     "name": "stdout",
     "output_type": "stream",
     "text": [
      "Depósito de R$200.00 realizado. Saldo atual: R$1200.00\n",
      "Saque de R$500.00 realizado. Saldo atual: R$700.00\n",
      "Saldo insuficiente!\n"
     ]
    }
   ],
   "source": [
    "class ContaBancaria:\n",
    "    def __init__(self, titular, saldo=0):\n",
    "        self.titular = titular\n",
    "        self.saldo = saldo\n",
    "\n",
    "    # Método de instância para depósito\n",
    "    def depositar(self, valor):\n",
    "        self.saldo += valor\n",
    "        print(f\"Depósito de R${valor:.2f} realizado. Saldo atual: R${self.saldo:.2f}\")\n",
    "\n",
    "    # Método de instância para saque\n",
    "    def sacar(self, valor):\n",
    "        if valor <= self.saldo:\n",
    "            self.saldo -= valor\n",
    "            print(f\"Saque de R${valor:.2f} realizado. Saldo atual: R${self.saldo:.2f}\")\n",
    "        else:\n",
    "            print(\"Saldo insuficiente!\")\n",
    "\n",
    "# Criando uma instância\n",
    "conta1 = ContaBancaria(\"Maria\", 1000)\n",
    "\n",
    "# Usando métodos de instância\n",
    "conta1.depositar(200)   # Maria deposita 200\n",
    "conta1.sacar(500)       # Maria saca 500\n",
    "conta1.sacar(2000)      # tentativa de saque acima do saldo\n"
   ]
  },
  {
   "cell_type": "markdown",
   "id": "97d5d4d3-4012-42cd-9111-357892832798",
   "metadata": {},
   "source": [
    "📊 **Explicação do exemplo:**\n",
    "- `depositar` e `sacar` são métodos de instância.  \n",
    "- `self` garante que cada conta (instância) manipule apenas seu próprio saldo.  \n",
    "- Atributos (`titular`, `saldo`) e métodos (`depositar`, `sacar`) trabalham juntos para modelar o comportamento de uma conta.  "
   ]
  },
  {
   "cell_type": "markdown",
   "id": "a851e4f6-ff75-450d-9ac2-b43697700f08",
   "metadata": {},
   "source": [
    "### Exercício - 01\n",
    "Crie uma classe chamada `Retangulo` com os atributos `largura` e `altura`. Adicione dois métodos de instância:\n",
    "1.  `calcular_area()`: que retorna a área do retângulo.\n",
    "2.  `calcular_perimetro()`: que retorna o perímetro do retângulo.\n",
    "\n",
    "Em seguida, crie um objeto da classe `Retangulo` e chame os métodos para imprimir os resultados."
   ]
  },
  {
   "cell_type": "code",
   "execution_count": 10,
   "id": "f054cb29-de0b-4555-8320-350235918fc1",
   "metadata": {},
   "outputs": [
    {
     "name": "stdout",
     "output_type": "stream",
     "text": [
      "Retângulo com largura 10.5 e altura 5.2.\n",
      "Área: 54.60\n",
      "Perímetro: 31.40\n"
     ]
    }
   ],
   "source": [
    "# Crie a classe Retangulo e o objeto aqui\n",
    "class Retangulo:\n",
    "    \"\"\"\n",
    "    Uma classe para representar um retângulo.\n",
    "    \"\"\"\n",
    "    def __init__(self, largura: float, altura: float):\n",
    "        \"\"\"\n",
    "        Inicializa o retângulo com largura e altura.\n",
    "        \"\"\"\n",
    "        self.largura = largura\n",
    "        self.altura = altura\n",
    "\n",
    "    def calcular_area(self) -> float:\n",
    "        \"\"\"\n",
    "        Calcula e retorna a área do retângulo.\n",
    "        \"\"\"\n",
    "        return self.largura * self.altura\n",
    "\n",
    "    def calcular_perimetro(self) -> float:\n",
    "        \"\"\"\n",
    "        Calcula e retorna o perímetro do retângulo.\n",
    "        \"\"\"\n",
    "        return 2 * (self.largura + self.altura)\n",
    "\n",
    "# Demonstre a funcionalidade com um objeto da classe Retangulo\n",
    "retangulo_exemplo = Retangulo(10.5, 5.2)\n",
    "\n",
    "area = retangulo_exemplo.calcular_area()\n",
    "perimetro = retangulo_exemplo.calcular_perimetro()\n",
    "\n",
    "print(f\"Retângulo com largura {retangulo_exemplo.largura} e altura {retangulo_exemplo.altura}.\")\n",
    "print(f\"Área: {area:.2f}\")\n",
    "print(f\"Perímetro: {perimetro:.2f}\")"
   ]
  },
  {
   "cell_type": "markdown",
   "id": "6fa01761-a422-4987-a9be-b3431abb0065",
   "metadata": {},
   "source": [
    "✅ **Resumo da Seção 13.3:**  \n",
    "- Métodos de instância são definidos com `def` dentro da classe.  \n",
    "- Usam `self` para acessar atributos e outros métodos da mesma instância.  \n",
    "- Cada instância manipula seus próprios dados de forma independente.  "
   ]
  },
  {
   "cell_type": "markdown",
   "id": "5e2ced04-46ff-492a-b9ec-30da746a7e09",
   "metadata": {},
   "source": [
    "## 13.4 — Sobrecarga de Operadores (Operator Overloading) ⚙️\n",
    "\n",
    "Em Python, podemos **sobrecargar operadores** para que objetos de classes personalizadas respondam a operações comuns como `+`, `-`, `*`, `==`, `<` etc.  \n",
    "\n",
    "Isso significa redefinir o comportamento de operadores de acordo com a necessidade da classe, tornando os objetos mais intuitivos de usar.  \n",
    "\n",
    "📌 **Principais pontos:**\n",
    "- A sobrecarga é feita implementando métodos especiais (também chamados *dunder methods*, pois começam e terminam com `__`).\n",
    "- Exemplo: para `a + b`, o Python chama `a.__add__(b)`.\n",
    "- Torna as classes mais \"naturais\" e consistentes, especialmente em aplicações matemáticas, vetores, matrizes etc.\n",
    "\n",
    "🔑 **Exemplos de métodos especiais mais usados para sobrecarga:**\n",
    "- `__add__(self, other)` → sobrecarga do operador `+`  \n",
    "- `__sub__(self, other)` → sobrecarga do operador `-`  \n",
    "- `__mul__(self, other)` → sobrecarga do operador `*`  \n",
    "- `__truediv__(self, other)` → sobrecarga do operador `/`  \n",
    "- `__eq__(self, other)` → sobrecarga do operador `==`  \n",
    "- `__lt__(self, other)` → sobrecarga do operador `<`  \n",
    "- `__le__(self, other)` → sobrecarga do operador `<=`  \n",
    "- `__str__(self)` → sobrecarga da conversão para string (usada por `print`)\n",
    "\n",
    "⚠️ **Atenção:**  \n",
    "Use a sobrecarga apenas quando fizer sentido semântico. Por exemplo, somar dois vetores é natural, mas somar duas pessoas pode ser confuso.\n"
   ]
  },
  {
   "cell_type": "code",
   "execution_count": 11,
   "id": "24435d1c-5733-4971-a3ba-a1bbb318f51e",
   "metadata": {},
   "outputs": [
    {
     "name": "stdout",
     "output_type": "stream",
     "text": [
      "(7, 10)\n",
      "(3, 4)\n",
      "(6, 9)\n",
      "False\n"
     ]
    }
   ],
   "source": [
    "# Exemplo 1: Vetores 2D com sobrecarga de operadores\n",
    "class Vetor2D:\n",
    "    def __init__(self, x, y):\n",
    "        self.x = x\n",
    "        self.y = y\n",
    "    \n",
    "    def __add__(self, other):\n",
    "        return Vetor2D(self.x + other.x, self.y + other.y)\n",
    "    \n",
    "    def __sub__(self, other):\n",
    "        return Vetor2D(self.x - other.x, self.y - other.y)\n",
    "    \n",
    "    def __mul__(self, escalar):\n",
    "        return Vetor2D(self.x * escalar, self.y * escalar)\n",
    "    \n",
    "    def __eq__(self, other):\n",
    "        return self.x == other.x and self.y == other.y\n",
    "    \n",
    "    def __str__(self):\n",
    "        return f\"({self.x}, {self.y})\"\n",
    "\n",
    "# Criando objetos\n",
    "v1 = Vetor2D(2, 3)\n",
    "v2 = Vetor2D(5, 7)\n",
    "\n",
    "# Testando sobrecarga\n",
    "print(v1 + v2)   # (7, 10)\n",
    "print(v2 - v1)   # (3, 4)\n",
    "print(v1 * 3)    # (6, 9)\n",
    "print(v1 == v2)  # False\n"
   ]
  },
  {
   "cell_type": "markdown",
   "id": "3d64ca49-523d-48c2-bc8c-c48d9349627a",
   "metadata": {},
   "source": [
    "📌 **Resumo da seção 13.4:**  \n",
    "- Python permite personalizar operadores com métodos especiais.  \n",
    "- Isso torna os objetos mais expressivos e próximos da notação matemática.  \n",
    "- É uma ferramenta poderosa para criar classes mais legíveis e fáceis de usar.  \n"
   ]
  },
  {
   "cell_type": "markdown",
   "id": "e1012583-5cd3-4e2c-92ef-75c2259ea107",
   "metadata": {},
   "source": [
    "## 13.5 — Usando módulos com classes 📦\n",
    "\n",
    "Em Python, podemos **organizar classes dentro de módulos** para manter o código mais limpo, reutilizável e fácil de manter.  \n",
    "\n",
    "📌 **Por que usar módulos com classes?**\n",
    "- Facilita a organização do projeto em múltiplos arquivos.  \n",
    "- Permite a reutilização de classes em diferentes programas.  \n",
    "- Melhora a legibilidade e a manutenção do código.  \n",
    "\n",
    "➡️ **Um módulo é simplesmente um arquivo `.py` que pode conter funções, variáveis e classes.**  \n"
   ]
  },
  {
   "cell_type": "code",
   "execution_count": 16,
   "id": "2efbe691-f8d4-4959-929c-5253407d3df5",
   "metadata": {},
   "outputs": [],
   "source": [
    "# arquivo: conta.py\n",
    "\n",
    "class ContaBancaria:\n",
    "    def __init__(self, titular, saldo=0):\n",
    "        self.titular = titular\n",
    "        self.saldo = saldo\n",
    "\n",
    "    def depositar(self, valor):\n",
    "        self.saldo += valor\n",
    "        print(f\"Depósito de R${valor:.2f} realizado. Saldo atual: R${self.saldo:.2f}\")\n",
    "\n",
    "    def sacar(self, valor):\n",
    "        if valor <= self.saldo:\n",
    "            self.saldo -= valor\n",
    "            print(f\"Saque de R${valor:.2f} realizado. Saldo atual: R${self.saldo:.2f}\")\n",
    "        else:\n",
    "            print(\"Saldo insuficiente!\")\n"
   ]
  },
  {
   "cell_type": "code",
   "execution_count": 17,
   "id": "37b2c435-2707-494a-9ddf-2d8fbdfbfd0a",
   "metadata": {},
   "outputs": [
    {
     "name": "stdout",
     "output_type": "stream",
     "text": [
      "Depósito de R$150.00 realizado. Saldo atual: R$650.00\n",
      "Saque de R$100.00 realizado. Saldo atual: R$550.00\n"
     ]
    }
   ],
   "source": [
    "# arquivo principal: main.py\n",
    "\n",
    "# Importando a classe ContaBancaria do módulo conta\n",
    "from conta import ContaBancaria\n",
    "\n",
    "# Criando uma instância da classe importada\n",
    "conta1 = ContaBancaria(\"Carlos\", 500)\n",
    "\n",
    "conta1.depositar(150)\n",
    "conta1.sacar(100)"
   ]
  },
  {
   "cell_type": "markdown",
   "id": "557a8ba7-3ca5-40ff-8376-5ef64a50b0e2",
   "metadata": {},
   "source": [
    "📊 **Explicação do exemplo:**\n",
    "- `conta.py` é o módulo que contém a classe `ContaBancaria`.  \n",
    "- `main.py` importa essa classe usando `from conta import ContaBancaria`.  \n",
    "- O código fica **modularizado**, separando a definição da classe da lógica de uso.  \n",
    "\n",
    "⚠️ Observação:  \n",
    "- O arquivo `conta.py` e o arquivo `main.py` devem estar no mesmo diretório, ou o módulo precisa estar no `PYTHONPATH`.  \n",
    "- Também é possível importar todo o módulo com `import conta` e acessar a classe como `conta.ContaBancaria`.  \n",
    "\n",
    "✅ **Resumo da Seção 13.5:**  \n",
    "- Classes podem (e devem) ser organizadas em módulos para modularidade e clareza.  \n",
    "- Usamos `import` para trazer a classe para outros arquivos.  \n",
    "- Projetos maiores normalmente organizam várias classes em múltiplos módulos e pacotes.   \n"
   ]
  },
  {
   "cell_type": "markdown",
   "id": "c936fa4c-05c5-448a-8ea5-df38164bde6c",
   "metadata": {},
   "source": [
    "### Exercícios Propostos\n",
    "\n",
    "1. **Criando seu próprio módulo:**  \n",
    "   Crie um módulo chamado `carro.py` que contenha uma classe `Carro` com os atributos `marca`, `modelo` e `ano`. Adicione um método `exibir_detalhes()` que imprima as informações do carro.\n",
    "\n",
    "2. **Importando classes:**  \n",
    "   No arquivo principal `main.py`, importe a classe `Carro` do módulo `carro` e crie duas instâncias com diferentes valores. Exiba os detalhes de cada carro usando o método `exibir_detalhes()`.\n",
    "\n",
    "3. **Reutilizando módulos:**  \n",
    "   Crie um módulo chamado `geometria.py` que contenha uma classe `Retangulo` com atributos `largura` e `altura`. Adicione métodos para calcular `área` e `perímetro`.  \n",
    "   Depois, em outro arquivo, importe a classe e crie um objeto `Retangulo` de largura 5 e altura 3. Exiba área e perímetro.\n",
    "\n",
    "4. **Importando o módulo inteiro:**  \n",
    "   Modifique o exercício anterior para importar o módulo inteiro (`import geometria`) e instanciar a classe `Retangulo` usando a sintaxe `geometria.Retangulo(...)`.\n",
    "\n",
    "5. **Desafio:**  \n",
    "   Crie um pacote chamado `empresa` que contenha dois módulos:\n",
    "   - `funcionario.py` com uma classe `Funcionario` (atributos: `nome`, `salario`).  \n",
    "   - `departamento.py` com uma classe `Departamento` (atributos: `nome`, `funcionarios=[]`, métodos para adicionar e listar funcionários).  \n",
    "   No arquivo principal, importe as classes, crie alguns funcionários e adicione-os a um departamento. Liste os funcionários do departamento.\n"
   ]
  },
  {
   "cell_type": "markdown",
   "id": "e7a8a93c-dd05-4cae-a8a6-256d67374a66",
   "metadata": {},
   "source": [
    "## Exercícios Resolvidos ✅\n",
    "\n",
    "### 1. Criando seu próprio módulo\n",
    "**carro.py**\n",
    "```python\n",
    "class Carro:\n",
    "    def __init__(self, marca, modelo, ano):\n",
    "        self.marca = marca\n",
    "        self.modelo = modelo\n",
    "        self.ano = ano\n",
    "\n",
    "    def exibir_detalhes(self):\n",
    "        print(f\"{self.ano} {self.marca} {self.modelo}\")\n"
   ]
  },
  {
   "cell_type": "markdown",
   "id": "ad48b92b-1da9-4895-b87b-52626f41205f",
   "metadata": {},
   "source": [
    "### 2. Importando classes\n",
    "**main.py**\n",
    "```python\n",
    "from carro import Carro\n",
    "\n",
    "carro1 = Carro(\"Toyota\", \"Corolla\", 2020)\n",
    "carro2 = Carro(\"Honda\", \"Civic\", 2022)\n",
    "\n",
    "carro1.exibir_detalhes()\n",
    "carro2.exibir_detalhes()"
   ]
  },
  {
   "cell_type": "markdown",
   "id": "8892e7bc-d63a-4c89-9bf8-d47952338e3c",
   "metadata": {},
   "source": [
    "### 3. Reutilizando módulos\n",
    "\n",
    "**geometria.py**\n",
    "```python\n",
    "class Retangulo:\n",
    "    def __init__(self, largura, altura):\n",
    "        self.largura = largura\n",
    "        self.altura = altura\n",
    "\n",
    "    def area(self):\n",
    "        return self.largura * self.altura\n",
    "\n",
    "    def perimetro(self):\n",
    "        return 2 * (self.largura + self.altura)\n",
    "```\n",
    "**main.py**\n",
    "```python\n",
    "\n",
    "from geometria import Retangulo\n",
    "\n",
    "r = Retangulo(5, 3)\n",
    "print(\"Área:\", r.area())\n",
    "print(\"Perímetro:\", r.perimetro())"
   ]
  },
  {
   "cell_type": "markdown",
   "id": "25866dfc-d77d-48bc-806d-f4288b4984d1",
   "metadata": {},
   "source": [
    "### 4. Importando o módulo inteiro\n",
    "\n",
    "**main.py**\n",
    "```python\n",
    "import geometria\n",
    "\n",
    "r = geometria.Retangulo(5, 3)\n",
    "print(\"Área:\", r.area())\n",
    "print(\"Perímetro:\", r.perimetro())"
   ]
  },
  {
   "cell_type": "markdown",
   "id": "776e2f9f-7134-44fa-b0d6-5b0cdfdb9cbe",
   "metadata": {},
   "source": [
    "### 5. Desafio (pacote empresa)\n",
    "\n",
    "**empresa/funcionario.py**\n",
    "```python\n",
    "class Funcionario:\n",
    "    def __init__(self, nome, salario):\n",
    "        self.nome = nome\n",
    "        self.salario = salario\n",
    "```\n",
    "\n",
    "**empresa/departamento.py**\n",
    "```python\n",
    "class Departamento:\n",
    "    def __init__(self, nome):\n",
    "        self.nome = nome\n",
    "        self.funcionarios = []\n",
    "\n",
    "    def adicionar_funcionario(self, funcionario):\n",
    "        self.funcionarios.append(funcionario)\n",
    "\n",
    "    def listar_funcionarios(self):\n",
    "        for f in self.funcionarios:\n",
    "            print(f\"- {f.nome} | Salário: R${f.salario:.2f}\")\n",
    "```\n",
    "\n",
    "**main.py**\n",
    "```python\n",
    "from empresa.funcionario import Funcionario\n",
    "from empresa.departamento import Departamento\n",
    "\n",
    "f1 = Funcionario(\"Maria\", 5000)\n",
    "f2 = Funcionario(\"João\", 4500)\n",
    "\n",
    "dep = Departamento(\"Engenharia\")\n",
    "dep.adicionar_funcionario(f1)\n",
    "dep.adicionar_funcionario(f2)\n",
    "\n",
    "print(f\"Departamento: {dep.nome}\")\n",
    "dep.listar_funcionarios()"
   ]
  },
  {
   "cell_type": "code",
   "execution_count": null,
   "id": "e29398b0-81d1-4731-b9ee-6cdab4e1061f",
   "metadata": {},
   "outputs": [],
   "source": []
  },
  {
   "cell_type": "code",
   "execution_count": null,
   "id": "c131e1e6-983d-499d-ae8d-c3a5c6dfed26",
   "metadata": {},
   "outputs": [],
   "source": []
  },
  {
   "cell_type": "code",
   "execution_count": null,
   "id": "749757a6-8834-4658-9005-f03854edf11f",
   "metadata": {},
   "outputs": [],
   "source": []
  }
 ],
 "metadata": {
  "kernelspec": {
   "display_name": "Python 3 (ipykernel)",
   "language": "python",
   "name": "python3"
  },
  "language_info": {
   "codemirror_mode": {
    "name": "ipython",
    "version": 3
   },
   "file_extension": ".py",
   "mimetype": "text/x-python",
   "name": "python",
   "nbconvert_exporter": "python",
   "pygments_lexer": "ipython3",
   "version": "3.13.7"
  }
 },
 "nbformat": 4,
 "nbformat_minor": 5
}
