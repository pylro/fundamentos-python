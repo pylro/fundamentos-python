{
 "cells": [
  {
   "cell_type": "markdown",
   "id": "98323c84-b8b7-4d5a-8eb6-28a69dfb010c",
   "metadata": {},
   "source": [
    "# 📘 Capítulo 6 – Funções\n",
    "> **Adriano Pylro - Engenheiro Mecânico - Dr. Eng,** \n",
    "\n",
    "## 🔧 Seção 6.1 – Definindo Funções\n",
    "\n",
    "Funções são blocos reutilizáveis de código que executam tarefas específicas. Permitem **modularizar programas**, facilitando a leitura, manutenção e reutilização.\n",
    "\n",
    "---\n",
    "\n",
    "### 📌 Sintaxe básica\n",
    "\n",
    "```python\n",
    "def nome_da_funcao(parâmetros):\n",
    "    \"\"\"Docstring opcional explicando o propósito da função.\"\"\"\n",
    "    corpo_da_funcao\n",
    "```\n",
    "- `def`: palavra-chave que inicia a definição da função.\n",
    "\n",
    "- `nome_da_funcao`: nome escolhido pelo programador (seguir convenções de nomes).\n",
    "\n",
    "- `parâmetros`: valores que a função espera receber (podem ser opcionais).\n",
    "\n",
    "- `corpo_da_funcao`: bloco indentado com as instruções que serão executadas.\n",
    "\n",
    "- `return`: (opcional) indica o valor que a função irá retornar."
   ]
  },
  {
   "cell_type": "markdown",
   "id": "4f5b5874-fa0c-43fd-ab85-d12949ac9d49",
   "metadata": {},
   "source": [
    "### 💡 Exemplo simples"
   ]
  },
  {
   "cell_type": "code",
   "execution_count": 1,
   "id": "9d980e16-6c59-428e-ba77-a22b985e9f65",
   "metadata": {},
   "outputs": [],
   "source": [
    "def saudacao():\n",
    "    print(\"Olá! Seja bem-vindo(a) ao Python.\")\n"
   ]
  },
  {
   "cell_type": "markdown",
   "id": "7ff0d25c-3222-4078-bd54-4306a889cf95",
   "metadata": {},
   "source": [
    "### 📥 Chamando a função\n",
    "Para executar a função, usamos o nome seguido de parênteses:"
   ]
  },
  {
   "cell_type": "code",
   "execution_count": 2,
   "id": "49831c7d-2977-4970-b18f-7a2ae591b61e",
   "metadata": {},
   "outputs": [
    {
     "name": "stdout",
     "output_type": "stream",
     "text": [
      "Olá! Seja bem-vindo(a) ao Python.\n"
     ]
    }
   ],
   "source": [
    "saudacao()"
   ]
  },
  {
   "cell_type": "markdown",
   "id": "100a2730-d331-4116-8f0f-9c4fceda279b",
   "metadata": {},
   "source": [
    "### 📝 Funções com parâmetros"
   ]
  },
  {
   "cell_type": "code",
   "execution_count": 3,
   "id": "fe3825ac-d3b9-4eea-9fca-b4ba3d017eaf",
   "metadata": {},
   "outputs": [
    {
     "name": "stdout",
     "output_type": "stream",
     "text": [
      "Olá, Adriano!\n"
     ]
    }
   ],
   "source": [
    "def boas_vindas(nome):\n",
    "    print(\"Olá,\", nome + \"!\")\n",
    "\n",
    "boas_vindas(\"Adriano\")\n"
   ]
  },
  {
   "cell_type": "markdown",
   "id": "047fcc99-cf31-497d-b4af-895de2ac43e1",
   "metadata": {},
   "source": [
    "### 🔁 Funções com retorno (`return`)"
   ]
  },
  {
   "cell_type": "code",
   "execution_count": 4,
   "id": "d8583146-c6c6-4ea6-bc7f-cb96c2980217",
   "metadata": {},
   "outputs": [
    {
     "name": "stdout",
     "output_type": "stream",
     "text": [
      "Resultado: 25\n"
     ]
    }
   ],
   "source": [
    "def quadrado(x):\n",
    "    return x * x\n",
    "\n",
    "resultado = quadrado(5)\n",
    "print(\"Resultado:\", resultado)\n"
   ]
  },
  {
   "cell_type": "markdown",
   "id": "8d03bda7-0dc8-44f6-b264-34264ac0e11d",
   "metadata": {},
   "source": [
    "📌 O uso de `return` é essencial quando você precisa reutilizar o valor produzido pela função."
   ]
  },
  {
   "cell_type": "markdown",
   "id": "004b3c8e-4e8f-4c57-8925-1962808048e9",
   "metadata": {},
   "source": [
    "### ⚠️ Importante\n",
    "- Funções não executam automaticamente — é necessário chamá-las.\n",
    "\n",
    "- O código dentro da função não será executado até que a função seja chamada.\n",
    "\n",
    "- O `return` encerra a função e devolve um valor."
   ]
  },
  {
   "cell_type": "markdown",
   "id": "99964d46-f4b5-49f3-9ffa-5e306c5063b5",
   "metadata": {},
   "source": [
    "### 📚 Docstrings\n",
    "É recomendável documentar funções com uma docstring entre aspas triplas, como:"
   ]
  },
  {
   "cell_type": "code",
   "execution_count": 5,
   "id": "bf90b789-d0c1-4fab-83f9-9b69dce044c2",
   "metadata": {},
   "outputs": [],
   "source": [
    "def soma(a, b):\n",
    "    \"\"\"Retorna a soma de dois números.\"\"\"\n",
    "    return a + b\n"
   ]
  },
  {
   "cell_type": "markdown",
   "id": "4af966d8-fca6-4c14-bd79-602c0811e382",
   "metadata": {},
   "source": [
    "### ✅ Benefícios do uso de funções\n",
    "- **Organização**: separa lógica em blocos claros.\n",
    "\n",
    "- **Reutilização**: evita repetição de código.\n",
    "\n",
    "- **Legibilidade**: facilita manutenção e testes.\n",
    "\n",
    "- **Modularização**: cada função cuida de uma parte específica do problema."
   ]
  },
  {
   "cell_type": "markdown",
   "id": "814ef178-ef1c-4880-baf4-59aefe3778bd",
   "metadata": {},
   "source": [
    "### ✅ Exemplos práticos"
   ]
  },
  {
   "cell_type": "code",
   "execution_count": 6,
   "id": "93475ad8-283c-43f0-9336-0e0302498af4",
   "metadata": {},
   "outputs": [
    {
     "name": "stdout",
     "output_type": "stream",
     "text": [
      "Bem-vindo ao curso de Python!\n"
     ]
    }
   ],
   "source": [
    "# Função sem parâmetros\n",
    "def saudacao():\n",
    "    print(\"Bem-vindo ao curso de Python!\")\n",
    "\n",
    "saudacao()"
   ]
  },
  {
   "cell_type": "code",
   "execution_count": 7,
   "id": "f398f17a-a44e-4d6e-89cb-3b0087c6e801",
   "metadata": {},
   "outputs": [
    {
     "name": "stdout",
     "output_type": "stream",
     "text": [
      "Olá, Ana!\n"
     ]
    }
   ],
   "source": [
    "# Função com parâmetro\n",
    "def saudacao_personalizada(nome):\n",
    "    print(f\"Olá, {nome}!\")\n",
    "\n",
    "saudacao_personalizada(\"Ana\")"
   ]
  },
  {
   "cell_type": "code",
   "execution_count": 8,
   "id": "346be204-551f-4b3b-9e79-db11f0951eda",
   "metadata": {},
   "outputs": [
    {
     "name": "stdout",
     "output_type": "stream",
     "text": [
      "O quadrado de 7 é: 49\n"
     ]
    }
   ],
   "source": [
    "# Função com retorno\n",
    "def quadrado(numero):\n",
    "    return numero ** 2\n",
    "\n",
    "resultado = quadrado(7)\n",
    "print(\"O quadrado de 7 é:\", resultado)"
   ]
  },
  {
   "cell_type": "code",
   "execution_count": 9,
   "id": "c0ba45ba-8f83-4c75-9dcb-c552b4744fe7",
   "metadata": {},
   "outputs": [
    {
     "name": "stdout",
     "output_type": "stream",
     "text": [
      "A soma é: 7\n"
     ]
    }
   ],
   "source": [
    "# Função com docstring\n",
    "def soma(a, b):\n",
    "    \"\"\"Retorna a soma de dois números.\"\"\"\n",
    "    return a + b\n",
    "\n",
    "print(\"A soma é:\", soma(3, 4))"
   ]
  },
  {
   "cell_type": "markdown",
   "id": "3324b9f9-9745-4087-a077-36ec58ef3b4e",
   "metadata": {},
   "source": [
    "## 🔁 Seção 6.2 – Controle de Fluxo em Funções\n",
    "\n",
    "Funções Python podem conter **instruções condicionais** (`if`, `else`, `elif`) e **laços de repetição** (`for`, `while`), permitindo controle total do fluxo de execução.\n",
    "\n",
    "---\n",
    "\n",
    "### 🧭 Exemplo com condição dentro da função\n",
    "\n",
    "```python\n",
    "def verifica_par_ou_impar(n):\n",
    "    if n % 2 == 0:\n",
    "        print(n, \"é par.\")\n",
    "    else:\n",
    "        print(n, \"é ímpar.\")\n"
   ]
  },
  {
   "cell_type": "markdown",
   "id": "61156cb6-2136-4db6-8baa-61274655a531",
   "metadata": {},
   "source": [
    "### 🔄 Exemplo com loop dentro da função"
   ]
  },
  {
   "cell_type": "code",
   "execution_count": 10,
   "id": "99527d6c-cdb5-4d5f-9934-0a85ad1c8582",
   "metadata": {},
   "outputs": [],
   "source": [
    "def contagem_regressiva(n):\n",
    "    while n > 0:\n",
    "        print(n)\n",
    "        n -= 1\n",
    "    print(\"Fim!\")\n"
   ]
  },
  {
   "cell_type": "code",
   "execution_count": 11,
   "id": "58f3152c-dbaf-434c-8979-335864762125",
   "metadata": {},
   "outputs": [
    {
     "name": "stdout",
     "output_type": "stream",
     "text": [
      "5\n",
      "4\n",
      "3\n",
      "2\n",
      "1\n",
      "Fim!\n"
     ]
    }
   ],
   "source": [
    "contagem_regressiva(5)"
   ]
  },
  {
   "cell_type": "markdown",
   "id": "c18aa06e-aecf-4755-bf81-7f931a71834d",
   "metadata": {},
   "source": [
    "### ⛔ Encerrando a função com `return`\n",
    "- O comando `return` interrompe imediatamente a execução da função.\n",
    "\n",
    "- Pode ser usado mesmo sem valor de retorno (simplesmente `return`)."
   ]
  },
  {
   "cell_type": "code",
   "execution_count": 12,
   "id": "34520642-3d81-4b0a-a509-f856378c978b",
   "metadata": {},
   "outputs": [],
   "source": [
    "def exemplo():\n",
    "    print(\"Antes do return\")\n",
    "    return\n",
    "    print(\"Isso nunca será executado.\")\n"
   ]
  },
  {
   "cell_type": "code",
   "execution_count": 13,
   "id": "019b32a7-e8a0-4bdb-a51a-11ff207f7103",
   "metadata": {},
   "outputs": [
    {
     "name": "stdout",
     "output_type": "stream",
     "text": [
      "Antes do return\n"
     ]
    }
   ],
   "source": [
    "exemplo()"
   ]
  },
  {
   "cell_type": "markdown",
   "id": "25819e74-f522-439b-ac11-4987dc90573e",
   "metadata": {},
   "source": [
    "### 🧪 Exemplo com múltiplos `return`"
   ]
  },
  {
   "cell_type": "code",
   "execution_count": 14,
   "id": "5bad6d22-0ae3-49bb-9506-42179059b620",
   "metadata": {},
   "outputs": [],
   "source": [
    "def classifica_nota(nota):\n",
    "    if nota >= 90:\n",
    "        return \"Excelente\"\n",
    "    elif nota >= 70:\n",
    "        return \"Bom\"\n",
    "    else:\n",
    "        return \"Insatisfatório\"\n"
   ]
  },
  {
   "cell_type": "code",
   "execution_count": 15,
   "id": "5ea253d7-936a-4e21-8cd8-3e851fe41ff6",
   "metadata": {},
   "outputs": [
    {
     "data": {
      "text/plain": [
       "'Bom'"
      ]
     },
     "execution_count": 15,
     "metadata": {},
     "output_type": "execute_result"
    }
   ],
   "source": [
    "classifica_nota(70)"
   ]
  },
  {
   "cell_type": "markdown",
   "id": "e4a31f0c-6f8c-407a-abee-69a6d06e746b",
   "metadata": {},
   "source": [
    "### 📌 Observações\n",
    "- Fluxo de controle torna as funções mais poderosas e flexíveis.\n",
    "\n",
    "- Você pode aninhar estruturas (`if` dentro de `for`, etc.).\n",
    "\n",
    "- `return` pode ser usado em qualquer lugar do corpo da função."
   ]
  },
  {
   "cell_type": "markdown",
   "id": "2f1c7056-7754-4d95-bc43-17c7b430453d",
   "metadata": {},
   "source": [
    "### ✅ Boas práticas\n",
    "- Use `return` para deixar o fluxo de execução explícito.\n",
    "\n",
    "- Evite múltiplas saídas (`return`) muito espalhadas se comprometer a legibilidade.\n",
    "\n",
    "- Prefira nomes de funções que indiquem o que ela faz ou retorna."
   ]
  },
  {
   "cell_type": "markdown",
   "id": "9c69d7d7-cb4c-4460-8071-d8364341b7da",
   "metadata": {},
   "source": [
    "### ✅ Exemplos práticos"
   ]
  },
  {
   "cell_type": "code",
   "execution_count": 16,
   "id": "9ed80ae7-71d8-4b9e-b8a3-a4fae573691d",
   "metadata": {},
   "outputs": [
    {
     "name": "stdout",
     "output_type": "stream",
     "text": [
      "Maior de idade\n"
     ]
    }
   ],
   "source": [
    "# Condicional simples\n",
    "def verifica_maioridade(idade):\n",
    "    if idade >= 18:\n",
    "        return \"Maior de idade\"\n",
    "    else:\n",
    "        return \"Menor de idade\"\n",
    "\n",
    "print(verifica_maioridade(20))\n"
   ]
  },
  {
   "cell_type": "code",
   "execution_count": 17,
   "id": "74f87f30-2284-426b-bef6-a94ec6be1471",
   "metadata": {},
   "outputs": [
    {
     "name": "stdout",
     "output_type": "stream",
     "text": [
      "Item: maçã\n",
      "Item: banana\n",
      "Item: uva\n"
     ]
    }
   ],
   "source": [
    "# Uso de laço de repetição\n",
    "def imprimir_lista(lista):\n",
    "    for item in lista:\n",
    "        print(\"Item:\", item)\n",
    "\n",
    "imprimir_lista([\"maçã\", \"banana\", \"uva\"])\n"
   ]
  },
  {
   "cell_type": "code",
   "execution_count": 18,
   "id": "a5b3272b-caed-4974-a868-92e3306e84aa",
   "metadata": {},
   "outputs": [
    {
     "name": "stdout",
     "output_type": "stream",
     "text": [
      "Negativo\n",
      "Zero\n"
     ]
    }
   ],
   "source": [
    "# Múltiplos returns\n",
    "def classifica_numero(n):\n",
    "    if n > 0:\n",
    "        return \"Positivo\"\n",
    "    elif n < 0:\n",
    "        return \"Negativo\"\n",
    "    return \"Zero\"\n",
    "\n",
    "print(classifica_numero(-5))\n",
    "print(classifica_numero(0))"
   ]
  },
  {
   "cell_type": "markdown",
   "id": "24c52239-1798-428e-afb0-7daa0b54a8a1",
   "metadata": {},
   "source": [
    "## 🧾 Seção 6.3 – Escopo de Variáveis (Variable Scope)\n",
    "\n",
    "O **escopo** de uma variável determina onde ela pode ser acessada dentro do código. Em Python, variáveis podem ter escopo **local** (dentro de uma função) ou **global** (fora de qualquer função).\n",
    "\n",
    "---\n",
    "\n",
    "### 🔒 Escopo Local\n",
    "\n",
    "- Variáveis declaradas dentro de uma função só existem **dentro** daquela função.\n",
    "- Não são acessíveis fora dela.\n",
    "\n",
    "```python\n",
    "def saudacao():\n",
    "    nome = \"Maria\"  # escopo local\n",
    "    print(\"Olá,\", nome)\n"
   ]
  },
  {
   "cell_type": "markdown",
   "id": "35042e5e-50e7-4be5-8bf6-6d92875397f6",
   "metadata": {},
   "source": [
    "### 🌍 Escopo Global\n",
    "- Variáveis definidas fora de qualquer função têm escopo global.\n",
    "\n",
    "- Podem ser acessadas dentro de funções, mas não modificadas diretamente (a menos que se use `global`)."
   ]
  },
  {
   "cell_type": "code",
   "execution_count": 23,
   "id": "aefc8de1-8162-4216-b374-c2fee1bab6af",
   "metadata": {},
   "outputs": [],
   "source": [
    "mensagem = \"Bem-vindo!\"  # escopo global\n",
    "\n",
    "def exibir_mensagem():\n",
    "    print(mensagem)\n"
   ]
  },
  {
   "cell_type": "code",
   "execution_count": 24,
   "id": "c2337789-389f-44f6-94e7-b2f21d96c20a",
   "metadata": {},
   "outputs": [
    {
     "name": "stdout",
     "output_type": "stream",
     "text": [
      "Bem-vindo!\n"
     ]
    }
   ],
   "source": [
    "exibir_mensagem()"
   ]
  },
  {
   "cell_type": "markdown",
   "id": "53d9586b-aed1-4c16-ac63-e0d60fe2f8a2",
   "metadata": {},
   "source": [
    "### ⚠️ Erro comum: tentar acessar variável local fora da função"
   ]
  },
  {
   "cell_type": "markdown",
   "id": "67e6a873-d7b4-47cd-8ed4-ae3a2e5bdabf",
   "metadata": {},
   "source": [
    "```python\n",
    "def exemplo():\n",
    "    numero = 10\n",
    "\n",
    "print(numero)  # Erro! 'numero' não existe fora da função\n",
    "```"
   ]
  },
  {
   "cell_type": "markdown",
   "id": "bb70b018-d206-41b6-90c7-eaea43d0577a",
   "metadata": {},
   "source": [
    "### 🔁 Acesso e modificação de variáveis globais\n",
    "Para modificar uma variável global dentro de uma função, use a palavra-chave `global`."
   ]
  },
  {
   "cell_type": "code",
   "execution_count": 30,
   "id": "3bdbe093-da55-4e02-bd48-ecf6a2afa900",
   "metadata": {},
   "outputs": [],
   "source": [
    "contador = 0\n",
    "\n",
    "def incrementar():\n",
    "    global contador\n",
    "    contador += 1\n",
    "    print(contador)\n"
   ]
  },
  {
   "cell_type": "code",
   "execution_count": 31,
   "id": "fdcea571-8f01-41b7-861c-67c393e75293",
   "metadata": {},
   "outputs": [
    {
     "name": "stdout",
     "output_type": "stream",
     "text": [
      "1\n"
     ]
    }
   ],
   "source": [
    "incrementar()"
   ]
  },
  {
   "cell_type": "markdown",
   "id": "2f61cb13-1f88-49bc-844f-dcf3fbac45c0",
   "metadata": {},
   "source": [
    "### 🔁 Escopos aninhados e LEGB\n",
    "Python segue a regra LEGB para resolver nomes:\n",
    "\n",
    "- Local: dentro da função atual\n",
    "\n",
    "- Enclosing: funções definidas dentro de outras funções\n",
    "\n",
    "- Global: fora de qualquer função\n",
    "\n",
    "- Built-in: palavras-chave e funções internas do Python"
   ]
  },
  {
   "cell_type": "markdown",
   "id": "5d0d76f6-9573-4340-9a88-bd541e029e9d",
   "metadata": {},
   "source": [
    "### 📌 Boas práticas\n",
    "- Evite modificar variáveis globais dentro de funções.\n",
    "\n",
    "- Prefira passar variáveis como parâmetros e retornar valores.\n",
    "\n",
    "- Mantenha escopos bem definidos para facilitar a leitura e manutenção."
   ]
  },
  {
   "cell_type": "markdown",
   "id": "78f3b4e0-9c28-47ee-86e7-b686de6e9e4d",
   "metadata": {},
   "source": [
    "### ✅ Exemplos práticos"
   ]
  },
  {
   "cell_type": "code",
   "execution_count": 32,
   "id": "d4e33f2e-73e8-491a-a0a4-dd6c990183cc",
   "metadata": {},
   "outputs": [
    {
     "name": "stdout",
     "output_type": "stream",
     "text": [
      "Nome dentro da função: Ana\n"
     ]
    }
   ],
   "source": [
    "# Exemplo de escopo local\n",
    "def mostrar_nome():\n",
    "    nome = \"Ana\"\n",
    "    print(\"Nome dentro da função:\", nome)\n",
    "\n",
    "mostrar_nome()"
   ]
  },
  {
   "cell_type": "code",
   "execution_count": 33,
   "id": "d9d0d96e-7022-401e-8bb4-67e9ce2373cb",
   "metadata": {},
   "outputs": [
    {
     "name": "stdout",
     "output_type": "stream",
     "text": [
      "Mensagem global: Olá, mundo!\n"
     ]
    }
   ],
   "source": [
    "# Escopo global acessado pela função\n",
    "mensagem = \"Olá, mundo!\"\n",
    "\n",
    "def exibir_mensagem():\n",
    "    print(\"Mensagem global:\", mensagem)\n",
    "\n",
    "exibir_mensagem()\n"
   ]
  },
  {
   "cell_type": "code",
   "execution_count": 34,
   "id": "d9a88623-b3fa-4b9f-a6f4-49d3a1ab3474",
   "metadata": {},
   "outputs": [
    {
     "name": "stdout",
     "output_type": "stream",
     "text": [
      "Contador: 2\n"
     ]
    }
   ],
   "source": [
    "# Modificando variável global (não recomendado)\n",
    "contador = 0\n",
    "\n",
    "def incrementar():\n",
    "    global contador\n",
    "    contador += 1\n",
    "\n",
    "incrementar()\n",
    "incrementar()\n",
    "print(\"Contador:\", contador)\n"
   ]
  },
  {
   "cell_type": "code",
   "execution_count": 35,
   "id": "e4f520b7-11ee-4845-8435-8ae2b30aad2d",
   "metadata": {},
   "outputs": [
    {
     "name": "stdout",
     "output_type": "stream",
     "text": [
      "Valor interno: interno\n",
      "Valor externo: externo\n"
     ]
    }
   ],
   "source": [
    "# Escopo aninhado (LEGB)\n",
    "def externa():\n",
    "    x = \"externo\"\n",
    "    \n",
    "    def interna():\n",
    "        x = \"interno\"\n",
    "        print(\"Valor interno:\", x)\n",
    "    \n",
    "    interna()\n",
    "    print(\"Valor externo:\", x)\n",
    "\n",
    "externa()"
   ]
  },
  {
   "cell_type": "markdown",
   "id": "5cabd134-69dd-4de6-bb36-a1bbc0b66972",
   "metadata": {},
   "source": [
    "## 🧾 Seção 6.4 – Parâmetros (Parameters)\n",
    "\n",
    "Funções em Python podem receber valores por meio de **parâmetros**, definidos na declaração da função. Quando você **chama** a função, passa **argumentos** para esses parâmetros.\n",
    "\n",
    "---\n",
    "\n",
    "### 🧠 Conceitos principais\n",
    "\n",
    "- **Parâmetros** são os nomes usados na definição da função.\n",
    "- **Argumentos** são os valores passados na chamada da função.\n",
    "\n",
    "```python\n",
    "def saudacao(nome):  # nome é o parâmetro\n",
    "    print(\"Olá,\", nome)\n",
    "\n",
    "saudacao(\"João\")  # \"João\" é o argumento\n"
   ]
  },
  {
   "cell_type": "markdown",
   "id": "f84194af-aa32-4c2d-9538-8f988bd6ece6",
   "metadata": {},
   "source": [
    "### 🔄 Múltiplos parâmetros\n",
    "Você pode definir várias variáveis como parâmetros, separadas por vírgulas."
   ]
  },
  {
   "cell_type": "code",
   "execution_count": 36,
   "id": "a846c8a0-76b8-4676-ab45-7da10e4a8364",
   "metadata": {},
   "outputs": [
    {
     "name": "stdout",
     "output_type": "stream",
     "text": [
      "A soma é: 10\n"
     ]
    }
   ],
   "source": [
    "def soma(a, b):\n",
    "    print(\"A soma é:\", a + b)\n",
    "\n",
    "soma(3, 7)\n"
   ]
  },
  {
   "cell_type": "markdown",
   "id": "bae75ccd-7845-450c-81ef-2905338cd340",
   "metadata": {},
   "source": [
    "### 🧰 Argumentos nomeados\n",
    "É possível passar os argumentos fora de ordem, especificando os nomes:"
   ]
  },
  {
   "cell_type": "code",
   "execution_count": 37,
   "id": "fa508f23-0b62-4218-af7b-6da6c48fe629",
   "metadata": {},
   "outputs": [
    {
     "name": "stdout",
     "output_type": "stream",
     "text": [
      "Carlos tem 40 anos.\n"
     ]
    }
   ],
   "source": [
    "def apresentar(nome, idade):\n",
    "    print(f\"{nome} tem {idade} anos.\")\n",
    "\n",
    "apresentar(idade=40, nome=\"Carlos\")\n"
   ]
  },
  {
   "cell_type": "markdown",
   "id": "8cede9f2-c091-4500-9832-225e37eb303e",
   "metadata": {},
   "source": [
    "### ⚙️ Parâmetros com valor padrão\n",
    "Você pode atribuir um valor padrão a um parâmetro. Se o argumento for omitido, o valor padrão será usado."
   ]
  },
  {
   "cell_type": "code",
   "execution_count": 38,
   "id": "f37ae43b-8930-401e-b071-f65cf1d3026a",
   "metadata": {},
   "outputs": [
    {
     "name": "stdout",
     "output_type": "stream",
     "text": [
      "Oi, amigo\n",
      "Oi, Lucas\n"
     ]
    }
   ],
   "source": [
    "def cumprimentar(nome=\"amigo\"):\n",
    "    print(\"Oi,\", nome)\n",
    "\n",
    "cumprimentar()\n",
    "cumprimentar(\"Lucas\")\n"
   ]
  },
  {
   "cell_type": "markdown",
   "id": "7d8af4fc-270e-4e09-a957-a58365d376dd",
   "metadata": {},
   "source": [
    "### ⚠️ Ordem importa\n",
    "- Parâmetros com valor padrão devem vir após os que não têm valor padrão.\n",
    "\n",
    "- Caso contrário, ocorre erro de sintaxe."
   ]
  },
  {
   "cell_type": "markdown",
   "id": "00770782-4442-4a0b-bef7-22df5166c0a5",
   "metadata": {},
   "source": [
    "```python\n",
    "# Correto\n",
    "def exemplo(a, b=2): pass\n",
    "\n",
    "# Incorreto\n",
    "def exemplo(b=2, a): pass  # Erro!\n"
   ]
  },
  {
   "cell_type": "markdown",
   "id": "a66e4764-1be1-4070-afee-b54cd1fdd792",
   "metadata": {},
   "source": [
    "### 📌 Boas práticas\n",
    "- Nomeie os parâmetros com clareza.\n",
    "\n",
    "- Use valores padrão com parcimônia — podem mascarar erros.\n",
    "\n",
    "- Evite funções com muitos parâmetros — prefira agrupar em objetos ou dicionários, se necessário."
   ]
  },
  {
   "cell_type": "markdown",
   "id": "ff28abc5-8e10-47af-aff8-d88af8954881",
   "metadata": {},
   "source": [
    "### ✅ Exemplos práticos"
   ]
  },
  {
   "cell_type": "code",
   "execution_count": 40,
   "id": "b4aeb4c8-05b2-4ab9-85e6-01b037c9246f",
   "metadata": {},
   "outputs": [
    {
     "name": "stdout",
     "output_type": "stream",
     "text": [
      "Quadrado de 5: 25\n"
     ]
    }
   ],
   "source": [
    "# Função simples com parâmetro\n",
    "def quadrado(x):\n",
    "    return x ** 2\n",
    "\n",
    "print(\"Quadrado de 5:\", quadrado(5))"
   ]
  },
  {
   "cell_type": "code",
   "execution_count": 41,
   "id": "13be8b6c-62d5-4efd-86f6-bd9c736ffdca",
   "metadata": {},
   "outputs": [
    {
     "name": "stdout",
     "output_type": "stream",
     "text": [
      "Média: 8.0\n"
     ]
    }
   ],
   "source": [
    "# Vários parâmetros\n",
    "def calcular_media(a, b, c):\n",
    "    return (a + b + c) / 3\n",
    "\n",
    "print(\"Média:\", calcular_media(7, 8, 9))"
   ]
  },
  {
   "cell_type": "code",
   "execution_count": 42,
   "id": "7b8cf4fe-8d5d-48ad-a96e-78c79461caef",
   "metadata": {},
   "outputs": [
    {
     "name": "stdout",
     "output_type": "stream",
     "text": [
      "Convertendo 2 de litros para mililitros\n"
     ]
    }
   ],
   "source": [
    "# Argumentos nomeados\n",
    "def converter(quantidade, unidade_origem, unidade_destino):\n",
    "    print(f\"Convertendo {quantidade} de {unidade_origem} para {unidade_destino}\")\n",
    "\n",
    "converter(unidade_destino=\"mililitros\", unidade_origem=\"litros\", quantidade=2)"
   ]
  },
  {
   "cell_type": "code",
   "execution_count": 43,
   "id": "a72c4ec7-19a4-4ac0-bf9c-e8ed3ad9534b",
   "metadata": {},
   "outputs": [
    {
     "name": "stdout",
     "output_type": "stream",
     "text": [
      "Olá, Python!\n",
      "Mensagem personalizada\n"
     ]
    }
   ],
   "source": [
    "# Parâmetro com valor padrão\n",
    "def mensagem(texto=\"Olá, Python!\"):\n",
    "    print(texto)\n",
    "\n",
    "mensagem()\n",
    "mensagem(\"Mensagem personalizada\")"
   ]
  },
  {
   "cell_type": "code",
   "execution_count": 44,
   "id": "570ea7db-8374-40a3-84de-28b267a282c2",
   "metadata": {},
   "outputs": [
    {
     "name": "stdout",
     "output_type": "stream",
     "text": [
      "15\n",
      "25\n"
     ]
    }
   ],
   "source": [
    "# Ordem correta de parâmetros\n",
    "def exemplo(a, b=10):\n",
    "    return a + b\n",
    "\n",
    "print(exemplo(5))         # Usa b=10\n",
    "print(exemplo(5, 20))     # Usa b=20"
   ]
  },
  {
   "cell_type": "markdown",
   "id": "0e62fc17-ee57-4742-8be5-50acef5ec327",
   "metadata": {},
   "source": [
    "## 🔁 Seção 6.5 – Retorno de valores (Return values)\n",
    "\n",
    "Uma função pode produzir uma **saída** ao final de sua execução usando a instrução `return`. Esse valor de retorno pode ser armazenado em uma variável ou usado em outra expressão.\n",
    "\n",
    "---\n",
    "\n",
    "### 🧠 Conceitos principais\n",
    "\n",
    "- `return` finaliza a execução da função e envia um valor de volta.\n",
    "- É possível retornar qualquer tipo de dado: números, strings, listas, objetos, etc.\n",
    "- A execução da função termina imediatamente após o `return`.\n",
    "- Se nenhuma instrução `return` for usada, a função retorna `None` por padrão.\n"
   ]
  },
  {
   "cell_type": "markdown",
   "id": "57b7eb4a-9ab7-4395-801d-693cd336e1b0",
   "metadata": {},
   "source": [
    "### 🧪 Exemplos simples"
   ]
  },
  {
   "cell_type": "code",
   "execution_count": 1,
   "id": "8b11dd40-0159-42a8-8f09-022c89ea14ab",
   "metadata": {},
   "outputs": [
    {
     "name": "stdout",
     "output_type": "stream",
     "text": [
      "Dobro de 5 é: 10\n"
     ]
    }
   ],
   "source": [
    "def dobro(x):\n",
    "    return 2 * x\n",
    "\n",
    "resultado = dobro(5)\n",
    "print(\"Dobro de 5 é:\", resultado)"
   ]
  },
  {
   "cell_type": "code",
   "execution_count": 2,
   "id": "59b96ff5-d00c-46f1-b290-2af163913542",
   "metadata": {},
   "outputs": [
    {
     "name": "stdout",
     "output_type": "stream",
     "text": [
      "Olá, Carlos!\n"
     ]
    }
   ],
   "source": [
    "def saudacao(nome):\n",
    "    return f\"Olá, {nome}!\"\n",
    "\n",
    "mensagem = saudacao(\"Carlos\")\n",
    "print(mensagem)\n"
   ]
  },
  {
   "cell_type": "markdown",
   "id": "4570cd7e-1639-4c3f-a03a-93d5c182947d",
   "metadata": {},
   "source": [
    "### 🔁 Vários returns\n",
    "Você pode usar condições para retornar diferentes valores:"
   ]
  },
  {
   "cell_type": "code",
   "execution_count": 9,
   "id": "dbe4e4be-b6bc-436a-a00c-2a94012ea2c9",
   "metadata": {},
   "outputs": [
    {
     "name": "stdout",
     "output_type": "stream",
     "text": [
      "Ímpar\n"
     ]
    }
   ],
   "source": [
    "def verifica_par(x):\n",
    "    if x % 2 == 0:\n",
    "        return \"Par\"\n",
    "    else:\n",
    "        return \"Ímpar\"\n",
    "print(verifica_par(5))"
   ]
  },
  {
   "cell_type": "markdown",
   "id": "45d8dd67-6130-432a-bc94-39cc277028ff",
   "metadata": {},
   "source": [
    "### 🔁 Retorno múltiplo (tuplas)\n",
    "Você pode retornar mais de um valor separando-os por vírgulas. O resultado será uma tupla."
   ]
  },
  {
   "cell_type": "code",
   "execution_count": 10,
   "id": "f771c760-f934-4361-a7a4-336171efb448",
   "metadata": {},
   "outputs": [],
   "source": [
    "def estatisticas(a, b):\n",
    "    soma = a + b\n",
    "    media = (a + b) / 2\n",
    "    return soma, media"
   ]
  },
  {
   "cell_type": "code",
   "execution_count": 11,
   "id": "aeec9b97-d745-45ba-a8ee-a14c51d61023",
   "metadata": {},
   "outputs": [
    {
     "name": "stdout",
     "output_type": "stream",
     "text": [
      "Soma: 30\n",
      "Média: 15.0\n"
     ]
    }
   ],
   "source": [
    "total, media = estatisticas(10, 20)\n",
    "print(\"Soma:\", total)\n",
    "print(\"Média:\", media)"
   ]
  },
  {
   "cell_type": "markdown",
   "id": "21d832ba-32dc-437b-b410-cee84c8ffb97",
   "metadata": {},
   "source": [
    "### 📌 Boas práticas\n",
    "- Sempre documente o que a função retorna.\n",
    "\n",
    "- Use `return` para isolar a lógica da função de sua exibição (`print`).\n",
    "\n",
    "- Prefira funções que retornam valores em vez de imprimir diretamente — isso facilita testes, reuso e composição."
   ]
  },
  {
   "cell_type": "markdown",
   "id": "4e72e561-d88f-4725-b38d-f8c3ed88afe0",
   "metadata": {},
   "source": [
    "### ✅ Exemplos práticos"
   ]
  },
  {
   "cell_type": "code",
   "execution_count": 12,
   "id": "7d60e1ac-c13b-4fd0-a799-bc1ecc52e603",
   "metadata": {},
   "outputs": [
    {
     "name": "stdout",
     "output_type": "stream",
     "text": [
      "Quadrado de 6: 36\n"
     ]
    }
   ],
   "source": [
    "# Retornando um valor numérico\n",
    "def quadrado(x):\n",
    "    return x * x\n",
    "\n",
    "print(\"Quadrado de 6:\", quadrado(6))"
   ]
  },
  {
   "cell_type": "code",
   "execution_count": 13,
   "id": "9b4396fe-9f73-400f-ae78-58fd4cc4c8cf",
   "metadata": {},
   "outputs": [
    {
     "name": "stdout",
     "output_type": "stream",
     "text": [
      "Bem-vindo(a), Letícia!\n"
     ]
    }
   ],
   "source": [
    "# Retornando uma string formatada\n",
    "def saudacao(nome):\n",
    "    return f\"Bem-vindo(a), {nome}!\"\n",
    "\n",
    "print(saudacao(\"Letícia\"))"
   ]
  },
  {
   "cell_type": "code",
   "execution_count": 14,
   "id": "e43209b6-e503-4e89-85c7-7a903a154bb1",
   "metadata": {},
   "outputs": [
    {
     "name": "stdout",
     "output_type": "stream",
     "text": [
      "adulto\n"
     ]
    }
   ],
   "source": [
    "# Retornando valores condicionais\n",
    "def classificar_idade(idade):\n",
    "    if idade < 18:\n",
    "        return \"menor de idade\"\n",
    "    elif idade < 60:\n",
    "        return \"adulto\"\n",
    "    else:\n",
    "        return \"idoso\"\n",
    "\n",
    "print(classificar_idade(42))"
   ]
  },
  {
   "cell_type": "code",
   "execution_count": 15,
   "id": "b9e0fe6d-2bf0-4b43-b50a-80e0e345a32f",
   "metadata": {},
   "outputs": [
    {
     "name": "stdout",
     "output_type": "stream",
     "text": [
      "Área: 15\n",
      "Perímetro: 16\n"
     ]
    }
   ],
   "source": [
    "# Retorno múltiplo (tupla)\n",
    "def retangulo(base, altura):\n",
    "    area = base * altura\n",
    "    perimetro = 2 * (base + altura)\n",
    "    return area, perimetro\n",
    "\n",
    "a, p = retangulo(5, 3)\n",
    "print(\"Área:\", a)\n",
    "print(\"Perímetro:\", p)"
   ]
  },
  {
   "cell_type": "code",
   "execution_count": 16,
   "id": "c00500c9-5348-4651-8be4-521b8aebd8d0",
   "metadata": {},
   "outputs": [
    {
     "name": "stdout",
     "output_type": "stream",
     "text": [
      "Esta função não retorna nada.\n",
      "Resultado da função: None\n"
     ]
    }
   ],
   "source": [
    "# Função sem return explícito retorna None\n",
    "def aviso():\n",
    "    print(\"Esta função não retorna nada.\")\n",
    "\n",
    "resultado = aviso()\n",
    "print(\"Resultado da função:\", resultado)"
   ]
  },
  {
   "cell_type": "markdown",
   "id": "6b069a2d-8333-4b11-8d63-fc4a93b89fba",
   "metadata": {},
   "source": [
    "## 🧩 Seção 6.6 – Argumentos nomeados (Keyword arguments)\n",
    "\n",
    "Em Python, os argumentos de uma função podem ser passados por **posição** ou por **nome** (chave = valor). Os argumentos nomeados permitem maior clareza e flexibilidade.\n",
    "\n",
    "---\n",
    "\n",
    "### 🧠 Conceitos principais\n",
    "\n",
    "- **Argumentos posicionais**: são passados na ordem definida pela função.\n",
    "- **Argumentos nomeados (keyword arguments)**: permitem especificar o nome do parâmetro diretamente.\n",
    "- Permitem alterar a ordem dos argumentos na chamada da função.\n",
    "- Também são úteis quando combinados com **valores padrão** (default)."
   ]
  },
  {
   "cell_type": "markdown",
   "id": "c8269a26-58d3-4ff4-8332-c7a7ad3d2e2d",
   "metadata": {},
   "source": [
    "### 📌 Sintaxe"
   ]
  },
  {
   "cell_type": "code",
   "execution_count": 17,
   "id": "7e303b46-8cec-45bd-a7e4-7c37bae082e2",
   "metadata": {},
   "outputs": [],
   "source": [
    "def saudacao(nome, idioma):\n",
    "    print(f\"Olá, {nome}! Idioma: {idioma}\")"
   ]
  },
  {
   "cell_type": "markdown",
   "id": "df660e52-6e72-4bcb-b880-d80d3c56ba20",
   "metadata": {},
   "source": [
    "#### Chamada posicional:"
   ]
  },
  {
   "cell_type": "code",
   "execution_count": 18,
   "id": "8f4c854b-0b51-46dd-a7c9-ba2f16a18fe6",
   "metadata": {},
   "outputs": [
    {
     "name": "stdout",
     "output_type": "stream",
     "text": [
      "Olá, Carlos! Idioma: Português\n"
     ]
    }
   ],
   "source": [
    "saudacao(\"Carlos\", \"Português\")"
   ]
  },
  {
   "cell_type": "markdown",
   "id": "77c0fbf8-a24d-4c0b-b5d9-a30d0f351391",
   "metadata": {},
   "source": [
    "#### Chamada com argumentos nomeados:"
   ]
  },
  {
   "cell_type": "code",
   "execution_count": 19,
   "id": "38b60488-ef42-41ed-ae39-3ba60d536a3d",
   "metadata": {},
   "outputs": [
    {
     "name": "stdout",
     "output_type": "stream",
     "text": [
      "Olá, Carlos! Idioma: Português\n"
     ]
    }
   ],
   "source": [
    "saudacao(nome=\"Carlos\", idioma=\"Português\")"
   ]
  },
  {
   "cell_type": "markdown",
   "id": "b65545ef-e925-4c10-965b-04398c22ab06",
   "metadata": {},
   "source": [
    "#### Ordem invertida com nomes:"
   ]
  },
  {
   "cell_type": "code",
   "execution_count": 20,
   "id": "19b23344-9ca1-4b6c-880b-c77a953bc0cb",
   "metadata": {},
   "outputs": [
    {
     "name": "stdout",
     "output_type": "stream",
     "text": [
      "Olá, Carlos! Idioma: Português\n"
     ]
    }
   ],
   "source": [
    "saudacao(idioma=\"Português\", nome=\"Carlos\")"
   ]
  },
  {
   "cell_type": "markdown",
   "id": "3d44b578-1a6b-4388-8780-620ff8a18361",
   "metadata": {},
   "source": [
    "### 🎯 Combinação com argumentos padrão"
   ]
  },
  {
   "cell_type": "code",
   "execution_count": 21,
   "id": "49a1d139-f984-40f4-9c22-0c78c7260bed",
   "metadata": {},
   "outputs": [],
   "source": [
    "def apresentar(nome, idade=30):\n",
    "    print(f\"{nome} tem {idade} anos\")"
   ]
  },
  {
   "cell_type": "code",
   "execution_count": 22,
   "id": "f72e28a2-453d-467f-99f4-144c848ae5f1",
   "metadata": {},
   "outputs": [
    {
     "name": "stdout",
     "output_type": "stream",
     "text": [
      "Fernanda tem 30 anos\n",
      "Rafael tem 45 anos\n"
     ]
    }
   ],
   "source": [
    "apresentar(\"Fernanda\")              # idade assume valor padrão\n",
    "apresentar(\"Rafael\", idade=45)      # sobrescrevendo o padrão"
   ]
  },
  {
   "cell_type": "markdown",
   "id": "22b386ca-3633-4087-949e-105a5249debe",
   "metadata": {},
   "source": [
    "### ⚠️ Regras importantes\n",
    "- Argumentos posicionais devem vir antes dos argumentos nomeados.\n",
    "\n",
    "- Não é permitido passar o mesmo argumento duas vezes.\n",
    "\n",
    "- Melhor prática: sempre que possível, use nomes claros e valores padrão bem escolhidos."
   ]
  },
  {
   "cell_type": "markdown",
   "id": "e19dbadc-7f03-44a6-bb83-415da118c31e",
   "metadata": {},
   "source": [
    "### 💡 Vantagens dos argumentos nomeados\n",
    "- Melhoram a leitura do código.\n",
    "\n",
    "- Reduzem erros em funções com muitos parâmetros.\n",
    "\n",
    "- Facilitam a manutenção e uso em bibliotecas."
   ]
  },
  {
   "cell_type": "markdown",
   "id": "743187c4-310d-4840-bd0b-e5628363ea6f",
   "metadata": {},
   "source": [
    "### ✅ Exemplos práticos"
   ]
  },
  {
   "cell_type": "code",
   "execution_count": 23,
   "id": "52526e07-3185-4f58-ad0b-d50f568b4ebb",
   "metadata": {},
   "outputs": [],
   "source": [
    "# Função com dois parâmetros obrigatórios\n",
    "def saudacao(nome, idioma):\n",
    "    print(f\"Olá, {nome}! Idioma: {idioma}\")"
   ]
  },
  {
   "cell_type": "code",
   "execution_count": 24,
   "id": "d930e77a-54f6-4f57-906d-f8d193cee227",
   "metadata": {},
   "outputs": [
    {
     "name": "stdout",
     "output_type": "stream",
     "text": [
      "Olá, Carlos! Idioma: Português\n"
     ]
    }
   ],
   "source": [
    "# Posicional\n",
    "saudacao(\"Carlos\", \"Português\")"
   ]
  },
  {
   "cell_type": "code",
   "execution_count": 25,
   "id": "485c612a-b859-4011-bb90-53c9c41fd592",
   "metadata": {},
   "outputs": [
    {
     "name": "stdout",
     "output_type": "stream",
     "text": [
      "Olá, Ana! Idioma: Inglês\n",
      "Olá, Júlia! Idioma: Espanhol\n"
     ]
    }
   ],
   "source": [
    "# Nomeado\n",
    "saudacao(nome=\"Ana\", idioma=\"Inglês\")\n",
    "saudacao(idioma=\"Espanhol\", nome=\"Júlia\")"
   ]
  },
  {
   "cell_type": "code",
   "execution_count": 26,
   "id": "9b9d8d7b-8780-428d-9507-c5fabce0d7ff",
   "metadata": {},
   "outputs": [
    {
     "name": "stdout",
     "output_type": "stream",
     "text": [
      "João tem 30 anos.\n",
      "Marina tem 40 anos.\n"
     ]
    }
   ],
   "source": [
    "# Função com argumento padrão\n",
    "def apresentar(nome, idade=30):\n",
    "    print(f\"{nome} tem {idade} anos.\")\n",
    "\n",
    "apresentar(\"João\")               # Usa valor padrão para idade\n",
    "apresentar(\"Marina\", idade=40)  # Sobrescreve idade"
   ]
  },
  {
   "cell_type": "code",
   "execution_count": 27,
   "id": "9187fc90-2016-4974-b280-d67deac65a98",
   "metadata": {},
   "outputs": [
    {
     "name": "stdout",
     "output_type": "stream",
     "text": [
      "Eduardo tem 50 anos.\n"
     ]
    }
   ],
   "source": [
    "# Misturando posicional e nomeado (válido)\n",
    "apresentar(\"Eduardo\", idade=50)"
   ]
  },
  {
   "cell_type": "markdown",
   "id": "167178af-432e-4400-8beb-ceaadb7f597b",
   "metadata": {},
   "source": [
    "#### Ordem incorreta gera erro\n",
    "```python\n",
    "apresentar(idade=25, \"Clara\")  # ❌ Isso não funciona"
   ]
  },
  {
   "cell_type": "markdown",
   "id": "9b77784f-a5f0-4c2d-bdb8-4883da871a12",
   "metadata": {},
   "source": [
    "## 📚 Seção 6.7 – Documentação de funções (Function documentation)\n",
    "\n",
    "A documentação adequada de funções é essencial para tornar o código compreensível, reutilizável e manutenível.\n",
    "\n",
    "---\n",
    "\n",
    "### 🧠 O que é uma docstring?\n",
    "\n",
    "Uma **docstring** (document string) é uma string especial, colocada logo após a definição de uma função (ou módulo ou classe), que explica o que aquela função faz.\n",
    "\n",
    "Ela é geralmente escrita entre três aspas duplas `\"\"\" ... \"\"\"` e pode ocupar múltiplas linhas.\n"
   ]
  },
  {
   "cell_type": "markdown",
   "id": "683d1e4a-1333-4f54-8d4c-7d7626b7f655",
   "metadata": {},
   "source": [
    "### 📌 Convenção"
   ]
  },
  {
   "cell_type": "code",
   "execution_count": 29,
   "id": "c85d1dc8-5e76-4ab3-9151-df2e5e146eed",
   "metadata": {},
   "outputs": [],
   "source": [
    "def nome_da_funcao(parâmetros):\n",
    "    \"\"\"Descrição da função e seus parâmetros\"\"\"\n",
    "    instruções"
   ]
  },
  {
   "cell_type": "markdown",
   "id": "5aee44f4-b47c-43a5-b0f8-97c5e1edba94",
   "metadata": {},
   "source": [
    "- Pode incluir descrição da função, parâmetros, tipo de retorno e observações adicionais.\n",
    "\n",
    "- Usar verbos no infinitivo, tom objetivo e linguagem clara.\n",
    "\n",
    "- É acessada em tempo de execução por `help(nome_da_funcao)`."
   ]
  },
  {
   "cell_type": "markdown",
   "id": "4ef0b657-b702-4e35-a592-a3c1a52b457e",
   "metadata": {},
   "source": [
    "### ✍️ Exemplos de boas práticas"
   ]
  },
  {
   "cell_type": "code",
   "execution_count": 30,
   "id": "d853cb03-ad1d-44ef-af92-68acb3645a6b",
   "metadata": {},
   "outputs": [],
   "source": [
    "def soma(a, b):\n",
    "    \"\"\"\n",
    "    Retorna a soma de dois números.\n",
    "\n",
    "    Parâmetros:\n",
    "    a (int ou float): primeiro número.\n",
    "    b (int ou float): segundo número.\n",
    "\n",
    "    Retorna:\n",
    "    int ou float: resultado da soma.\n",
    "    \"\"\"\n",
    "    return a + b"
   ]
  },
  {
   "cell_type": "markdown",
   "id": "dec4f4c4-bf49-4849-b197-3396e76906f1",
   "metadata": {},
   "source": [
    "### 🔍 Usando a função help()\n",
    "A função `help()` exibe a docstring de qualquer função, classe ou objeto."
   ]
  },
  {
   "cell_type": "code",
   "execution_count": 31,
   "id": "433a4d14-2628-41f5-8abe-c4c14d86f29d",
   "metadata": {},
   "outputs": [
    {
     "name": "stdout",
     "output_type": "stream",
     "text": [
      "Help on function soma in module __main__:\n",
      "\n",
      "soma(a, b)\n",
      "    Retorna a soma de dois números.\n",
      "\n",
      "    Parâmetros:\n",
      "    a (int ou float): primeiro número.\n",
      "    b (int ou float): segundo número.\n",
      "\n",
      "    Retorna:\n",
      "    int ou float: resultado da soma.\n",
      "\n"
     ]
    }
   ],
   "source": [
    "help(soma)"
   ]
  },
  {
   "cell_type": "markdown",
   "id": "2ef6857d-6ab7-4298-8e4c-2733f3d595db",
   "metadata": {},
   "source": [
    "### 💡 Por que usar docstrings?\n",
    "- Ajuda outros desenvolvedores (e você mesmo no futuro) a entender o código;\n",
    "\n",
    "- Facilita o uso de ferramentas automáticas de documentação (como Sphinx, pydoc, Jupyter etc.);\n",
    "\n",
    "- É boa prática em ambientes profissionais e acadêmicos."
   ]
  },
  {
   "cell_type": "markdown",
   "id": "af4878f9-ba17-4bd1-839e-312ef68d3225",
   "metadata": {},
   "source": [
    "### ✅ Resumo\n",
    "- Docstrings explicam a finalidade, parâmetros e retorno da função;\n",
    "\n",
    "- São colocadas imediatamente após a definição da função;\n",
    "\n",
    "- Melhoram a legibilidade e a documentação automática do código."
   ]
  },
  {
   "cell_type": "markdown",
   "id": "20875ffc-51b4-49ea-80aa-a98e4591a530",
   "metadata": {},
   "source": [
    "## 🔄 Seção 6.8 – Funções que chamam outras funções\n",
    "\n",
    "Em Python, funções podem chamar outras funções, tanto definidas pelo usuário quanto funções internas (built-in). Isso permite **dividir o problema em partes menores**, facilitando o desenvolvimento de código modular, legível e reutilizável.\n",
    "\n",
    "---\n",
    "\n",
    "### 📌 Motivação\n",
    "\n",
    "- Reduz repetição de código;\n",
    "- Facilita a manutenção;\n",
    "- Promove reutilização;\n",
    "- Ajuda na depuração (debug) por modularidade.\n",
    "\n",
    "---\n",
    "\n",
    "### 🔁 Estrutura típica\n",
    "\n",
    "```python\n",
    "def funcao_maior():\n",
    "    ...\n",
    "    resultado = funcao_menor()\n",
    "    ...\n"
   ]
  },
  {
   "cell_type": "markdown",
   "id": "3afd674a-b6ed-4cee-8281-46d9c5e1a029",
   "metadata": {},
   "source": [
    "### 📋 Exemplo didático"
   ]
  },
  {
   "cell_type": "code",
   "execution_count": 32,
   "id": "4c12a05f-ff04-46cd-ad23-cbe53e5cd7af",
   "metadata": {},
   "outputs": [
    {
     "name": "stdout",
     "output_type": "stream",
     "text": [
      "Bem-vindo(a) ao programa!\n",
      "Processando os dados...\n",
      "Programa finalizado.\n"
     ]
    }
   ],
   "source": [
    "def mensagem_boas_vindas():\n",
    "    print(\"Bem-vindo(a) ao programa!\")\n",
    "\n",
    "def processar_dados():\n",
    "    print(\"Processando os dados...\")\n",
    "\n",
    "def programa_principal():\n",
    "    mensagem_boas_vindas()\n",
    "    processar_dados()\n",
    "    print(\"Programa finalizado.\")\n",
    "\n",
    "programa_principal()"
   ]
  },
  {
   "cell_type": "markdown",
   "id": "af43e868-7cde-4e7c-b34d-b7a8dd7e4b2a",
   "metadata": {},
   "source": [
    "Nesse exemplo, `programa_principal()` coordena as outras duas funções, formando uma estrutura limpa e modular."
   ]
  },
  {
   "cell_type": "markdown",
   "id": "4ea7b99a-cf14-472c-b634-ee4aef6595f5",
   "metadata": {},
   "source": [
    "### ✅ Boas práticas\n",
    "- Evite duplicação: se um bloco de código se repete, transforme-o em uma função e chame-a;\n",
    "\n",
    "- Teste funções menores individualmente;\n",
    "\n",
    "- Use nomes claros e descritivos para cada função."
   ]
  },
  {
   "cell_type": "markdown",
   "id": "6903d208-a695-4a32-9d22-66d62fd622ab",
   "metadata": {},
   "source": [
    "### ✅ Resumo\n",
    "- Funções podem chamar outras funções para delegar partes de seu trabalho;\n",
    "\n",
    "- Isso promove organização, clareza e reutilização do código;\n",
    "\n",
    "- A função principal pode atuar como um controlador do fluxo geral."
   ]
  },
  {
   "cell_type": "markdown",
   "id": "2e15fdd7-23e2-4719-8bb1-3fa0bd5be7ad",
   "metadata": {},
   "source": [
    "### ✅ Exemplo prático: cálculo modular"
   ]
  },
  {
   "cell_type": "code",
   "execution_count": 33,
   "id": "a614fc0a-21df-4e4a-8b24-db5d2aad3209",
   "metadata": {},
   "outputs": [
    {
     "name": "stdout",
     "output_type": "stream",
     "text": [
      "A média entre 8.5 e 7.0 é 7.75\n"
     ]
    }
   ],
   "source": [
    "def calcular_media(a: float, b: float) -> float:\n",
    "    \"\"\"Retorna a média de dois números.\"\"\"\n",
    "    return (a + b) / 2\n",
    "\n",
    "def mostrar_resultado(a: float, b: float):\n",
    "    \"\"\"Calcula e exibe a média entre dois valores.\"\"\"\n",
    "    media = calcular_media(a, b)\n",
    "    print(f\"A média entre {a} e {b} é {media}\")\n",
    "\n",
    "# Executa a função que chama outra\n",
    "mostrar_resultado(8.5, 7.0)"
   ]
  },
  {
   "cell_type": "markdown",
   "id": "4b142a7f-a63e-410d-9694-2a6034228f5a",
   "metadata": {},
   "source": [
    "# ✅ Encerramento do Capítulo 6 – Funções\n",
    "\n",
    "## 📌 Resumo técnico\n",
    "\n",
    "- Funções são blocos reutilizáveis de código que executam tarefas específicas.\n",
    "- São definidas com a palavra-chave `def`, seguidas por parênteses e dois-pontos.\n",
    "- Podem receber **parâmetros posicionais** e/ou **nominais (keywords)**.\n",
    "- A **instrução `return`** é usada para devolver valores a quem chama a função.\n",
    "- **Escopo local vs. global** define onde as variáveis são visíveis.\n",
    "- Funções podem chamar outras funções, formando hierarquias modulares.\n",
    "- Funções devem ser documentadas com docstrings (`\"\"\"...\"\"\"`), que explicam seu propósito.\n",
    "- A reutilização de funções promove **manutenibilidade, legibilidade e modularidade** do código.\n",
    "\n",
    "---\n",
    "\n",
    "## 🧪 Exercícios práticos recomendados\n",
    "\n",
    "1. ✍️ Crie uma função chamada `quadrado()` que receba um número e retorne seu quadrado.\n",
    "\n",
    "2. 🔢 Escreva uma função chamada `eh_par()` que retorne `True` se o número for par e `False` caso contrário.\n",
    "\n",
    "3. 📏 Crie uma função `distancia(p1, p2)` que receba dois pontos no plano cartesiano (como tuplas) e retorne a distância entre eles.\n",
    "\n",
    "4. 🔁 Escreva uma função `media_ponderada(n1, n2, peso1=1, peso2=1)` que calcule a média ponderada de dois números. Use parâmetros com valores padrão.\n",
    "\n",
    "5. 📚 Escreva uma função `resumo_aluno(nome, nota1, nota2)` que calcule a média, classifique como “Aprovado” ou “Reprovado” (média ≥ 6), e exiba uma mensagem como:\n",
    "\n",
    "6. 🔄 Escreva um programa com uma função `menu()` que exiba três opções e chame outras funções conforme a opção do usuário. Use `input()` para interagir.\n",
    "\n",
    "7. 🧠 Reescreva um código anterior seu, que usava muitas instruções repetidas, em uma forma modular com funções pequenas.\n"
   ]
  },
  {
   "cell_type": "code",
   "execution_count": null,
   "id": "5b54d861-ecca-4c23-a2fe-d44e019ddcf0",
   "metadata": {},
   "outputs": [],
   "source": []
  }
 ],
 "metadata": {
  "kernelspec": {
   "display_name": "Python 3 (ipykernel)",
   "language": "python",
   "name": "python3"
  },
  "language_info": {
   "codemirror_mode": {
    "name": "ipython",
    "version": 3
   },
   "file_extension": ".py",
   "mimetype": "text/x-python",
   "name": "python",
   "nbconvert_exporter": "python",
   "pygments_lexer": "ipython3",
   "version": "3.13.7"
  }
 },
 "nbformat": 4,
 "nbformat_minor": 5
}
