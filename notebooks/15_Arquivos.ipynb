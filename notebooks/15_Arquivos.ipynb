{
 "cells": [
  {
   "cell_type": "markdown",
   "id": "621cb9e0-b887-4f4c-818d-eed0238724a8",
   "metadata": {},
   "source": [
    "# Capítulo 15 — Arquivos (Files)\n",
    "> **Adriano Pylro - Engenheiro Mecânico - Dr. Eng,** \n",
    "\n",
    "## 15.1 — Introdução ao manuseio de arquivos 📂\n",
    "\n",
    "Em Python, o manuseio de arquivos é feito principalmente com a função **`open()`**, que permite **abrir arquivos para leitura ou escrita**.  \n",
    "\n",
    "📌 **Sintaxe básica:**\n",
    "```python\n",
    "open(nome_do_arquivo, modo)\n",
    "```\n",
    "### 📌 Modos comuns de abertura\n",
    "\n",
    "- `\"r\"` → leitura (**read**) — padrão.  \n",
    "- `\"w\"` → escrita (**write**) — sobrescreve o conteúdo se o arquivo já existir.  \n",
    "- `\"a\"` → **append** — adiciona conteúdo ao final do arquivo sem apagar o existente.  \n",
    "- `\"b\"` → modo **binário** (para imagens, PDFs, etc).  \n",
    "- `\"t\"` → modo **texto** (padrão).  \n",
    "\n",
    "⚠️ **Importante:**  \n",
    "- Sempre feche o arquivo com `close()` após o uso.  \n",
    "- Alternativamente, use o gerenciador de contexto `with`, que fecha o arquivo automaticamente (vamos ver em detalhe na **Seção 15.4**).  \n"
   ]
  },
  {
   "cell_type": "code",
   "execution_count": 1,
   "id": "8d6a2dfc-063b-4f6a-b630-2af249dd5bac",
   "metadata": {},
   "outputs": [
    {
     "name": "stdout",
     "output_type": "stream",
     "text": [
      "Conteúdo do arquivo:\n",
      " Linha 1\n",
      "Linha 2\n",
      "Linha 3\n",
      "\n"
     ]
    }
   ],
   "source": [
    "# Exemplo 1: Abrindo e lendo um arquivo de texto (modo leitura)\n",
    "# Primeiro, vamos criar um arquivo simples para demonstração\n",
    "with open(\"exemplo.txt\", \"w\") as f:\n",
    "    f.write(\"Linha 1\\n\")\n",
    "    f.write(\"Linha 2\\n\")\n",
    "    f.write(\"Linha 3\\n\")\n",
    "\n",
    "# Agora abrimos em modo leitura\n",
    "arquivo = open(\"exemplo.txt\", \"r\")\n",
    "conteudo = arquivo.read()   # lê todo o conteúdo como string\n",
    "print(\"Conteúdo do arquivo:\\n\", conteudo)\n",
    "arquivo.close()  # sempre fechar quando não usar mais"
   ]
  },
  {
   "cell_type": "markdown",
   "id": "cf5bd498-edbb-424f-8220-eb54697f6d83",
   "metadata": {},
   "source": [
    "### Boas práticas ✅\n",
    "- Use `with open(...) as f:` sempre que possível (mais seguro).  \n",
    "- Leia somente o necessário: `read()` (todo), `readline()` (linha única), `readlines()` (todas as linhas em lista).  \n",
    "- Escolha corretamente o **modo** de abertura para evitar sobrescrever arquivos sem querer.  \n",
    "\n",
    "📌 **Resumo da Seção 15.1:**  \n",
    "- `open()` é a função central para manipulação de arquivos.  \n",
    "- É essencial escolher corretamente o modo (`r`, `w`, `a`, etc.).  \n",
    "- Sempre feche o arquivo (`close()`), ou prefira `with` para segurança.  \n",
    "\n",
    "➡️ Na próxima seção (15.2), veremos **como ler arquivos de texto** em mais detalhes.  \n"
   ]
  },
  {
   "cell_type": "markdown",
   "id": "467e1d52-afed-4ae7-9ce7-ce4f736968ea",
   "metadata": {},
   "source": [
    "## 15.2 — Leitura de arquivos texto 📖\n",
    "\n",
    "Uma das tarefas mais comuns é **ler arquivos de texto**.  \n",
    "Python fornece diferentes formas para acessar o conteúdo de um arquivo aberto em modo `\"r\"` (*read*).\n",
    "\n",
    "📌 **Principais métodos de leitura:**\n",
    "- `read()` → lê **todo** o conteúdo como uma única string.  \n",
    "- `readline()` → lê **uma linha** por vez.  \n",
    "- `readlines()` → lê **todas as linhas** e retorna uma lista de strings.  "
   ]
  },
  {
   "cell_type": "code",
   "execution_count": 2,
   "id": "be1a78eb-453e-49d8-8ef7-afc84642455b",
   "metadata": {},
   "outputs": [],
   "source": [
    "# Criando um arquivo de exemplo para leitura\n",
    "with open(\"dados.txt\", \"w\") as f:\n",
    "    f.write(\"Linha 1: Introdução ao Python\\n\")\n",
    "    f.write(\"Linha 2: Estruturas de dados\\n\")\n",
    "    f.write(\"Linha 3: Arquivos\\n\")\n"
   ]
  },
  {
   "cell_type": "code",
   "execution_count": 3,
   "id": "b0746044-8dae-4352-b3ee-3660ba4fb0e1",
   "metadata": {},
   "outputs": [
    {
     "name": "stdout",
     "output_type": "stream",
     "text": [
      "=== Conteúdo completo com read() ===\n",
      "Linha 1: Introdução ao Python\n",
      "Linha 2: Estruturas de dados\n",
      "Linha 3: Arquivos\n",
      "\n"
     ]
    }
   ],
   "source": [
    "# Exemplo 1: Usando read()\n",
    "with open(\"dados.txt\", \"r\") as f:\n",
    "    conteudo = f.read()\n",
    "    print(\"=== Conteúdo completo com read() ===\")\n",
    "    print(conteudo)\n"
   ]
  },
  {
   "cell_type": "code",
   "execution_count": 4,
   "id": "c1ae30e1-2cc3-4693-a149-beaa25851a91",
   "metadata": {},
   "outputs": [
    {
     "name": "stdout",
     "output_type": "stream",
     "text": [
      "=== Lendo linha por linha com readline() ===\n",
      "Linha 1: Introdução ao Python\n",
      "Linha 2: Estruturas de dados\n"
     ]
    }
   ],
   "source": [
    "# Exemplo 2: Usando readline()\n",
    "with open(\"dados.txt\", \"r\") as f:\n",
    "    print(\"=== Lendo linha por linha com readline() ===\")\n",
    "    print(f.readline().strip())  # primeira linha\n",
    "    print(f.readline().strip())  # segunda linha\n"
   ]
  },
  {
   "cell_type": "code",
   "execution_count": 5,
   "id": "77be4bbb-c894-435f-9686-1ef6302f562a",
   "metadata": {},
   "outputs": [
    {
     "name": "stdout",
     "output_type": "stream",
     "text": [
      "=== Usando readlines() ===\n",
      "Linha 1: Introdução ao Python\n",
      "Linha 2: Estruturas de dados\n",
      "Linha 3: Arquivos\n"
     ]
    }
   ],
   "source": [
    "# Exemplo 3: Usando readlines()\n",
    "with open(\"dados.txt\", \"r\") as f:\n",
    "    linhas = f.readlines()\n",
    "    print(\"=== Usando readlines() ===\")\n",
    "    for linha in linhas:\n",
    "        print(linha.strip())\n"
   ]
  },
  {
   "cell_type": "markdown",
   "id": "0d825464-a37b-4592-9c2e-e6fc3fa1b839",
   "metadata": {},
   "source": [
    "### Observações importantes ⚠️\n",
    "- Sempre use `with open(...)` para garantir que o arquivo será fechado automaticamente.  \n",
    "- `read()` deve ser usado com arquivos pequenos; em arquivos grandes pode consumir muita memória.  \n",
    "- Para processar arquivos grandes, prefira iterar linha por linha em um loop:  \n",
    "\n",
    "```python\n",
    "with open(\"dados.txt\", \"r\") as f:\n",
    "    for linha in f:\n",
    "        print(linha.strip())\n",
    "```\n",
    "✅ **Resumo da Seção 15.2:**  \n",
    "\n",
    "- `read()` → lê **todo o conteúdo**.  \n",
    "- `readline()` → lê **uma linha por vez**.  \n",
    "- `readlines()` → retorna uma **lista de todas as linhas**.  \n",
    "- Iterar diretamente sobre o arquivo é mais eficiente em **arquivos grandes**.  \n",
    "\n",
    "➡️ Na próxima seção (**15.3**), veremos como **escrever em arquivos texto**.  "
   ]
  },
  {
   "cell_type": "markdown",
   "id": "c239236e-8630-4995-aaf3-4e7c052f5e83",
   "metadata": {},
   "source": [
    "## 15.3 — Escrita em arquivos texto ✍️\n",
    "\n",
    "Além de ler arquivos, Python permite **criar** e **modificar** arquivos de texto.  \n",
    "Isso é feito abrindo o arquivo em **modo de escrita**:\n",
    "\n",
    "📌 **Modos de escrita:**\n",
    "- `\"w\"` → escreve um novo arquivo ou sobrescreve um existente.  \n",
    "- `\"a\"` → adiciona conteúdo ao final do arquivo (*append*).  \n",
    "\n",
    "⚠️ **Atenção:**  \n",
    "Abrir um arquivo em `\"w\"` apaga todo o conteúdo existente antes de escrever o novo.\n"
   ]
  },
  {
   "cell_type": "code",
   "execution_count": 6,
   "id": "43477957-a041-4e6a-9f13-f4510a12040e",
   "metadata": {},
   "outputs": [
    {
     "name": "stdout",
     "output_type": "stream",
     "text": [
      "=== Conteúdo de saida.txt ===\n",
      "Linha 1: Criando arquivo\n",
      "Linha 2: Sobrescrevendo conteúdo se existir\n",
      "\n"
     ]
    }
   ],
   "source": [
    "# Exemplo 1: Criando e escrevendo em um arquivo com \"w\"\n",
    "with open(\"saida.txt\", \"w\") as f:\n",
    "    f.write(\"Linha 1: Criando arquivo\\n\")\n",
    "    f.write(\"Linha 2: Sobrescrevendo conteúdo se existir\\n\")\n",
    "\n",
    "# Verificando o conteúdo\n",
    "with open(\"saida.txt\", \"r\") as f:\n",
    "    print(\"=== Conteúdo de saida.txt ===\")\n",
    "    print(f.read())\n"
   ]
  },
  {
   "cell_type": "code",
   "execution_count": 7,
   "id": "6102b802-1763-409b-a47f-1c7a3b786a60",
   "metadata": {},
   "outputs": [
    {
     "name": "stdout",
     "output_type": "stream",
     "text": [
      "=== Conteúdo atualizado de saida.txt ===\n",
      "Linha 1: Criando arquivo\n",
      "Linha 2: Sobrescrevendo conteúdo se existir\n",
      "Linha 3: Este texto foi adicionado com append\n",
      "\n"
     ]
    }
   ],
   "source": [
    "# Exemplo 2: Usando \"a\" para adicionar sem apagar conteúdo\n",
    "with open(\"saida.txt\", \"a\") as f:\n",
    "    f.write(\"Linha 3: Este texto foi adicionado com append\\n\")\n",
    "\n",
    "# Verificando o conteúdo atualizado\n",
    "with open(\"saida.txt\", \"r\") as f:\n",
    "    print(\"=== Conteúdo atualizado de saida.txt ===\")\n",
    "    print(f.read())\n"
   ]
  },
  {
   "cell_type": "markdown",
   "id": "bb3bbc6d-193a-4272-9c4c-2462d6a3a7f3",
   "metadata": {},
   "source": [
    "### Métodos de escrita\n",
    "\n",
    "- `write(texto)` → escreve uma string no arquivo.  \n",
    "- `writelines(lista)` → escreve uma lista de strings (sem adicionar `\\n` automaticamente).  \n",
    "\n"
   ]
  },
  {
   "cell_type": "code",
   "execution_count": 8,
   "id": "52b58d29-f74a-4500-9f3c-734f6aa580b2",
   "metadata": {},
   "outputs": [
    {
     "name": "stdout",
     "output_type": "stream",
     "text": [
      "=== Conteúdo de multilinhas.txt ===\n",
      "Primeira linha\n",
      "Segunda linha\n",
      "Terceira linha\n",
      "\n"
     ]
    }
   ],
   "source": [
    "# Exemplo 3: Usando writelines()\n",
    "linhas = [\"Primeira linha\\n\", \"Segunda linha\\n\", \"Terceira linha\\n\"]\n",
    "\n",
    "with open(\"multilinhas.txt\", \"w\") as f:\n",
    "    f.writelines(linhas)\n",
    "\n",
    "# Verificando o conteúdo\n",
    "with open(\"multilinhas.txt\", \"r\") as f:\n",
    "    print(\"=== Conteúdo de multilinhas.txt ===\")\n",
    "    print(f.read())"
   ]
  },
  {
   "cell_type": "markdown",
   "id": "ae172267-1712-4596-a8bd-8269370fb0ff",
   "metadata": {},
   "source": [
    "✅ **Resumo da Seção 15.3:**\n",
    "- `\"w\"` → sobrescreve o arquivo.  \n",
    "- `\"a\"` → adiciona conteúdo ao final.  \n",
    "- `write()` escreve uma string.  \n",
    "- `writelines()` escreve várias strings de uma vez.  \n",
    "\n",
    "➡️ Na próxima seção (**15.4**), veremos como usar o **gerenciador de contexto `with`** para lidar com arquivos de forma mais segura."
   ]
  },
  {
   "cell_type": "markdown",
   "id": "927c0e5a-3bd9-465f-81c9-6ba4c973346a",
   "metadata": {},
   "source": [
    "## 15.4 — Gerenciador de contexto com `with` 🛡️\n",
    "\n",
    "Em Python, a forma mais segura e recomendada de trabalhar com arquivos é usando o **gerenciador de contexto** (`with`).  \n",
    "\n",
    "📌 **Vantagens do `with`:**\n",
    "- Garante que o arquivo será **fechado automaticamente**, mesmo que ocorra um erro durante a execução.  \n",
    "- Torna o código mais limpo e legível.  \n",
    "- Elimina a necessidade de chamar `close()` manualmente.  \n",
    "\n",
    "### Sintaxe:\n",
    "```python\n",
    "with open(\"arquivo.txt\", \"modo\") as f:\n",
    "    # operações com o arquivo\n",
    "```"
   ]
  },
  {
   "cell_type": "code",
   "execution_count": 9,
   "id": "dd034017-714d-4f32-b798-6354a7d04e2a",
   "metadata": {},
   "outputs": [
    {
     "name": "stdout",
     "output_type": "stream",
     "text": [
      "Conteúdo do arquivo com with:\n",
      "Linha 1: Introdução ao Python\n",
      "Linha 2: Estruturas de dados\n",
      "Linha 3: Arquivos\n",
      "\n"
     ]
    }
   ],
   "source": [
    "# Exemplo 1: Lendo arquivo com with\n",
    "with open(\"dados.txt\", \"r\") as f:\n",
    "    conteudo = f.read()\n",
    "    print(\"Conteúdo do arquivo com with:\")\n",
    "    print(conteudo)\n",
    "\n",
    "# O arquivo já está fechado aqui, mesmo sem chamar close()"
   ]
  },
  {
   "cell_type": "code",
   "execution_count": 10,
   "id": "1d7218c6-3907-48fa-ba18-cc6fb1fbebe2",
   "metadata": {},
   "outputs": [
    {
     "name": "stdout",
     "output_type": "stream",
     "text": [
      "Conteúdo de log.txt:\n",
      "Registro de execução 1\n",
      "Registro de execução 2\n",
      "\n"
     ]
    }
   ],
   "source": [
    "# Exemplo 2: Escrevendo em arquivo com with\n",
    "with open(\"log.txt\", \"w\") as f:\n",
    "    f.write(\"Registro de execução 1\\n\")\n",
    "    f.write(\"Registro de execução 2\\n\")\n",
    "\n",
    "# Leitura para verificar\n",
    "with open(\"log.txt\", \"r\") as f:\n",
    "    print(\"Conteúdo de log.txt:\")\n",
    "    print(f.read())"
   ]
  },
  {
   "cell_type": "code",
   "execution_count": 11,
   "id": "73e23bee-1080-4299-9398-d3c43da15178",
   "metadata": {},
   "outputs": [
    {
     "name": "stdout",
     "output_type": "stream",
     "text": [
      "Conteúdo atualizado de log.txt:\n",
      "Registro de execução 1\n",
      "Registro de execução 2\n",
      "Novo registro adicionado\n",
      "\n"
     ]
    }
   ],
   "source": [
    "# Exemplo 3: Append (adicionar linhas ao final do arquivo)\n",
    "with open(\"log.txt\", \"a\") as f:\n",
    "    f.write(\"Novo registro adicionado\\n\")\n",
    "\n",
    "with open(\"log.txt\", \"r\") as f:\n",
    "    print(\"Conteúdo atualizado de log.txt:\")\n",
    "    print(f.read())"
   ]
  },
  {
   "cell_type": "markdown",
   "id": "ad367165-cea1-4149-9618-83e036672ac2",
   "metadata": {},
   "source": [
    "✅ **Resumo da Seção 15.4:**  \n",
    "- `with open(...)` é a forma recomendada para abrir arquivos.  \n",
    "- Fecha automaticamente o arquivo após o uso.  \n",
    "- Funciona com qualquer modo de abertura (`\"r\"`, `\"w\"`, `\"a\"`, `\"b\"`).  \n",
    "\n",
    "➡️ Na próxima seção (**15.5**), veremos como trabalhar com **arquivos CSV** usando o módulo `csv`.  "
   ]
  },
  {
   "cell_type": "markdown",
   "id": "3a0f81a6-7bb4-4088-bbf7-143ef9841a5b",
   "metadata": {},
   "source": [
    "## 15.5 — Trabalhando com arquivos CSV 📊\n",
    "\n",
    "Arquivos **CSV (Comma-Separated Values)** são muito usados para armazenar dados tabulares, como planilhas e resultados de sistemas.  \n",
    "O Python possui o módulo **`csv`** na biblioteca padrão para leitura e escrita desses arquivos.\n",
    "\n",
    "📌 **Vantagens do formato CSV:**\n",
    "- Simples e leve.  \n",
    "- Compatível com Excel, Google Sheets e bancos de dados.  \n",
    "- Fácil de manipular em Python.  \n"
   ]
  },
  {
   "cell_type": "code",
   "execution_count": 12,
   "id": "104fce59-5ce0-48be-bc13-65a88405c635",
   "metadata": {},
   "outputs": [
    {
     "name": "stdout",
     "output_type": "stream",
     "text": [
      "Arquivo alunos.csv criado com sucesso!\n"
     ]
    }
   ],
   "source": [
    "import csv\n",
    "\n",
    "# Exemplo 1: Criando e escrevendo em um arquivo CSV\n",
    "with open(\"alunos.csv\", \"w\", newline=\"\", encoding=\"utf-8\") as f:\n",
    "    writer = csv.writer(f)\n",
    "    writer.writerow([\"Nome\", \"Idade\", \"Curso\"])  # cabeçalho\n",
    "    writer.writerow([\"Ana\", 22, \"Engenharia\"])\n",
    "    writer.writerow([\"Carlos\", 25, \"Medicina\"])\n",
    "    writer.writerow([\"Beatriz\", 21, \"Direito\"])\n",
    "\n",
    "print(\"Arquivo alunos.csv criado com sucesso!\")"
   ]
  },
  {
   "cell_type": "code",
   "execution_count": 13,
   "id": "5ac2be97-a572-4327-94d8-44d2e00f6485",
   "metadata": {},
   "outputs": [
    {
     "name": "stdout",
     "output_type": "stream",
     "text": [
      "['Nome', 'Idade', 'Curso']\n",
      "['Ana', '22', 'Engenharia']\n",
      "['Carlos', '25', 'Medicina']\n",
      "['Beatriz', '21', 'Direito']\n"
     ]
    }
   ],
   "source": [
    "# Exemplo 2: Lendo arquivo CSV linha a linha\n",
    "with open(\"alunos.csv\", \"r\", encoding=\"utf-8\") as f:\n",
    "    reader = csv.reader(f)\n",
    "    for linha in reader:\n",
    "        print(linha)"
   ]
  },
  {
   "cell_type": "code",
   "execution_count": 14,
   "id": "584b8a36-a207-4829-b88d-b534f9d5593b",
   "metadata": {},
   "outputs": [
    {
     "name": "stdout",
     "output_type": "stream",
     "text": [
      "{'Produto': 'Caneta', 'Preço': '2.5', 'Quantidade': '10'}\n",
      "{'Produto': 'Caderno', 'Preço': '15.0', 'Quantidade': '5'}\n"
     ]
    }
   ],
   "source": [
    "# Exemplo 3: Usando DictWriter e DictReader para maior clareza\n",
    "with open(\"produtos.csv\", \"w\", newline=\"\", encoding=\"utf-8\") as f:\n",
    "    campos = [\"Produto\", \"Preço\", \"Quantidade\"]\n",
    "    writer = csv.DictWriter(f, fieldnames=campos)\n",
    "    writer.writeheader()\n",
    "    writer.writerow({\"Produto\": \"Caneta\", \"Preço\": 2.5, \"Quantidade\": 10})\n",
    "    writer.writerow({\"Produto\": \"Caderno\", \"Preço\": 15.0, \"Quantidade\": 5})\n",
    "\n",
    "# Lendo com DictReader\n",
    "with open(\"produtos.csv\", \"r\", encoding=\"utf-8\") as f:\n",
    "    reader = csv.DictReader(f)\n",
    "    for linha in reader:\n",
    "        print(linha)"
   ]
  },
  {
   "cell_type": "markdown",
   "id": "0c2985c7-53c5-4f01-bb84-dd5d45cb197d",
   "metadata": {},
   "source": [
    "### Observações importantes ⚠️\n",
    "- Sempre use `newline=\"\"` ao abrir arquivos CSV no Windows para evitar linhas em branco extras.  \n",
    "- `writerow()` → escreve uma única linha.  \n",
    "- `writerows()` → escreve várias linhas de uma vez.  \n",
    "- `DictWriter` e `DictReader` permitem manipular os dados como dicionários, deixando o código mais claro.  \n",
    "\n",
    "✅ **Resumo da Seção 15.5:**  \n",
    "- O módulo `csv` facilita a leitura e escrita de arquivos tabulares.  \n",
    "- `reader` e `writer` → trabalham com listas.  \n",
    "- `DictReader` e `DictWriter` → trabalham com dicionários.  "
   ]
  },
  {
   "cell_type": "markdown",
   "id": "09339651-6fa7-4330-832e-f52233bffffc",
   "metadata": {},
   "source": [
    "## 15.6 — Exercícios práticos com arquivos 📝\n",
    "\n",
    "Nesta seção, vamos aplicar os conceitos de leitura, escrita e manipulação de arquivos em problemas práticos.  \n",
    "\n",
    "---\n",
    "\n",
    "### Exercício 1 — Criar e ler um arquivo de log  \n",
    "1. Crie um arquivo chamado `log.txt`.  \n",
    "2. Escreva três linhas com registros de eventos.  \n",
    "3. Leia o conteúdo do arquivo e mostre no terminal.  \n"
   ]
  },
  {
   "cell_type": "code",
   "execution_count": 15,
   "id": "2ff60891-c2c1-404d-97e4-54600b475df7",
   "metadata": {},
   "outputs": [
    {
     "name": "stdout",
     "output_type": "stream",
     "text": [
      "=== Conteúdo do log.txt ===\n",
      "Evento 1: Sistema iniciado\n",
      "Evento 2: Usuário logado\n",
      "Evento 3: Operação concluída\n",
      "\n"
     ]
    }
   ],
   "source": [
    "# Exercício 1 - Solução\n",
    "with open(\"log.txt\", \"w\") as f:\n",
    "    f.write(\"Evento 1: Sistema iniciado\\n\")\n",
    "    f.write(\"Evento 2: Usuário logado\\n\")\n",
    "    f.write(\"Evento 3: Operação concluída\\n\")\n",
    "\n",
    "with open(\"log.txt\", \"r\") as f:\n",
    "    print(\"=== Conteúdo do log.txt ===\")\n",
    "    print(f.read())"
   ]
  },
  {
   "cell_type": "markdown",
   "id": "d7958cc6-3e08-4866-a3d0-92008b196b6c",
   "metadata": {},
   "source": [
    "---\n",
    "\n",
    "### Exercício 2 — Contar linhas de um arquivo  \n",
    "1. Crie um arquivo `dados.txt` com várias linhas de texto.  \n",
    "2. Escreva um programa que conte quantas linhas o arquivo possui.  \n"
   ]
  },
  {
   "cell_type": "code",
   "execution_count": 16,
   "id": "2c4f9747-0d54-4464-8c9d-1aba568aa2bb",
   "metadata": {},
   "outputs": [
    {
     "name": "stdout",
     "output_type": "stream",
     "text": [
      "O arquivo possui 5 linhas.\n"
     ]
    }
   ],
   "source": [
    "# Exercício 2 - Solução\n",
    "with open(\"dados.txt\", \"w\") as f:\n",
    "    f.writelines([f\"Linha {i}\\n\" for i in range(1, 6)])\n",
    "\n",
    "with open(\"dados.txt\", \"r\") as f:\n",
    "    linhas = f.readlines()\n",
    "    print(\"O arquivo possui\", len(linhas), \"linhas.\")"
   ]
  },
  {
   "cell_type": "markdown",
   "id": "53b76d8d-3c32-4909-a9dc-b9d3a1ba9796",
   "metadata": {},
   "source": [
    "---\n",
    "\n",
    "### Exercício 3 — Escrever números em arquivo  \n",
    "1. Gere os números de 1 a 20.  \n",
    "2. Salve cada número em uma linha do arquivo `numeros.txt`.  \n",
    "3. Depois, leia o arquivo e exiba somente os números pares.  \n"
   ]
  },
  {
   "cell_type": "code",
   "execution_count": 17,
   "id": "afab5db6-681f-48bd-9b52-8725356ad8b0",
   "metadata": {},
   "outputs": [
    {
     "name": "stdout",
     "output_type": "stream",
     "text": [
      "Números pares encontrados no arquivo:\n",
      "2\n",
      "4\n",
      "6\n",
      "8\n",
      "10\n",
      "12\n",
      "14\n",
      "16\n",
      "18\n",
      "20\n"
     ]
    }
   ],
   "source": [
    "# Exercício 3 - Solução\n",
    "with open(\"numeros.txt\", \"w\") as f:\n",
    "    for i in range(1, 21):\n",
    "        f.write(str(i) + \"\\n\")\n",
    "\n",
    "with open(\"numeros.txt\", \"r\") as f:\n",
    "    print(\"Números pares encontrados no arquivo:\")\n",
    "    for linha in f:\n",
    "        num = int(linha.strip())\n",
    "        if num % 2 == 0:\n",
    "            print(num)"
   ]
  },
  {
   "cell_type": "markdown",
   "id": "81318eaf-3a11-445f-985c-2789a1dfa679",
   "metadata": {},
   "source": [
    "---\n",
    "\n",
    "### Exercício 4 — Arquivo CSV de notas  \n",
    "1. Crie um arquivo `notas.csv` com colunas `Aluno, Nota1, Nota2`.  \n",
    "2. Adicione três registros.  \n",
    "3. Leia o arquivo e calcule a **média** de cada aluno.  \n"
   ]
  },
  {
   "cell_type": "code",
   "execution_count": 18,
   "id": "64b1d8bc-bb7c-4ba5-b7b4-5aeb9e921350",
   "metadata": {},
   "outputs": [
    {
     "name": "stdout",
     "output_type": "stream",
     "text": [
      "Ana: média = 8.50\n",
      "Carlos: média = 6.75\n",
      "Beatriz: média = 9.75\n"
     ]
    }
   ],
   "source": [
    "# Exercício 4 - Solução\n",
    "import csv\n",
    "\n",
    "with open(\"notas.csv\", \"w\", newline=\"\", encoding=\"utf-8\") as f:\n",
    "    writer = csv.writer(f)\n",
    "    writer.writerow([\"Aluno\", \"Nota1\", \"Nota2\"])\n",
    "    writer.writerow([\"Ana\", 8.0, 9.0])\n",
    "    writer.writerow([\"Carlos\", 7.5, 6.0])\n",
    "    writer.writerow([\"Beatriz\", 10.0, 9.5])\n",
    "\n",
    "with open(\"notas.csv\", \"r\", encoding=\"utf-8\") as f:\n",
    "    reader = csv.reader(f)\n",
    "    next(reader)  # pula cabeçalho\n",
    "    for linha in reader:\n",
    "        nome, n1, n2 = linha[0], float(linha[1]), float(linha[2])\n",
    "        media = (n1 + n2) / 2\n",
    "        print(f\"{nome}: média = {media:.2f}\")\n"
   ]
  },
  {
   "cell_type": "markdown",
   "id": "05cc22dc-94a4-4ad6-9763-44fa056b1639",
   "metadata": {},
   "source": [
    "---\n",
    "\n",
    "✅ **Resumo da Seção 15.6:**  \n",
    "- Aprendemos a resolver problemas práticos com arquivos de texto e CSV.  \n",
    "- Consolidamos a leitura, escrita, iteração e uso do módulo `csv`.  \n",
    "- Manipular arquivos é essencial para trabalhar com **persistência de dados** em Python.    \n"
   ]
  },
  {
   "cell_type": "code",
   "execution_count": null,
   "id": "d173600a-f58a-417c-9204-3d27525719f7",
   "metadata": {},
   "outputs": [],
   "source": []
  }
 ],
 "metadata": {
  "kernelspec": {
   "display_name": "Python 3 (ipykernel)",
   "language": "python",
   "name": "python3"
  },
  "language_info": {
   "codemirror_mode": {
    "name": "ipython",
    "version": 3
   },
   "file_extension": ".py",
   "mimetype": "text/x-python",
   "name": "python",
   "nbconvert_exporter": "python",
   "pygments_lexer": "ipython3",
   "version": "3.13.7"
  }
 },
 "nbformat": 4,
 "nbformat_minor": 5
}
