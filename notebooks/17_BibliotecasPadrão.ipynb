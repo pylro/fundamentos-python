{
 "cells": [
  {
   "cell_type": "markdown",
   "id": "187d6c48-d60d-459b-9804-19f5d5f205bf",
   "metadata": {},
   "source": [
    "# Capítulo 17 — Bibliotecas Padrão do Python 📚\n",
    "> **Adriano Pylro - Engenheiro Mecânico - Dr. Eng,** \n",
    "\n",
    "## 17.1 — Introdução à biblioteca padrão 🔎\n",
    "\n",
    "O Python vem com uma **biblioteca padrão** repleta de módulos prontos para uso.  \n",
    "Esses módulos oferecem funcionalidades que vão desde cálculos matemáticos até manipulação de arquivos, redes e datas.\n",
    "\n",
    "📌 **Vantagens da biblioteca padrão:**\n",
    "- Já vem instalada com o Python.  \n",
    "- Cobre as necessidades mais comuns de programação.  \n",
    "- Evita dependências externas.  \n",
    "\n",
    "### Importando módulos\n",
    "Para usar um módulo, precisamos importá-lo com a instrução `import`.  \n",
    "\n",
    "Formas comuns de importação:\n",
    "- `import modulo` → importa o módulo inteiro.  \n",
    "- `import modulo as apelido` → importa o módulo com um apelido.  \n",
    "- `from modulo import funcao` → importa apenas uma função/classe específica.  \n",
    "- `from modulo import *` → importa tudo (não é recomendado, pois polui o namespace).  "
   ]
  },
  {
   "cell_type": "code",
   "execution_count": 1,
   "id": "ea22fb29-23d0-4ada-9493-ddea6c09a465",
   "metadata": {},
   "outputs": [
    {
     "name": "stdout",
     "output_type": "stream",
     "text": [
      "5.0\n"
     ]
    }
   ],
   "source": [
    "# Exemplo 1: Importando o módulo inteiro\n",
    "import math\n",
    "print(math.sqrt(25))   # 5.0"
   ]
  },
  {
   "cell_type": "code",
   "execution_count": 2,
   "id": "433c8445-47e8-45a8-a592-636cc7d56d43",
   "metadata": {},
   "outputs": [
    {
     "name": "stdout",
     "output_type": "stream",
     "text": [
      "3.141592653589793\n"
     ]
    }
   ],
   "source": [
    "# Exemplo 2: Importando com apelido\n",
    "import math as m\n",
    "print(m.pi)  # 3.141592653589793"
   ]
  },
  {
   "cell_type": "code",
   "execution_count": 3,
   "id": "938c37c6-1b22-4326-9af9-979e0a5813d4",
   "metadata": {},
   "outputs": [
    {
     "name": "stdout",
     "output_type": "stream",
     "text": [
      "120\n"
     ]
    }
   ],
   "source": [
    "# Exemplo 3: Importando função específica\n",
    "from math import factorial\n",
    "print(factorial(5))  # 120"
   ]
  },
  {
   "cell_type": "markdown",
   "id": "45d0e985-e0fa-4768-b97c-7bbd7f477304",
   "metadata": {},
   "source": [
    "✅ **Resumo da Seção 17.1:**  \n",
    "- A biblioteca padrão oferece módulos prontos para uso.  \n",
    "- Existem várias formas de importação (`import`, `from ... import`).  \n",
    "- Usar apelidos (`import modulo as m`) é útil para simplificar o código.  \n",
    "\n",
    "➡️ Na próxima seção (**17.2**), exploraremos o módulo **`math`** para operações matemáticas.  "
   ]
  },
  {
   "cell_type": "markdown",
   "id": "d50101cc-fb9f-4720-841d-a75679922ad9",
   "metadata": {},
   "source": [
    "## 17.2 — Módulo `math` 🧮\n",
    "\n",
    "O módulo **`math`** fornece funções matemáticas avançadas e constantes úteis.  \n",
    "Ele é ideal para cálculos científicos, estatísticos e de engenharia.\n",
    "\n",
    "📌 **Principais funcionalidades:**\n",
    "- **Constantes matemáticas:** `math.pi`, `math.e`.  \n",
    "- **Funções básicas:** `sqrt`, `pow`, `fabs`, `factorial`.  \n",
    "- **Funções trigonométricas:** `sin`, `cos`, `tan`, `radians`, `degrees`.  \n",
    "- **Funções logarítmicas:** `log`, `log10`, `log2`.  "
   ]
  },
  {
   "cell_type": "code",
   "execution_count": 5,
   "id": "6e7c328c-ad4a-4cac-9166-b9434ab90639",
   "metadata": {},
   "outputs": [
    {
     "name": "stdout",
     "output_type": "stream",
     "text": [
      "Valor de pi: 3.141592653589793\n",
      "Valor de e: 2.718281828459045\n"
     ]
    }
   ],
   "source": [
    "import math\n",
    "\n",
    "# Exemplo 1: Constantes\n",
    "print(\"Valor de pi:\", math.pi)\n",
    "print(\"Valor de e:\", math.e)"
   ]
  },
  {
   "cell_type": "code",
   "execution_count": 6,
   "id": "66a0f546-c966-4847-a986-f43f48bf756d",
   "metadata": {},
   "outputs": [
    {
     "name": "stdout",
     "output_type": "stream",
     "text": [
      "Raiz quadrada de 25: 5.0\n",
      "Potência 2^5: 32.0\n",
      "Fatorial de 6: 720\n",
      "Valor absoluto de -10: 10.0\n"
     ]
    }
   ],
   "source": [
    "# Exemplo 2: Funções básicas\n",
    "print(\"Raiz quadrada de 25:\", math.sqrt(25))\n",
    "print(\"Potência 2^5:\", math.pow(2, 5))\n",
    "print(\"Fatorial de 6:\", math.factorial(6))\n",
    "print(\"Valor absoluto de -10:\", math.fabs(-10))"
   ]
  },
  {
   "cell_type": "code",
   "execution_count": 7,
   "id": "71e12725-9ea7-4a19-95e5-1750f7b98b90",
   "metadata": {},
   "outputs": [
    {
     "name": "stdout",
     "output_type": "stream",
     "text": [
      "Seno(45°): 0.7071067811865475\n",
      "Cosseno(45°): 0.7071067811865476\n",
      "Tangente(45°): 0.9999999999999999\n",
      "180 radianos em graus: 180.0\n"
     ]
    }
   ],
   "source": [
    "# Exemplo 3: Funções trigonométricas\n",
    "angulo_graus = 45\n",
    "angulo_radianos = math.radians(angulo_graus)\n",
    "\n",
    "print(\"Seno(45°):\", math.sin(angulo_radianos))\n",
    "print(\"Cosseno(45°):\", math.cos(angulo_radianos))\n",
    "print(\"Tangente(45°):\", math.tan(angulo_radianos))\n",
    "\n",
    "# Convertendo de radianos para graus\n",
    "print(\"180 radianos em graus:\", math.degrees(math.pi))"
   ]
  },
  {
   "cell_type": "code",
   "execution_count": 8,
   "id": "09e522c1-c7e5-4b58-baf3-55ca733706a7",
   "metadata": {},
   "outputs": [
    {
     "name": "stdout",
     "output_type": "stream",
     "text": [
      "Logaritmo natural de e: 1.0\n",
      "Logaritmo base 10 de 1000: 3.0\n",
      "Logaritmo base 2 de 8: 3.0\n"
     ]
    }
   ],
   "source": [
    "# Exemplo 4: Funções logarítmicas\n",
    "print(\"Logaritmo natural de e:\", math.log(math.e))\n",
    "print(\"Logaritmo base 10 de 1000:\", math.log10(1000))\n",
    "print(\"Logaritmo base 2 de 8:\", math.log2(8))"
   ]
  },
  {
   "cell_type": "markdown",
   "id": "c9c82426-4ad5-4a2e-a464-0d5403543a33",
   "metadata": {},
   "source": [
    "✅ **Resumo da Seção 17.2:**  \n",
    "- `math` traz constantes importantes (`pi`, `e`).  \n",
    "- Possui funções para cálculos básicos, fatoriais e valores absolutos.  \n",
    "- Inclui funções trigonométricas e logarítmicas.  \n",
    "- Conversão entre graus ↔ radianos com `radians` e `degrees`.  \n",
    "\n",
    "➡️ Na próxima seção (**17.3**), exploraremos o módulo **`datetime`** para manipulação de datas e horários.  "
   ]
  },
  {
   "cell_type": "markdown",
   "id": "66d4b078-f7bc-4c86-ac15-ab1453196916",
   "metadata": {},
   "source": [
    "## 17.3 — Módulo `datetime` ⏰\n",
    "\n",
    "O módulo **`datetime`** fornece classes e funções para manipulação de **datas** e **horários**.  \n",
    "É amplamente usado em sistemas que lidam com registros de tempo, agendamento de tarefas e relatórios.\n",
    "\n",
    "📌 **Principais classes:**\n",
    "- `date` → representa apenas uma data (ano, mês, dia).  \n",
    "- `time` → representa apenas um horário (hora, minuto, segundo, microssegundos).  \n",
    "- `datetime` → combina **data + hora** em um único objeto.  \n",
    "- `timedelta` → representa a diferença entre duas datas/horas.  "
   ]
  },
  {
   "cell_type": "code",
   "execution_count": 9,
   "id": "267ca6c7-d5c0-40aa-947c-47ac2d3f1038",
   "metadata": {},
   "outputs": [
    {
     "name": "stdout",
     "output_type": "stream",
     "text": [
      "Data de hoje: 2025-08-28\n",
      "Ano: 2025 Mês: 8 Dia: 28\n",
      "Data específica: 2025-09-01\n"
     ]
    }
   ],
   "source": [
    "from datetime import date, time, datetime, timedelta\n",
    "\n",
    "# Exemplo 1: Trabalhando com datas\n",
    "hoje = date.today()\n",
    "print(\"Data de hoje:\", hoje)\n",
    "print(\"Ano:\", hoje.year, \"Mês:\", hoje.month, \"Dia:\", hoje.day)\n",
    "\n",
    "# Criando uma data específica\n",
    "data_especifica = date(2025, 9, 1)\n",
    "print(\"Data específica:\", data_especifica)"
   ]
  },
  {
   "cell_type": "code",
   "execution_count": 10,
   "id": "9e5b239d-ab61-48eb-9a11-dc0e8f5851e1",
   "metadata": {},
   "outputs": [
    {
     "name": "stdout",
     "output_type": "stream",
     "text": [
      "Horário: 14:30:45\n",
      "Horas: 14 Minutos: 30 Segundos: 45\n"
     ]
    }
   ],
   "source": [
    "# Exemplo 2: Trabalhando com horários\n",
    "hora = time(14, 30, 45)\n",
    "print(\"Horário:\", hora)\n",
    "print(\"Horas:\", hora.hour, \"Minutos:\", hora.minute, \"Segundos:\", hora.second)"
   ]
  },
  {
   "cell_type": "code",
   "execution_count": 11,
   "id": "ad67a39f-21ed-4dfd-b1c2-8fe0f20fe307",
   "metadata": {},
   "outputs": [
    {
     "name": "stdout",
     "output_type": "stream",
     "text": [
      "Data e hora atuais: 2025-08-28 11:27:42.455498\n",
      "Evento programado: 2025-12-31 23:59:59\n"
     ]
    }
   ],
   "source": [
    "# Exemplo 3: Trabalhando com datetime (data + hora)\n",
    "agora = datetime.now()\n",
    "print(\"Data e hora atuais:\", agora)\n",
    "\n",
    "evento = datetime(2025, 12, 31, 23, 59, 59)\n",
    "print(\"Evento programado:\", evento)"
   ]
  },
  {
   "cell_type": "code",
   "execution_count": 12,
   "id": "6a8e4fed-e870-4d35-9e57-34cc49d438b1",
   "metadata": {},
   "outputs": [
    {
     "name": "stdout",
     "output_type": "stream",
     "text": [
      "Ontem: 2025-08-27 | Amanhã: 2025-08-29\n",
      "Faltam 119 dias para o Natal.\n"
     ]
    }
   ],
   "source": [
    "# Exemplo 4: Operações com timedelta\n",
    "ontem = hoje - timedelta(days=1)\n",
    "amanha = hoje + timedelta(days=1)\n",
    "print(\"Ontem:\", ontem, \"| Amanhã:\", amanha)\n",
    "\n",
    "# Diferença entre datas\n",
    "natal = date(2025, 12, 25)\n",
    "dias_para_natal = natal - hoje\n",
    "print(\"Faltam\", dias_para_natal.days, \"dias para o Natal.\")"
   ]
  },
  {
   "cell_type": "code",
   "execution_count": 13,
   "id": "9b821acc-55d2-4b0d-a5d2-9b1346c487ac",
   "metadata": {},
   "outputs": [
    {
     "name": "stdout",
     "output_type": "stream",
     "text": [
      "Data formatada: 28/08/2025 11:27:42\n",
      "Data convertida: 2025-08-15 18:30:00\n"
     ]
    }
   ],
   "source": [
    "# Exemplo 5: Formatando e convertendo datas\n",
    "# strftime → formata datetime em string\n",
    "print(\"Data formatada:\", agora.strftime(\"%d/%m/%Y %H:%M:%S\"))\n",
    "\n",
    "# strptime → converte string em datetime\n",
    "texto = \"15/08/2025 18:30:00\"\n",
    "data_convertida = datetime.strptime(texto, \"%d/%m/%Y %H:%M:%S\")\n",
    "print(\"Data convertida:\", data_convertida)"
   ]
  },
  {
   "cell_type": "markdown",
   "id": "f9e6bd01-6885-4402-bce0-1187718acbd3",
   "metadata": {},
   "source": [
    "✅ **Resumo da Seção 17.3:**  \n",
    "- `date`, `time`, `datetime` representam datas e horários.  \n",
    "- `timedelta` permite operações com intervalos de tempo.  \n",
    "- `strftime` formata datas para string.  \n",
    "- `strptime` converte strings para objetos `datetime`.  \n",
    "\n",
    "➡️ Na próxima seção (**17.4**), exploraremos o módulo **`random`** para geração de números aleatórios e simulações.  "
   ]
  },
  {
   "cell_type": "markdown",
   "id": "0a534e9a-cfaf-4a9e-bc36-8e40517f264c",
   "metadata": {},
   "source": [
    "## 17.4 — Módulo `random` 🎲\n",
    "\n",
    "O módulo **`random`** é usado para gerar **números pseudoaleatórios** e realizar operações comuns em simulações, sorteios e testes.  \n",
    "\n",
    "📌 **Principais funcionalidades:**\n",
    "- `random()` → retorna um float entre 0.0 e 1.0.  \n",
    "- `randint(a, b)` → retorna um inteiro aleatório entre `a` e `b` (inclusivos).  \n",
    "- `uniform(a, b)` → retorna um float entre `a` e `b`.  \n",
    "- `choice(seq)` → retorna um elemento aleatório de uma sequência.  \n",
    "- `sample(seq, k)` → retorna uma amostra de `k` elementos sem repetição.  \n",
    "- `shuffle(seq)` → embaralha os elementos de uma lista.  "
   ]
  },
  {
   "cell_type": "code",
   "execution_count": 14,
   "id": "ae450637-b47b-4dfa-bbdf-ecbb52d09409",
   "metadata": {},
   "outputs": [
    {
     "name": "stdout",
     "output_type": "stream",
     "text": [
      "Float aleatório entre 0 e 1: 0.9937602031217408\n",
      "Inteiro aleatório entre 1 e 10: 6\n",
      "Float aleatório entre 1 e 5: 2.2941658286869333\n"
     ]
    }
   ],
   "source": [
    "import random\n",
    "\n",
    "# Exemplo 1: Números aleatórios\n",
    "print(\"Float aleatório entre 0 e 1:\", random.random())\n",
    "print(\"Inteiro aleatório entre 1 e 10:\", random.randint(1, 10))\n",
    "print(\"Float aleatório entre 1 e 5:\", random.uniform(1, 5))"
   ]
  },
  {
   "cell_type": "code",
   "execution_count": 15,
   "id": "a2c4ab9b-e448-4c69-b2ea-5eceb766a21f",
   "metadata": {},
   "outputs": [
    {
     "name": "stdout",
     "output_type": "stream",
     "text": [
      "Fruta sorteada: abacaxi\n",
      "Amostra de 3 frutas: ['laranja', 'banana', 'uva']\n"
     ]
    }
   ],
   "source": [
    "# Exemplo 2: Seleção aleatória\n",
    "frutas = [\"maçã\", \"banana\", \"uva\", \"laranja\", \"abacaxi\"]\n",
    "\n",
    "print(\"Fruta sorteada:\", random.choice(frutas))\n",
    "print(\"Amostra de 3 frutas:\", random.sample(frutas, 3))"
   ]
  },
  {
   "cell_type": "code",
   "execution_count": 16,
   "id": "25f935cb-187f-4436-aa27-2b3960c46e3e",
   "metadata": {},
   "outputs": [
    {
     "name": "stdout",
     "output_type": "stream",
     "text": [
      "Cartas embaralhadas: ['K', 'Q', 'A', '10', 'J', '9']\n"
     ]
    }
   ],
   "source": [
    "# Exemplo 3: Embaralhando uma lista\n",
    "cartas = [\"A\", \"K\", \"Q\", \"J\", \"10\", \"9\"]\n",
    "random.shuffle(cartas)\n",
    "print(\"Cartas embaralhadas:\", cartas)"
   ]
  },
  {
   "cell_type": "code",
   "execution_count": 17,
   "id": "34b52fce-226c-4f33-9f1f-172f08687234",
   "metadata": {},
   "outputs": [
    {
     "name": "stdout",
     "output_type": "stream",
     "text": [
      "Lançando o dado: 1\n"
     ]
    }
   ],
   "source": [
    "# Exemplo 4: Simulação - lançamento de dado\n",
    "def jogar_dado():\n",
    "    return random.randint(1, 6)\n",
    "\n",
    "print(\"Lançando o dado:\", jogar_dado())"
   ]
  },
  {
   "cell_type": "markdown",
   "id": "68d7677c-e3c8-45fc-b1ae-132c68f192e2",
   "metadata": {},
   "source": [
    "✅ **Resumo da Seção 17.4:**  \n",
    "- `random()` gera floats entre 0 e 1.  \n",
    "- `randint()` e `uniform()` geram inteiros ou floats em intervalos definidos.  \n",
    "- `choice()`, `sample()` e `shuffle()` ajudam em sorteios e embaralhamentos.  \n",
    "- Muito usado em **simulações, testes e jogos**.  \n",
    "\n",
    "➡️ Na próxima seção (**17.5**), exploraremos os módulos **`os`** e **`sys`** para interação com o sistema operacional.  "
   ]
  },
  {
   "cell_type": "markdown",
   "id": "c7e7263d-08d9-47a4-b46b-6ebfed389f05",
   "metadata": {},
   "source": [
    "## 17.5 — Módulos `os` e `sys` 💻\n",
    "\n",
    "Os módulos **`os`** e **`sys`** permitem interagir diretamente com o **sistema operacional** e o **ambiente de execução do Python**.  \n",
    "São muito usados para automação, manipulação de arquivos e pastas, e para acessar argumentos passados ao programa.  \n",
    "\n",
    "---\n",
    "\n",
    "### 🔹 Módulo `os`\n",
    "O módulo `os` fornece funções para lidar com arquivos, diretórios e variáveis de ambiente.  \n",
    "\n",
    "📌 Funcionalidades principais:  \n",
    "- `os.getcwd()` → retorna o diretório de trabalho atual.  \n",
    "- `os.listdir(path)` → lista arquivos e pastas.  \n",
    "- `os.mkdir(path)` → cria diretório.  \n",
    "- `os.rmdir(path)` → remove diretório vazio.  \n",
    "- `os.remove(path)` → remove arquivo.  \n",
    "- `os.path.exists(path)` → verifica se arquivo/pasta existe.  "
   ]
  },
  {
   "cell_type": "code",
   "execution_count": 19,
   "id": "93307794-78d9-49d4-a2a8-5fe11fe9e133",
   "metadata": {},
   "outputs": [
    {
     "name": "stdout",
     "output_type": "stream",
     "text": [
      "Diretório atual: /Users/adrianopylro/Projetos/trilha_python/notebooks\n",
      "Arquivos e pastas: ['saida.txt', '11_Tuplas.ipynb', '.DS_Store', '15_Arquivos.ipynb', 'multilinhas.txt', 'produtos.csv', 'notas.csv', '09_Listas.ipynb', 'conta.py', 'alunos.csv', '13_POO.ipynb', '__pycache__', '01_Intro_Python.ipynb', '05_Laços.ipynb', '06_Funções.ipynb', 'dados.txt', 'log.txt', '02_Expressões.ipynb', 'numeros.txt', '16_Exceções.ipynb', 'exemplo.txt', '17_BibliotecasPadrão.ipynb', '12_Sets.ipynb', '03_Objetos.ipynb', '.ipynb_checkpoints', '08_Strings.ipynb', '14_POO_Herança.ipynb', '10_Dicionários.ipynb', '04_Decisões.ipynb', '07_Módulos.ipynb']\n",
      "Pasta 'teste' criada!\n",
      "Pasta 'teste' removida!\n"
     ]
    }
   ],
   "source": [
    "import os\n",
    "\n",
    "# Diretório de trabalho atual\n",
    "print(\"Diretório atual:\", os.getcwd())\n",
    "\n",
    "# Listando arquivos do diretório\n",
    "print(\"Arquivos e pastas:\", os.listdir(\".\"))\n",
    "\n",
    "# Criando e removendo diretório\n",
    "if not os.path.exists(\"teste\"):\n",
    "    os.mkdir(\"teste\")\n",
    "    print(\"Pasta 'teste' criada!\")\n",
    "\n",
    "if os.path.exists(\"teste\"):\n",
    "    os.rmdir(\"teste\")\n",
    "    print(\"Pasta 'teste' removida!\")"
   ]
  },
  {
   "cell_type": "markdown",
   "id": "9ee87bef-f30a-42e7-b6b7-d5bf44020e3b",
   "metadata": {},
   "source": [
    "### 🔹 Módulo `sys`\n",
    "O módulo `sys` fornece informações e funções relacionadas ao interpretador Python e ao ambiente de execução.  \n",
    "\n",
    "📌 Funcionalidades principais:  \n",
    "- `sys.version` → versão do Python.  \n",
    "- `sys.platform` → sistema operacional.  \n",
    "- `sys.argv` → lista de argumentos passados pela linha de comando.  \n",
    "- `sys.exit()` → encerra a execução do programa.  "
   ]
  },
  {
   "cell_type": "code",
   "execution_count": 20,
   "id": "e0028daf-41e5-48ca-98cc-8e682accbf0c",
   "metadata": {},
   "outputs": [
    {
     "name": "stdout",
     "output_type": "stream",
     "text": [
      "Versão do Python: 3.13.7 (main, Aug 14 2025, 11:12:11) [Clang 17.0.0 (clang-1700.0.13.3)]\n",
      "Plataforma: darwin\n",
      "Argumentos recebidos: ['/Users/adrianopylro/Projetos/trilha_python/venv/lib/python3.13/site-packages/ipykernel_launcher.py', '-f', '/Users/adrianopylro/Library/Jupyter/runtime/kernel-de6b37e4-2342-42a3-8ca8-86ec933a29e9.json']\n"
     ]
    }
   ],
   "source": [
    "import sys\n",
    "\n",
    "print(\"Versão do Python:\", sys.version)\n",
    "print(\"Plataforma:\", sys.platform)\n",
    "\n",
    "# Simulando argumentos da linha de comando\n",
    "print(\"Argumentos recebidos:\", sys.argv)  # lista de strings"
   ]
  },
  {
   "cell_type": "markdown",
   "id": "6ed6af2e-88d4-4f68-b638-43727c084a43",
   "metadata": {},
   "source": [
    "✅ **Resumo da Seção 17.5:**  \n",
    "- O módulo **`os`** manipula diretórios, arquivos e variáveis de ambiente.  \n",
    "- O módulo **`sys`** dá acesso a informações sobre o interpretador e os argumentos de execução.  \n",
    "- Juntos, permitem criar **scripts utilitários e ferramentas de automação**.  \n",
    "\n",
    "➡️ Na próxima seção (**17.6**), exploraremos o módulo **`json`**, usado para ler e escrever dados em formato JSON.  \n"
   ]
  },
  {
   "cell_type": "markdown",
   "id": "137a59d2-6f08-4cff-8c9b-147b50939446",
   "metadata": {},
   "source": [
    "## 17.6 — Módulo `json` 📑\n",
    "\n",
    "O formato **JSON (JavaScript Object Notation)** é muito usado para **troca de dados** entre sistemas, APIs e arquivos de configuração.  \n",
    "Em Python, o módulo **`json`** facilita a conversão entre **dicionários Python** e **strings JSON**.\n",
    "\n",
    "📌 **Principais funções:**\n",
    "- `json.dump(obj, arquivo)` → grava objeto em arquivo JSON.  \n",
    "- `json.dumps(obj)` → converte objeto em string JSON.  \n",
    "- `json.load(arquivo)` → lê objeto a partir de arquivo JSON.  \n",
    "- `json.loads(string)` → converte string JSON em objeto Python.  "
   ]
  },
  {
   "cell_type": "code",
   "execution_count": 21,
   "id": "79ae9553-d9ae-4660-b458-3037d43c039d",
   "metadata": {},
   "outputs": [
    {
     "name": "stdout",
     "output_type": "stream",
     "text": [
      "JSON string: {\"nome\": \"Ana\", \"idade\": 25, \"curso\": \"Engenharia\"}\n",
      "Tipo: <class 'str'>\n"
     ]
    }
   ],
   "source": [
    "import json\n",
    "\n",
    "# Exemplo 1: Python dict → JSON string\n",
    "dados = {\"nome\": \"Ana\", \"idade\": 25, \"curso\": \"Engenharia\"}\n",
    "json_str = json.dumps(dados)\n",
    "print(\"JSON string:\", json_str)\n",
    "print(\"Tipo:\", type(json_str))"
   ]
  },
  {
   "cell_type": "code",
   "execution_count": 22,
   "id": "d66dac4c-a39b-4ab2-a05b-704bacda2a5f",
   "metadata": {},
   "outputs": [
    {
     "name": "stdout",
     "output_type": "stream",
     "text": [
      "Objeto Python: {'produto': 'Caneta', 'preco': 2.5, 'quantidade': 10}\n",
      "Tipo: <class 'dict'>\n"
     ]
    }
   ],
   "source": [
    "# Exemplo 2: JSON string → Python dict\n",
    "texto = '{\"produto\": \"Caneta\", \"preco\": 2.5, \"quantidade\": 10}'\n",
    "obj = json.loads(texto)\n",
    "print(\"Objeto Python:\", obj)\n",
    "print(\"Tipo:\", type(obj))"
   ]
  },
  {
   "cell_type": "code",
   "execution_count": 23,
   "id": "e93abadf-220f-4d93-b026-f682c718bddc",
   "metadata": {},
   "outputs": [
    {
     "name": "stdout",
     "output_type": "stream",
     "text": [
      "Arquivo 'dados.json' criado!\n"
     ]
    }
   ],
   "source": [
    "# Exemplo 3: Gravando JSON em arquivo\n",
    "with open(\"dados.json\", \"w\", encoding=\"utf-8\") as f:\n",
    "    json.dump(dados, f, ensure_ascii=False, indent=4)\n",
    "\n",
    "print(\"Arquivo 'dados.json' criado!\")"
   ]
  },
  {
   "cell_type": "code",
   "execution_count": 24,
   "id": "1186c025-892e-41dc-b7d7-b1789d11a8a7",
   "metadata": {},
   "outputs": [
    {
     "name": "stdout",
     "output_type": "stream",
     "text": [
      "Conteúdo do arquivo: {'nome': 'Ana', 'idade': 25, 'curso': 'Engenharia'}\n"
     ]
    }
   ],
   "source": [
    "# Exemplo 4: Lendo JSON de arquivo\n",
    "with open(\"dados.json\", \"r\", encoding=\"utf-8\") as f:\n",
    "    conteudo = json.load(f)\n",
    "    print(\"Conteúdo do arquivo:\", conteudo)"
   ]
  },
  {
   "cell_type": "markdown",
   "id": "0fbc3882-9fb5-4415-a091-82200038c754",
   "metadata": {},
   "source": [
    "### Observações importantes ⚠️\n",
    "- `dumps` / `loads` → trabalham com **strings**.  \n",
    "- `dump` / `load` → trabalham com **arquivos**.  \n",
    "- Sempre use `ensure_ascii=False` para preservar acentos em português.  \n",
    "- O parâmetro `indent` melhora a legibilidade do JSON gravado.  \n",
    "\n",
    "✅ **Resumo da Seção 17.6:**  \n",
    "- O módulo `json` converte entre objetos Python e JSON.  \n",
    "- Facilita integração com APIs e armazenamento de dados.  \n",
    "- Muito usado em aplicações web, sistemas distribuídos e arquivos de configuração.  "
   ]
  },
  {
   "cell_type": "markdown",
   "id": "c27114a3-c3d9-4e8f-8f7d-3c715ddd6f0c",
   "metadata": {},
   "source": [
    "## 17.7 — Exercícios práticos integrados 📝\n",
    "\n",
    "Agora vamos aplicar os módulos da biblioteca padrão vistos neste capítulo em situações reais.\n",
    "\n",
    "---\n",
    "\n",
    "### Exercício 1 — Cálculos matemáticos com `math`\n",
    "1. Peça ao usuário um número.  \n",
    "2. Calcule a **raiz quadrada**, o **fatorial** e o **logaritmo base 10**.  "
   ]
  },
  {
   "cell_type": "code",
   "execution_count": 25,
   "id": "7f602d9c-f887-457e-8bcc-dbbf05dd8056",
   "metadata": {},
   "outputs": [
    {
     "name": "stdout",
     "output_type": "stream",
     "text": [
      "Número: 5\n",
      "Raiz quadrada: 2.23606797749979\n",
      "Fatorial: 120\n",
      "Log10: 0.6989700043360189\n"
     ]
    }
   ],
   "source": [
    "import math\n",
    "\n",
    "def analise_numero(n):\n",
    "    print(\"Número:\", n)\n",
    "    print(\"Raiz quadrada:\", math.sqrt(n))\n",
    "    print(\"Fatorial:\", math.factorial(n))\n",
    "    print(\"Log10:\", math.log10(n))\n",
    "\n",
    "analise_numero(5)"
   ]
  },
  {
   "cell_type": "markdown",
   "id": "243d7bc7-cb3e-436a-a4e3-1579db7930f7",
   "metadata": {},
   "source": [
    "### Exercício 2 — Relatório de datas com `datetime`\n",
    "1. Mostre a data e hora atuais.  \n",
    "2. Calcule a diferença em dias entre hoje e o próximo Ano Novo.  "
   ]
  },
  {
   "cell_type": "code",
   "execution_count": 26,
   "id": "def6c990-4277-4b51-b76a-1a81a4754da5",
   "metadata": {},
   "outputs": [
    {
     "name": "stdout",
     "output_type": "stream",
     "text": [
      "Hoje: 2025-08-28\n",
      "Próximo Ano Novo: 2026-01-01\n",
      "Faltam 126 dias para o Ano Novo.\n"
     ]
    }
   ],
   "source": [
    "from datetime import date, datetime\n",
    "\n",
    "hoje = date.today()\n",
    "ano_novo = date(hoje.year + 1, 1, 1)\n",
    "dias_faltam = (ano_novo - hoje).days\n",
    "\n",
    "print(\"Hoje:\", hoje)\n",
    "print(\"Próximo Ano Novo:\", ano_novo)\n",
    "print(\"Faltam\", dias_faltam, \"dias para o Ano Novo.\")"
   ]
  },
  {
   "cell_type": "markdown",
   "id": "08a12201-1462-4d0d-8b8c-7513c131d7e2",
   "metadata": {},
   "source": [
    "### Exercício 3 — Sorteio com `random`\n",
    "1. Crie uma lista com 10 nomes.  \n",
    "2. Sorteie 3 ganhadores diferentes.  "
   ]
  },
  {
   "cell_type": "code",
   "execution_count": 27,
   "id": "0f3fedee-d3e3-410c-ad6c-474e51c59a51",
   "metadata": {},
   "outputs": [
    {
     "name": "stdout",
     "output_type": "stream",
     "text": [
      "Ganhadores do sorteio: ['Julia', 'Daniela', 'Gabriel']\n"
     ]
    }
   ],
   "source": [
    "import random\n",
    "\n",
    "nomes = [\"Ana\", \"Bruno\", \"Carlos\", \"Daniela\", \"Eduardo\", \"Fernanda\", \"Gabriel\", \"Helena\", \"Igor\", \"Julia\"]\n",
    "ganhadores = random.sample(nomes, 3)\n",
    "\n",
    "print(\"Ganhadores do sorteio:\", ganhadores)"
   ]
  },
  {
   "cell_type": "markdown",
   "id": "ea4d85ef-d6f7-4ea8-84d1-0c6417c4445f",
   "metadata": {},
   "source": [
    "### Exercício 4 — Organização de diretórios com `os`\n",
    "1. Crie uma pasta chamada `relatorios`.  \n",
    "2. Dentro dela, crie um arquivo `info.txt` e escreva `\"Relatório gerado com sucesso\"`.  \n",
    "3. Liste os arquivos da pasta criada.  "
   ]
  },
  {
   "cell_type": "code",
   "execution_count": 28,
   "id": "f1ebff00-c8a7-4623-84c6-1c848d7574b8",
   "metadata": {},
   "outputs": [
    {
     "name": "stdout",
     "output_type": "stream",
     "text": [
      "Arquivos na pasta 'relatorios': ['info.txt']\n"
     ]
    }
   ],
   "source": [
    "import os\n",
    "\n",
    "if not os.path.exists(\"relatorios\"):\n",
    "    os.mkdir(\"relatorios\")\n",
    "\n",
    "with open(\"relatorios/info.txt\", \"w\", encoding=\"utf-8\") as f:\n",
    "    f.write(\"Relatório gerado com sucesso\")\n",
    "\n",
    "print(\"Arquivos na pasta 'relatorios':\", os.listdir(\"relatorios\"))"
   ]
  },
  {
   "cell_type": "markdown",
   "id": "cd3745f9-4439-409f-b7ce-5696d77be35f",
   "metadata": {},
   "source": [
    "### Exercício 5 — Dados em JSON com `json`\n",
    "1. Crie um dicionário com informações de um aluno (`nome`, `curso`, `notas`).  \n",
    "2. Grave o dicionário em `aluno.json`.  \n",
    "3. Leia o arquivo de volta e calcule a média das notas.  "
   ]
  },
  {
   "cell_type": "code",
   "execution_count": 29,
   "id": "83fb29d6-9149-4ef2-939e-1c13be00c4d2",
   "metadata": {},
   "outputs": [
    {
     "name": "stdout",
     "output_type": "stream",
     "text": [
      "Média de Mariana: 8.333333333333334\n"
     ]
    }
   ],
   "source": [
    "import json\n",
    "\n",
    "aluno = {\"nome\": \"Mariana\", \"curso\": \"Engenharia\", \"notas\": [8.5, 9.0, 7.5]}\n",
    "\n",
    "with open(\"aluno.json\", \"w\", encoding=\"utf-8\") as f:\n",
    "    json.dump(aluno, f, ensure_ascii=False, indent=4)\n",
    "\n",
    "with open(\"aluno.json\", \"r\", encoding=\"utf-8\") as f:\n",
    "    dados = json.load(f)\n",
    "\n",
    "media = sum(dados[\"notas\"]) / len(dados[\"notas\"])\n",
    "print(f\"Média de {dados['nome']}:\", media)"
   ]
  },
  {
   "cell_type": "markdown",
   "id": "0afc0cb7-1f19-4909-a6e6-ecb6fafe09fc",
   "metadata": {},
   "source": [
    "✅ **Resumo da Seção 17.7:**  \n",
    "- Integramos os módulos `math`, `datetime`, `random`, `os` e `json`.  \n",
    "- Criamos cálculos, relatórios de datas, sorteios, manipulação de diretórios e arquivos JSON.  \n",
    "- Esses módulos são a base para construir aplicações úteis e robustas sem depender de bibliotecas externas.  \n",
    "\n",
    "📌 **Conclusão do Capítulo 17:**  \n",
    "- Vimos a importância da **biblioteca padrão do Python**.  \n",
    "- Aprendemos a usar módulos fundamentais no dia a dia.  \n",
    "- Agora estamos prontos para explorar **bibliotecas externas** e avançar em aplicações específicas.  "
   ]
  },
  {
   "cell_type": "code",
   "execution_count": null,
   "id": "8ef4ad3a-2162-4a62-9b88-9a10705db54e",
   "metadata": {},
   "outputs": [],
   "source": []
  }
 ],
 "metadata": {
  "kernelspec": {
   "display_name": "Python 3 (ipykernel)",
   "language": "python",
   "name": "python3"
  },
  "language_info": {
   "codemirror_mode": {
    "name": "ipython",
    "version": 3
   },
   "file_extension": ".py",
   "mimetype": "text/x-python",
   "name": "python",
   "nbconvert_exporter": "python",
   "pygments_lexer": "ipython3",
   "version": "3.13.7"
  }
 },
 "nbformat": 4,
 "nbformat_minor": 5
}
