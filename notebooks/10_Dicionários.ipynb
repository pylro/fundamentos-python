{
 "cells": [
  {
   "cell_type": "markdown",
   "id": "2d5271ae-10d8-4456-b646-044ba4f6cb3b",
   "metadata": {},
   "source": [
    "# Cpítulo 10 - Dicionários\n",
    "> **Adriano Pylro - Engenheiro Mecânico - Dr. Eng,** \n",
    "\n",
    "## 📖 10.1 — Fundamentos de Dicionários (*Dictionary Basics*)\n",
    "\n",
    "Um **dicionário** (*dictionary*) em Python é uma coleção de pares **chave–valor** (*key–value*), onde cada chave é **única** e mapeia para um valor associado.  \n",
    "\n",
    "É uma estrutura de dados **mutável**, amplamente utilizada para armazenar e recuperar dados de forma eficiente com base em uma chave.\n",
    "\n",
    "---\n",
    "\n",
    "### 🔑 Características principais\n",
    "- **Chaves únicas**: não podem se repetir no mesmo dicionário.\n",
    "- **Valores variados**: podem ser de qualquer tipo (inclusive listas, outros dicionários etc.).\n",
    "- **Mutabilidade**: é possível alterar, adicionar ou remover pares após a criação.\n",
    "- **Ordem preservada**: a partir do Python 3.7, a ordem de inserção é mantida.\n",
    "\n",
    "---\n",
    "\n",
    "### 🏗 Estrutura e sintaxe\n",
    "A forma mais comum de criar um dicionário é utilizando chaves `{}` com pares separados por vírgula e `:` para separar chave e valor:"
   ]
  },
  {
   "cell_type": "code",
   "execution_count": 1,
   "id": "439fd32c-bed5-4de5-a814-feeb20a8eb47",
   "metadata": {},
   "outputs": [
    {
     "name": "stdout",
     "output_type": "stream",
     "text": [
      "{'nome': 'Ana', 'idade': 25, 'cidade': 'Belo Horizonte'}\n"
     ]
    }
   ],
   "source": [
    "meu_dict = {\n",
    "    \"nome\": \"Ana\",\n",
    "    \"idade\": 25,\n",
    "    \"cidade\": \"Belo Horizonte\"\n",
    "}\n",
    "print(meu_dict)"
   ]
  },
  {
   "cell_type": "markdown",
   "id": "2995f4bf-0965-46ae-ba21-e9c41bfcfce4",
   "metadata": {},
   "source": [
    "Outra forma é usar o construtor `dict()`:"
   ]
  },
  {
   "cell_type": "code",
   "execution_count": 2,
   "id": "fcbe5aa0-3edd-40e4-a073-e1fec591980b",
   "metadata": {},
   "outputs": [
    {
     "name": "stdout",
     "output_type": "stream",
     "text": [
      "{'nome': 'Ana', 'idade': 25, 'cidade': 'Belo Horizonte'}\n"
     ]
    }
   ],
   "source": [
    "meu_dict = dict(nome=\"Ana\", idade=25, cidade=\"Belo Horizonte\")\n",
    "print(meu_dict)"
   ]
  },
  {
   "cell_type": "markdown",
   "id": "c0f09352-d99a-43b0-afac-558b7f087fd7",
   "metadata": {},
   "source": [
    "### 📥 Acessando valores\n",
    "\n",
    "Para acessar o valor associado a uma chave, usamos colchetes `[]`:"
   ]
  },
  {
   "cell_type": "code",
   "execution_count": 3,
   "id": "e27903b9-d48b-48b6-9229-69a8625f7ae6",
   "metadata": {},
   "outputs": [
    {
     "name": "stdout",
     "output_type": "stream",
     "text": [
      "Ana\n"
     ]
    }
   ],
   "source": [
    "print(meu_dict[\"nome\"])  # Saída: Ana"
   ]
  },
  {
   "cell_type": "markdown",
   "id": "8af4c38b-486f-488e-b371-81c78f8a276a",
   "metadata": {},
   "source": [
    "> ⚠ Se a chave não existir, isso gera um erro `KeyError`.\n",
    "\n",
    "Para evitar erros, podemos usar o método `.get()`:"
   ]
  },
  {
   "cell_type": "code",
   "execution_count": 4,
   "id": "7a1d8279-b2d1-42d7-bd77-28e402ce7f20",
   "metadata": {},
   "outputs": [
    {
     "name": "stdout",
     "output_type": "stream",
     "text": [
      "Não informado\n"
     ]
    }
   ],
   "source": [
    "print(meu_dict.get(\"profissao\", \"Não informado\"))"
   ]
  },
  {
   "cell_type": "markdown",
   "id": "5eca3c18-8c20-419c-8c75-a99cd2a6b9c4",
   "metadata": {},
   "source": [
    "### ✏ Adicionando e modificando pares\n",
    "\n",
    "Basta atribuir um valor a uma chave, seja ela existente ou nova:"
   ]
  },
  {
   "cell_type": "code",
   "execution_count": 5,
   "id": "4e90d24d-56c1-4a1d-ac81-0346be131fae",
   "metadata": {},
   "outputs": [
    {
     "name": "stdout",
     "output_type": "stream",
     "text": [
      "{'nome': 'Ana', 'idade': 26, 'cidade': 'Belo Horizonte', 'profissao': 'Engenheira'}\n"
     ]
    }
   ],
   "source": [
    "meu_dict[\"idade\"] = 26         # Modifica\n",
    "meu_dict[\"profissao\"] = \"Engenheira\"  # Adiciona\n",
    "print(meu_dict)"
   ]
  },
  {
   "cell_type": "markdown",
   "id": "cd2ae658-2f0b-48a8-b8aa-122c50185779",
   "metadata": {},
   "source": [
    "### 🗑 Removendo pares\n",
    "\n",
    "Usando `del`:"
   ]
  },
  {
   "cell_type": "code",
   "execution_count": 6,
   "id": "14e5e14d-9aa4-40c5-a5f3-647fcca977e5",
   "metadata": {},
   "outputs": [
    {
     "name": "stdout",
     "output_type": "stream",
     "text": [
      "{'nome': 'Ana', 'idade': 26, 'profissao': 'Engenheira'}\n"
     ]
    }
   ],
   "source": [
    "del meu_dict[\"cidade\"]\n",
    "print(meu_dict)"
   ]
  },
  {
   "cell_type": "markdown",
   "id": "9e72d11d-7125-4b09-82d4-5d388389960d",
   "metadata": {},
   "source": [
    "Usando `.pop()`:"
   ]
  },
  {
   "cell_type": "code",
   "execution_count": 7,
   "id": "b9cacf90-43a0-426e-a570-5214087fc1da",
   "metadata": {},
   "outputs": [
    {
     "name": "stdout",
     "output_type": "stream",
     "text": [
      "{'nome': 'Ana', 'idade': 26}\n"
     ]
    }
   ],
   "source": [
    "profissao = meu_dict.pop(\"profissao\", None)\n",
    "print(meu_dict)"
   ]
  },
  {
   "cell_type": "markdown",
   "id": "f7781434-4cfd-417b-a32d-8a896767f4d4",
   "metadata": {},
   "source": [
    "> O segundo argumento evita erro se a chave não existir."
   ]
  },
  {
   "cell_type": "markdown",
   "id": "47a35c67-a786-4602-8dbf-202f06e2df6d",
   "metadata": {
    "jp-MarkdownHeadingCollapsed": true
   },
   "source": [
    "### 📌 Exemplo visual\n",
    "\n",
    "| Operação  | Código              | Resultado                     |\n",
    "|-----------|---------------------|--------------------------------|\n",
    "| Criar     | `{\"a\": 1, \"b\": 2}`  | `{\"a\": 1, \"b\": 2}`             |\n",
    "| Acessar   | `d[\"a\"]`            | `1`                            |\n",
    "| Adicionar | `d[\"c\"] = 3`        | `{\"a\": 1, \"b\": 2, \"c\": 3}`     |\n",
    "| Modificar | `d[\"a\"] = 99`       | `{\"a\": 99, \"b\": 2}`            |\n",
    "| Remover   | `del d[\"b\"]`        | `{\"a\": 99}`                    |\n"
   ]
  },
  {
   "cell_type": "markdown",
   "id": "07db0a81-b9ea-489f-abf6-0b23f1e9260a",
   "metadata": {},
   "source": [
    "### 📌 Exemplo básico de uso de dicionário"
   ]
  },
  {
   "cell_type": "code",
   "execution_count": 8,
   "id": "18e5ea64-4962-4dfd-bf6a-d1d0904a6858",
   "metadata": {},
   "outputs": [
    {
     "name": "stdout",
     "output_type": "stream",
     "text": [
      "Nome: Ana\n",
      "Idade: 25\n",
      "Profissão: Não informado\n"
     ]
    }
   ],
   "source": [
    "meu_dict = {\n",
    "    \"nome\": \"Ana\",\n",
    "    \"idade\": 25,\n",
    "    \"cidade\": \"Belo Horizonte\"\n",
    "}\n",
    "\n",
    "print(\"Nome:\", meu_dict[\"nome\"])\n",
    "print(\"Idade:\", meu_dict.get(\"idade\"))\n",
    "print(\"Profissão:\", meu_dict.get(\"profissao\", \"Não informado\"))"
   ]
  },
  {
   "cell_type": "code",
   "execution_count": 9,
   "id": "676ca421-a488-47a7-8c80-2991b4c73c35",
   "metadata": {},
   "outputs": [],
   "source": [
    "# Adicionando e modificando\n",
    "meu_dict[\"idade\"] = 26\n",
    "meu_dict[\"profissao\"] = \"Engenheira\""
   ]
  },
  {
   "cell_type": "code",
   "execution_count": 10,
   "id": "600b76b0-4b61-487c-ab0d-571096d3d191",
   "metadata": {},
   "outputs": [
    {
     "name": "stdout",
     "output_type": "stream",
     "text": [
      "\n",
      "Dicionário final: {'nome': 'Ana', 'idade': 26, 'profissao': 'Engenheira'}\n",
      "Removido: Belo Horizonte\n"
     ]
    }
   ],
   "source": [
    "# Removendo\n",
    "removido = meu_dict.pop(\"cidade\", None)\n",
    "\n",
    "print(\"\\nDicionário final:\", meu_dict)\n",
    "print(\"Removido:\", removido)"
   ]
  },
  {
   "cell_type": "markdown",
   "id": "44eb711f-604d-4180-81b3-913090df2b52",
   "metadata": {},
   "source": [
    "### 🛠 Boas práticas com dicionários\n",
    "- Prefira `.get()` quando não tiver certeza de que a chave existe.\n",
    "- Use nomes de chave claros e consistentes, especialmente em aplicações grandes.\n",
    "- Para verificar se uma chave existe, utilize o operador `in`:\n",
    "```python\n",
    "if \"nome\" in meu_dict:\n",
    "    print(\"Chave encontrada!\")\n",
    "```"
   ]
  },
  {
   "cell_type": "markdown",
   "id": "34dce0ed-9997-46f7-932c-cd43926fd9ff",
   "metadata": {},
   "source": [
    "#### Para iterar sobre chaves e valores, use:"
   ]
  },
  {
   "cell_type": "code",
   "execution_count": 11,
   "id": "a05ea9f5-fede-4cbf-9e0d-cc89348c78b1",
   "metadata": {},
   "outputs": [
    {
     "name": "stdout",
     "output_type": "stream",
     "text": [
      "nome → Ana\n",
      "idade → 26\n",
      "profissao → Engenheira\n"
     ]
    }
   ],
   "source": [
    "for chave, valor in meu_dict.items():\n",
    "    print(chave, \"→\", valor)\n"
   ]
  },
  {
   "cell_type": "markdown",
   "id": "1014910a-fed5-4a9d-b406-c9cd1cef8a8c",
   "metadata": {},
   "source": [
    "#### Iterando sobre um dicionário"
   ]
  },
  {
   "cell_type": "code",
   "execution_count": 12,
   "id": "3855ba78-bfb2-4577-a868-a10657716a51",
   "metadata": {},
   "outputs": [
    {
     "name": "stdout",
     "output_type": "stream",
     "text": [
      "nome → Ana\n",
      "idade → 26\n",
      "profissao → Engenheira\n"
     ]
    }
   ],
   "source": [
    "for chave, valor in meu_dict.items():\n",
    "    print(f\"{chave} → {valor}\")"
   ]
  },
  {
   "cell_type": "markdown",
   "id": "74ac4a49-2728-410d-8e45-7361b6e2de60",
   "metadata": {},
   "source": [
    "#### Verificando existência de chave"
   ]
  },
  {
   "cell_type": "code",
   "execution_count": 13,
   "id": "b59637e7-a01a-4c15-a5c7-1a921bdf0122",
   "metadata": {},
   "outputs": [
    {
     "name": "stdout",
     "output_type": "stream",
     "text": [
      "A chave 'nome' está presente.\n"
     ]
    }
   ],
   "source": [
    "if \"nome\" in meu_dict:\n",
    "    print(\"A chave 'nome' está presente.\")"
   ]
  },
  {
   "cell_type": "markdown",
   "id": "6a82872b-ac02-452f-be75-207b66dd7566",
   "metadata": {},
   "source": [
    "### 📚 Exercícios propostos\n",
    "\n",
    "1. Crie um dicionário para representar um livro, contendo título, autor, ano e número de páginas.\n",
    "2. Adicione ao dicionário do exercício anterior a chave `\"editora\"` com um valor de sua escolha.\n",
    "3. Altere o ano de publicação para um valor diferente.\n",
    "4. Remova a chave `\"número de páginas\"`.\n",
    "5. Imprima todas as chaves e valores do dicionário resultante.\n"
   ]
  },
  {
   "cell_type": "markdown",
   "id": "c957cbce-0a0f-43cc-bf6a-fe2dae5ce347",
   "metadata": {},
   "source": [
    "### 📌 Exercícios resolvidos"
   ]
  },
  {
   "cell_type": "code",
   "execution_count": 14,
   "id": "87681985-cd4b-482b-b35f-c4694854478a",
   "metadata": {},
   "outputs": [],
   "source": [
    "# 1. Criando o dicionário do livro\n",
    "livro = {\n",
    "    \"titulo\": \"Python para Engenharia\",\n",
    "    \"autor\": \"João Silva\",\n",
    "    \"ano\": 2023,\n",
    "    \"paginas\": 320\n",
    "}"
   ]
  },
  {
   "cell_type": "code",
   "execution_count": 15,
   "id": "e58b2864-a27f-4962-b64c-4686e37b35be",
   "metadata": {},
   "outputs": [],
   "source": [
    "# 2. Adicionando a chave \"editora\"\n",
    "livro[\"editora\"] = \"TechBooks\""
   ]
  },
  {
   "cell_type": "code",
   "execution_count": 16,
   "id": "5d7402cb-08ec-47f7-96ae-6c0ed4b40066",
   "metadata": {},
   "outputs": [],
   "source": [
    "# 3. Alterando o ano de publicação\n",
    "livro[\"ano\"] = 2024"
   ]
  },
  {
   "cell_type": "code",
   "execution_count": 17,
   "id": "a4430cbd-2a59-48bd-acbf-2a31c7be4594",
   "metadata": {},
   "outputs": [
    {
     "data": {
      "text/plain": [
       "320"
      ]
     },
     "execution_count": 17,
     "metadata": {},
     "output_type": "execute_result"
    }
   ],
   "source": [
    "# 4. Removendo \"paginas\"\n",
    "livro.pop(\"paginas\", None)"
   ]
  },
  {
   "cell_type": "code",
   "execution_count": 18,
   "id": "d28b9288-38e9-489e-ba96-12755b520e26",
   "metadata": {},
   "outputs": [
    {
     "name": "stdout",
     "output_type": "stream",
     "text": [
      "titulo: Python para Engenharia\n",
      "autor: João Silva\n",
      "ano: 2024\n",
      "editora: TechBooks\n"
     ]
    }
   ],
   "source": [
    "# 5. Imprimindo todas as chaves e valores\n",
    "for chave, valor in livro.items():\n",
    "    print(f\"{chave}: {valor}\")"
   ]
  },
  {
   "cell_type": "markdown",
   "id": "8a99ce6b-f047-4223-8525-a847caf4c337",
   "metadata": {},
   "source": [
    "## 🔍 10.2 — Acessando valores em um dicionário\n",
    "\n",
    "Para obter um valor armazenado em um dicionário, usamos a **chave** associada.  \n",
    "Em Python, existem duas formas principais de fazer isso:\n",
    "\n",
    "---\n",
    "\n",
    "### 🗝 Usando colchetes `[]`\n",
    "```python\n",
    "valor = dicionario[chave]\n",
    "```\n",
    "- Retorna o valor correspondente à chave informada.\n",
    "\n",
    "- Se a chave não existir, levanta um erro `KeyError`."
   ]
  },
  {
   "cell_type": "markdown",
   "id": "20e2dc08-cda5-4ce7-ad9d-6ec496e6ad41",
   "metadata": {},
   "source": [
    "### 🛡 Usando o método `.get()`"
   ]
  },
  {
   "cell_type": "markdown",
   "id": "46d67d0e-308f-4f05-8da0-eecb9cd0aab0",
   "metadata": {},
   "source": [
    "```python\n",
    "valor = dicionario.get(chave, valor_padrao)\n",
    "```\n",
    "- Retorna o valor associado à chave, caso ela exista.\n",
    "- Se a chave não existir, retorna o valor padrão fornecido (ou `None` se não especificado).\n",
    "- É útil para evitar erros em caso de ausência da chave.\n",
    "> 💡 Regra prática: use `[]` quando tem certeza de que a chave existe; use `.get()` quando não tem certeza."
   ]
  },
  {
   "cell_type": "markdown",
   "id": "c9ece1de-5b80-45c1-84f2-a17d16828cf6",
   "metadata": {},
   "source": [
    "### 📌 Exemplo visual\n",
    "\n",
    "| Operação                    | Código                                      | Resultado / Efeito      |\n",
    "|-----------------------------|----------------------------------------------|-------------------------|\n",
    "| Acessar valor existente     | `dados[\"nome\"]`                              | `\"Ana\"`                 |\n",
    "| Acessar valor inexistente   | `dados[\"idade\"]`                             | `KeyError`              |\n",
    "| `.get()` com chave existente| `dados.get(\"nome\")`                          | `\"Ana\"`                 |\n",
    "| `.get()` com chave ausente  | `dados.get(\"idade\", \"desconhecido\")`         | `\"desconhecido\"`        |\n"
   ]
  },
  {
   "cell_type": "markdown",
   "id": "b4bb31f5-a4c3-4da2-b974-7d2da63edfde",
   "metadata": {},
   "source": [
    "### 📌 Exemplo prático de acesso a valores em dicionário"
   ]
  },
  {
   "cell_type": "code",
   "execution_count": 19,
   "id": "afdf693d-0622-459f-a419-58045353f6e6",
   "metadata": {},
   "outputs": [
    {
     "name": "stdout",
     "output_type": "stream",
     "text": [
      "{'nome': 'Ana', 'profissao': 'Engenheira'}\n"
     ]
    }
   ],
   "source": [
    "dados = {\n",
    "    \"nome\": \"Ana\",\n",
    "    \"profissao\": \"Engenheira\"\n",
    "}\n",
    "print(dados)"
   ]
  },
  {
   "cell_type": "code",
   "execution_count": 20,
   "id": "37784f63-5c74-4fef-bd6c-50d4d569c396",
   "metadata": {},
   "outputs": [
    {
     "name": "stdout",
     "output_type": "stream",
     "text": [
      "Nome: Ana\n"
     ]
    }
   ],
   "source": [
    "# Usando colchetes - chave existente\n",
    "print(\"Nome:\", dados[\"nome\"])"
   ]
  },
  {
   "cell_type": "code",
   "execution_count": 21,
   "id": "dfeaf7cc-dd34-414a-8e31-513f24f42e45",
   "metadata": {},
   "outputs": [],
   "source": [
    "# Usando colchetes - chave inexistente (vai gerar erro)\n",
    "# print(dados[\"idade\"])  # Descomente para ver o KeyError"
   ]
  },
  {
   "cell_type": "code",
   "execution_count": 22,
   "id": "698b54d3-73a6-4daf-80b0-25b70a3b5833",
   "metadata": {},
   "outputs": [
    {
     "name": "stdout",
     "output_type": "stream",
     "text": [
      "Profissão: Engenheira\n"
     ]
    }
   ],
   "source": [
    "# Usando .get() - chave existente\n",
    "print(\"Profissão:\", dados.get(\"profissao\"))"
   ]
  },
  {
   "cell_type": "code",
   "execution_count": 23,
   "id": "f894d5ac-f9c5-400a-b89e-0e039498dc8f",
   "metadata": {},
   "outputs": [
    {
     "name": "stdout",
     "output_type": "stream",
     "text": [
      "Idade: não informada\n"
     ]
    }
   ],
   "source": [
    "# Usando .get() - chave inexistente\n",
    "print(\"Idade:\", dados.get(\"idade\", \"não informada\"))"
   ]
  },
  {
   "cell_type": "markdown",
   "id": "cf5c735d-fe32-4360-bc78-c9e2c4c6690c",
   "metadata": {},
   "source": [
    "### 🔄 Atualizando valores\n",
    "\n",
    "Se usarmos `[]` com uma chave existente, o valor será substituído.\n",
    "\n",
    "```python\n",
    "dados[\"nome\"] = \"Maria\"  # Modifica valor da chave \"nome\"\n"
   ]
  },
  {
   "cell_type": "markdown",
   "id": "09c2eb56-c6b0-4e2f-8404-8348ac93c262",
   "metadata": {},
   "source": [
    "Se a chave não existir, ela será criada."
   ]
  },
  {
   "cell_type": "code",
   "execution_count": 24,
   "id": "8cb18d05-4230-4ab7-8e61-7f4c33e88bb8",
   "metadata": {},
   "outputs": [
    {
     "name": "stdout",
     "output_type": "stream",
     "text": [
      "{'nome': 'Ana', 'profissao': 'Engenheira', 'idade': 30}\n"
     ]
    }
   ],
   "source": [
    "dados[\"idade\"] = 30  # Adiciona nova chave \"idade\"\n",
    "print(dados)"
   ]
  },
  {
   "cell_type": "markdown",
   "id": "a70171a9-400a-4906-b72f-4826b07cb7af",
   "metadata": {},
   "source": [
    "### 📌 Atualizando valores no dicionário"
   ]
  },
  {
   "cell_type": "code",
   "execution_count": 25,
   "id": "48558525-ab9f-45e8-b3b1-677fd5835a1c",
   "metadata": {},
   "outputs": [
    {
     "name": "stdout",
     "output_type": "stream",
     "text": [
      "{'nome': 'Maria', 'profissao': 'Engenheira', 'idade': 30}\n"
     ]
    }
   ],
   "source": [
    "dados[\"nome\"] = \"Maria\"     # Modifica\n",
    "dados[\"idade\"] = 30         # Adiciona\n",
    "print(dados)"
   ]
  },
  {
   "cell_type": "markdown",
   "id": "8fa3707c-c471-485a-8df6-68bafdd6636e",
   "metadata": {},
   "source": [
    "### 🛠 Boas práticas ao acessar valores\n",
    "\n",
    "- Prefira `.get()` quando a ausência de uma chave for aceitável ou esperada.\n",
    "- Ao trabalhar com dados de usuários ou arquivos externos, sempre trate a ausência de chaves.\n",
    "- Para verificar se uma chave existe antes de acessar:\n",
    "```python\n",
    "if \"nome\" in dados:\n",
    "    print(\"Nome presente:\", dados[\"nome\"])\n"
   ]
  },
  {
   "cell_type": "markdown",
   "id": "b13ae23c-6048-4b5f-af1d-4b8f80dcd2a2",
   "metadata": {},
   "source": [
    "### 📌 Verificando existência de chave antes de acessar"
   ]
  },
  {
   "cell_type": "code",
   "execution_count": 26,
   "id": "ff9ba0cc-00d6-4232-b8c6-7c9b348fb43c",
   "metadata": {},
   "outputs": [
    {
     "name": "stdout",
     "output_type": "stream",
     "text": [
      "Nome presente: Maria\n"
     ]
    }
   ],
   "source": [
    "if \"nome\" in dados:\n",
    "    print(\"Nome presente:\", dados[\"nome\"])\n",
    "else:\n",
    "    print(\"Chave 'nome' não encontrada.\")"
   ]
  },
  {
   "cell_type": "markdown",
   "id": "1b0ad3cb-ae5c-433a-b8d0-10c48b278e24",
   "metadata": {},
   "source": [
    "### 📚 Exercícios propostos\n",
    "\n",
    "1. Crie um dicionário representando um aluno com as chaves: `\"nome\"`, `\"curso\"`, `\"matrícula\"`.\n",
    "2. Use colchetes `[]` para acessar o valor da chave `\"curso\"`.\n",
    "3. Use `.get()` para acessar a chave `\"nota\"`, retornando `\"não registrada\"` caso ela não exista.\n",
    "4. Atualize o valor da chave `\"curso\"` para outro nome de curso.\n",
    "5. Adicione a chave `\"nota\"` com valor numérico.\n"
   ]
  },
  {
   "cell_type": "markdown",
   "id": "f713f5c0-cf9f-4fec-bf9f-126fd2e32cfe",
   "metadata": {},
   "source": [
    "### 📌 Exercícios resolvidos"
   ]
  },
  {
   "cell_type": "code",
   "execution_count": 27,
   "id": "b0ccc448-773b-4ea8-b84a-d8fd4f1cc780",
   "metadata": {},
   "outputs": [],
   "source": [
    "# 1. Criando o dicionário\n",
    "aluno = {\n",
    "    \"nome\": \"João\",\n",
    "    \"curso\": \"Engenharia Mecânica\",\n",
    "    \"matricula\": 12345\n",
    "}"
   ]
  },
  {
   "cell_type": "code",
   "execution_count": 28,
   "id": "994df217-f2e8-4802-a359-166d9bf78469",
   "metadata": {},
   "outputs": [
    {
     "name": "stdout",
     "output_type": "stream",
     "text": [
      "Curso: Engenharia Mecânica\n"
     ]
    }
   ],
   "source": [
    "# 2. Acessando \"curso\" com []\n",
    "print(\"Curso:\", aluno[\"curso\"])"
   ]
  },
  {
   "cell_type": "code",
   "execution_count": 29,
   "id": "b50bd6ce-1191-4f1c-a6ed-ed865708e2fc",
   "metadata": {},
   "outputs": [
    {
     "name": "stdout",
     "output_type": "stream",
     "text": [
      "Nota: não registrada\n"
     ]
    }
   ],
   "source": [
    "# 3. Acessando \"nota\" com .get()\n",
    "print(\"Nota:\", aluno.get(\"nota\", \"não registrada\"))"
   ]
  },
  {
   "cell_type": "code",
   "execution_count": 30,
   "id": "ccb6f013-90b1-4b31-ba67-27f8630cb7fc",
   "metadata": {},
   "outputs": [],
   "source": [
    "# 4. Atualizando \"curso\"\n",
    "aluno[\"curso\"] = \"Engenharia de Produção\""
   ]
  },
  {
   "cell_type": "code",
   "execution_count": 31,
   "id": "40a5b5e4-c625-4794-bfdf-e1931dbaf59a",
   "metadata": {},
   "outputs": [
    {
     "name": "stdout",
     "output_type": "stream",
     "text": [
      "Dicionário final: {'nome': 'João', 'curso': 'Engenharia de Produção', 'matricula': 12345, 'nota': 9.2}\n"
     ]
    }
   ],
   "source": [
    "# 5. Adicionando \"nota\"\n",
    "aluno[\"nota\"] = 9.2\n",
    "\n",
    "print(\"Dicionário final:\", aluno)"
   ]
  },
  {
   "cell_type": "markdown",
   "id": "093ce7a3-4412-4e8c-82ae-423112390ca6",
   "metadata": {},
   "source": [
    "## ✏️ 10.3 — Adicionando e modificando pares chave–valor\n",
    "\n",
    "Dicionários são estruturas **mutáveis**, ou seja, podemos adicionar novos pares chave–valor e modificar pares já existentes.\n",
    "\n",
    "---\n",
    "\n",
    "### ➕ Adicionando novos pares\n",
    "\n",
    "Para adicionar um par basta atribuir um valor a uma **nova chave**:\n",
    "\n",
    "```python\n",
    "dicionario[\"nova_chave\"] = valor\n",
    "```\n",
    "Se a chave ainda não existir, o par será criado."
   ]
  },
  {
   "cell_type": "markdown",
   "id": "8b393d96-d4bd-4c31-ab9c-7bf2adfa85b3",
   "metadata": {},
   "source": [
    "### 🔄 Modificando valores existentes\n",
    "\n",
    "Se a chave já existir, a atribuição substitui o valor anterior:\n",
    "\n",
    "```python\n",
    "dicionario[\"chave_existente\"] = novo_valor\n",
    "```"
   ]
  },
  {
   "cell_type": "markdown",
   "id": "f896597e-95b4-4271-9e76-088899c7a6fd",
   "metadata": {},
   "source": [
    "| Operação           | Código             | Resultado                        |\n",
    "|--------------------|--------------------|----------------------------------|\n",
    "| Criar dicionário   | `{\"a\": 1, \"b\": 2}` | `{\"a\": 1, \"b\": 2}`               |\n",
    "| Adicionar par      | `d[\"c\"] = 3`       | `{\"a\": 1, \"b\": 2, \"c\": 3}`       |\n",
    "| Modificar valor    | `d[\"a\"] = 99`      | `{\"a\": 99, \"b\": 2, \"c\": 3}`      |\n",
    "| Sobrescrever valor | `d[\"c\"] = \"novo\"`  | `{\"a\": 99, \"b\": 2, \"c\": \"novo\"}` |\n"
   ]
  },
  {
   "cell_type": "markdown",
   "id": "c071b3e5-9438-4c9c-8691-6276e037757a",
   "metadata": {},
   "source": [
    "### 📌 Exemplo prático: adicionando e modificando pares"
   ]
  },
  {
   "cell_type": "code",
   "execution_count": 32,
   "id": "aeaad6ce-d1ae-47e6-8590-d8700eb104bf",
   "metadata": {},
   "outputs": [],
   "source": [
    "dados = {\"nome\": \"Ana\", \"idade\": 25}"
   ]
  },
  {
   "cell_type": "code",
   "execution_count": 33,
   "id": "5e5bb30d-314c-4e52-afc4-b186d9cdd1bf",
   "metadata": {},
   "outputs": [
    {
     "name": "stdout",
     "output_type": "stream",
     "text": [
      "Após adicionar: {'nome': 'Ana', 'idade': 25, 'profissao': 'Engenheira'}\n"
     ]
    }
   ],
   "source": [
    "# Adicionando nova chave\n",
    "dados[\"profissao\"] = \"Engenheira\"\n",
    "print(\"Após adicionar:\", dados)"
   ]
  },
  {
   "cell_type": "code",
   "execution_count": 34,
   "id": "34c3f438-83af-4255-b040-4f27d97fb057",
   "metadata": {},
   "outputs": [
    {
     "name": "stdout",
     "output_type": "stream",
     "text": [
      "Após modificar: {'nome': 'Ana', 'idade': 26, 'profissao': 'Engenheira'}\n"
     ]
    }
   ],
   "source": [
    "# Modificando valor existente\n",
    "dados[\"idade\"] = 26\n",
    "print(\"Após modificar:\", dados)"
   ]
  },
  {
   "cell_type": "code",
   "execution_count": 35,
   "id": "24ca9112-7812-41c1-a14c-0f81f6dee45c",
   "metadata": {},
   "outputs": [
    {
     "name": "stdout",
     "output_type": "stream",
     "text": [
      "Após sobrescrever: {'nome': 'Ana', 'idade': 26, 'profissao': 'Cientista de Dados'}\n"
     ]
    }
   ],
   "source": [
    "# Sobrescrevendo valor\n",
    "dados[\"profissao\"] = \"Cientista de Dados\"\n",
    "print(\"Após sobrescrever:\", dados)"
   ]
  },
  {
   "cell_type": "markdown",
   "id": "d090b702-1643-4cf5-a5e4-19c9d2f931bb",
   "metadata": {},
   "source": [
    "### ⚡ Atualização em lote com `.update()`\n",
    "\n",
    "O método `.update()` permite adicionar ou modificar vários pares de uma só vez.\n",
    "\n",
    "```python\n",
    "dados.update({\"cidade\": \"Belo Horizonte\", \"idade\": 27})\n",
    "```\n",
    "Se a chave já existir, o valor será substituído; se não existir, será criada.\n",
    "\n"
   ]
  },
  {
   "cell_type": "markdown",
   "id": "e28f45b1-8a83-4efb-8693-5732548ab152",
   "metadata": {},
   "source": [
    "### 📌 Exemplo usando update()"
   ]
  },
  {
   "cell_type": "code",
   "execution_count": 36,
   "id": "220ff4f3-c4ab-406a-a694-f492a884fcd1",
   "metadata": {},
   "outputs": [
    {
     "name": "stdout",
     "output_type": "stream",
     "text": [
      "{'nome': 'Ana', 'idade': 27, 'profissao': 'Cientista de Dados', 'cidade': 'Belo Horizonte'}\n"
     ]
    }
   ],
   "source": [
    "dados.update({\"cidade\": \"Belo Horizonte\", \"idade\": 27})\n",
    "print(dados)"
   ]
  },
  {
   "cell_type": "markdown",
   "id": "66139df2-a724-41dc-9024-e71c52827888",
   "metadata": {},
   "source": [
    "### 🛠 Boas práticas\n",
    "- Prefira `[]` quando for adicionar ou modificar chaves individualmente.  \n",
    "- Prefira `.update()` quando precisar atualizar várias chaves ao mesmo tempo.  \n",
    "- Lembre-se: se a chave já existir, o valor antigo será **sobrescrito**.  \n",
    "\n",
    "---\n",
    "\n",
    "## 📚 Exercícios propostos\n",
    "\n",
    "1. Crie um dicionário com as informações de um carro: `\"marca\"`, `\"modelo\"`, `\"ano\"`.  \n",
    "2. Adicione a chave `\"cor\"`.  \n",
    "3. Modifique o valor da chave `\"ano\"` para um valor mais recente.  \n",
    "4. Use `.update()` para adicionar `\"combustivel\": \"gasolina\"` e `\"portas\": 4`.  \n",
    "5. Imprima o dicionário final.\n"
   ]
  },
  {
   "cell_type": "markdown",
   "id": "ca8e0fb5-dd44-4860-8ddc-c5664d820f88",
   "metadata": {},
   "source": [
    "## 📌 Exercícios resolvidos"
   ]
  },
  {
   "cell_type": "code",
   "execution_count": 37,
   "id": "3aadd6dd-ac19-4d9a-a873-09a2d0abb0e1",
   "metadata": {},
   "outputs": [],
   "source": [
    "# 1. Criando dicionário do carro\n",
    "carro = {\"marca\": \"Toyota\", \"modelo\": \"Corolla\", \"ano\": 2020}"
   ]
  },
  {
   "cell_type": "code",
   "execution_count": 38,
   "id": "4ae2dce6-d295-489c-837b-005012c5fea8",
   "metadata": {},
   "outputs": [],
   "source": [
    "# 2. Adicionando \"cor\"\n",
    "carro[\"cor\"] = \"preto\""
   ]
  },
  {
   "cell_type": "code",
   "execution_count": 39,
   "id": "a10d53eb-7826-4286-a702-9431a217e670",
   "metadata": {},
   "outputs": [],
   "source": [
    "# 3. Modificando \"ano\"\n",
    "carro[\"ano\"] = 2023"
   ]
  },
  {
   "cell_type": "code",
   "execution_count": 40,
   "id": "81fdfab1-716f-4f4c-a368-7b49ed352b2a",
   "metadata": {},
   "outputs": [],
   "source": [
    "# 4. Usando update() para múltiplas adições/modificações\n",
    "carro.update({\"combustivel\": \"gasolina\", \"portas\": 4})"
   ]
  },
  {
   "cell_type": "code",
   "execution_count": 41,
   "id": "f5d73010-a6d0-4d77-9472-bb1bedd14ef0",
   "metadata": {},
   "outputs": [
    {
     "name": "stdout",
     "output_type": "stream",
     "text": [
      "{'marca': 'Toyota', 'modelo': 'Corolla', 'ano': 2023, 'cor': 'preto', 'combustivel': 'gasolina', 'portas': 4}\n"
     ]
    }
   ],
   "source": [
    "# 5. Exibindo resultado final\n",
    "print(carro)"
   ]
  },
  {
   "cell_type": "markdown",
   "id": "3ffde862-34c3-4cff-86a9-f96634c6aef8",
   "metadata": {},
   "source": [
    "## 🗑️ 10.4 — Removendo pares chave–valor (*Removing key–value pairs*)\n",
    "\n",
    "Dicionários são mutáveis e oferecem várias formas seguras (ou não) de remover itens.  \n",
    "A escolha do método afeta **legibilidade**, **tratamento de erros** e **performance**.\n",
    "\n",
    "---\n",
    "\n",
    "### 🔧 Métodos e instruções de remoção\n",
    "\n",
    "#### 1) `del d[chave]`\n",
    "Remove o par com a `chave`.  \n",
    "- **Prós:** sintaxe direta.  \n",
    "- **Contras:** levanta `KeyError` se a chave não existir.\n",
    "\n",
    "#### 2) `d.pop(chave[, padrao])`\n",
    "Remove e **retorna o valor** associado à `chave`.  \n",
    "- Se a chave não existir: levanta `KeyError`, **a menos** que `padrao` seja fornecido (neste caso, retorna `padrao`).\n",
    "\n",
    "#### 3) `d.popitem()`\n",
    "Remove e **retorna um par** `(chave, valor)` **do fim** (último inserido).  \n",
    "- Levanta `KeyError` se o dicionário estiver vazio.  \n",
    "- Útil em padrões LIFO de processamento.\n",
    "\n",
    "#### 4) `d.clear()`\n",
    "Remove **todos** os itens, deixando o dicionário vazio.\n",
    "\n",
    "> 💡 `del d` (sem chave) **apaga a variável** do dicionário inteiro, não apenas os itens.\n",
    "\n",
    "---\n",
    "\n",
    "### 📌 Exemplo visual\n",
    "\n",
    "| Operação                 | Código                         | Efeito / Retorno                          |\n",
    "|--------------------------|--------------------------------|-------------------------------------------|\n",
    "| Remover por chave        | `del d[\"a\"]`                   | remove `\"a\"` ou `KeyError` se ausente     |\n",
    "| `pop` com chave          | `d.pop(\"b\")`                   | retorna o valor de `\"b\"` e remove         |\n",
    "| `pop` com padrão         | `d.pop(\"x\", None)`             | retorna `None` se `\"x\"` não existir       |\n",
    "| `popitem` (último par)   | `d.popitem()`                  | retorna `(chave, valor)` e remove         |\n",
    "| Limpar tudo              | `d.clear()`                    | dicionário fica `{}`                       |\n",
    "\n",
    "---\n"
   ]
  },
  {
   "cell_type": "markdown",
   "id": "63f6cfad-70ae-4b4e-b043-a0076056933a",
   "metadata": {},
   "source": [
    "### 📦 Exemplo básico de remoção"
   ]
  },
  {
   "cell_type": "code",
   "execution_count": 42,
   "id": "894d6b89-ca94-4ecf-9b51-97927874e42d",
   "metadata": {},
   "outputs": [
    {
     "name": "stdout",
     "output_type": "stream",
     "text": [
      "Inicial: {'a': 1, 'b': 2, 'c': 3}\n"
     ]
    }
   ],
   "source": [
    "dados = {\"a\": 1, \"b\": 2, \"c\": 3}\n",
    "print(\"Inicial:\", dados)"
   ]
  },
  {
   "cell_type": "code",
   "execution_count": 43,
   "id": "f23e9726-1692-41fd-921d-569c971985d1",
   "metadata": {},
   "outputs": [
    {
     "name": "stdout",
     "output_type": "stream",
     "text": [
      "Após del['a']: {'b': 2, 'c': 3}\n"
     ]
    }
   ],
   "source": [
    "# del: remove por chave (cuidado com KeyError)\n",
    "del dados[\"a\"]\n",
    "print(\"Após del['a']:\", dados)"
   ]
  },
  {
   "cell_type": "code",
   "execution_count": 44,
   "id": "35da0bc8-a45c-46e8-912f-8b7a1971e510",
   "metadata": {},
   "outputs": [
    {
     "name": "stdout",
     "output_type": "stream",
     "text": [
      "Retornado por pop('b'): 2\n",
      "Após pop('b'): {'c': 3}\n"
     ]
    }
   ],
   "source": [
    "# pop: remove e retorna\n",
    "valor_b = dados.pop(\"b\")\n",
    "print(\"Retornado por pop('b'):\", valor_b)\n",
    "print(\"Após pop('b'):\", dados)"
   ]
  },
  {
   "cell_type": "code",
   "execution_count": 45,
   "id": "b18dc7d2-c7e6-4460-8dba-d708084877c6",
   "metadata": {},
   "outputs": [
    {
     "name": "stdout",
     "output_type": "stream",
     "text": [
      "Retornado por popitem(): ('c', 3)\n",
      "Após popitem(): {}\n"
     ]
    }
   ],
   "source": [
    "# popitem: remove o último item\n",
    "par = dados.popitem()\n",
    "print(\"Retornado por popitem():\", par)\n",
    "print(\"Após popitem():\", dados)"
   ]
  },
  {
   "cell_type": "markdown",
   "id": "18d08998-4ecd-4e5d-941c-8947ab010603",
   "metadata": {},
   "source": [
    "### 🛡️ Lidando com chaves ausentes\n",
    "\n",
    "Use `pop` **com valor padrão** ou verifique com `in` antes de remover.  \n",
    "Evite `try/except` desnecessários quando uma verificação simples resolve.\n",
    "\n",
    "---\n"
   ]
  },
  {
   "cell_type": "code",
   "execution_count": 46,
   "id": "7973250f-3123-4d41-8b77-e80a7596554d",
   "metadata": {},
   "outputs": [
    {
     "name": "stdout",
     "output_type": "stream",
     "text": [
      "Removido (y): None\n",
      "Estado: {'x': 10}\n",
      "Após del condicional: {}\n"
     ]
    }
   ],
   "source": [
    "dados = {\"x\": 10}\n",
    "\n",
    "# pop com padrão evita KeyError\n",
    "removido = dados.pop(\"y\", None)\n",
    "print(\"Removido (y):\", removido)   # None\n",
    "print(\"Estado:\", dados)\n",
    "\n",
    "# verificação prévia com 'in'\n",
    "if \"x\" in dados:\n",
    "    del dados[\"x\"]\n",
    "print(\"Após del condicional:\", dados)"
   ]
  },
  {
   "cell_type": "markdown",
   "id": "3a9f78c6-f329-49da-b09a-07ef57511646",
   "metadata": {},
   "source": [
    "### 🧹 Limpando o dicionário\n",
    "\n",
    "Use `clear()` para esvaziar, preservando a variável.  \n",
    "Use `del variavel` se quiser **remover a referência** inteira (a variável deixa de existir).\n",
    "\n",
    "---\n"
   ]
  },
  {
   "cell_type": "code",
   "execution_count": 47,
   "id": "174a49dd-b9ed-4ab6-b972-9c6b80be8754",
   "metadata": {},
   "outputs": [
    {
     "name": "stdout",
     "output_type": "stream",
     "text": [
      "Após clear(): {}\n"
     ]
    }
   ],
   "source": [
    "d = {\"k1\": 1, \"k2\": 2}\n",
    "d.clear()\n",
    "print(\"Após clear():\", d)  # {}\n",
    "# del d  # Descomente para apagar a variável 'd' completamente"
   ]
  },
  {
   "cell_type": "markdown",
   "id": "14170634-b04c-4e82-9475-133ca30f0d62",
   "metadata": {},
   "source": [
    "### 🧭 Remoção condicional (comprehensions)\n",
    "\n",
    "Para remover itens com base em um critério, crie **um novo dicionário** por compreensão, filtrando as chaves/valores desejados.\n",
    "\n",
    "---\n"
   ]
  },
  {
   "cell_type": "code",
   "execution_count": 48,
   "id": "4dd65d5b-19b7-41c4-b0a1-7ea016c45009",
   "metadata": {},
   "outputs": [
    {
     "name": "stdout",
     "output_type": "stream",
     "text": [
      "Filtrado: {'parafuso': 120, 'arruela': 15}\n"
     ]
    }
   ],
   "source": [
    "estoque = {\"parafuso\": 120, \"porca\": 0, \"arruela\": 15, \"rebite\": 0}\n",
    "\n",
    "# Mantém somente itens com quantidade > 0\n",
    "estoque_filtrado = {k: v for k, v in estoque.items() if v > 0}\n",
    "print(\"Filtrado:\", estoque_filtrado)\n"
   ]
  },
  {
   "cell_type": "markdown",
   "id": "b6641e8d-cd1a-4066-91fe-9ba6037e13c9",
   "metadata": {},
   "source": [
    "### ✅ Boas práticas\n",
    "\n",
    "- Use `pop(chave, padrao)` para evitar `KeyError` quando a ausência for aceitável.  \n",
    "- Prefira **comprehensions** ao fazer remoções por critério (mais claro do que apagar iterando).  \n",
    "- `popitem()` é útil quando a ordem de inserção importa (Python ≥ 3.7).  \n",
    "- Ao limpar tudo, prefira `clear()` a recriar a variável — mais explícito e evita perder a referência compartilhada.\n",
    "\n",
    "---\n",
    "\n",
    "### 🧪 Exercícios propostos\n",
    "\n",
    "1. Dado `d = {\"a\": 1, \"b\": 2, \"c\": 3}`, remova `\"b\"` com `pop` e salve o valor removido.  \n",
    "2. Remova `\"x\"` de `d` usando `pop` com padrão `-1`, sem lançar exceção.  \n",
    "3. Use `popitem()` duas vezes em `d = {\"k1\": 1, \"k2\": 2, \"k3\": 3}` e mostre os pares removidos.  \n",
    "4. Esvazie `d = {\"u\": 7, \"v\": 8}` usando `clear()`.  \n",
    "5. A partir de `precos = {\"A\": 0.0, \"B\": 10.0, \"C\": 0.0, \"D\": 5.5}`, crie um novo dicionário **sem** os itens de preço zero (comprehension).\n",
    "\n",
    "---\n"
   ]
  },
  {
   "cell_type": "markdown",
   "id": "c3dcbc59-5435-441c-962c-89ff566410c5",
   "metadata": {},
   "source": [
    "### 🧩 Exercícios resolvidos\n"
   ]
  },
  {
   "cell_type": "code",
   "execution_count": 49,
   "id": "23d71ddd-5db7-451b-92af-11ba8f066e15",
   "metadata": {},
   "outputs": [
    {
     "name": "stdout",
     "output_type": "stream",
     "text": [
      "1) valor_b = 2 | d = {'a': 1, 'c': 3}\n"
     ]
    }
   ],
   "source": [
    "# 1) pop com retorno\n",
    "d = {\"a\": 1, \"b\": 2, \"c\": 3}\n",
    "valor_b = d.pop(\"b\")\n",
    "print(\"1) valor_b =\", valor_b, \"| d =\", d)"
   ]
  },
  {
   "cell_type": "code",
   "execution_count": 50,
   "id": "89721e73-b8ca-4e71-bd0c-44b93a8d6b47",
   "metadata": {},
   "outputs": [
    {
     "name": "stdout",
     "output_type": "stream",
     "text": [
      "2) ret_x = -1 | d = {'a': 1, 'c': 3}\n"
     ]
    }
   ],
   "source": [
    "# 2) pop com padrão\n",
    "ret_x = d.pop(\"x\", -1)\n",
    "print(\"2) ret_x =\", ret_x, \"| d =\", d)"
   ]
  },
  {
   "cell_type": "code",
   "execution_count": 51,
   "id": "abb45bba-1031-4582-8aa6-374bf99dcb2f",
   "metadata": {},
   "outputs": [
    {
     "name": "stdout",
     "output_type": "stream",
     "text": [
      "3) removidos: ('k3', 3) ('k2', 2) | restante: {'k1': 1}\n"
     ]
    }
   ],
   "source": [
    "# 3) popitem duas vezes\n",
    "d2 = {\"k1\": 1, \"k2\": 2, \"k3\": 3}\n",
    "rem1 = d2.popitem()\n",
    "rem2 = d2.popitem()\n",
    "print(\"3) removidos:\", rem1, rem2, \"| restante:\", d2)"
   ]
  },
  {
   "cell_type": "code",
   "execution_count": 52,
   "id": "88473b93-f5e1-4788-b27c-5a06856136d4",
   "metadata": {},
   "outputs": [
    {
     "name": "stdout",
     "output_type": "stream",
     "text": [
      "4) d3 após clear(): {}\n"
     ]
    }
   ],
   "source": [
    " #4) clear\n",
    "d3 = {\"u\": 7, \"v\": 8}\n",
    "d3.clear()\n",
    "print(\"4) d3 após clear():\", d3)\n"
   ]
  },
  {
   "cell_type": "code",
   "execution_count": 53,
   "id": "39353410-62e5-4073-bace-3d966635af1e",
   "metadata": {},
   "outputs": [
    {
     "name": "stdout",
     "output_type": "stream",
     "text": [
      "5) precos_sem_zero: {'B': 10.0, 'D': 5.5}\n"
     ]
    }
   ],
   "source": [
    "# 5) remoção condicional via comprehension\n",
    "precos = {\"A\": 0.0, \"B\": 10.0, \"C\": 0.0, \"D\": 5.5}\n",
    "precos_sem_zero = {k: v for k, v in precos.items() if v != 0.0}\n",
    "print(\"5) precos_sem_zero:\", precos_sem_zero)"
   ]
  },
  {
   "cell_type": "markdown",
   "id": "cfd56c7b-91b5-47d0-a6a8-0efa6a731477",
   "metadata": {},
   "source": [
    "## 🔎 10.5 — Verificando pertencimento em um dicionário (*Checking membership in a dictionary*)\n",
    "\n",
    "Assim como em listas e strings, podemos verificar se uma chave está presente em um dicionário usando os operadores `in` e `not in`.  \n",
    "\n",
    "> 📌 Atenção: o teste de pertencimento em dicionários verifica **apenas as chaves**, não os valores.\n",
    "\n",
    "---\n",
    "\n",
    "### ✅ Operador `in`\n",
    "\n",
    "```python\n",
    "\"chave\" in dicionario\n",
    "```\n",
    "Retorna ``True se a chave existir no dicionário, caso contrário False.\n",
    "\n",
    "```python\n",
    "\"chave\" not in dicionario\n",
    "```"
   ]
  },
  {
   "cell_type": "markdown",
   "id": "d06f7469-6ac2-42b1-9e55-d7ecb8f744f8",
   "metadata": {},
   "source": [
    "| Operação                 | Código                 | Resultado |\n",
    "|--------------------------|------------------------|-----------|\n",
    "| Verificar chave presente | `\"nome\" in dados`      | `True`    |\n",
    "| Verificar chave ausente  | `\"idade\" in dados`     | `False`   |\n",
    "| Usar `not in` presente   | `\"nome\" not in dados`  | `False`   |\n",
    "| Usar `not in` ausente    | `\"idade\" not in dados` | `True`    |\n"
   ]
  },
  {
   "cell_type": "markdown",
   "id": "49fbb6c6-c253-4e19-b6b3-3bfd08161796",
   "metadata": {},
   "source": [
    "### 📦 Exemplo prático\n"
   ]
  },
  {
   "cell_type": "code",
   "execution_count": 54,
   "id": "58c4631e-a9f4-4d16-b3bf-4b6b28381276",
   "metadata": {},
   "outputs": [
    {
     "name": "stdout",
     "output_type": "stream",
     "text": [
      "nome in dados  → True\n",
      "idade in dados → False\n",
      "nome not in dados → False\n",
      "idade not in dados → True\n"
     ]
    }
   ],
   "source": [
    "dados = {\"nome\": \"Ana\", \"profissao\": \"Engenheira\"}\n",
    "\n",
    "print(\"nome in dados  →\", \"nome\" in dados)\n",
    "print(\"idade in dados →\", \"idade\" in dados)\n",
    "print(\"nome not in dados →\", \"nome\" not in dados)\n",
    "print(\"idade not in dados →\", \"idade\" not in dados)"
   ]
  },
  {
   "cell_type": "markdown",
   "id": "d5c9c405-cf1f-48ae-b7f0-df6b9f4af309",
   "metadata": {},
   "source": [
    "### 🔄 Pertencimento em valores\n",
    "\n",
    "Se quisermos verificar se **um valor** existe no dicionário, precisamos acessar `values()`:\n",
    "\n",
    "```python\n",
    "if \"Engenheira\" in dados.values():\n",
    "    print(\"Valor encontrado!\")\n"
   ]
  },
  {
   "cell_type": "markdown",
   "id": "e90be8e9-13ec-4e44-a25b-6749d949951c",
   "metadata": {},
   "source": [
    "Da mesma forma, podemos verificar se um par chave–valor existe usando items():"
   ]
  },
  {
   "cell_type": "code",
   "execution_count": 55,
   "id": "f824ec83-3c22-4ef2-8875-293f375b6770",
   "metadata": {},
   "outputs": [
    {
     "name": "stdout",
     "output_type": "stream",
     "text": [
      "Par chave–valor encontrado!\n"
     ]
    }
   ],
   "source": [
    "if (\"nome\", \"Ana\") in dados.items():\n",
    "    print(\"Par chave–valor encontrado!\")"
   ]
  },
  {
   "cell_type": "markdown",
   "id": "09e3ec64-7805-41b5-93c1-e71b0175a707",
   "metadata": {},
   "source": [
    "### 📦 Exemplo: verificando valores e pares chave–valor"
   ]
  },
  {
   "cell_type": "code",
   "execution_count": 56,
   "id": "bbf95805-f37c-4bb2-8e57-29aeaa3ef629",
   "metadata": {},
   "outputs": [
    {
     "name": "stdout",
     "output_type": "stream",
     "text": [
      "Engenheira in dados.values() → True\n",
      "True\n"
     ]
    }
   ],
   "source": [
    "print(\"Engenheira in dados.values() →\", \"Engenheira\" in dados.values())\n",
    "print((\"nome\", \"Ana\") in dados.items())"
   ]
  },
  {
   "cell_type": "markdown",
   "id": "f6c7a07d-c31d-40d2-a77a-92660d2cfaf2",
   "metadata": {},
   "source": [
    "### 🛠 Boas práticas\n",
    "\n",
    "- Use `in` e `not in` **diretamente nas chaves** para verificar presença antes de acessar valores com `[]`.  \n",
    "- Prefira `get()` quando não precisar de verificação explícita, apenas de um valor padrão.  \n",
    "- Para valores, lembre-se de acessar `values()`.  \n",
    "- Para pares completos, use `items()`.\n",
    "\n",
    "---\n",
    "\n",
    "### 📚 Exercícios propostos\n",
    "\n",
    "1. Dado `aluno = {\"nome\": \"João\", \"curso\": \"Engenharia\"}`, verifique se a chave `\"nota\"` está no dicionário.  \n",
    "2. Teste se `\"curso\"` está em `aluno` e imprima o valor se existir.  \n",
    "3. Verifique se o valor `\"Engenharia\"` aparece em `aluno.values()`.  \n",
    "4. Verifique se o par `(\"nome\", \"João\")` aparece em `aluno.items()`.  \n",
    "5. Adicione `\"nota\": 9.0` e depois confirme se `\"nota\"` foi incluída usando `in`.\n"
   ]
  },
  {
   "cell_type": "markdown",
   "id": "8e60bfa9-cd8e-4244-adf2-6a17536d1056",
   "metadata": {},
   "source": [
    "### 🧩 Exercícios resolvidos"
   ]
  },
  {
   "cell_type": "code",
   "execution_count": 57,
   "id": "c233d6e1-8d71-43f1-bfb1-f066d003ca20",
   "metadata": {},
   "outputs": [
    {
     "name": "stdout",
     "output_type": "stream",
     "text": [
      "1) False\n"
     ]
    }
   ],
   "source": [
    "aluno = {\"nome\": \"João\", \"curso\": \"Engenharia\"}\n",
    "\n",
    "# 1) Verificar se \"nota\" está presente\n",
    "print(\"1)\", \"nota\" in aluno)"
   ]
  },
  {
   "cell_type": "code",
   "execution_count": 58,
   "id": "c15c54ee-2eb8-425b-9119-124763ebb821",
   "metadata": {},
   "outputs": [
    {
     "name": "stdout",
     "output_type": "stream",
     "text": [
      "2) Curso: Engenharia\n"
     ]
    }
   ],
   "source": [
    "# 2) Testar \"curso\" e imprimir valor\n",
    "if \"curso\" in aluno:\n",
    "    print(\"2) Curso:\", aluno[\"curso\"])"
   ]
  },
  {
   "cell_type": "code",
   "execution_count": 59,
   "id": "1b66b9a8-5a58-441f-91ce-387b4441566e",
   "metadata": {},
   "outputs": [
    {
     "name": "stdout",
     "output_type": "stream",
     "text": [
      "3) True\n"
     ]
    }
   ],
   "source": [
    "# 3) Verificar se \"Engenharia\" está em values()\n",
    "print(\"3)\", \"Engenharia\" in aluno.values())"
   ]
  },
  {
   "cell_type": "code",
   "execution_count": 60,
   "id": "d87309ed-149f-404e-a57e-c10a660ef5ce",
   "metadata": {},
   "outputs": [
    {
     "name": "stdout",
     "output_type": "stream",
     "text": [
      "4) True\n"
     ]
    }
   ],
   "source": [
    "# 4) Verificar par (\"nome\", \"João\")\n",
    "print(\"4)\", (\"nome\", \"João\") in aluno.items())"
   ]
  },
  {
   "cell_type": "code",
   "execution_count": 61,
   "id": "e9b82ae8-14d9-4b33-aea5-6c154e491be9",
   "metadata": {},
   "outputs": [
    {
     "name": "stdout",
     "output_type": "stream",
     "text": [
      "5) True\n",
      "Dicionário final: {'nome': 'João', 'curso': 'Engenharia', 'nota': 9.0}\n"
     ]
    }
   ],
   "source": [
    "\n",
    "# 5) Adicionar \"nota\" e verificar\n",
    "aluno[\"nota\"] = 9.0\n",
    "print(\"5)\", \"nota\" in aluno)\n",
    "print(\"Dicionário final:\", aluno)"
   ]
  },
  {
   "cell_type": "markdown",
   "id": "122e1aa7-9532-47b3-bb23-8475660ac8e7",
   "metadata": {},
   "source": [
    "## 🔄 10.6 — Iterando por um dicionário (*Iterating through a dictionary*)\n",
    "\n",
    "Assim como listas e tuplas, dicionários podem ser percorridos com loops `for`.  \n",
    "No entanto, ao iterar diretamente sobre um dicionário, o loop percorre apenas as **chaves**.\n",
    "\n",
    "---\n",
    "\n",
    "### 🔑 Iterando apenas pelas chaves (padrão)\n",
    "\n",
    "```python\n",
    "for chave in dicionario:\n",
    "    print(chave)\n",
    "```\n",
    "Equivalente a usar `dicionario.keys()`."
   ]
  },
  {
   "cell_type": "markdown",
   "id": "ff4984e0-317f-4261-9390-46662a7c39cb",
   "metadata": {},
   "source": [
    "### 📥 Iterando pelos valores\n",
    "\n",
    "Para percorrer apenas os valores, utilize `dicionario.values()`:"
   ]
  },
  {
   "cell_type": "code",
   "execution_count": 63,
   "id": "d85220be-55cb-4c33-a21e-5861755ca06b",
   "metadata": {},
   "outputs": [
    {
     "name": "stdout",
     "output_type": "stream",
     "text": [
      "Ana\n",
      "25\n",
      "BH\n"
     ]
    }
   ],
   "source": [
    "dicionario = {\"nome\": \"Ana\", \"idade\": 25, \"cidade\": \"BH\"}\n",
    "\n",
    "for valor in dicionario.values():\n",
    "    print(valor)"
   ]
  },
  {
   "cell_type": "markdown",
   "id": "010ad5a1-9ae5-46f7-a08d-25d4a9cd04b3",
   "metadata": {},
   "source": [
    "### 🗂 Iterando por pares chave–valor\n",
    "\n",
    "O método `items()` retorna tuplas `(chave, valor)` que podem ser desempacotadas diretamente no loop:"
   ]
  },
  {
   "cell_type": "code",
   "execution_count": 64,
   "id": "39f5b025-b6e7-4976-ada7-78f7fbf62ebb",
   "metadata": {},
   "outputs": [
    {
     "name": "stdout",
     "output_type": "stream",
     "text": [
      "nome → Ana\n",
      "idade → 25\n",
      "cidade → BH\n"
     ]
    }
   ],
   "source": [
    "for chave, valor in dicionario.items():\n",
    "    print(chave, \"→\", valor)"
   ]
  },
  {
   "cell_type": "markdown",
   "id": "963901c5-6e52-4ece-9a13-8c7a593ca4af",
   "metadata": {},
   "source": [
    "## 📌 Exemplo visual\n",
    "\n",
    "| Operação                 | Código                  | Iteração resultante                     |\n",
    "|---------------------------|-------------------------|------------------------------------------|\n",
    "| Iterar chaves             | `for k in d`           | `nome`, `idade`, `cidade`               |\n",
    "| Iterar valores            | `for v in d.values()`  | `\"Ana\"`, `25`, `\"BH\"`                   |\n",
    "| Iterar pares chave–valor  | `for k, v in d.items()`| `(\"nome\", \"Ana\")`, `(\"idade\", 25)`      |\n"
   ]
  },
  {
   "cell_type": "markdown",
   "id": "d3d0b009-3131-4a69-b91d-094f31dc0fc9",
   "metadata": {},
   "source": [
    "### 📦 Exemplos práticos de iteração"
   ]
  },
  {
   "cell_type": "code",
   "execution_count": 65,
   "id": "edb2cbc3-d040-47a1-ac01-65cf4faa49df",
   "metadata": {},
   "outputs": [
    {
     "name": "stdout",
     "output_type": "stream",
     "text": [
      "Iterando pelas chaves:\n",
      "nome\n",
      "idade\n",
      "cidade\n",
      "\n",
      "Iterando pelos valores:\n",
      "Ana\n",
      "25\n",
      "BH\n",
      "\n",
      "Iterando por pares chave–valor:\n",
      "nome → Ana\n",
      "idade → 25\n",
      "cidade → BH\n"
     ]
    }
   ],
   "source": [
    "dados = {\"nome\": \"Ana\", \"idade\": 25, \"cidade\": \"BH\"}\n",
    "\n",
    "print(\"Iterando pelas chaves:\")\n",
    "for chave in dados:\n",
    "    print(chave)\n",
    "\n",
    "print(\"\\nIterando pelos valores:\")\n",
    "for valor in dados.values():\n",
    "    print(valor)\n",
    "\n",
    "print(\"\\nIterando por pares chave–valor:\")\n",
    "for chave, valor in dados.items():\n",
    "    print(f\"{chave} → {valor}\")"
   ]
  },
  {
   "cell_type": "markdown",
   "id": "92036824-cc07-40d6-836c-ff1d4caac8fc",
   "metadata": {},
   "source": [
    "### 🔍 Usando iteração em tarefas comuns\n",
    "\n",
    "- **Construir listas a partir de valores:**"
   ]
  },
  {
   "cell_type": "code",
   "execution_count": 67,
   "id": "c98e96ed-bea1-4902-a7a3-cfa091239395",
   "metadata": {},
   "outputs": [
    {
     "name": "stdout",
     "output_type": "stream",
     "text": [
      "[25]\n"
     ]
    }
   ],
   "source": [
    "idades = [v for v in dados.values() if isinstance(v, int)]\n",
    "print(idades)"
   ]
  },
  {
   "cell_type": "markdown",
   "id": "95d56eac-a4cc-4973-a164-03e682d2f276",
   "metadata": {},
   "source": [
    "- **Transformar chaves e valores:**"
   ]
  },
  {
   "cell_type": "code",
   "execution_count": 68,
   "id": "a0f2d081-6ae9-43c6-b5a4-05158b991e2a",
   "metadata": {},
   "outputs": [
    {
     "name": "stdout",
     "output_type": "stream",
     "text": [
      "{'NOME': 'Ana', 'IDADE': '25', 'CIDADE': 'BH'}\n"
     ]
    }
   ],
   "source": [
    "maiusculas = {k.upper(): str(v) for k, v in dados.items()}\n",
    "print(maiusculas)"
   ]
  },
  {
   "cell_type": "markdown",
   "id": "38775a1b-4179-4b26-a2a1-3bf2a39921e0",
   "metadata": {},
   "source": [
    "- **Somar valores numéricos:**"
   ]
  },
  {
   "cell_type": "code",
   "execution_count": 69,
   "id": "1f85bf13-d6e9-4a20-96af-df7099622d95",
   "metadata": {},
   "outputs": [
    {
     "name": "stdout",
     "output_type": "stream",
     "text": [
      "25\n"
     ]
    }
   ],
   "source": [
    "soma = sum(v for v in dados.values() if isinstance(v, int))\n",
    "print(soma)"
   ]
  },
  {
   "cell_type": "markdown",
   "id": "2080b73a-52ff-45d2-b945-b67bd7b386d1",
   "metadata": {},
   "source": [
    "### 📦 Exemplos aplicados"
   ]
  },
  {
   "cell_type": "code",
   "execution_count": 70,
   "id": "0d97e642-0d91-4f9b-923b-0bd62c357cc8",
   "metadata": {},
   "outputs": [
    {
     "name": "stdout",
     "output_type": "stream",
     "text": [
      "Lista de idades: [25]\n",
      "Chaves maiúsculas: {'NOME': 'Ana', 'IDADE': '25', 'CIDADE': 'BH'}\n",
      "Soma de valores numéricos: 25\n"
     ]
    }
   ],
   "source": [
    "idades = [v for v in dados.values() if isinstance(v, int)]\n",
    "print(\"Lista de idades:\", idades)\n",
    "\n",
    "maiusculas = {k.upper(): str(v) for k, v in dados.items()}\n",
    "print(\"Chaves maiúsculas:\", maiusculas)\n",
    "\n",
    "soma = sum(v for v in dados.values() if isinstance(v, int))\n",
    "print(\"Soma de valores numéricos:\", soma)"
   ]
  },
  {
   "cell_type": "markdown",
   "id": "127eb285-20fa-445a-bd1e-d87f1b6e6820",
   "metadata": {},
   "source": [
    "### 🛠 Boas práticas\n",
    "\n",
    "- Use `.items()` quando precisar tanto de chaves quanto de valores (mais legível).  \n",
    "- Evite acessar valores dentro do loop com `d[chave]`, já que `.items()` é mais eficiente.  \n",
    "- Em comprehensions, aproveite `items()` para transformar ou filtrar pares.  \n",
    "\n",
    "---\n",
    "\n",
    "### 📚 Exercícios propostos\n",
    "\n",
    "1. Itere sobre `aluno = {\"nome\": \"João\", \"curso\": \"Engenharia\", \"nota\": 9.0}` imprimindo apenas as chaves.  \n",
    "2. Itere imprimindo apenas os valores.  \n",
    "3. Use `.items()` para imprimir no formato `\"chave: valor\"`.  \n",
    "4. Crie uma lista apenas com os valores que forem do tipo `str`.  \n",
    "5. Construa um novo dicionário com todas as chaves em maiúsculas.\n",
    "\n",
    "---\n"
   ]
  },
  {
   "cell_type": "markdown",
   "id": "efa91a5c-49ea-4752-b220-bdc7b5bea93d",
   "metadata": {},
   "source": [
    "### 🧩 Exercícios resolvidos"
   ]
  },
  {
   "cell_type": "code",
   "execution_count": 71,
   "id": "6141653d-cc15-40a5-8ac2-b918e1ed79e1",
   "metadata": {},
   "outputs": [
    {
     "name": "stdout",
     "output_type": "stream",
     "text": [
      "Chave: nome\n",
      "Chave: curso\n",
      "Chave: nota\n"
     ]
    }
   ],
   "source": [
    "# 1) Iterando apenas pelas chaves\n",
    "for chave in aluno:\n",
    "    print(\"Chave:\", chave)"
   ]
  },
  {
   "cell_type": "code",
   "execution_count": 72,
   "id": "ad2b5ccc-627b-4c70-a5cb-8f98d0555a3b",
   "metadata": {},
   "outputs": [
    {
     "name": "stdout",
     "output_type": "stream",
     "text": [
      "Valor: João\n",
      "Valor: Engenharia\n",
      "Valor: 9.0\n"
     ]
    }
   ],
   "source": [
    "# 2) Iterando apenas pelos valores\n",
    "for valor in aluno.values():\n",
    "    print(\"Valor:\", valor)"
   ]
  },
  {
   "cell_type": "code",
   "execution_count": 73,
   "id": "6032f566-29c4-478a-b49c-6312e3e32f6f",
   "metadata": {},
   "outputs": [
    {
     "name": "stdout",
     "output_type": "stream",
     "text": [
      "nome: João\n",
      "curso: Engenharia\n",
      "nota: 9.0\n"
     ]
    }
   ],
   "source": [
    "# 3) Iterando por pares\n",
    "for chave, valor in aluno.items():\n",
    "    print(f\"{chave}: {valor}\")"
   ]
  },
  {
   "cell_type": "code",
   "execution_count": 74,
   "id": "8a9049e2-4eee-40da-a32a-43f2f16134f8",
   "metadata": {},
   "outputs": [
    {
     "name": "stdout",
     "output_type": "stream",
     "text": [
      "Valores str: ['João', 'Engenharia']\n"
     ]
    }
   ],
   "source": [
    "# 4) Lista com valores tipo str\n",
    "valores_str = [v for v in aluno.values() if isinstance(v, str)]\n",
    "print(\"Valores str:\", valores_str)"
   ]
  },
  {
   "cell_type": "code",
   "execution_count": 75,
   "id": "985472d4-8d40-444e-879a-a0d7bf690cfc",
   "metadata": {},
   "outputs": [
    {
     "name": "stdout",
     "output_type": "stream",
     "text": [
      "Novo dicionário: {'NOME': 'João', 'CURSO': 'Engenharia', 'NOTA': 9.0}\n"
     ]
    }
   ],
   "source": [
    "# 5) Novo dicionário com chaves maiúsculas\n",
    "novo_dict = {k.upper(): v for k, v in aluno.items()}\n",
    "print(\"Novo dicionário:\", novo_dict)"
   ]
  },
  {
   "cell_type": "markdown",
   "id": "4941ce05-4489-40d9-9479-6482e103a364",
   "metadata": {},
   "source": [
    "## 🛠️ 10.7 — Métodos de dicionários (*Dictionary methods*)\n",
    "\n",
    "Além de `keys()`, `values()` e `items()`, os dicionários em Python possuem diversos **métodos úteis** para consulta, cópia e atualização de dados.\n",
    "\n",
    "---\n",
    "\n",
    "### 📋 Principais métodos\n",
    "\n",
    "| Método                        | Descrição                                                                 |\n",
    "|-------------------------------|---------------------------------------------------------------------------|\n",
    "| `d.keys()`                    | Retorna uma *view* com todas as chaves.                                   |\n",
    "| `d.values()`                  | Retorna uma *view* com todos os valores.                                  |\n",
    "| `d.items()`                   | Retorna uma *view* de pares `(chave, valor)`.                             |\n",
    "| `d.get(chave, padrao)`        | Retorna o valor da chave ou `padrao` se a chave não existir.              |\n",
    "| `d.update(outro_dict)`        | Adiciona ou modifica pares de outro dicionário.                           |\n",
    "| `d.pop(chave[, padrao])`      | Remove e retorna o valor da chave (ou `padrao` se a chave não existir).   |\n",
    "| `d.popitem()`                 | Remove e retorna o último par inserido `(chave, valor)`.                  |\n",
    "| `d.clear()`                   | Remove todos os itens do dicionário.                                      |\n",
    "| `d.copy()`                    | Retorna uma cópia *shallow* (raso) do dicionário.                         |\n",
    "| `dict.fromkeys(iteravel, v)`  | Cria novo dicionário com as chaves fornecidas e valor padrão `v`.         |\n",
    "| `d.setdefault(chave, padrao)` | Retorna valor da chave; se não existir, insere com valor `padrao`.        |\n",
    "\n",
    "---\n",
    "\n",
    "### 📌 Exemplos práticos\n"
   ]
  },
  {
   "cell_type": "code",
   "execution_count": 77,
   "id": "ff04705b-3c55-4e4f-9b8b-bbd774ef15e7",
   "metadata": {},
   "outputs": [
    {
     "name": "stdout",
     "output_type": "stream",
     "text": [
      "Chaves: ['nome', 'idade']\n",
      "Valores: ['Ana', 25]\n",
      "Pares: [('nome', 'Ana'), ('idade', 25)]\n"
     ]
    }
   ],
   "source": [
    "# Criando um dicionário de exemplo\n",
    "dados = {\"nome\": \"Ana\", \"idade\": 25}\n",
    "\n",
    "# keys(), values(), items()\n",
    "print(\"Chaves:\", list(dados.keys()))\n",
    "print(\"Valores:\", list(dados.values()))\n",
    "print(\"Pares:\", list(dados.items()))"
   ]
  },
  {
   "cell_type": "code",
   "execution_count": 78,
   "id": "80d51a7c-9c14-4cd6-b9e3-79d51ad68a3e",
   "metadata": {},
   "outputs": [
    {
     "name": "stdout",
     "output_type": "stream",
     "text": [
      "Idade: 25\n",
      "Profissão: Não informada\n"
     ]
    }
   ],
   "source": [
    "# get()\n",
    "print(\"Idade:\", dados.get(\"idade\"))\n",
    "print(\"Profissão:\", dados.get(\"profissao\", \"Não informada\"))"
   ]
  },
  {
   "cell_type": "code",
   "execution_count": 79,
   "id": "17c671c4-4bcf-46f9-b669-ca4413d0bf33",
   "metadata": {},
   "outputs": [
    {
     "name": "stdout",
     "output_type": "stream",
     "text": [
      "Após update: {'nome': 'Ana', 'idade': 26, 'cidade': 'BH'}\n"
     ]
    }
   ],
   "source": [
    "# update()\n",
    "dados.update({\"cidade\": \"BH\", \"idade\": 26})\n",
    "print(\"Após update:\", dados)"
   ]
  },
  {
   "cell_type": "code",
   "execution_count": 80,
   "id": "ad30f95f-2bb4-4bb8-a0ff-7e9c0e15d378",
   "metadata": {},
   "outputs": [
    {
     "name": "stdout",
     "output_type": "stream",
     "text": [
      "Cópia: {'nome': 'Ana', 'idade': 26, 'cidade': 'BH'}\n"
     ]
    }
   ],
   "source": [
    "# copy()\n",
    "copia = dados.copy()\n",
    "print(\"Cópia:\", copia)"
   ]
  },
  {
   "cell_type": "code",
   "execution_count": 81,
   "id": "7de64bb8-40bc-4628-800a-19023a14878d",
   "metadata": {},
   "outputs": [
    {
     "name": "stdout",
     "output_type": "stream",
     "text": [
      "fromkeys: {'a': 0, 'b': 0, 'c': 0}\n"
     ]
    }
   ],
   "source": [
    "# fromkeys()\n",
    "novo = dict.fromkeys([\"a\", \"b\", \"c\"], 0)\n",
    "print(\"fromkeys:\", novo)"
   ]
  },
  {
   "cell_type": "code",
   "execution_count": 82,
   "id": "d442408a-2210-4614-919b-74a5fc0edbad",
   "metadata": {},
   "outputs": [
    {
     "name": "stdout",
     "output_type": "stream",
     "text": [
      "Setdefault existente: 26\n",
      "Setdefault nova chave: Engenheira\n",
      "Dicionário final: {'nome': 'Ana', 'idade': 26, 'cidade': 'BH', 'profissao': 'Engenheira'}\n"
     ]
    }
   ],
   "source": [
    "# setdefault()\n",
    "print(\"Setdefault existente:\", dados.setdefault(\"idade\", 0))\n",
    "print(\"Setdefault nova chave:\", dados.setdefault(\"profissao\", \"Engenheira\"))\n",
    "print(\"Dicionário final:\", dados)"
   ]
  },
  {
   "cell_type": "markdown",
   "id": "7e8c71de-dc79-4202-b0f0-d0b6cea26672",
   "metadata": {},
   "source": [
    "## 🔍 Diferença entre `get()` e `setdefault()`\n",
    "\n",
    "- `get(chave, padrao)` → apenas retorna o valor (ou padrão), **sem modificar** o dicionário.  \n",
    "- `setdefault(chave, padrao)` → retorna o valor, mas **insere a chave** com `padrao` se ela não existir.  \n",
    "\n",
    "Exemplo:\n",
    "\n",
    "```python\n",
    "d = {}\n",
    "print(d.get(\"x\", 0))        # 0, mas d continua {}\n",
    "print(d.setdefault(\"x\", 0)) # 0, e agora d = {\"x\": 0}\n",
    "```"
   ]
  },
  {
   "cell_type": "markdown",
   "id": "db95f187-2a33-4c75-922a-4431b47030bd",
   "metadata": {},
   "source": [
    "### 📚 Exercícios propostos\n",
    "\n",
    "1. Crie um dicionário `aluno` com `\"nome\"`, `\"curso\"` e `\"nota\"`.  \n",
    "2. Use `keys()` para listar todas as chaves.  \n",
    "3. Use `values()` para listar apenas os valores.  \n",
    "4. Use `items()` para imprimir pares no formato `\"chave → valor\"`.  \n",
    "5. Use `setdefault()` para garantir que exista a chave `\"matricula\"`, com valor `0001` caso não exista.  \n",
    "6. Crie um dicionário novo com `fromkeys([\"a\", \"b\", \"c\"], 1)`.  "
   ]
  },
  {
   "cell_type": "markdown",
   "id": "e1d27cb7-0ed2-4c48-a930-779c6ca00bef",
   "metadata": {},
   "source": [
    "### 🧩 Exercícios resolvidos"
   ]
  },
  {
   "cell_type": "code",
   "execution_count": 83,
   "id": "2e33821a-e6e9-4649-85f8-5bd656a53fb1",
   "metadata": {},
   "outputs": [],
   "source": [
    "# 1) Criando o dicionário\n",
    "aluno = {\"nome\": \"João\", \"curso\": \"Engenharia\", \"nota\": 9.0}"
   ]
  },
  {
   "cell_type": "code",
   "execution_count": 84,
   "id": "1aeb92d9-64e4-4dd6-b402-6fa4a94c7c5a",
   "metadata": {},
   "outputs": [
    {
     "name": "stdout",
     "output_type": "stream",
     "text": [
      "Chaves: ['nome', 'curso', 'nota']\n"
     ]
    }
   ],
   "source": [
    "# 2) Listando chaves\n",
    "print(\"Chaves:\", list(aluno.keys()))"
   ]
  },
  {
   "cell_type": "code",
   "execution_count": 85,
   "id": "3b2743e1-db31-4589-84da-1e1ab5a94998",
   "metadata": {},
   "outputs": [
    {
     "name": "stdout",
     "output_type": "stream",
     "text": [
      "Valores: ['João', 'Engenharia', 9.0]\n"
     ]
    }
   ],
   "source": [
    "# 3) Listando valores\n",
    "print(\"Valores:\", list(aluno.values()))"
   ]
  },
  {
   "cell_type": "code",
   "execution_count": 86,
   "id": "702a0e9a-51ee-432c-8375-f85d0782a240",
   "metadata": {},
   "outputs": [
    {
     "name": "stdout",
     "output_type": "stream",
     "text": [
      "nome → João\n",
      "curso → Engenharia\n",
      "nota → 9.0\n"
     ]
    }
   ],
   "source": [
    "# 4) Listando pares\n",
    "for k, v in aluno.items():\n",
    "    print(f\"{k} → {v}\")"
   ]
  },
  {
   "cell_type": "code",
   "execution_count": 89,
   "id": "587f27d5-0d6f-4d09-a04a-f5a396125d3d",
   "metadata": {},
   "outputs": [
    {
     "name": "stdout",
     "output_type": "stream",
     "text": [
      "Dicionário atualizado: {'nome': 'João', 'curso': 'Engenharia', 'nota': 9.0, 'matricula': '0001'}\n"
     ]
    }
   ],
   "source": [
    "# 5) Garantindo chave \"matricula\"\n",
    "aluno.setdefault(\"matricula\", \"0001\")\n",
    "print(\"Dicionário atualizado:\", aluno)"
   ]
  },
  {
   "cell_type": "code",
   "execution_count": 88,
   "id": "5944f5d7-adfa-4f55-a555-c5616eaa72c9",
   "metadata": {},
   "outputs": [
    {
     "name": "stdout",
     "output_type": "stream",
     "text": [
      "Novo dict: {'a': 1, 'b': 1, 'c': 1}\n"
     ]
    }
   ],
   "source": [
    "# 6) Criando novo com fromkeys\n",
    "novo_dict = dict.fromkeys([\"a\", \"b\", \"c\"], 1)\n",
    "print(\"Novo dict:\", novo_dict)"
   ]
  },
  {
   "cell_type": "markdown",
   "id": "8214e898-6f6a-4664-b43b-76848661f766",
   "metadata": {},
   "source": [
    "## 🧩 10.8 — Compreensões de dicionário (*Dictionary comprehensions*)\n",
    "\n",
    "Assim como listas possuem **list comprehensions**, os dicionários possuem **dictionary comprehensions**, que permitem criar ou transformar dicionários de forma **concisa e expressiva**.\n",
    "\n",
    "---\n",
    "\n",
    "### ⚙️ Sintaxe geral\n",
    "\n",
    "```python\n",
    "{chave: valor for item in iteravel if condicao}\n",
    "```\n",
    "- chave → expressão que define a chave.\n",
    "- valor → expressão que define o valor.\n",
    "- iteravel → qualquer objeto percorrível (lista, range, etc.).\n",
    "- condicao (opcional) → filtro que seleciona os elementos a serem incluídos."
   ]
  },
  {
   "cell_type": "markdown",
   "id": "6a2a2efa-f183-4361-9976-1056e0a4031a",
   "metadata": {},
   "source": [
    "### 📌 Exemplos práticos"
   ]
  },
  {
   "cell_type": "code",
   "execution_count": 90,
   "id": "3902f477-17ad-4938-8854-98f64ec58f07",
   "metadata": {},
   "outputs": [
    {
     "name": "stdout",
     "output_type": "stream",
     "text": [
      "Quadrados: {0: 0, 1: 1, 2: 4, 3: 9, 4: 16}\n"
     ]
    }
   ],
   "source": [
    "# Quadrados de 0 a 4\n",
    "quadrados = {x: x**2 for x in range(5)}\n",
    "print(\"Quadrados:\", quadrados)"
   ]
  },
  {
   "cell_type": "code",
   "execution_count": 91,
   "id": "2b92238e-18e4-4651-acbb-1cf0f291350b",
   "metadata": {},
   "outputs": [
    {
     "name": "stdout",
     "output_type": "stream",
     "text": [
      "Comprimentos: {'python': 6, 'dados': 5, 'engenharia': 10}\n"
     ]
    }
   ],
   "source": [
    "# Comprimentos de palavras\n",
    "palavras = [\"python\", \"dados\", \"engenharia\"]\n",
    "comprimentos = {p: len(p) for p in palavras}\n",
    "print(\"Comprimentos:\", comprimentos)"
   ]
  },
  {
   "cell_type": "code",
   "execution_count": 92,
   "id": "c10d2c34-8fe5-465e-8e07-7e4fce5e2cca",
   "metadata": {},
   "outputs": [
    {
     "name": "stdout",
     "output_type": "stream",
     "text": [
      "Pares: {0: 0, 2: 4, 4: 16, 6: 36, 8: 64}\n"
     ]
    }
   ],
   "source": [
    "# Filtro: apenas números pares\n",
    "pares = {x: x**2 for x in range(10) if x % 2 == 0}\n",
    "print(\"Pares:\", pares)"
   ]
  },
  {
   "cell_type": "markdown",
   "id": "e1475713-4313-4242-b1d2-b44b0307fbab",
   "metadata": {},
   "source": [
    "### 🔄 Transformação de dicionários existentes\n",
    "\n",
    "Também é possível criar um novo dicionário a partir de outro, aplicando transformações:\n"
   ]
  },
  {
   "cell_type": "code",
   "execution_count": 94,
   "id": "da36b097-147f-426a-ada4-096402b9c480",
   "metadata": {},
   "outputs": [
    {
     "name": "stdout",
     "output_type": "stream",
     "text": [
      "{'a': 10, 'b': 20, 'c': 30}\n"
     ]
    }
   ],
   "source": [
    "d = {\"a\": 1, \"b\": 2, \"c\": 3}\n",
    "d_transformado = {k: v*10 for k, v in d.items()}\n",
    "print(d_transformado)"
   ]
  },
  {
   "cell_type": "markdown",
   "id": "4c4c3e0a-76b2-4532-b79b-18a74761ec1e",
   "metadata": {},
   "source": [
    "### 🧹 Exemplo de filtragem\n",
    "Podemos usar comprehensions para filtrar dados de um dicionário:"
   ]
  },
  {
   "cell_type": "code",
   "execution_count": 95,
   "id": "cfd36c56-49ea-4898-a6de-9abf74378680",
   "metadata": {},
   "outputs": [
    {
     "name": "stdout",
     "output_type": "stream",
     "text": [
      "Aprovados: {'Ana': 9.0, 'Carla': 7.0}\n"
     ]
    }
   ],
   "source": [
    "notas = {\"Ana\": 9.0, \"Bruno\": 5.5, \"Carla\": 7.0}\n",
    "aprovados = {nome: nota for nome, nota in notas.items() if nota >= 7.0}\n",
    "print(\"Aprovados:\", aprovados)"
   ]
  },
  {
   "cell_type": "markdown",
   "id": "72504ff3-a330-4945-83c0-1e619c5ddc49",
   "metadata": {},
   "source": [
    "### 🛠 Boas práticas\n",
    "\n",
    "- Prefira comprehensions para **construção/transformação simples**.  \n",
    "- Evite lógica muito complexa: nesses casos, um loop `for` explícito é mais legível.  \n",
    "- Combine com `items()` para percorrer pares `(chave, valor)`.  \n",
    "- Lembre-se de que comprehensions retornam **novos dicionários** (não modificam o original).\n",
    "\n",
    "---\n",
    "\n",
    "## 📚 Exercícios propostos\n",
    "\n",
    "1. Crie um dicionário com as chaves de 1 a 5 e valores iguais ao cubo de cada número.  \n",
    "2. Dada a lista `[\"ana\", \"bruno\", \"carla\"]`, crie um dicionário onde a chave é o nome e o valor é o nome capitalizado.  \n",
    "3. A partir de `precos = {\"A\": 10, \"B\": 0, \"C\": 5}`, crie um novo dicionário contendo apenas os itens com preço maior que zero.  \n",
    "4. Transforme `{\"x\": 1, \"y\": 2}` em `{\"x\": 1.0, \"y\": 2.0}` usando comprehension.  \n",
    "5. Crie um dicionário que mapeie cada letra da string `\"engenharia\"` para a quantidade de vezes que aparece.\n",
    "\n",
    "---\n"
   ]
  },
  {
   "cell_type": "markdown",
   "id": "4635ace1-c177-49c0-85d7-50548b652de8",
   "metadata": {},
   "source": [
    "### 🧩 Exercícios resolvidos"
   ]
  },
  {
   "cell_type": "code",
   "execution_count": 96,
   "id": "062aff25-59ce-4639-8031-b5ca4aa82c42",
   "metadata": {},
   "outputs": [
    {
     "name": "stdout",
     "output_type": "stream",
     "text": [
      "1) Cubos: {1: 1, 2: 8, 3: 27, 4: 64, 5: 125}\n"
     ]
    }
   ],
   "source": [
    "# 1) Cubos de 1 a 5\n",
    "cubos = {n: n**3 for n in range(1, 6)}\n",
    "print(\"1) Cubos:\", cubos)"
   ]
  },
  {
   "cell_type": "code",
   "execution_count": 97,
   "id": "9d83b884-cfd8-4d72-93b2-212bc0106fec",
   "metadata": {},
   "outputs": [
    {
     "name": "stdout",
     "output_type": "stream",
     "text": [
      "2) Capitalizados: {'ana': 'Ana', 'bruno': 'Bruno', 'carla': 'Carla'}\n"
     ]
    }
   ],
   "source": [
    "# 2) Nome -> capitalizado\n",
    "nomes = [\"ana\", \"bruno\", \"carla\"]\n",
    "capitalizados = {n: n.capitalize() for n in nomes}\n",
    "print(\"2) Capitalizados:\", capitalizados)"
   ]
  },
  {
   "cell_type": "code",
   "execution_count": 98,
   "id": "ab158a0e-e32d-4d84-901c-0b47a8e2e1fb",
   "metadata": {},
   "outputs": [
    {
     "name": "stdout",
     "output_type": "stream",
     "text": [
      "3) Preços filtrados: {'A': 10, 'C': 5}\n"
     ]
    }
   ],
   "source": [
    "# 3) Filtro de preços\n",
    "precos = {\"A\": 10, \"B\": 0, \"C\": 5}\n",
    "precos_filtrados = {k: v for k, v in precos.items() if v > 0}\n",
    "print(\"3) Preços filtrados:\", precos_filtrados)"
   ]
  },
  {
   "cell_type": "code",
   "execution_count": 99,
   "id": "7c389a31-d24a-4cb6-b240-c6d5d2454e15",
   "metadata": {},
   "outputs": [
    {
     "name": "stdout",
     "output_type": "stream",
     "text": [
      "4) Floats: {'x': 1.0, 'y': 2.0}\n"
     ]
    }
   ],
   "source": [
    "# 4) Transformar em floats\n",
    "d = {\"x\": 1, \"y\": 2}\n",
    "floats = {k: float(v) for k, v in d.items()}\n",
    "print(\"4) Floats:\", floats)"
   ]
  },
  {
   "cell_type": "code",
   "execution_count": 100,
   "id": "5da4d238-7813-4c5b-b8dc-bd7ca66dcf70",
   "metadata": {},
   "outputs": [
    {
     "name": "stdout",
     "output_type": "stream",
     "text": [
      "5) Contagem de letras: {'r': 1, 'g': 1, 'n': 2, 'h': 1, 'i': 1, 'e': 2, 'a': 2}\n"
     ]
    }
   ],
   "source": [
    "# 5) Contagem de letras\n",
    "texto = \"engenharia\"\n",
    "contagem = {letra: texto.count(letra) for letra in set(texto)}\n",
    "print(\"5) Contagem de letras:\", contagem)"
   ]
  },
  {
   "cell_type": "markdown",
   "id": "7f71f93f-1381-46bd-8f75-b81bfbf2e12d",
   "metadata": {},
   "source": [
    "## 📚 Capítulo 10 — Fechamento: Dicionários\n",
    "\n",
    "Neste capítulo, exploramos os **dicionários em Python**, uma estrutura fundamental para armazenar e manipular dados organizados em pares **chave–valor**.  \n",
    "Dicionários são extremamente versáteis e aparecem com frequência em aplicações reais como: análise de dados, configuração de sistemas, APIs, bancos de dados em memória, entre outros.\n",
    "\n",
    "---\n",
    "\n",
    "### 🔑 1. Fundamentos\n",
    "- Dicionários armazenam pares **chave–valor**, sendo as chaves **únicas**.  \n",
    "- São **mutáveis**, permitindo adição, modificação e remoção de pares.  \n",
    "- A ordem de inserção é preservada (Python ≥ 3.7).  \n",
    "\n",
    "---\n",
    "\n",
    "### 🔍 2. Acessando valores\n",
    "- `d[chave]` retorna o valor associado, mas gera `KeyError` se a chave não existir.  \n",
    "- `d.get(chave, padrao)` permite acessar valores com segurança, retornando um padrão se a chave estiver ausente.  \n",
    "\n",
    "---\n",
    "\n",
    "### ✏️ 3. Adicionando e modificando pares\n",
    "- `d[chave] = valor` → adiciona novo par ou modifica um existente.  \n",
    "- `d.update({...})` → adiciona ou modifica múltiplos pares de uma vez.  \n",
    "\n",
    "---\n",
    "\n",
    "### 🗑️ 4. Removendo pares\n",
    "- `del d[chave]` → remove chave existente.  \n",
    "- `d.pop(chave[, padrao])` → remove e retorna valor.  \n",
    "- `d.popitem()` → remove e retorna o último par inserido.  \n",
    "- `d.clear()` → esvazia o dicionário.  \n",
    "\n",
    "---\n",
    "\n",
    "### 🔎 5. Pertencimento\n",
    "- `in` e `not in` verificam apenas **chaves**.  \n",
    "- Para valores → `valor in d.values()`.  \n",
    "- Para pares → `(chave, valor) in d.items()`.  \n",
    "\n",
    "---\n",
    "\n",
    "### 🔄 6. Iteração\n",
    "- `for k in d` → percorre chaves.  \n",
    "- `for v in d.values()` → percorre valores.  \n",
    "- `for k, v in d.items()` → percorre pares chave–valor.  \n",
    "\n",
    "---\n",
    "\n",
    "### 🛠️ 7. Métodos úteis\n",
    "| Método                | Uso principal                                   |\n",
    "|-----------------------|-------------------------------------------------|\n",
    "| `keys()`              | retorna todas as chaves                         |\n",
    "| `values()`            | retorna todos os valores                        |\n",
    "| `items()`             | retorna pares (chave, valor)                    |\n",
    "| `get()`               | acessa valor com padrão                         |\n",
    "| `update()`            | adiciona ou modifica pares                      |\n",
    "| `pop()` / `popitem()` | remove itens                                    |\n",
    "| `clear()`             | remove tudo                                     |\n",
    "| `copy()`              | cria cópia rasa                                 |\n",
    "| `fromkeys()`          | cria novo dicionário a partir de chaves dadas   |\n",
    "| `setdefault()`        | acessa chave ou insere se não existir           |\n",
    "\n",
    "---\n",
    "\n",
    "### 🧩 8. Dictionary comprehensions\n",
    "- Forma compacta de criar ou transformar dicionários:\n",
    "```python\n",
    "{chave: valor for item in iteravel if condicao}\n",
    "\n",
    "{n: n**2 for n in range(5)}              # quadrados\n",
    "{k: v for k,v in d.items() if v > 0}     # filtragem\n",
    "{p: len(p) for p in [\"python\",\"dados\"]}  # transformação\n",
    "```"
   ]
  },
  {
   "cell_type": "markdown",
   "id": "fd30451f-fe75-42f7-8d33-8c2521b7d9a7",
   "metadata": {},
   "source": [
    "### 📌 Resumo visual\n",
    "\n",
    "| Conceito            | Exemplo                         | Resultado                          |\n",
    "|---------------------|---------------------------------|------------------------------------|\n",
    "| Criar dicionário    | `{\"a\": 1, \"b\": 2}`              | `{\"a\": 1, \"b\": 2}`                 |\n",
    "| Acessar valor       | `d[\"a\"]`                        | `1`                                |\n",
    "| Acessar seguro      | `d.get(\"x\", 0)`                 | `0`                                |\n",
    "| Adicionar/modificar | `d[\"c\"] = 3`                    | `{\"a\": 1, \"b\": 2, \"c\": 3}`         |\n",
    "| Remover chave       | `d.pop(\"a\")`                    | remove `\"a\"`                       |\n",
    "| Iterar chaves       | `for k in d`                    | `a, b, c`                          |\n",
    "| Iterar valores      | `for v in d.values()`           | `1, 2, 3`                          |\n",
    "| Iterar pares        | `for k, v in d.items()`         | `(\"a\", 1), (\"b\", 2), (\"c\", 3)`     |\n",
    "| Comprehension       | `{x: x**2 for x in range(3)}`   | `{0: 0, 1: 1, 2: 4}`               |\n"
   ]
  },
  {
   "cell_type": "markdown",
   "id": "ec3c6916-a469-496c-8f28-82e667ec57c3",
   "metadata": {},
   "source": [
    "### 🎯 Conclusão\n",
    "\n",
    "Dicionários são uma das estruturas mais poderosas do Python, permitindo armazenar e acessar dados de forma eficiente.\n",
    "Com a prática dos métodos, da verificação de chaves e do uso de comprehensions, você estará preparado para lidar com dados estruturados em praticamente qualquer aplicação Python."
   ]
  },
  {
   "cell_type": "code",
   "execution_count": null,
   "id": "d2e745d1-4b6e-43f3-a39c-c4cbe96073f7",
   "metadata": {},
   "outputs": [],
   "source": []
  }
 ],
 "metadata": {
  "kernelspec": {
   "display_name": "Python 3 (ipykernel)",
   "language": "python",
   "name": "python3"
  },
  "language_info": {
   "codemirror_mode": {
    "name": "ipython",
    "version": 3
   },
   "file_extension": ".py",
   "mimetype": "text/x-python",
   "name": "python",
   "nbconvert_exporter": "python",
   "pygments_lexer": "ipython3",
   "version": "3.13.7"
  }
 },
 "nbformat": 4,
 "nbformat_minor": 5
}
