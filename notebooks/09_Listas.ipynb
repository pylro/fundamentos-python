{
 "cells": [
  {
   "cell_type": "markdown",
   "id": "ffe79bec-bfe6-4a9d-80bc-23c365d45da5",
   "metadata": {},
   "source": [
    "# 📖 Capítulo 9 – Listas\n",
    "\n",
    "> **Adriano Pylro - Engenheiro Mecânico - Dr. Eng,** \n",
    "\n",
    "As **listas** são coleções mutáveis e ordenadas que podem conter elementos de diferentes tipos (inclusive outras listas).  \n",
    "Elas permitem inserção, remoção e modificação de elementos, além de diversas operações de iteração.\n",
    "\n",
    "---\n",
    "\n",
    "## 9.1 Modificando e Iterando sobre Listas\n",
    "\n",
    "Uma das grandes vantagens das listas em Python é a **mutabilidade**:  \n",
    "podemos alterar seus elementos diretamente, sem criar uma nova lista.\n",
    "\n",
    "### 🔹 Modificando elementos\n",
    "\n",
    "Podemos substituir o valor de um elemento acessando-o pelo índice:"
   ]
  },
  {
   "cell_type": "code",
   "execution_count": 1,
   "id": "9f310b3b-b8e3-4db0-affd-87f034f2fbbd",
   "metadata": {},
   "outputs": [
    {
     "name": "stdout",
     "output_type": "stream",
     "text": [
      "['maçã', 'pera', 'cereja']\n"
     ]
    }
   ],
   "source": [
    "frutas = [\"maçã\", \"banana\", \"cereja\"]\n",
    "frutas[1] = \"pera\"  # substitui \"banana\" por \"pera\"\n",
    "print(frutas)  # ['maçã', 'pera', 'cereja']"
   ]
  },
  {
   "cell_type": "markdown",
   "id": "43c4788f-f743-460f-9c72-bc9fc46713ce",
   "metadata": {},
   "source": [
    "Também é possível modificar fatias da lista:"
   ]
  },
  {
   "cell_type": "code",
   "execution_count": 2,
   "id": "c963c899-72eb-4728-b0c4-56e7e066a972",
   "metadata": {},
   "outputs": [
    {
     "name": "stdout",
     "output_type": "stream",
     "text": [
      "[1, 20, 30, 40, 5]\n"
     ]
    }
   ],
   "source": [
    "numeros = [1, 2, 3, 4, 5]\n",
    "numeros[1:4] = [20, 30, 40]  # substitui índices 1, 2 e 3\n",
    "print(numeros)  # [1, 20, 30, 40, 5]"
   ]
  },
  {
   "cell_type": "markdown",
   "id": "4a01adcb-ecfd-4ba8-aa25-959f85ed32bc",
   "metadata": {},
   "source": [
    "### 🔹 Inserindo e removendo elementos\n",
    "\n",
    "* `append(valor)`: adiciona um elemento ao final da lista.\n",
    "* `insert(indice, valor)`: insere um elemento na posição especificada.\n",
    "* `extend(lista)`: adiciona múltiplos elementos de outra lista ao final da atual.\n",
    "* `remove(valor)`: remove a primeira ocorrência do valor especificado.\n",
    "* `pop(indice)`: remove e retorna o elemento em uma posição específica (por padrão, remove o último elemento).\n",
    "* `clear()`: remove todos os elementos da lista, deixando-a vazia."
   ]
  },
  {
   "cell_type": "code",
   "execution_count": 3,
   "id": "01138b7a-a168-4234-a725-034991b2a955",
   "metadata": {},
   "outputs": [
    {
     "name": "stdout",
     "output_type": "stream",
     "text": [
      "[1, 10, 2, 3, 4, 20, 30]\n",
      "[2, 3, 4, 20, 30]\n"
     ]
    }
   ],
   "source": [
    "lista = [1, 2, 3]\n",
    "lista.append(4)\n",
    "lista.insert(1, 10)\n",
    "lista.extend([20, 30])\n",
    "print(lista)  # [1, 10, 2, 3, 4, 20, 30]\n",
    "\n",
    "lista.remove(10)\n",
    "lista.pop(0)\n",
    "print(lista)  # [2, 3, 4, 20, 30]\n"
   ]
  },
  {
   "cell_type": "markdown",
   "id": "dddddaaf-ef1b-41a4-b007-42bff4e2d92e",
   "metadata": {},
   "source": [
    "### 🔹 Iterando sobre listas\n",
    "Podemos percorrer listas com for ou while.\n",
    "\n",
    "Usando `for`:"
   ]
  },
  {
   "cell_type": "code",
   "execution_count": 4,
   "id": "be48f47f-f69e-4f05-9059-96ec6cff8067",
   "metadata": {},
   "outputs": [
    {
     "name": "stdout",
     "output_type": "stream",
     "text": [
      "Ana\n",
      "Bruno\n",
      "Carlos\n"
     ]
    }
   ],
   "source": [
    "nomes = [\"Ana\", \"Bruno\", \"Carlos\"]\n",
    "for nome in nomes:\n",
    "    print(nome)"
   ]
  },
  {
   "cell_type": "markdown",
   "id": "37e09a29-c9ba-4f9d-a8b3-5be245d3255d",
   "metadata": {},
   "source": [
    "Usando `enumerate()` para obter índice e valor:"
   ]
  },
  {
   "cell_type": "code",
   "execution_count": 5,
   "id": "2f592a2f-508a-4f3d-8e43-52f0ee4fda74",
   "metadata": {},
   "outputs": [
    {
     "name": "stdout",
     "output_type": "stream",
     "text": [
      "Índice 0 → Ana\n",
      "Índice 1 → Bruno\n",
      "Índice 2 → Carlos\n"
     ]
    }
   ],
   "source": [
    "for i, nome in enumerate(nomes):\n",
    "    print(f\"Índice {i} → {nome}\")"
   ]
  },
  {
   "cell_type": "markdown",
   "id": "d51d3778-9a98-47d8-9d39-42e1d3a8c2cc",
   "metadata": {},
   "source": [
    "Usando `while`:"
   ]
  },
  {
   "cell_type": "code",
   "execution_count": 6,
   "id": "63357f2d-24d6-409c-a0cf-37cb85ed481d",
   "metadata": {},
   "outputs": [
    {
     "name": "stdout",
     "output_type": "stream",
     "text": [
      "Ana\n",
      "Bruno\n",
      "Carlos\n"
     ]
    }
   ],
   "source": [
    "i = 0\n",
    "while i < len(nomes):\n",
    "    print(nomes[i])\n",
    "    i += 1"
   ]
  },
  {
   "cell_type": "markdown",
   "id": "5b85a4fe-d1fe-4ae3-9c52-4be123f36982",
   "metadata": {},
   "source": [
    "### 🔹 Cópias e referências\n",
    "É importante lembrar que atribuir uma lista a outra variável não cria cópia, apenas referência:"
   ]
  },
  {
   "cell_type": "code",
   "execution_count": 7,
   "id": "4c00d8ee-b6cd-4db2-815b-63694c6d7b8a",
   "metadata": {},
   "outputs": [
    {
     "name": "stdout",
     "output_type": "stream",
     "text": [
      "[99, 2, 3]\n"
     ]
    }
   ],
   "source": [
    "a = [1, 2, 3]\n",
    "b = a\n",
    "b[0] = 99\n",
    "print(a)  # [99, 2, 3]  (a também foi alterada)"
   ]
  },
  {
   "cell_type": "markdown",
   "id": "3e00efd6-c138-444e-94a6-fa0442f40fad",
   "metadata": {},
   "source": [
    "Para criar uma cópia independente, use:"
   ]
  },
  {
   "cell_type": "code",
   "execution_count": 8,
   "id": "3d3f8bce-d60f-44e5-a6a2-35ada857a381",
   "metadata": {},
   "outputs": [],
   "source": [
    "b = a.copy()\n",
    "# ou\n",
    "b = list(a)\n",
    "# ou slicing:\n",
    "b = a[:]"
   ]
  },
  {
   "cell_type": "markdown",
   "id": "4a7bf30c-7b72-4f6f-9c97-e5e347516923",
   "metadata": {},
   "source": [
    "## 📌 Resumo rápido – métodos comuns de listas\n",
    "\n",
    "| Método        | Descrição                                          |\n",
    "|---------------|----------------------------------------------------|\n",
    "| `append(x)`   | Adiciona `x` ao final da lista                      |\n",
    "| `insert(i, x)`| Insere `x` na posição `i`                           |\n",
    "| `extend(lst)` | Adiciona os elementos de `lst` no final             |\n",
    "| `remove(x)`   | Remove a primeira ocorrência de `x`                 |\n",
    "| `pop([i])`    | Remove e retorna o elemento na posição `i`          |\n",
    "| `clear()`     | Remove todos os elementos                          |\n",
    "| `copy()`      | Retorna uma cópia rasa da lista                     |\n",
    "| `sort()`      | Ordena a lista (modifica in-place)                  |\n",
    "| `reverse()`   | Inverte a ordem da lista                            |\n"
   ]
  },
  {
   "cell_type": "markdown",
   "id": "6ff08eed-323d-40b4-8e5d-b73ddd10a151",
   "metadata": {},
   "source": [
    "## 📝 Exercícios\n",
    "\n",
    "1. **Substituição de elementos**  \n",
    "   Crie uma lista com cinco números e substitua o **segundo** e o **quarto** elementos por `99` e `100`.\n",
    "\n",
    "2. **Lista de nomes**  \n",
    "   Peça ao usuário para digitar cinco nomes, armazene-os em uma lista e depois exiba cada nome precedido de seu índice.\n",
    "\n",
    "3. **Manipulação de lista**  \n",
    "   Crie uma lista com `[1, 2, 3]`, depois:  \n",
    "   - Adicione o número `4` no final;  \n",
    "   - Insira o número `10` na posição `1`;  \n",
    "   - Remova o número `2`.\n",
    "\n",
    "4. **Lista de quadrados**  \n",
    "   Faça um programa que leia 5 números, armazene-os em uma lista e depois crie uma nova lista com os **quadrados** desses números.\n",
    "\n",
    "5. **Cópia vs referência**  \n",
    "   Mostre a diferença entre criar uma cópia da lista com `copy()` e apenas fazer `b = a`.\n"
   ]
  },
  {
   "cell_type": "code",
   "execution_count": 12,
   "id": "d7067a8a-91a8-4754-8b0f-76f39dd63f4c",
   "metadata": {},
   "outputs": [
    {
     "name": "stdout",
     "output_type": "stream",
     "text": [
      "Lista modificada: [10, 99, 30, 100, 50]\n"
     ]
    }
   ],
   "source": [
    "# 1. Substituição de elementos\n",
    "numeros = [10, 20, 30, 40, 50]\n",
    "numeros[1] = 99    # Segundo elemento (índice 1)\n",
    "numeros[3] = 100   # Quarto elemento (índice 3)\n",
    "print(\"Lista modificada:\", numeros)"
   ]
  },
  {
   "cell_type": "code",
   "execution_count": 13,
   "id": "c94dd4bf-b74e-4e96-891e-a165e71d7c27",
   "metadata": {},
   "outputs": [
    {
     "name": "stdin",
     "output_type": "stream",
     "text": [
      "Digite o 1º nome:  q\n",
      "Digite o 2º nome:  w\n",
      "Digite o 3º nome:  e\n",
      "Digite o 4º nome:  r\n",
      "Digite o 5º nome:  d\n"
     ]
    },
    {
     "name": "stdout",
     "output_type": "stream",
     "text": [
      "\n",
      "Nomes com índices:\n",
      "0: q\n",
      "1: w\n",
      "2: e\n",
      "3: r\n",
      "4: d\n"
     ]
    }
   ],
   "source": [
    "# 2. Lista de nomes\n",
    "nomes = []\n",
    "for i in range(5):\n",
    "    nome = input(f\"Digite o {i+1}º nome: \")\n",
    "    nomes.append(nome)\n",
    "\n",
    "print(\"\\nNomes com índices:\")\n",
    "for i, nome in enumerate(nomes):\n",
    "    print(f\"{i}: {nome}\")"
   ]
  },
  {
   "cell_type": "code",
   "execution_count": 14,
   "id": "3d31bfd0-938b-43ca-b37e-ed2a9ae52f5a",
   "metadata": {},
   "outputs": [
    {
     "name": "stdout",
     "output_type": "stream",
     "text": [
      "\n",
      "Lista final: [1, 10, 3, 4]\n"
     ]
    }
   ],
   "source": [
    "# 3. Manipulação de lista\n",
    "lista = [1, 2, 3]\n",
    "lista.append(4)        # Adiciona 4 ao final\n",
    "lista.insert(1, 10)    # Insere 10 na posição 1\n",
    "lista.remove(2)        # Remove o valor 2\n",
    "print(\"\\nLista final:\", lista)"
   ]
  },
  {
   "cell_type": "code",
   "execution_count": 16,
   "id": "bbbbfca5-6547-4582-b723-e3d38490f65e",
   "metadata": {},
   "outputs": [
    {
     "name": "stdin",
     "output_type": "stream",
     "text": [
      "Digite o 1º número:  1\n",
      "Digite o 2º número:  2\n",
      "Digite o 3º número:  3\n",
      "Digite o 4º número:  4\n",
      "Digite o 5º número:  2\n"
     ]
    },
    {
     "name": "stdout",
     "output_type": "stream",
     "text": [
      "\n",
      "Números originais: [1, 2, 3, 4, 2]\n",
      "Quadrados: [1, 4, 9, 16, 4]\n"
     ]
    }
   ],
   "source": [
    "# 4. Lista de quadrados\n",
    "numeros = []\n",
    "for i in range(5):\n",
    "    n = int(input(f\"Digite o {i+1}º número: \"))\n",
    "    numeros.append(n)\n",
    "\n",
    "quadrados = [x**2 for x in numeros]\n",
    "print(\"\\nNúmeros originais:\", numeros)\n",
    "print(\"Quadrados:\", quadrados)"
   ]
  },
  {
   "cell_type": "code",
   "execution_count": 17,
   "id": "3d1ff8f1-c1ad-4ffd-8a68-1919538a89e2",
   "metadata": {},
   "outputs": [
    {
     "name": "stdout",
     "output_type": "stream",
     "text": [
      "\n",
      "Lista a: [1, 2, 3, 4]\n",
      "Lista b (referência): [1, 2, 3, 4]\n",
      "Lista c (cópia): [1, 2, 3, 5]\n"
     ]
    }
   ],
   "source": [
    "# 5. Cópia vs referência\n",
    "a = [1, 2, 3]\n",
    "b = a          # b aponta para a mesma lista que a\n",
    "c = a.copy()   # c é uma nova lista, independente\n",
    "\n",
    "b.append(4)    # modifica a e b\n",
    "c.append(5)    # modifica apenas c\n",
    "\n",
    "print(\"\\nLista a:\", a)\n",
    "print(\"Lista b (referência):\", b)\n",
    "print(\"Lista c (cópia):\", c)\n"
   ]
  },
  {
   "cell_type": "markdown",
   "id": "1ff67b40-228a-413d-b14b-1adbdac347af",
   "metadata": {},
   "source": [
    "## 9.2 – Ordenando e invertendo listas\n",
    "\n",
    "O Python fornece métodos integrados para organizar e inverter listas de forma simples.  \n",
    "As operações podem modificar a lista original (**in-place**) ou retornar uma nova lista.\n"
   ]
  },
  {
   "cell_type": "markdown",
   "id": "7bbe53e1-4706-4fbc-914f-1302441aaddb",
   "metadata": {},
   "source": [
    "### 🔹 `sort()` – Ordena in-place\n",
    "- **Sintaxe**: `lista.sort(reverse=False, key=None)`\n",
    "- **Características**:\n",
    "  - Ordena a lista **no local** (não cria cópia).\n",
    "  - Por padrão, ordena em ordem crescente.\n",
    "  - `reverse=True` → ordem decrescente.\n",
    "  - `key` → função usada para extrair um critério de ordenação.\n"
   ]
  },
  {
   "cell_type": "code",
   "execution_count": 1,
   "id": "0f1cb4d7-9d4f-468b-85cc-3105ce1bc77b",
   "metadata": {},
   "outputs": [
    {
     "name": "stdout",
     "output_type": "stream",
     "text": [
      "[1, 3, 5, 8]\n",
      "[8, 5, 3, 1]\n"
     ]
    }
   ],
   "source": [
    "numeros = [5, 1, 8, 3]\n",
    "numeros.sort()\n",
    "print(numeros)   # [1, 3, 5, 8]\n",
    "\n",
    "numeros.sort(reverse=True)\n",
    "print(numeros)   # [8, 5, 3, 1]"
   ]
  },
  {
   "cell_type": "markdown",
   "id": "41535d24-3f2b-4ccd-beb0-f80ad3eaf444",
   "metadata": {},
   "source": [
    "### 🔹 `sorted()` – Retorna nova lista\n",
    "- **Sintaxe**: `sorted(iterável, reverse=False, key=None)`\n",
    "- Funciona com qualquer iterável (listas, tuplas, strings, etc.).\n",
    "- Não altera o objeto original."
   ]
  },
  {
   "cell_type": "code",
   "execution_count": 2,
   "id": "ecc872ce-b4c3-4773-a66c-bc6f2ff79e33",
   "metadata": {},
   "outputs": [
    {
     "name": "stdout",
     "output_type": "stream",
     "text": [
      "[1, 3, 5, 8]\n",
      "[5, 1, 8, 3]\n"
     ]
    }
   ],
   "source": [
    "numeros = [5, 1, 8, 3]\n",
    "nova_lista = sorted(numeros)\n",
    "print(nova_lista)  # [1, 3, 5, 8]\n",
    "print(numeros)     # [5, 1, 8, 3] → original intacto"
   ]
  },
  {
   "cell_type": "markdown",
   "id": "d09afe91-38d2-4ff8-a827-fdc631f4985a",
   "metadata": {},
   "source": [
    "### 🔹 Ordenação com `key`\n",
    "É possível ordenar listas com base em critérios personalizados."
   ]
  },
  {
   "cell_type": "code",
   "execution_count": 3,
   "id": "01dc5202-3f08-4d6a-b4ea-b635dd2af365",
   "metadata": {},
   "outputs": [
    {
     "name": "stdout",
     "output_type": "stream",
     "text": [
      "['kiwi', 'banana', 'abacaxi', 'laranja']\n"
     ]
    }
   ],
   "source": [
    "palavras = [\"banana\", \"abacaxi\", \"laranja\", \"kiwi\"]\n",
    "palavras.sort(key=len)  # Ordena pelo tamanho da palavra\n",
    "print(palavras)         # ['kiwi', 'banana', 'abacaxi', 'laranja']"
   ]
  },
  {
   "cell_type": "markdown",
   "id": "7f172742-4fa6-4c29-99a8-a08bef04a950",
   "metadata": {},
   "source": [
    "### 🔹 `reverse()` – Inverte a ordem da lista\n",
    "- Inverte **no local** sem ordenar."
   ]
  },
  {
   "cell_type": "code",
   "execution_count": 4,
   "id": "c16bd725-689d-420c-a266-32271affef72",
   "metadata": {},
   "outputs": [
    {
     "name": "stdout",
     "output_type": "stream",
     "text": [
      "[3, 2, 1]\n"
     ]
    }
   ],
   "source": [
    "numeros = [1, 2, 3]\n",
    "numeros.reverse()\n",
    "print(numeros)  # [3, 2, 1]"
   ]
  },
  {
   "cell_type": "markdown",
   "id": "c29f1637-fe64-47de-a92d-401e65d2f056",
   "metadata": {},
   "source": [
    "## 📌 Comparativo rápido\n",
    "\n",
    "| Método / Função | Modifica a lista original? | Pode usar `key` e `reverse`? |\n",
    "|-----------------|----------------------------|--------------------------------|\n",
    "| `sort()`        | ✅ Sim                     | ✅ Sim                        |\n",
    "| `sorted()`      | ❌ Não                     | ✅ Sim                        |\n",
    "| `reverse()`     | ✅ Sim                     | ❌ Não                        |"
   ]
  },
  {
   "cell_type": "markdown",
   "id": "79785387-a6c2-4790-b8a6-22d3c4fc4e3e",
   "metadata": {},
   "source": [
    "## 📝 Exercícios\n",
    "\n",
    "1. Crie uma lista com números aleatórios e ordene-a em ordem crescente e depois decrescente usando `sort()`.\n",
    "2. Ordene uma lista de nomes pelo comprimento de cada nome.\n",
    "3. Dada a lista `[10, -5, 3, -1, 0]`, ordene-a pelo valor absoluto.\n",
    "4. Use `sorted()` para gerar uma nova lista com as palavras de uma frase ordenadas alfabeticamente.\n",
    "5. Inverta a lista `[1, 2, 3, 4, 5]` sem ordená-la.\n"
   ]
  },
  {
   "cell_type": "markdown",
   "id": "5edbe264-51b0-4a0f-a773-bab402646727",
   "metadata": {},
   "source": [
    "## 📝 Soluções – Seção 9.2"
   ]
  },
  {
   "cell_type": "code",
   "execution_count": 5,
   "id": "e326ec7e-383d-4e56-b72c-2fc9f1d51c04",
   "metadata": {},
   "outputs": [
    {
     "name": "stdout",
     "output_type": "stream",
     "text": [
      "Lista original: [-29, -7, -25, 28, -33, 0, 19, 40]\n",
      "Ordem crescente: [-33, -29, -25, -7, 0, 19, 28, 40]\n",
      "Ordem decrescente: [40, 28, 19, 0, -7, -25, -29, -33]\n"
     ]
    }
   ],
   "source": [
    "# 1. Crie uma lista com números aleatórios e ordene-a em ordem crescente e depois decrescente usando sort()\n",
    "import random\n",
    "\n",
    "lista = [random.randint(-50, 50) for _ in range(8)]\n",
    "print(\"Lista original:\", lista)\n",
    "\n",
    "lista.sort()\n",
    "print(\"Ordem crescente:\", lista)\n",
    "\n",
    "lista.sort(reverse=True)\n",
    "print(\"Ordem decrescente:\", lista)"
   ]
  },
  {
   "cell_type": "code",
   "execution_count": 6,
   "id": "a54fa4e0-041c-46c9-ba87-74ea2ce65eb8",
   "metadata": {},
   "outputs": [
    {
     "name": "stdout",
     "output_type": "stream",
     "text": [
      "\n",
      "Ordenado por comprimento: ['Ana', 'João', 'Maria', 'Roberto', 'Fernando']\n"
     ]
    }
   ],
   "source": [
    "# 2. Ordene uma lista de nomes pelo comprimento de cada nome\n",
    "nomes = [\"Ana\", \"Roberto\", \"João\", \"Maria\", \"Fernando\"]\n",
    "nomes.sort(key=len)\n",
    "print(\"\\nOrdenado por comprimento:\", nomes)"
   ]
  },
  {
   "cell_type": "code",
   "execution_count": 7,
   "id": "8115496b-7320-4c47-a327-71c973355ee7",
   "metadata": {},
   "outputs": [
    {
     "name": "stdout",
     "output_type": "stream",
     "text": [
      "\n",
      "Ordenado por valor absoluto: [0, -1, 3, -5, 10]\n"
     ]
    }
   ],
   "source": [
    "# 3. Ordene pelo valor absoluto\n",
    "valores = [10, -5, 3, -1, 0]\n",
    "valores.sort(key=abs)\n",
    "print(\"\\nOrdenado por valor absoluto:\", valores)"
   ]
  },
  {
   "cell_type": "code",
   "execution_count": 8,
   "id": "de2245d9-f742-40fd-a219-8b5442b6b198",
   "metadata": {},
   "outputs": [
    {
     "name": "stdout",
     "output_type": "stream",
     "text": [
      "\n",
      "Palavras ordenadas: ['Python', 'e', 'linguagem', 'poderosa', 'uma', 'versátil', 'é']\n"
     ]
    }
   ],
   "source": [
    "# 4. Use sorted() para gerar uma nova lista com as palavras de uma frase ordenadas alfabeticamente\n",
    "frase = \"Python é uma linguagem poderosa e versátil\"\n",
    "palavras_ordenadas = sorted(frase.split())\n",
    "print(\"\\nPalavras ordenadas:\", palavras_ordenadas)"
   ]
  },
  {
   "cell_type": "code",
   "execution_count": 9,
   "id": "a3d14363-71c3-4b19-b716-4856a7e5888e",
   "metadata": {},
   "outputs": [
    {
     "name": "stdout",
     "output_type": "stream",
     "text": [
      "\n",
      "Lista invertida: [5, 4, 3, 2, 1]\n"
     ]
    }
   ],
   "source": [
    "# 5. Inverta a lista [1, 2, 3, 4, 5] sem ordená-la\n",
    "lista_invertida = [1, 2, 3, 4, 5]\n",
    "lista_invertida.reverse()\n",
    "print(\"\\nLista invertida:\", lista_invertida)"
   ]
  },
  {
   "cell_type": "markdown",
   "id": "87e09052-9c73-4100-a59a-5d17234ae5f5",
   "metadata": {},
   "source": [
    "## 9.3 – Operações comuns com listas (Common list operations)\n",
    "\n",
    "Nesta seção, revisamos operações frequentes em listas:\n",
    "- Tamanho com `len()`\n",
    "- Verificações de pertinência com `in` / `not in`\n",
    "- Mínimo, máximo e soma: `min()`, `max()`, `sum()`\n",
    "- Contagem e localização: `list.count(x)`, `list.index(x)`\n",
    "- Concatenação e repetição: `+`, `*`\n",
    "- Comparação e igualdade de listas\n",
    "- Conversões de tipos para lista: `list(iterável)`\n"
   ]
  },
  {
   "cell_type": "markdown",
   "id": "bd065c04-6b5e-4e3f-9afc-5c70a69f514b",
   "metadata": {},
   "source": [
    "### 🔹 Tamanho e pertinência\n",
    "- `len(lista)` retorna a quantidade de elementos.\n",
    "- `x in lista` verifica se `x` está presente.\n",
    "- `x not in lista` verifica se `x` não está presente."
   ]
  },
  {
   "cell_type": "code",
   "execution_count": 10,
   "id": "532bc8ad-ebcc-46ad-be1d-e2e2c78a4d47",
   "metadata": {},
   "outputs": [
    {
     "name": "stdout",
     "output_type": "stream",
     "text": [
      "Tamanho: 5\n",
      "20 está na lista? True\n",
      "99 está na lista? False\n",
      "99 não está na lista? True\n"
     ]
    }
   ],
   "source": [
    "nums = [10, 20, 30, 40, 50]\n",
    "print(\"Tamanho:\", len(nums))\n",
    "print(\"20 está na lista?\", 20 in nums)\n",
    "print(\"99 está na lista?\", 99 in nums)\n",
    "print(\"99 não está na lista?\", 99 not in nums)"
   ]
  },
  {
   "cell_type": "markdown",
   "id": "f001fab3-4281-4ba5-aff2-1613bc677389",
   "metadata": {},
   "source": [
    "### 🔹 Mínimo, máximo e soma\n",
    "- `min(lista)`, `max(lista)`, `sum(lista)`"
   ]
  },
  {
   "cell_type": "code",
   "execution_count": 11,
   "id": "b4d71e52-436f-4a2c-ae06-8c3a9029d2d9",
   "metadata": {},
   "outputs": [
    {
     "name": "stdout",
     "output_type": "stream",
     "text": [
      "min: -3\n",
      "max: 9\n",
      "sum: 12\n"
     ]
    }
   ],
   "source": [
    "nums = [5, 1, 9, -3]\n",
    "print(\"min:\", min(nums))\n",
    "print(\"max:\", max(nums))\n",
    "print(\"sum:\", sum(nums))\n"
   ]
  },
  {
   "cell_type": "markdown",
   "id": "f91f0362-1d97-4bdb-a90b-ad0c05e1e838",
   "metadata": {},
   "source": [
    "### 🔹 Contagem e localização\n",
    "- `lista.count(x)` → número de ocorrências de `x`\n",
    "- `lista.index(x)` → índice da **primeira** ocorrência de `x` (erro se não existir)"
   ]
  },
  {
   "cell_type": "code",
   "execution_count": 12,
   "id": "a0f02713-71e6-4a98-b71d-d7055a82a341",
   "metadata": {},
   "outputs": [
    {
     "name": "stdout",
     "output_type": "stream",
     "text": [
      "count(2): 3\n",
      "index(3): 3\n",
      "99 não está na lista\n"
     ]
    }
   ],
   "source": [
    "dados = [1, 2, 2, 3, 2, 4]\n",
    "print(\"count(2):\", dados.count(2))\n",
    "print(\"index(3):\", dados.index(3))\n",
    "\n",
    "# Evitando erro em index:\n",
    "valor = 99\n",
    "if valor in dados:\n",
    "    print(\"index(99):\", dados.index(valor))\n",
    "else:\n",
    "    print(\"99 não está na lista\")"
   ]
  },
  {
   "cell_type": "code",
   "execution_count": 13,
   "id": "a06d588a-82c4-46c2-87ad-532519f5ecd5",
   "metadata": {},
   "outputs": [
    {
     "name": "stdout",
     "output_type": "stream",
     "text": [
      "count(2): 3\n",
      "index(3): 3\n",
      "99 não está na lista\n"
     ]
    }
   ],
   "source": [
    "dados = [1, 2, 2, 3, 2, 4]\n",
    "print(\"count(2):\", dados.count(2))\n",
    "print(\"index(3):\", dados.index(3))\n",
    "\n",
    "# Evitando erro em index:\n",
    "valor = 99\n",
    "if valor in dados:\n",
    "    print(\"index(99):\", dados.index(valor))\n",
    "else:\n",
    "    print(\"99 não está na lista\")"
   ]
  },
  {
   "cell_type": "markdown",
   "id": "615e57ab-9581-4d38-951e-e1c55202f015",
   "metadata": {},
   "source": [
    "### 🔹 Concatenação e repetição\n",
    "- `lista1 + lista2` → nova lista com os elementos concatenados\n",
    "- `lista * n` → repete os elementos `n` vezes (superficial)"
   ]
  },
  {
   "cell_type": "code",
   "execution_count": 14,
   "id": "ac17894a-445a-40ce-b3b2-1f119f734b37",
   "metadata": {},
   "outputs": [
    {
     "name": "stdout",
     "output_type": "stream",
     "text": [
      "Concat: [1, 2, 3, 4]\n",
      "Repetição: ['x', 'x', 'x', 'x']\n"
     ]
    }
   ],
   "source": [
    "a = [1, 2]\n",
    "b = [3, 4]\n",
    "c = a + b\n",
    "print(\"Concat:\", c)\n",
    "\n",
    "rep = [\"x\"] * 4\n",
    "print(\"Repetição:\", rep)"
   ]
  },
  {
   "cell_type": "markdown",
   "id": "8d18b2e9-c1f7-4233-84d6-e25f3dac3bc8",
   "metadata": {},
   "source": [
    "### 🔹 Comparação e igualdade\n",
    "- Listas são **iguais** (`==`) se tiverem **mesmo comprimento** e **mesmos elementos na mesma ordem**.\n",
    "- A comparação `<, >` entre listas faz **comparação lexicográfica** (elemento a elemento).\n"
   ]
  },
  {
   "cell_type": "code",
   "execution_count": 15,
   "id": "37617aa6-bf8b-498d-84b9-9a61971aed9a",
   "metadata": {},
   "outputs": [
    {
     "name": "stdout",
     "output_type": "stream",
     "text": [
      "l1 == l2: True\n",
      "l1 == l3: False\n",
      "[1, 2] < [1, 3]: True\n"
     ]
    }
   ],
   "source": [
    "l1 = [1, 2, 3]\n",
    "l2 = [1, 2, 3]\n",
    "l3 = [1, 3, 2]\n",
    "\n",
    "print(\"l1 == l2:\", l1 == l2)   # True\n",
    "print(\"l1 == l3:\", l1 == l3)   # False\n",
    "print(\"[1, 2] < [1, 3]:\", [1, 2] < [1, 3])  # True (compara 2 < 3)"
   ]
  },
  {
   "cell_type": "markdown",
   "id": "742b7fdf-6c47-415c-9d3c-46d44834292d",
   "metadata": {},
   "source": [
    "### 🔹 Comparação e igualdade\n",
    "- Listas são **iguais** (`==`) se tiverem **mesmo comprimento** e **mesmos elementos na mesma ordem**.\n",
    "- A comparação `<, >` entre listas faz **comparação lexicográfica** (elemento a elemento)."
   ]
  },
  {
   "cell_type": "code",
   "execution_count": 16,
   "id": "ffa79a80-74fc-40ee-b9af-561cfb73ca53",
   "metadata": {},
   "outputs": [
    {
     "name": "stdout",
     "output_type": "stream",
     "text": [
      "l1 == l2: True\n",
      "l1 == l3: False\n",
      "[1, 2] < [1, 3]: True\n"
     ]
    }
   ],
   "source": [
    "l1 = [1, 2, 3]\n",
    "l2 = [1, 2, 3]\n",
    "l3 = [1, 3, 2]\n",
    "\n",
    "print(\"l1 == l2:\", l1 == l2)   # True\n",
    "print(\"l1 == l3:\", l1 == l3)   # False\n",
    "print(\"[1, 2] < [1, 3]:\", [1, 2] < [1, 3])  # True (compara 2 < 3)\n"
   ]
  },
  {
   "cell_type": "markdown",
   "id": "82b2e4cc-6304-45bf-a827-6007d6fe30c5",
   "metadata": {},
   "source": [
    "### 🔹 Conversão para lista\n",
    "`list(iterável)` converte um iterável (string, range, tupla, set, dict-keys, etc.) em lista.\n",
    "\n",
    "Obs.: em strings, cada **caractere** vira um elemento.\n"
   ]
  },
  {
   "cell_type": "code",
   "execution_count": 17,
   "id": "06c70526-f69b-4cb3-b9fc-395786fa712d",
   "metadata": {},
   "outputs": [
    {
     "name": "stdout",
     "output_type": "stream",
     "text": [
      "['A', 'B', 'C']\n",
      "[0, 1, 2]\n",
      "[10, 20]\n",
      "['x', 'y']\n",
      "['a', 'b']\n"
     ]
    }
   ],
   "source": [
    "print(list(\"ABC\"))           # ['A', 'B', 'C']\n",
    "print(list(range(3)))        # [0, 1, 2]\n",
    "print(list((10, 20)))        # [10, 20]\n",
    "print(list({\"x\", \"y\"}))      # ordem não garantida (set)\n",
    "print(list({\"a\": 1, \"b\": 2}.keys()))   # ['a', 'b']"
   ]
  },
  {
   "cell_type": "markdown",
   "id": "182aa1e2-9f28-4ff2-b3b4-467f8e0ec235",
   "metadata": {},
   "source": [
    "## 📝 Exercícios – Common list operations\n",
    "\n",
    "1) Leia 5 números do usuário, armazene-os em uma lista e exiba:\n",
    "   - tamanho, mínimo, máximo e soma.\n",
    "\n",
    "2) Dada a lista `dados = [3, 5, 3, 2, 3, 8]`:\n",
    "   - conte quantas vezes `3` aparece;\n",
    "   - encontre o índice da **primeira** ocorrência de `8`.\n",
    "\n",
    "3) Dadas `a = [1, 2]` e `b = [3, 4]`, mostre:\n",
    "   - a concatenação `a + b`;\n",
    "   - a repetição de `a` 3 vezes.\n",
    "\n",
    "4) Verifique se duas listas digitadas pelo usuário são **idênticas** (mesmo tamanho e mesma ordem).\n",
    "\n",
    "5) Converta a string `\"Python\"` em uma lista de caracteres, e o `range(5)` em uma lista de números.\n"
   ]
  },
  {
   "cell_type": "code",
   "execution_count": 18,
   "id": "1ec7bb80-d15f-4303-b808-399ee5b3abda",
   "metadata": {},
   "outputs": [],
   "source": [
    "\"\"\"\n",
    "Soluções — Seção 9.3: Common list operations\n",
    "Seguem funções e demonstrações para cada exercício.\n",
    "Conforme PEP 8, com type hints e docstrings.\n",
    "\"\"\"\n",
    "\n",
    "from __future__ import annotations\n",
    "from typing import List, Tuple\n",
    "\n",
    "\n",
    "# 1) Leia 5 números do usuário e exiba tamanho, mínimo, máximo e soma\n",
    "def ler_n_numeros(n: int = 5) -> List[float]:\n",
    "    \"\"\"\n",
    "    Lê n números do usuário e retorna uma lista de floats.\n",
    "\n",
    "    :param n: quantidade de números a ler\n",
    "    :return: lista de números lidos\n",
    "    \"\"\"\n",
    "    valores: List[float] = []\n",
    "    for i in range(n):\n",
    "        while True:\n",
    "            try:\n",
    "                entrada = input(f\"Digite o {i + 1}º número: \")\n",
    "                valores.append(float(entrada))\n",
    "                break\n",
    "            except ValueError:\n",
    "                print(\"Entrada inválida. Digite um número válido (ex.: 3.14).\")\n",
    "    return valores\n",
    "\n",
    "\n",
    "def estatisticas_basicas(nums: List[float]) -> Tuple[int, float, float, float]:\n",
    "    \"\"\"\n",
    "    Retorna (tamanho, mínimo, máximo, soma) de uma lista numérica.\n",
    "\n",
    "    :param nums: lista de números\n",
    "    :return: tupla (len, min, max, sum)\n",
    "    :raises ValueError: se a lista estiver vazia\n",
    "    \"\"\"\n",
    "    if not nums:\n",
    "        raise ValueError(\"Lista vazia: não é possível calcular estatísticas.\")\n",
    "    return len(nums), min(nums), max(nums), sum(nums)\n"
   ]
  },
  {
   "cell_type": "code",
   "execution_count": 20,
   "id": "870bf180-3bc6-4452-bfa7-680a43e0c10b",
   "metadata": {},
   "outputs": [],
   "source": [
    "# 2) Count e index em lista\n",
    "def contar_e_indexar(dados: List[int], alvo_contagem: int, alvo_index: int) -> Tuple[int, int | None]:\n",
    "    \"\"\"\n",
    "    Conta ocorrências de 'alvo_contagem' e encontra índice da primeira\n",
    "    ocorrência de 'alvo_index'. Se não existir, retorna None para o índice.\n",
    "\n",
    "    :param dados: lista de inteiros\n",
    "    :param alvo_contagem: valor a contar\n",
    "    :param alvo_index: valor a localizar índice\n",
    "    :return: (contagem, indice_ou_none)\n",
    "    \"\"\"\n",
    "    cont = dados.count(alvo_contagem)\n",
    "    idx = dados.index(alvo_index) if alvo_index in dados else None\n",
    "    return cont, idx"
   ]
  },
  {
   "cell_type": "code",
   "execution_count": 21,
   "id": "87a36d97-f89e-4b21-a9de-0a74038a43ad",
   "metadata": {},
   "outputs": [],
   "source": [
    "# 3) Concatenação e repetição\n",
    "def concat_e_repetir(a: List[int], b: List[int], vezes: int) -> Tuple[List[int], List[int]]:\n",
    "    \"\"\"\n",
    "    Retorna (a+b, a repetida 'vezes' vezes).\n",
    "\n",
    "    :param a: lista base\n",
    "    :param b: segunda lista para concatenação\n",
    "    :param vezes: quantidade de repetições de 'a'\n",
    "    :return: (concat, repetida)\n",
    "    \"\"\"\n",
    "    return a + b, a * vezes"
   ]
  },
  {
   "cell_type": "code",
   "execution_count": 22,
   "id": "89e164ba-43e4-4b0e-abbd-105cf050f5a5",
   "metadata": {},
   "outputs": [],
   "source": [
    "# 4) Verificar se duas listas são idênticas\n",
    "def listas_identicas(a: List[object], b: List[object]) -> bool:\n",
    "    \"\"\"\n",
    "    Retorna True se as listas forem iguais (mesmo tamanho e elementos na mesma ordem).\n",
    "\n",
    "    :param a: primeira lista\n",
    "    :param b: segunda lista\n",
    "    :return: bool\n",
    "    \"\"\"\n",
    "    return a == b"
   ]
  },
  {
   "cell_type": "code",
   "execution_count": 24,
   "id": "27f4b517-6ca0-4399-9941-2e8bd297b20f",
   "metadata": {},
   "outputs": [
    {
     "name": "stdout",
     "output_type": "stream",
     "text": [
      "== Exercício 1 ==\n",
      "Lista: [10.0, -2.5, 7.3, 0.0, 4.4]\n",
      "Tamanho=5, min=-2.5, max=10.0, soma=19.2\n",
      "\n",
      "== Exercício 2 ==\n",
      "Dados: [3, 5, 3, 2, 3, 8]\n",
      "count(3) = 3\n",
      "index(8) = 5\n",
      "\n",
      "== Exercício 3 ==\n",
      "a=[1, 2], b=[3, 4]\n",
      "a + b = [1, 2, 3, 4]\n",
      "a * 3 = [1, 2, 1, 2, 1, 2]\n",
      "\n",
      "== Exercício 4 ==\n",
      "[1, 2, 3] e [1, 2, 3] idênticas? True\n",
      "[1, 2, 3] e [1, 3, 2] idênticas? False\n",
      "\n",
      "== Exercício 5 ==\n",
      "list('Python') -> ['P', 'y', 't', 'h', 'o', 'n']\n",
      "list(range(5)) -> [0, 1, 2, 3, 4]\n"
     ]
    }
   ],
   "source": [
    "# 5) Converter string e range para lista\n",
    "def string_e_range_para_listas(s: str, r_stop: int) -> Tuple[List[str], List[int]]:\n",
    "    \"\"\"\n",
    "    Converte string em lista de caracteres e range(0, r_stop) em lista de inteiros.\n",
    "\n",
    "    :param s: string de origem\n",
    "    :param r_stop: limite superior exclusivo para range(0, r_stop)\n",
    "    :return: (lista_de_chars, lista_de_ints)\n",
    "    \"\"\"\n",
    "    return list(s), list(range(r_stop))\n",
    "\n",
    "\n",
    "# -------------------------\n",
    "# Demonstrações dos itens\n",
    "# -------------------------\n",
    "\n",
    "print(\"== Exercício 1 ==\")\n",
    "# Descomente para uso interativo:\n",
    "# nums_lidos = ler_n_numeros(5)\n",
    "# tam, mn, mx, sm = estatisticas_basicas(nums_lidos)\n",
    "# print(f\"Tamanho={tam}, min={mn}, max={mx}, soma={sm}\")\n",
    "\n",
    "# Demonstração não interativa (exemplo)\n",
    "nums_demo = [10.0, -2.5, 7.3, 0.0, 4.4]\n",
    "tam, mn, mx, sm = estatisticas_basicas(nums_demo)\n",
    "print(f\"Lista: {nums_demo}\")\n",
    "print(f\"Tamanho={tam}, min={mn}, max={mx}, soma={sm}\")\n",
    "\n",
    "print(\"\\n== Exercício 2 ==\")\n",
    "dados_ex = [3, 5, 3, 2, 3, 8]\n",
    "cont, idx8 = contar_e_indexar(dados_ex, alvo_contagem=3, alvo_index=8)\n",
    "print(f\"Dados: {dados_ex}\")\n",
    "print(f\"count(3) = {cont}\")\n",
    "print(f\"index(8) = {idx8}\")\n",
    "\n",
    "print(\"\\n== Exercício 3 ==\")\n",
    "a, b = [1, 2], [3, 4]\n",
    "concat, repetida = concat_e_repetir(a, b, vezes=3)\n",
    "print(f\"a={a}, b={b}\")\n",
    "print(\"a + b =\", concat)\n",
    "print(\"a * 3 =\", repetida)\n",
    "\n",
    "print(\"\\n== Exercício 4 ==\")\n",
    "l1 = [1, 2, 3]\n",
    "l2 = [1, 2, 3]\n",
    "l3 = [1, 3, 2]\n",
    "print(f\"{l1} e {l2} idênticas? {listas_identicas(l1, l2)}\")\n",
    "print(f\"{l1} e {l3} idênticas? {listas_identicas(l1, l3)}\")\n",
    "\n",
    "print(\"\\n== Exercício 5 ==\")\n",
    "chars, nums = string_e_range_para_listas(\"Python\", 5)\n",
    "print(\"list('Python') ->\", chars)\n",
    "print(\"list(range(5)) ->\", nums)"
   ]
  },
  {
   "cell_type": "markdown",
   "id": "d3cc0eb3-33c6-4466-96fe-de857bf08dec",
   "metadata": {},
   "source": [
    "# 9.4 Nested Lists (Listas Aninhadas)\n",
    "\n",
    "Uma **lista aninhada** é uma lista que contém outras listas como elementos.  \n",
    "Essa estrutura é útil para representar **dados bidimensionais** (como matrizes) ou hierárquicos.\n",
    "\n",
    "---\n",
    "\n",
    "## 📌 Criando listas aninhadas\n",
    "\n",
    "```python\n",
    "matriz = [\n",
    "    [1, 2, 3],\n",
    "    [4, 5, 6],\n",
    "    [7, 8, 9]\n",
    "]\n"
   ]
  },
  {
   "cell_type": "markdown",
   "id": "05b0e144-04db-4ea8-a45c-7834723f427e",
   "metadata": {},
   "source": [
    "### 🔹 Acessando elementos\n",
    "\n",
    "- O primeiro índice seleciona a sublista.\n",
    "\n",
    "- O segundo índice seleciona o elemento dentro dessa sublista."
   ]
  },
  {
   "cell_type": "code",
   "execution_count": 2,
   "id": "d9103fcc-0e7b-4e25-a9cc-c6fde83ab545",
   "metadata": {},
   "outputs": [
    {
     "name": "stdout",
     "output_type": "stream",
     "text": [
      "[1, 2, 3]\n",
      "2\n"
     ]
    }
   ],
   "source": [
    "matriz = [\n",
    "    [1, 2, 3],\n",
    "    [4, 5, 6],\n",
    "    [7, 8, 9]\n",
    "]\n",
    "print(matriz[0])     # [1, 2, 3]  -> primeira linha\n",
    "print(matriz[0][1])  # 2          -> elemento da primeira linha, coluna 2"
   ]
  },
  {
   "cell_type": "markdown",
   "id": "7ba023d9-2e4a-4582-87ec-6a89ad0f8032",
   "metadata": {},
   "source": [
    "### 🔹 Modificando elementos"
   ]
  },
  {
   "cell_type": "code",
   "execution_count": 3,
   "id": "4007618e-47db-48d6-8234-14819b0be3eb",
   "metadata": {},
   "outputs": [
    {
     "name": "stdout",
     "output_type": "stream",
     "text": [
      "[[1, 2, 3], [4, 5, 99], [7, 8, 9]]\n"
     ]
    }
   ],
   "source": [
    "matriz[1][2] = 99\n",
    "print(matriz)  # [[1, 2, 3], [4, 5, 99], [7, 8, 9]]\n"
   ]
  },
  {
   "cell_type": "markdown",
   "id": "df9b5c41-54a4-4140-ba29-0452ccaeb907",
   "metadata": {},
   "source": [
    "### 🔹 Iterando sobre listas aninhadas"
   ]
  },
  {
   "cell_type": "code",
   "execution_count": 5,
   "id": "85b98865-4ecb-409c-9d6f-6429a7ab85b4",
   "metadata": {},
   "outputs": [
    {
     "name": "stdout",
     "output_type": "stream",
     "text": [
      "1 2 3 4 5 99 7 8 9 "
     ]
    }
   ],
   "source": [
    "for linha in matriz:\n",
    "    for valor in linha:\n",
    "        print(valor, end=\" \")"
   ]
  },
  {
   "cell_type": "markdown",
   "id": "54d9004a-aa24-48a6-8a91-9ca3ea347a22",
   "metadata": {},
   "source": [
    "### 🔹 Listas aninhadas irregulares\n",
    "Nem todas as listas precisam ter o mesmo tamanho interno:"
   ]
  },
  {
   "cell_type": "code",
   "execution_count": 8,
   "id": "07f435ea-feba-4164-88a7-fe23363712cd",
   "metadata": {},
   "outputs": [
    {
     "name": "stdout",
     "output_type": "stream",
     "text": [
      "[[1, 2], [3, 4, 5], [6]]\n"
     ]
    }
   ],
   "source": [
    "dados = [\n",
    "    [1, 2],\n",
    "    [3, 4, 5],\n",
    "    [6]\n",
    "]\n",
    "print(dados)"
   ]
  },
  {
   "cell_type": "markdown",
   "id": "92620b3a-b5c7-4e40-9a0c-3c6ddcc4056b",
   "metadata": {},
   "source": [
    "Essa flexibilidade é útil para dados não tabulares."
   ]
  },
  {
   "cell_type": "markdown",
   "id": "9580bd48-3bc6-44ef-81d8-cd72d7b9b211",
   "metadata": {},
   "source": [
    "## 📌 Resumo\n",
    "\n",
    "| Operação            | Exemplo                 | Resultado                |\n",
    "|---------------------|-------------------------|--------------------------|\n",
    "| Criar               | `[[1, 2], [3]]`         | Lista com duas sublistas |\n",
    "| Acessar sublista    | `matriz[1]`             | `[4, 5, 6]`               |\n",
    "| Acessar elemento    | `matriz[1][2]`          | `6`                       |\n",
    "| Modificar elemento  | `matriz[2][0] = 0`      | Atualiza valor            |\n",
    "| Iterar              | `for linha in matriz`   | Percorre sublistas        |\n"
   ]
  },
  {
   "cell_type": "markdown",
   "id": "5fa2f344-9596-49f5-93bb-63fdc3d022ab",
   "metadata": {},
   "source": [
    "## 📌 Exercícios resolvidos – Listas aninhadas"
   ]
  },
  {
   "cell_type": "code",
   "execution_count": 9,
   "id": "49663ba4-cfcc-4d1e-9650-40eb163f7ea7",
   "metadata": {},
   "outputs": [
    {
     "name": "stdout",
     "output_type": "stream",
     "text": [
      "Elemento na 2ª linha, 3ª coluna: 6\n"
     ]
    }
   ],
   "source": [
    "# 📌 Exercícios resolvidos – Listas aninhadas\n",
    "\n",
    "# 1) Criar uma matriz 3x3 e acessar elementos específicos\n",
    "matriz = [\n",
    "    [1, 2, 3],\n",
    "    [4, 5, 6],\n",
    "    [7, 8, 9]\n",
    "]\n",
    "print(\"Elemento na 2ª linha, 3ª coluna:\", matriz[1][2])  # 6"
   ]
  },
  {
   "cell_type": "code",
   "execution_count": 10,
   "id": "dee2de3c-e355-4c38-a424-e9e0ac440835",
   "metadata": {},
   "outputs": [
    {
     "name": "stdout",
     "output_type": "stream",
     "text": [
      "Após alteração: [[0, 2, 3], [4, 5, 6], [7, 8, 9]]\n"
     ]
    }
   ],
   "source": [
    "# 2) Alterar um elemento específico\n",
    "matriz[0][0] = 0\n",
    "print(\"Após alteração:\", matriz)"
   ]
  },
  {
   "cell_type": "code",
   "execution_count": 11,
   "id": "66bfc0f7-39ae-423f-be26-1a0f5637960a",
   "metadata": {},
   "outputs": [
    {
     "name": "stdout",
     "output_type": "stream",
     "text": [
      "Soma de todos os elementos: 44\n"
     ]
    }
   ],
   "source": [
    "# 3) Somar todos os elementos da matriz\n",
    "soma_total = 0\n",
    "for linha in matriz:\n",
    "    for elemento in linha:\n",
    "        soma_total += elemento\n",
    "print(\"Soma de todos os elementos:\", soma_total)"
   ]
  },
  {
   "cell_type": "code",
   "execution_count": 12,
   "id": "cc0c6c2e-75e2-4adb-9da7-365446c446a6",
   "metadata": {},
   "outputs": [
    {
     "name": "stdout",
     "output_type": "stream",
     "text": [
      "Matriz com valores dobrados: [[0, 4, 6], [8, 10, 12], [14, 16, 18]]\n"
     ]
    }
   ],
   "source": [
    "# 4) Criar uma nova lista com o dobro de cada elemento\n",
    "dobro_matriz = [[elemento * 2 for elemento in linha] for linha in matriz]\n",
    "print(\"Matriz com valores dobrados:\", dobro_matriz)"
   ]
  },
  {
   "cell_type": "code",
   "execution_count": 13,
   "id": "48fcdfd8-e4cd-4bfa-9bcd-a2df5b565019",
   "metadata": {},
   "outputs": [
    {
     "name": "stdout",
     "output_type": "stream",
     "text": [
      "Elemento na posição (0, 0): 0\n",
      "Elemento na posição (0, 1): 2\n",
      "Elemento na posição (0, 2): 3\n",
      "Elemento na posição (1, 0): 4\n",
      "Elemento na posição (1, 1): 5\n",
      "Elemento na posição (1, 2): 6\n",
      "Elemento na posição (2, 0): 7\n",
      "Elemento na posição (2, 1): 8\n",
      "Elemento na posição (2, 2): 9\n"
     ]
    }
   ],
   "source": [
    "# 5) Acessar todos os elementos usando índices\n",
    "for i in range(len(matriz)):\n",
    "    for j in range(len(matriz[i])):\n",
    "        print(f\"Elemento na posição ({i}, {j}): {matriz[i][j]}\")"
   ]
  },
  {
   "cell_type": "markdown",
   "id": "c790be62-256c-434d-a84e-9481ab2d9fac",
   "metadata": {},
   "source": [
    "# 9.5 – Compreensões de Lista (List Comprehensions)\n",
    "\n",
    "As compreensões de lista (**list comprehensions**) são uma forma concisa e expressiva de criar listas em Python a partir de iteráveis (listas, strings, ranges, etc.).  \n",
    "Elas permitem aplicar transformações, filtros e até mesmo aninhamentos em uma única linha de código.\n",
    "\n",
    "A sintaxe geral é:\n",
    "\n",
    "```python\n",
    "[expressão for item in iterável if condição]\n",
    "```\n",
    "Onde:\n",
    "\n",
    "- expressão: o valor ou operação a ser aplicada em cada elemento.\n",
    "- item: a variável temporária que representa cada elemento do iterável.\n",
    "- iterável: qualquer objeto que possa ser percorrido (list, tuple, range, string, etc.).\n",
    "- condição (opcional): um teste lógico que filtra os elementos."
   ]
  },
  {
   "cell_type": "markdown",
   "id": "bf59e2ac-cdc1-448d-af80-679f7f7888ef",
   "metadata": {},
   "source": [
    "## Exemplo básico\n",
    "\n",
    "Suponha que queremos criar uma lista com o quadrado dos números de 0 a 9.\n",
    "\n",
    "Forma tradicional:"
   ]
  },
  {
   "cell_type": "code",
   "execution_count": 15,
   "id": "45b2f134-431e-4a63-84f6-ed253d0b7703",
   "metadata": {},
   "outputs": [
    {
     "name": "stdout",
     "output_type": "stream",
     "text": [
      "[0, 1, 4, 9, 16, 25, 36, 49, 64, 81]\n"
     ]
    }
   ],
   "source": [
    "quadrados = []\n",
    "for i in range(10):\n",
    "    quadrados.append(i**2)\n",
    "print(quadrados)"
   ]
  },
  {
   "cell_type": "markdown",
   "id": "7c72889f-fc3b-45fb-965d-72235f1fa03d",
   "metadata": {},
   "source": [
    "Com list comprehension:"
   ]
  },
  {
   "cell_type": "code",
   "execution_count": 16,
   "id": "a381c607-32aa-4557-a4d3-6d250d03583f",
   "metadata": {},
   "outputs": [
    {
     "name": "stdout",
     "output_type": "stream",
     "text": [
      "[0, 1, 4, 9, 16, 25, 36, 49, 64, 81]\n"
     ]
    }
   ],
   "source": [
    "quadrados = [i**2 for i in range(10)]\n",
    "print(quadrados)"
   ]
  },
  {
   "cell_type": "markdown",
   "id": "4e15441e-5f19-47a4-a3a7-5847bdd4b1ee",
   "metadata": {},
   "source": [
    "## Vantagens das compreensões de lista\n",
    "\n",
    "| Característica | Descrição |\n",
    "|----------------|-----------|\n",
    "| **Concisas**   | Reduzem a quantidade de código necessária. |\n",
    "| **Legíveis**   | Quando usadas com moderação, tornam o código mais claro. |\n",
    "| **Performance**| Podem ser mais rápidas que o loop `for` tradicional, pois são otimizadas internamente. |\n",
    "| **Flexíveis**  | Permitem incluir transformações e filtros diretamente. |\n"
   ]
  },
  {
   "cell_type": "markdown",
   "id": "d5d46fda-98a2-4bcb-8357-f09687706af7",
   "metadata": {},
   "source": [
    "## Com filtro condicional\n",
    "Podemos adicionar um `if` para incluir apenas elementos que satisfaçam uma condição.  \n",
    "\n",
    "**Exemplo:** selecionar apenas números pares de 0 a 9.\n"
   ]
  },
  {
   "cell_type": "code",
   "execution_count": 17,
   "id": "ff2dada2-38aa-4433-b0a9-3d94211d3ae9",
   "metadata": {},
   "outputs": [
    {
     "name": "stdout",
     "output_type": "stream",
     "text": [
      "[0, 2, 4, 6, 8]\n"
     ]
    }
   ],
   "source": [
    "pares = [n for n in range(10) if n % 2 == 0]\n",
    "print(pares)"
   ]
  },
  {
   "cell_type": "markdown",
   "id": "44b3db4f-89b7-4764-b663-d61fe8fccb26",
   "metadata": {},
   "source": [
    "## Compreensões de lista aninhadas\n",
    "\n",
    "Também é possível criar listas a partir de laços duplos ou mais.  \n",
    "\n",
    "**Exemplo:** pares ordenados `(x, y)` para `x` em `0..1` e `y` em `0..2`.\n"
   ]
  },
  {
   "cell_type": "code",
   "execution_count": 18,
   "id": "7c3953e0-c498-49e3-be34-2643f723e643",
   "metadata": {},
   "outputs": [
    {
     "name": "stdout",
     "output_type": "stream",
     "text": [
      "[(0, 0), (0, 1), (0, 2), (1, 0), (1, 1), (1, 2)]\n"
     ]
    }
   ],
   "source": [
    "pares_ordenados = [(x, y) for x in range(2) for y in range(3)]\n",
    "print(pares_ordenados)"
   ]
  },
  {
   "cell_type": "markdown",
   "id": "cd7bea9e-bc21-48a9-803c-cfb37fd51ce3",
   "metadata": {},
   "source": [
    "## Observação sobre legibilidade\n",
    "\n",
    "- Embora as list comprehensions sejam poderosas, devem ser usadas com parcimônia.\n",
    "- Compreensões muito complexas podem comprometer a clareza do código, tornando preferível o uso de loops tradicionais."
   ]
  },
  {
   "cell_type": "code",
   "execution_count": 20,
   "id": "18ed1b67-5508-4868-acb6-eebfdff9b5b7",
   "metadata": {},
   "outputs": [
    {
     "name": "stdout",
     "output_type": "stream",
     "text": [
      "Quadrados: [0, 1, 4, 9, 16, 25, 36, 49, 64, 81]\n"
     ]
    }
   ],
   "source": [
    "# Exemplo 1: Quadrados dos números de 0 a 9\n",
    "quadrados = [i**2 for i in range(10)]\n",
    "print(\"Quadrados:\", quadrados)"
   ]
  },
  {
   "cell_type": "code",
   "execution_count": 21,
   "id": "321f0153-7e5b-4910-9de2-d3b3d467bbc5",
   "metadata": {},
   "outputs": [
    {
     "name": "stdout",
     "output_type": "stream",
     "text": [
      "Pares: [0, 2, 4, 6, 8]\n"
     ]
    }
   ],
   "source": [
    "# Exemplo 2: Números pares de 0 a 9\n",
    "pares = [n for n in range(10) if n % 2 == 0]\n",
    "print(\"Pares:\", pares)"
   ]
  },
  {
   "cell_type": "code",
   "execution_count": 22,
   "id": "cd83cbc6-551d-4b1c-a181-51cec840a415",
   "metadata": {},
   "outputs": [
    {
     "name": "stdout",
     "output_type": "stream",
     "text": [
      "Pares ordenados: [(0, 0), (0, 1), (0, 2), (1, 0), (1, 1), (1, 2)]\n"
     ]
    }
   ],
   "source": [
    "# Exemplo 3: Pares ordenados (x, y)\n",
    "pares_ordenados = [(x, y) for x in range(2) for y in range(3)]\n",
    "print(\"Pares ordenados:\", pares_ordenados)"
   ]
  },
  {
   "cell_type": "markdown",
   "id": "e8287d58-02c9-453e-b84c-7bc2644c68ba",
   "metadata": {},
   "source": [
    "## Exercícios\n",
    "\n",
    "1. Crie uma compreensão de lista que gere uma lista com os cubos de todos os números de 1 a 10.\n",
    "2. Usando list comprehension, crie uma lista com todas as palavras de uma frase que tenham mais de 4 letras.\n",
    "3. Gere uma lista de tuplas `(n, n², n³)` para `n` de 1 a 5.\n",
    "4. Crie uma lista com todas as combinações possíveis de duas letras diferentes, escolhidas de `['A', 'B', 'C']`."
   ]
  },
  {
   "cell_type": "markdown",
   "id": "a5c5b3f3-9056-4c91-acf0-c201913267f0",
   "metadata": {},
   "source": [
    "## Exercícios Resolvidos"
   ]
  },
  {
   "cell_type": "code",
   "execution_count": 24,
   "id": "9d937b51-7623-4c12-854e-b26268f74f7f",
   "metadata": {},
   "outputs": [
    {
     "name": "stdout",
     "output_type": "stream",
     "text": [
      "Cubos: [1, 8, 27, 64, 125, 216, 343, 512, 729, 1000]\n"
     ]
    }
   ],
   "source": [
    "# 1. Cubos de 1 a 10\n",
    "cubos = [n**3 for n in range(1, 11)]\n",
    "print(\"Cubos:\", cubos)"
   ]
  },
  {
   "cell_type": "code",
   "execution_count": 25,
   "id": "af5da18f-8e4a-43a9-a53a-07872e7a6d84",
   "metadata": {},
   "outputs": [
    {
     "name": "stdout",
     "output_type": "stream",
     "text": [
      "Palavras com mais de 4 letras: ['Python', 'linguagem', 'poderosa', 'versátil']\n"
     ]
    }
   ],
   "source": [
    "# 2. Palavras com mais de 4 letras\n",
    "frase = \"Python é uma linguagem poderosa e versátil\"\n",
    "palavras_longas = [palavra for palavra in frase.split() if len(palavra) > 4]\n",
    "print(\"Palavras com mais de 4 letras:\", palavras_longas)"
   ]
  },
  {
   "cell_type": "code",
   "execution_count": 26,
   "id": "63f35ba1-7f0a-4884-b3cc-ac34ced058f1",
   "metadata": {},
   "outputs": [
    {
     "name": "stdout",
     "output_type": "stream",
     "text": [
      "Tabela de potências: [(1, 1, 1), (2, 4, 8), (3, 9, 27), (4, 16, 64), (5, 25, 125)]\n"
     ]
    }
   ],
   "source": [
    "# 3. Tuplas (n, n², n³) para n de 1 a 5\n",
    "tabela_potencias = [(n, n**2, n**3) for n in range(1, 6)]\n",
    "print(\"Tabela de potências:\", tabela_potencias)"
   ]
  },
  {
   "cell_type": "code",
   "execution_count": 27,
   "id": "a2d9b118-7586-43cb-943e-4929340cb152",
   "metadata": {},
   "outputs": [
    {
     "name": "stdout",
     "output_type": "stream",
     "text": [
      "Combinações: [('A', 'B'), ('A', 'C'), ('B', 'A'), ('B', 'C'), ('C', 'A'), ('C', 'B')]\n"
     ]
    }
   ],
   "source": [
    "# 4. Combinações de duas letras diferentes\n",
    "letras = ['A', 'B', 'C']\n",
    "combinacoes = [(a, b) for a in letras for b in letras if a != b]\n",
    "print(\"Combinações:\", combinacoes)"
   ]
  },
  {
   "cell_type": "markdown",
   "id": "1c5ad738-a37c-44cb-968c-b57fc9686b45",
   "metadata": {},
   "source": [
    "# 📚 Capítulo 9 — Revisão e Fechamento\n",
    "\n",
    "O Capítulo 9 explorou as principais operações e estruturas relacionadas a **listas** em Python. Ao longo das seções, aprendemos a criar, modificar, acessar, percorrer e transformar listas utilizando diferentes recursos, desde abordagens mais tradicionais até técnicas mais avançadas e eficientes.\n",
    "\n",
    "---\n",
    "\n",
    "## 📝 1. Criação e manipulação de listas\n",
    "- Compreendemos que listas são **estruturas mutáveis** e podem conter diferentes tipos de dados.\n",
    "- Vimos como criar listas de forma explícita, com `[]`, ou utilizando funções como `list()`.\n",
    "- Aprendemos a acessar e modificar elementos diretamente pelos índices.\n",
    "\n",
    "---\n",
    "\n",
    "## 🔄 2. Operações comuns\n",
    "- Uso de métodos como `.append()`, `.extend()`, `.insert()`, `.remove()` e `.pop()` para gerenciar elementos.\n",
    "- Combinação e repetição de listas com operadores `+` e `*`.\n",
    "- Uso de funções como `len()`, `sum()`, `min()` e `max()`.\n",
    "\n",
    "---\n",
    "\n",
    "## 📐 3. Slicing (fatiamento)\n",
    "- Seleção de subconjuntos de elementos utilizando `[início:fim:passo]`.\n",
    "- Uso de índices negativos para percorrer listas de trás para frente.\n",
    "\n",
    "---\n",
    "\n",
    "## 🗂 4. Listas aninhadas\n",
    "- Estruturas de listas dentro de listas (listas bidimensionais ou mais profundas).\n",
    "- Acesso e modificação de elementos em níveis internos.\n",
    "- Iteração aninhada para percorrer todos os valores.\n",
    "\n",
    "---\n",
    "\n",
    "## ⚡ 5. List comprehensions\n",
    "- Criação de listas de forma **concisa e expressiva** a partir de iteráveis.\n",
    "- Inclusão de **filtros condicionais** e uso de **múltiplos laços**.\n",
    "- Aplicações para transformação de dados e criação de estruturas derivadas.\n",
    "- Atenção para manter a legibilidade, evitando compreensões excessivamente complexas.\n",
    "\n",
    "---\n",
    "\n",
    "## 📊 6. Boas práticas\n",
    "- Uso de nomes descritivos para variáveis dentro de compreensões.\n",
    "- Evitar lógica complexa dentro de uma única expressão.\n",
    "- Considerar **generator expressions** quando não for necessário armazenar todos os elementos.\n",
    "\n",
    "---\n",
    "\n",
    "## 📌 Resumo visual\n",
    "\n",
    "| Conceito | Exemplo | Resultado |\n",
    "|----------|---------|-----------|\n",
    "| Criar lista | `[1, 2, 3]` | `[1, 2, 3]` |\n",
    "| Acesso | `lista[0]` | Primeiro elemento |\n",
    "| Slicing | `lista[1:3]` | Sublista do índice 1 ao 2 |\n",
    "| Aninhamento | `[[1, 2], [3]]` | Lista de listas |\n",
    "| List comprehension | `[x**2 for x in range(5)]` | `[0, 1, 4, 9, 16]` |\n",
    "\n",
    "---\n",
    "\n",
    "## 🎯 Conclusão\n",
    "O domínio das listas e de suas operações é **fundamental** para trabalhar com dados em Python.  \n",
    "Este capítulo forneceu as ferramentas necessárias para lidar com coleções de forma eficiente, preparando o terreno para estruturas mais avançadas como **tuplas**, **dicionários** e **conjuntos**, que serão exploradas nos próximos capítulos.\n",
    "\n",
    "---\n"
   ]
  },
  {
   "cell_type": "code",
   "execution_count": 28,
   "id": "7cd4828b-a976-4a0f-b34a-e3cb8932e3a9",
   "metadata": {},
   "outputs": [
    {
     "name": "stdout",
     "output_type": "stream",
     "text": [
      "{'nome': 'Ana', 'idade': 25, 'cidade': 'Belo Horizonte'}\n"
     ]
    }
   ],
   "source": [
    "meu_dict = {\n",
    "    \"nome\": \"Ana\",\n",
    "    \"idade\": 25,\n",
    "    \"cidade\": \"Belo Horizonte\"\n",
    "}\n",
    "print(meu_dict)"
   ]
  },
  {
   "cell_type": "markdown",
   "id": "e48242f7-9b51-4def-bb81-30d65aa4f807",
   "metadata": {},
   "source": [
    "Outra forma é usar o construtor `dict()`:"
   ]
  },
  {
   "cell_type": "code",
   "execution_count": 29,
   "id": "e1399c6d-9ffa-46e7-835d-3897c8485feb",
   "metadata": {},
   "outputs": [
    {
     "name": "stdout",
     "output_type": "stream",
     "text": [
      "{'nome': 'Ana', 'idade': 25, 'cidade': 'Belo Horizonte'}\n"
     ]
    }
   ],
   "source": [
    "meu_dict = dict(nome=\"Ana\", idade=25, cidade=\"Belo Horizonte\")\n",
    "print(meu_dict)"
   ]
  },
  {
   "cell_type": "markdown",
   "id": "de8d307e-05d3-48d6-9fe5-2031c4016a97",
   "metadata": {},
   "source": [
    "## 📥 Acessando valores\n",
    "\n",
    "Para acessar o valor associado a uma chave, usamos colchetes `[]`:"
   ]
  },
  {
   "cell_type": "code",
   "execution_count": 30,
   "id": "4d271f6e-af1d-44a9-8b4d-a2c4796bddfb",
   "metadata": {},
   "outputs": [
    {
     "name": "stdout",
     "output_type": "stream",
     "text": [
      "Ana\n"
     ]
    }
   ],
   "source": [
    "print(meu_dict[\"nome\"])  # Saída: Ana"
   ]
  },
  {
   "cell_type": "markdown",
   "id": "00fbb59b-19b5-4296-834b-258061d4ca99",
   "metadata": {},
   "source": [
    "> ⚠ Se a chave não existir, isso gera um erro `KeyError`.\n",
    "\n",
    "Para evitar erros, podemos usar o método `.get()`:"
   ]
  },
  {
   "cell_type": "code",
   "execution_count": 31,
   "id": "25416ea7-623a-461f-80d2-71fc2db5d7aa",
   "metadata": {},
   "outputs": [
    {
     "name": "stdout",
     "output_type": "stream",
     "text": [
      "Não informado\n"
     ]
    }
   ],
   "source": [
    "print(meu_dict.get(\"profissao\", \"Não informado\"))"
   ]
  },
  {
   "cell_type": "markdown",
   "id": "bfd13542-2da4-4c99-895a-849845b907da",
   "metadata": {},
   "source": [
    "## ✏ Adicionando e modificando pares\n",
    "\n",
    "Basta atribuir um valor a uma chave, seja ela existente ou nova:"
   ]
  },
  {
   "cell_type": "code",
   "execution_count": 32,
   "id": "32eccaf1-4ec9-463c-8372-a70cc7e84db0",
   "metadata": {},
   "outputs": [],
   "source": [
    "meu_dict[\"idade\"] = 26         # Modifica\n",
    "meu_dict[\"profissao\"] = \"Engenheira\"  # Adiciona\n"
   ]
  },
  {
   "cell_type": "code",
   "execution_count": null,
   "id": "c6b691a3-1dc0-40f0-bcc8-efcfbabef269",
   "metadata": {},
   "outputs": [],
   "source": []
  },
  {
   "cell_type": "code",
   "execution_count": null,
   "id": "e786083b-6f1e-42b2-b72b-9d9f205e2563",
   "metadata": {},
   "outputs": [],
   "source": []
  }
 ],
 "metadata": {
  "kernelspec": {
   "display_name": "Python 3 (ipykernel)",
   "language": "python",
   "name": "python3"
  },
  "language_info": {
   "codemirror_mode": {
    "name": "ipython",
    "version": 3
   },
   "file_extension": ".py",
   "mimetype": "text/x-python",
   "name": "python",
   "nbconvert_exporter": "python",
   "pygments_lexer": "ipython3",
   "version": "3.13.7"
  }
 },
 "nbformat": 4,
 "nbformat_minor": 5
}
